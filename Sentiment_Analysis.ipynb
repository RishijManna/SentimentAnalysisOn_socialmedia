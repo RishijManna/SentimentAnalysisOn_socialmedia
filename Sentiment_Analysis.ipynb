{
  "metadata": {
    "kernelspec": {
      "name": "python3",
      "display_name": "Python 3",
      "language": "python"
    },
    "language_info": {
      "name": "python",
      "version": "3.10.14",
      "mimetype": "text/x-python",
      "codemirror_mode": {
        "name": "ipython",
        "version": 3
      },
      "pygments_lexer": "ipython3",
      "nbconvert_exporter": "python",
      "file_extension": ".py"
    },
    "colab": {
      "provenance": [],
      "name": "Sentiment Analysis",
      "include_colab_link": true
    },
    "kaggle": {
      "accelerator": "none",
      "dataSources": [
        {
          "sourceId": 10144155,
          "sourceType": "datasetVersion",
          "datasetId": 6261460
        },
        {
          "sourceId": 10145176,
          "sourceType": "datasetVersion",
          "datasetId": 6262191
        }
      ],
      "dockerImageVersionId": 30804,
      "isInternetEnabled": true,
      "language": "python",
      "sourceType": "notebook",
      "isGpuEnabled": false
    }
  },
  "nbformat_minor": 0,
  "nbformat": 4,
  "cells": [
    {
      "cell_type": "markdown",
      "metadata": {
        "id": "view-in-github",
        "colab_type": "text"
      },
      "source": [
        "<a href=\"https://colab.research.google.com/github/RishijManna/SentimentAnalysisOn_socialmedia/blob/main/Sentiment_Analysis.ipynb\" target=\"_parent\"><img src=\"https://colab.research.google.com/assets/colab-badge.svg\" alt=\"Open In Colab\"/></a>"
      ]
    },
    {
      "source": [
        "# IMPORTANT: RUN THIS CELL IN ORDER TO IMPORT YOUR KAGGLE DATA SOURCES,\n",
        "# THEN FEEL FREE TO DELETE THIS CELL.\n",
        "# NOTE: THIS NOTEBOOK ENVIRONMENT DIFFERS FROM KAGGLE'S PYTHON\n",
        "# ENVIRONMENT SO THERE MAY BE MISSING LIBRARIES USED BY YOUR\n",
        "# NOTEBOOK.\n",
        "import kagglehub\n",
        "rishijmanna_sentimentdataset_path = kagglehub.dataset_download('rishijmanna/sentimentdataset')\n",
        "\n",
        "print('Data source import complete.')\n"
      ],
      "metadata": {
        "id": "jnLZzfa-skb9"
      },
      "cell_type": "code",
      "outputs": [],
      "execution_count": null
    },
    {
      "cell_type": "markdown",
      "source": [
        "# Introduction\n",
        "\n",
        "\n",
        "\n",
        "\n",
        "\n",
        "The Social Media Sentiments Analysis Dataset captures a vibrant tapestry of emotions, trends, and interactions across various social media platforms. This dataset provides a snapshot of user-generated content, encompassing text, timestamps, hashtags, countries, likes, and retweets. Each entry unveils unique stories—moments of surprise, excitement, admiration, thrill, contentment, and more—shared by individuals worldwide."
      ],
      "metadata": {
        "id": "SFiOfbidHWNQ"
      }
    },
    {
      "cell_type": "markdown",
      "source": [
        "## Mounting Google Drive"
      ],
      "metadata": {
        "id": "ZOjCsXwfRiBJ"
      }
    },
    {
      "cell_type": "code",
      "source": [
        "#from google.colab import drive\n",
        "\n",
        "#drive.mount('/content/drive')"
      ],
      "metadata": {
        "id": "0npFDVzV-Qqh",
        "trusted": true,
        "execution": {
          "iopub.status.busy": "2024-12-09T05:43:28.396868Z",
          "iopub.execute_input": "2024-12-09T05:43:28.39732Z",
          "iopub.status.idle": "2024-12-09T05:43:28.402782Z",
          "shell.execute_reply.started": "2024-12-09T05:43:28.397282Z",
          "shell.execute_reply": "2024-12-09T05:43:28.401382Z"
        }
      },
      "outputs": [],
      "execution_count": null
    },
    {
      "cell_type": "markdown",
      "source": [
        "# Importing Libraries"
      ],
      "metadata": {
        "id": "KXugIeaUHuJI"
      }
    },
    {
      "cell_type": "code",
      "source": [
        "import pandas as pd\n",
        "import numpy as np\n",
        "import plotly.express as px\n",
        "import os\n",
        "import warnings\n",
        "os.environ['PYTHONWARNINGS'] = 'ignore'\n",
        "warnings.filterwarnings(\"ignore\")"
      ],
      "metadata": {
        "id": "Gk_BfES6JGVF",
        "trusted": true,
        "execution": {
          "iopub.status.busy": "2024-12-09T07:27:14.020394Z",
          "iopub.execute_input": "2024-12-09T07:27:14.020739Z",
          "iopub.status.idle": "2024-12-09T07:27:15.477703Z",
          "shell.execute_reply.started": "2024-12-09T07:27:14.020708Z",
          "shell.execute_reply": "2024-12-09T07:27:15.476715Z"
        }
      },
      "outputs": [],
      "execution_count": null
    },
    {
      "cell_type": "markdown",
      "source": [
        "# Analyzing  Dataset"
      ],
      "metadata": {
        "id": "Y0YZm2d4aTPI"
      }
    },
    {
      "cell_type": "markdown",
      "source": [
        "# Loading Dataset"
      ],
      "metadata": {
        "id": "K2xGS5s_MpgN"
      }
    },
    {
      "cell_type": "markdown",
      "source": [
        "## Source of Dataset:\n",
        "\n",
        "\n",
        "\n",
        "The following dataset is downloaded from Kaggle and has been reused\n",
        "\n",
        "\n",
        "\n",
        "\n",
        "\n",
        "\n",
        "\n",
        "Link Given Below:\n",
        "\n",
        "\n",
        "\n",
        "\n",
        "\n",
        "\n",
        "\n",
        "[sentimentdataset.csv](https://www.kaggle.com/code/alkidiarete/social-media-analysis-sentiment/input?select=sentimentdataset.csv)"
      ],
      "metadata": {
        "id": "UjRbJLOpi3l_"
      }
    },
    {
      "cell_type": "code",
      "source": [
        "df=pd.read_csv('/kaggle/input/sentimentdataset/sentimentdataset.csv')\n",
        "df.head()"
      ],
      "metadata": {
        "id": "CGnJr1mEMqtL",
        "trusted": true,
        "execution": {
          "iopub.status.busy": "2024-12-09T07:28:32.617179Z",
          "iopub.execute_input": "2024-12-09T07:28:32.618251Z",
          "iopub.status.idle": "2024-12-09T07:28:32.662269Z",
          "shell.execute_reply.started": "2024-12-09T07:28:32.618213Z",
          "shell.execute_reply": "2024-12-09T07:28:32.661396Z"
        }
      },
      "outputs": [],
      "execution_count": null
    },
    {
      "cell_type": "markdown",
      "source": [
        "<html>\n",
        "\n",
        "<body>\n",
        "\n",
        "\n",
        "\n",
        "<h1>Column Descriptions</h1>\n",
        "\n",
        "\n",
        "\n",
        "<table>\n",
        "\n",
        "  <tr>\n",
        "\n",
        "    <th>Column Name</th>\n",
        "\n",
        "    <th>Description</th>\n",
        "\n",
        "  </tr>\n",
        "\n",
        "  <tr>\n",
        "\n",
        "    <td>Text</td>\n",
        "\n",
        "    <td>The actual content of the social media post.</td>\n",
        "\n",
        "  </tr>\n",
        "\n",
        "  <tr>\n",
        "\n",
        "    <td>Sentiment</td>\n",
        "\n",
        "    <td>The overall sentiment expressed in the post (positive, negative, or neutral).</td>\n",
        "\n",
        "  </tr>\n",
        "\n",
        "  <tr>\n",
        "\n",
        "    <td>User</td>\n",
        "\n",
        "    <td>The username or identifier of the person who made the post.</td>\n",
        "\n",
        "  </tr>\n",
        "\n",
        "  <tr>\n",
        "\n",
        "    <td>Platform</td>\n",
        "\n",
        "    <td>The social media platform where the post originated (e.g., Twitter, Facebook, Instagram).</td>\n",
        "\n",
        "  </tr>\n",
        "\n",
        "  <tr>\n",
        "\n",
        "    <td>Hashtags</td>\n",
        "\n",
        "    <td>A list or string containing the hashtags used in the post.</td>\n",
        "\n",
        "  </tr>\n",
        "\n",
        "  <tr>\n",
        "\n",
        "    <td>Retweets</td>\n",
        "\n",
        "    <td>The number of times the post was retweeted.</td>\n",
        "\n",
        "  </tr>\n",
        "\n",
        "  <tr>\n",
        "\n",
        "    <td>Likes</td>\n",
        "\n",
        "    <td>The number of likes the post received.</td>\n",
        "\n",
        "  </tr>\n",
        "\n",
        "  <tr>\n",
        "\n",
        "    <td>Country</td>\n",
        "\n",
        "    <td>The country associated with the user who made the post.</td>\n",
        "\n",
        "  </tr>\n",
        "\n",
        "  <tr>\n",
        "\n",
        "    <td>Year</td>\n",
        "\n",
        "    <td>The year the post was made.</td>\n",
        "\n",
        "  </tr>\n",
        "\n",
        "  <tr>\n",
        "\n",
        "    <td>Month</td>\n",
        "\n",
        "    <td>The month the post was made.</td>\n",
        "\n",
        "  </tr>\n",
        "\n",
        "</table>\n",
        "\n",
        "\n",
        "\n",
        "</body>\n",
        "\n",
        "</html>"
      ],
      "metadata": {
        "id": "GYUFRWvGHaec"
      }
    },
    {
      "cell_type": "markdown",
      "source": [
        "<!DOCTYPE html>\n",
        "\n",
        "\n",
        "\n",
        "<html>\n",
        "\n",
        "\n",
        "\n",
        "<head>\n",
        "\n",
        "\n",
        "\n",
        "</head>\n",
        "\n",
        "\n",
        "\n",
        "<body>\n",
        "\n",
        "\n",
        "\n",
        "\n",
        "\n",
        "\n",
        "\n",
        "<h1>Target Findings</h1>\n",
        "\n",
        "\n",
        "\n",
        "\n",
        "\n",
        "\n",
        "\n",
        "<p>The aim of the work in this notebook is to perform sentiment analysis on a social media dataset and visualize the findings to understand user sentiments, platform usage patterns, and engagement metrics.</p>\n",
        "\n",
        "\n",
        "\n",
        "\n",
        "\n",
        "\n",
        "\n",
        "<h2>Data Preparation and Cleaning</h2>\n",
        "\n",
        "\n",
        "\n",
        "<p>The code begins by importing libraries, mounting Google Drive to access the dataset, and performing initial data cleaning (e.g., removing unnecessary columns, cleaning text data).</p>\n",
        "\n",
        "\n",
        "\n",
        "\n",
        "\n",
        "\n",
        "\n",
        "<h2>Sentiment Analysis</h2>\n",
        "\n",
        "\n",
        "\n",
        "<p>The core of the analysis is likely performed using the <code>clean()</code> function and possibly other techniques (not fully defined in the provided code), with the goal of classifying social media posts into positive, negative, or neutral sentiments.</p>\n",
        "\n",
        "\n",
        "\n",
        "\n",
        "\n",
        "\n",
        "\n",
        "<h2>Visualization and Insights</h2>\n",
        "\n",
        "\n",
        "\n",
        "<ul>\n",
        "\n",
        "\n",
        "\n",
        "  <li>Visualizing the distribution of sentiments across different social media platforms.</li>\n",
        "\n",
        "\n",
        "\n",
        "  <li>Identifying the most prevalent sentiment in the dataset.</li>\n",
        "\n",
        "\n",
        "\n",
        "  <li>Understanding the distribution of platform usage across countries.</li>\n",
        "\n",
        "\n",
        "\n",
        "  <li>Exploring the correlation between retweets, likes, and potentially other engagement metrics.</li>\n",
        "\n",
        "\n",
        "\n",
        "  <li>Analyzing how these metrics might change over time (using a 3D scatter plot with the year as a dimension).</li>\n",
        "\n",
        "\n",
        "\n",
        "</ul>\n",
        "\n",
        "\n",
        "\n",
        "\n",
        "\n",
        "\n",
        "\n",
        "<h2>Overall Goal</h2>\n",
        "\n",
        "\n",
        "\n",
        "<p>By combining sentiment analysis with data visualization, the work aims to gain insights into the social media landscape and user behavior, possibly to inform marketing strategies, brand monitoring, or other relevant applications.</p>\n",
        "\n",
        "\n",
        "\n",
        "\n",
        "\n",
        "\n",
        "\n",
        "</body>\n",
        "\n",
        "\n",
        "\n",
        "</html>"
      ],
      "metadata": {
        "id": "WuaMT7r5gcz8"
      }
    },
    {
      "cell_type": "markdown",
      "source": [
        "## Removing Unnamed Columns"
      ],
      "metadata": {
        "id": "umgJhr86wigh"
      }
    },
    {
      "cell_type": "code",
      "source": [
        "unnamed_cols = [col for col in df.columns if 'Unnamed' in col]\n",
        "df.drop(columns=unnamed_cols, inplace=True)"
      ],
      "metadata": {
        "id": "GCn9lt43m_Qw",
        "trusted": true,
        "execution": {
          "iopub.status.busy": "2024-12-09T07:28:56.16143Z",
          "iopub.execute_input": "2024-12-09T07:28:56.161813Z",
          "iopub.status.idle": "2024-12-09T07:28:56.167286Z",
          "shell.execute_reply.started": "2024-12-09T07:28:56.16178Z",
          "shell.execute_reply": "2024-12-09T07:28:56.166235Z"
        }
      },
      "outputs": [],
      "execution_count": null
    },
    {
      "cell_type": "code",
      "source": [
        "df.head()"
      ],
      "metadata": {
        "id": "jXQRUn0AOBP8",
        "trusted": true,
        "execution": {
          "iopub.status.busy": "2024-12-09T07:28:58.736416Z",
          "iopub.execute_input": "2024-12-09T07:28:58.73681Z",
          "iopub.status.idle": "2024-12-09T07:28:58.752412Z",
          "shell.execute_reply.started": "2024-12-09T07:28:58.736774Z",
          "shell.execute_reply": "2024-12-09T07:28:58.751423Z"
        }
      },
      "outputs": [],
      "execution_count": null
    },
    {
      "cell_type": "code",
      "source": [
        "df.info()"
      ],
      "metadata": {
        "id": "bg4m4QfjOESh",
        "trusted": true,
        "execution": {
          "iopub.status.busy": "2024-12-09T07:29:01.856476Z",
          "iopub.execute_input": "2024-12-09T07:29:01.857144Z",
          "iopub.status.idle": "2024-12-09T07:29:01.878277Z",
          "shell.execute_reply.started": "2024-12-09T07:29:01.857109Z",
          "shell.execute_reply": "2024-12-09T07:29:01.877445Z"
        }
      },
      "outputs": [],
      "execution_count": null
    },
    {
      "cell_type": "code",
      "source": [
        "df.shape"
      ],
      "metadata": {
        "id": "IcZEF_tMObOq",
        "trusted": true,
        "execution": {
          "iopub.status.busy": "2024-12-09T07:29:05.576524Z",
          "iopub.execute_input": "2024-12-09T07:29:05.576912Z",
          "iopub.status.idle": "2024-12-09T07:29:05.583285Z",
          "shell.execute_reply.started": "2024-12-09T07:29:05.576879Z",
          "shell.execute_reply": "2024-12-09T07:29:05.582268Z"
        }
      },
      "outputs": [],
      "execution_count": null
    },
    {
      "cell_type": "code",
      "source": [
        "#searching for null values\n",
        "df.isnull().sum()"
      ],
      "metadata": {
        "id": "hch8tK4zOfLb",
        "trusted": true,
        "execution": {
          "iopub.status.busy": "2024-12-09T07:29:08.61831Z",
          "iopub.execute_input": "2024-12-09T07:29:08.619201Z",
          "iopub.status.idle": "2024-12-09T07:29:08.62671Z",
          "shell.execute_reply.started": "2024-12-09T07:29:08.619163Z",
          "shell.execute_reply": "2024-12-09T07:29:08.625726Z"
        }
      },
      "outputs": [],
      "execution_count": null
    },
    {
      "cell_type": "markdown",
      "source": [
        "### **Unique Values**"
      ],
      "metadata": {
        "id": "9QyY6PmMwaeU"
      }
    },
    {
      "cell_type": "code",
      "source": [
        "for column in df.columns:\n",
        "    num_distinct_values = len(df[column].unique())\n",
        "    print(f\"{column}: {num_distinct_values} distinct values\")"
      ],
      "metadata": {
        "id": "f8IHBSYpPMVf",
        "trusted": true,
        "execution": {
          "iopub.status.busy": "2024-12-09T07:29:16.536386Z",
          "iopub.execute_input": "2024-12-09T07:29:16.536869Z",
          "iopub.status.idle": "2024-12-09T07:29:16.54524Z",
          "shell.execute_reply.started": "2024-12-09T07:29:16.536835Z",
          "shell.execute_reply": "2024-12-09T07:29:16.544234Z"
        }
      },
      "outputs": [],
      "execution_count": null
    },
    {
      "cell_type": "markdown",
      "source": [
        "### Dropping Useless Columns"
      ],
      "metadata": {
        "id": "pbThqkZByauI"
      }
    },
    {
      "cell_type": "code",
      "source": [
        "df = df.drop(columns=['Day', 'Hour','Timestamp'])"
      ],
      "metadata": {
        "id": "gFTUHEiCQT5N",
        "trusted": true,
        "execution": {
          "iopub.status.busy": "2024-12-09T07:29:20.176406Z",
          "iopub.execute_input": "2024-12-09T07:29:20.176796Z",
          "iopub.status.idle": "2024-12-09T07:29:20.182126Z",
          "shell.execute_reply.started": "2024-12-09T07:29:20.176763Z",
          "shell.execute_reply": "2024-12-09T07:29:20.18115Z"
        }
      },
      "outputs": [],
      "execution_count": null
    },
    {
      "cell_type": "code",
      "source": [
        "df.head()"
      ],
      "metadata": {
        "id": "uCw_a1CVkTpH",
        "trusted": true,
        "execution": {
          "iopub.status.busy": "2024-12-09T07:29:22.856242Z",
          "iopub.execute_input": "2024-12-09T07:29:22.856946Z",
          "iopub.status.idle": "2024-12-09T07:29:22.869723Z",
          "shell.execute_reply.started": "2024-12-09T07:29:22.85691Z",
          "shell.execute_reply": "2024-12-09T07:29:22.868701Z"
        }
      },
      "outputs": [],
      "execution_count": null
    },
    {
      "cell_type": "code",
      "source": [
        "df.columns"
      ],
      "metadata": {
        "id": "ru0p2k5LQboU",
        "trusted": true,
        "execution": {
          "iopub.status.busy": "2024-12-09T07:29:32.276361Z",
          "iopub.execute_input": "2024-12-09T07:29:32.276742Z",
          "iopub.status.idle": "2024-12-09T07:29:32.282993Z",
          "shell.execute_reply.started": "2024-12-09T07:29:32.276708Z",
          "shell.execute_reply": "2024-12-09T07:29:32.282088Z"
        }
      },
      "outputs": [],
      "execution_count": null
    },
    {
      "cell_type": "markdown",
      "source": [
        "###  Remove leading and trailing whitespaces from each column"
      ],
      "metadata": {
        "id": "utgOEXjgcy3N"
      }
    },
    {
      "cell_type": "code",
      "source": [
        "for column in df.select_dtypes(include=['object']).columns:\n",
        "    df[column] = df[column].str.strip()"
      ],
      "metadata": {
        "id": "gW_RnVsEctTt",
        "trusted": true,
        "execution": {
          "iopub.status.busy": "2024-12-09T07:29:35.696833Z",
          "iopub.execute_input": "2024-12-09T07:29:35.697709Z",
          "iopub.status.idle": "2024-12-09T07:29:35.707262Z",
          "shell.execute_reply.started": "2024-12-09T07:29:35.69764Z",
          "shell.execute_reply": "2024-12-09T07:29:35.706326Z"
        }
      },
      "outputs": [],
      "execution_count": null
    },
    {
      "cell_type": "markdown",
      "source": [
        "Converting the number format to name of month format in the 'Month' column for better understanding"
      ],
      "metadata": {
        "id": "OOHk4yG8mDA9"
      }
    },
    {
      "cell_type": "code",
      "source": [
        "month_mapping = {\n",
        "\n",
        "    1: 'Jan',2: 'Feb',3: 'Mar',4: 'Apr',5: 'May',6: 'Jun',7: 'Jul',8: 'Aug',9: 'Sept',10: 'Oct',11: 'Nov',12: 'Dec'\n",
        "}\n",
        "df['Month'] = df['Month'].map(month_mapping)\n",
        "\n",
        "df['Month'] = df['Month'].astype('object')"
      ],
      "metadata": {
        "id": "XanhUXSzzr2s",
        "trusted": true,
        "execution": {
          "iopub.status.busy": "2024-12-09T07:29:38.616615Z",
          "iopub.execute_input": "2024-12-09T07:29:38.61728Z",
          "iopub.status.idle": "2024-12-09T07:29:38.623817Z",
          "shell.execute_reply.started": "2024-12-09T07:29:38.617243Z",
          "shell.execute_reply": "2024-12-09T07:29:38.62271Z"
        }
      },
      "outputs": [],
      "execution_count": null
    },
    {
      "cell_type": "markdown",
      "source": [
        "### Value Counts of unique value for each and every column"
      ],
      "metadata": {
        "id": "u9UH6io-JKRa"
      }
    },
    {
      "cell_type": "code",
      "source": [
        "for column in df.columns:\n",
        "\n",
        "    print(\"Value counts for :\",column)\n",
        "    print(df[column].value_counts())\n",
        "    print(\"\\n\")"
      ],
      "metadata": {
        "id": "CljPy3vBtD49",
        "trusted": true,
        "execution": {
          "iopub.status.busy": "2024-12-09T07:29:42.216245Z",
          "iopub.execute_input": "2024-12-09T07:29:42.216603Z",
          "iopub.status.idle": "2024-12-09T07:29:42.238139Z",
          "shell.execute_reply.started": "2024-12-09T07:29:42.216571Z",
          "shell.execute_reply": "2024-12-09T07:29:42.237214Z"
        }
      },
      "outputs": [],
      "execution_count": null
    },
    {
      "cell_type": "markdown",
      "source": [
        "# VISUALIZATION"
      ],
      "metadata": {
        "id": "BgbwmIYFBmPf"
      }
    },
    {
      "cell_type": "markdown",
      "source": [
        "### <font color=red> 1. Distribution of Sentiments on basis of platform"
      ],
      "metadata": {
        "id": "VOLfqDNYM73r"
      }
    },
    {
      "cell_type": "code",
      "source": [
        "try:\n",
        "    # User inputs the range for sentiments\n",
        "    sentiment_range = input(\"Enter the range of sentiments to display (e.g., 1-3): \").strip()\n",
        "\n",
        "    # Validate and parse the input range\n",
        "    start, end = map(int, sentiment_range.split('-'))\n",
        "    if start < 1 or end < start:\n",
        "        raise ValueError(\"Invalid range. Ensure the start is >= 1 and start <= end.\")\n",
        "\n",
        "    # Validate against available sentiments\n",
        "    unique_sentiments = df['Sentiment'].value_counts()\n",
        "    if end > len(unique_sentiments):\n",
        "        raise ValueError(f\"Only {len(unique_sentiments)} unique sentiments are available.\")\n",
        "\n",
        "    # Select the sentiments within the specified range\n",
        "    top_sentiments = unique_sentiments.iloc[start-1:end].index\n",
        "    filtered_df = df[df['Sentiment'].isin(top_sentiments)]\n",
        "\n",
        "    # User inputs the platform(s)\n",
        "    print(\"Enter Platform Name with ( , ) without space if you want multiple platforms together\")\n",
        "    platforms_input = input(\"Enter the platform(s) to display: Instagram,Facebook,Twitter'): \").strip()\n",
        "    selected_platforms = [platform.strip() for platform in platforms_input.split(',')]  # Allow multiple platforms\n",
        "\n",
        "    # Filter the data based on selected platforms\n",
        "    filtered_df = filtered_df[filtered_df['Platform'].isin(selected_platforms)]\n",
        "\n",
        "    # Check if the selected platforms exist in the data\n",
        "    available_platforms = df['Platform'].unique()\n",
        "    for platform in selected_platforms:\n",
        "        if platform not in available_platforms:\n",
        "            raise ValueError(f\"Platform '{platform}' not found in the data. Available platforms: {', '.join(available_platforms)}\")\n",
        "\n",
        "    # Create and display the pie chart\n",
        "    sentiment_counts = filtered_df.groupby(['Sentiment', 'Platform']).size().reset_index(name='Count')\n",
        "\n",
        "    fig = px.pie(sentiment_counts,\n",
        "                 names='Sentiment',\n",
        "                 values='Count',\n",
        "                 title=f'Distribution of Sentiments in Range {start}-{end} for Platforms: {\", \".join(selected_platforms)}',\n",
        "                 color='Sentiment',  # Color by Sentiment for differentiation\n",
        "                 color_discrete_sequence=px.colors.qualitative.Pastel)\n",
        "    # Show the pie chart\n",
        "    fig.show()\n",
        "\n",
        "except ValueError as ve:\n",
        "    print(f\"ValueError: {ve}\")\n",
        "\n",
        "except Exception as e:\n",
        "    print(f\"An error occurred: {e}\")\n"
      ],
      "metadata": {
        "id": "SKoqBHSdh1sW",
        "trusted": true,
        "execution": {
          "iopub.status.busy": "2024-12-09T07:29:48.94145Z",
          "iopub.execute_input": "2024-12-09T07:29:48.941826Z",
          "iopub.status.idle": "2024-12-09T07:30:12.709024Z",
          "shell.execute_reply.started": "2024-12-09T07:29:48.941792Z",
          "shell.execute_reply": "2024-12-09T07:30:12.708111Z"
        }
      },
      "outputs": [],
      "execution_count": null
    },
    {
      "cell_type": "markdown",
      "source": [
        "### <font color=red> 2. Most prevalent sentiment (positive, negative,neutral,....)  in the dataset"
      ],
      "metadata": {
        "id": "Wide0-_2h3gy"
      }
    },
    {
      "cell_type": "code",
      "source": [
        "try:\n",
        "    # User inputs the range for sentiments\n",
        "    sentiment_range = input(\"Enter the range of sentiments to display (e.g., 1-3): \").strip()\n",
        "\n",
        "    # Validate and parse the input range\n",
        "    start, end = map(int, sentiment_range.split('-'))\n",
        "    if start < 1 or end < start:\n",
        "        raise ValueError(\"Invalid range. Ensure the start is >= 1 and start <= end.\")\n",
        "\n",
        "    # Validate against available sentiments\n",
        "    unique_sentiments = df['Sentiment'].value_counts()\n",
        "    if end > len(unique_sentiments):\n",
        "        raise ValueError(f\"Only {len(unique_sentiments)} unique sentiments are available.\")\n",
        "\n",
        "    # Select the sentiments within the specified range\n",
        "    top_sentiments = unique_sentiments.iloc[start-1:end].index\n",
        "    filtered_df = df[df['Sentiment'].isin(top_sentiments)]\n",
        "\n",
        "    # Create and display the pie chart\n",
        "    sentiment_counts = filtered_df['Sentiment'].value_counts()\n",
        "    fig = px.pie(sentiment_counts,\n",
        "                 names=sentiment_counts.index,\n",
        "                 values=sentiment_counts.values,\n",
        "                 title=f'Distribution of Sentiments in Range {start}-{end}')\n",
        "    fig.show()\n",
        "\n",
        "except ValueError as ve:\n",
        "    print(f\"ValueError: {ve}\")\n",
        "\n",
        "except Exception as e:\n",
        "    print(f\"An error occurred: {e}\")"
      ],
      "metadata": {
        "id": "vUn0PvrgGiis",
        "trusted": true,
        "execution": {
          "iopub.status.busy": "2024-12-09T07:30:22.816361Z",
          "iopub.execute_input": "2024-12-09T07:30:22.817193Z",
          "iopub.status.idle": "2024-12-09T07:30:28.53476Z",
          "shell.execute_reply.started": "2024-12-09T07:30:22.817158Z",
          "shell.execute_reply": "2024-12-09T07:30:28.533798Z"
        }
      },
      "outputs": [],
      "execution_count": null
    },
    {
      "cell_type": "markdown",
      "source": [
        "### <font color=red> 3. Distribution of different Social Media Platforms  across Countries"
      ],
      "metadata": {
        "id": "rNIY29FFNCEa"
      }
    },
    {
      "cell_type": "markdown",
      "source": [
        "a.` In Histogram Format`"
      ],
      "metadata": {
        "id": "SlPiYQiXnQzc"
      }
    },
    {
      "cell_type": "code",
      "source": [
        "# Sort countries by total frequency\n",
        "sorted_df = df.groupby('Country').size().sort_values(ascending=False).reset_index(name='Count')\n",
        "df['Country'] = pd.Categorical(df['Country'], categories=sorted_df['Country'], ordered=True)\n",
        "\n",
        "# Create the histogram\n",
        "fig = px.histogram(\n",
        "    df,\n",
        "    x=\"Country\",\n",
        "    color=\"Platform\",\n",
        "    title=\"Country vs Platform Distribution\",\n",
        "    labels={\"Country\": \"Country\", \"Platform\": \"Platform\"},\n",
        "    barmode='group',  # Use 'stack' for stacked bars\n",
        "    text_auto=True,   # Display counts directly on the bars\n",
        "    color_discrete_sequence=px.colors.qualitative.Pastel\n",
        ")\n",
        "\n",
        "# Customize the layout\n",
        "\n",
        "fig.update_layout(\n",
        "    xaxis_title=\"Country\",\n",
        "    yaxis_title=\"Count\",\n",
        "    title_font=dict(size=22, family=\"Arial\", color=\"darkblue\"),\n",
        "    legend_title=\"Platform\",\n",
        "    legend=dict(title_font=dict(size=14), bgcolor=\"rgba(255,255,255,0.7)\"),\n",
        "    xaxis=dict(tickangle=270),  # Rotate x-axis labels for better readability\n",
        "    bargap=0.15,  # Add spacing between bars\n",
        "    plot_bgcolor=\"rgba(245, 245, 245, 1)\",  # Light background\n",
        ")\n",
        "\n",
        "# Ensure tooltips display correct data\n",
        "fig.update_traces(\n",
        "    hovertemplate=\"<b>Country:</b> %{x}<br>\" +\n",
        "                  \"<b>Count:</b> %{y}<extra></extra>\"\n",
        ")\n",
        "\n",
        "# Show the figure\n",
        "fig.show()\n"
      ],
      "metadata": {
        "id": "EwG8KAzzNBnk",
        "trusted": true,
        "execution": {
          "iopub.status.busy": "2024-12-09T07:32:17.181529Z",
          "iopub.execute_input": "2024-12-09T07:32:17.182404Z",
          "iopub.status.idle": "2024-12-09T07:32:17.307888Z",
          "shell.execute_reply.started": "2024-12-09T07:32:17.182365Z",
          "shell.execute_reply": "2024-12-09T07:32:17.306886Z"
        }
      },
      "outputs": [],
      "execution_count": null
    },
    {
      "cell_type": "markdown",
      "source": [
        "b. `Zonal Representation on Map`"
      ],
      "metadata": {
        "id": "6qVrqpqlnZV1"
      }
    },
    {
      "cell_type": "code",
      "source": [
        "country_platform_counts = df.groupby(['Country', 'Platform']).size().reset_index(name='Count')\n",
        "fig = px.choropleth(\n",
        "    country_platform_counts,\n",
        "    locations=\"Country\",  # Country names or ISO codes\n",
        "    locationmode=\"country names\",\n",
        "    color=\"Count\",\n",
        "    hover_name=\"Country\",\n",
        "    animation_frame=\"Platform\",  # Add a slider for the 'Platform' variable\n",
        "    title=\"Platform Distribution Across Countries\",\n",
        "    color_continuous_scale=px.colors.sequential.Plasma\n",
        ")\n",
        "fig.update_layout(\n",
        "    geo=dict(showframe=False, showcoastlines=True, projection_type='natural earth'),\n",
        "    title_font=dict(size=20, family=\"Arial Black\")\n",
        ")\n",
        "fig.show()\n"
      ],
      "metadata": {
        "id": "CmQ35oAbOrw2",
        "trusted": true,
        "execution": {
          "iopub.status.busy": "2024-12-09T07:32:22.70139Z",
          "iopub.execute_input": "2024-12-09T07:32:22.702302Z",
          "iopub.status.idle": "2024-12-09T07:32:22.865429Z",
          "shell.execute_reply.started": "2024-12-09T07:32:22.702264Z",
          "shell.execute_reply": "2024-12-09T07:32:22.864487Z"
        }
      },
      "outputs": [],
      "execution_count": null
    },
    {
      "cell_type": "markdown",
      "source": [
        "### <font color=red> 4. Correlation between the number of Retweets and the Likes"
      ],
      "metadata": {
        "id": "yBZEjSAglK0G"
      }
    },
    {
      "cell_type": "code",
      "source": [
        "fig = px.scatter(\n",
        "    df,\n",
        "    x=\"Retweets\",\n",
        "    y=\"Likes\",\n",
        "    title=\"Interactive Correlation Between Retweets and Likes\",\n",
        "    color=\"Likes\"\n",
        ")\n",
        "fig.show()\n"
      ],
      "metadata": {
        "id": "KJdGH7WJrnwH",
        "trusted": true,
        "execution": {
          "iopub.status.busy": "2024-12-09T07:32:27.666378Z",
          "iopub.execute_input": "2024-12-09T07:32:27.667086Z",
          "iopub.status.idle": "2024-12-09T07:32:27.738569Z",
          "shell.execute_reply.started": "2024-12-09T07:32:27.667048Z",
          "shell.execute_reply": "2024-12-09T07:32:27.737722Z"
        }
      },
      "outputs": [],
      "execution_count": null
    },
    {
      "cell_type": "markdown",
      "source": [
        "### <font color=red> 5 . Correlation between the number of Retweets and the Likes  With Respect to Year"
      ],
      "metadata": {
        "id": "swy_zH9Qtn76"
      }
    },
    {
      "cell_type": "code",
      "source": [
        "sampled_df = df.sample(n=50, random_state=42)  # Adjust 'n' for desired number of points\n",
        "fig = px.scatter_3d(\n",
        "    sampled_df,\n",
        "    x=\"Retweets\",\n",
        "    y=\"Likes\",\n",
        "    z=\"Year\",\n",
        "    color=\"Likes\",\n",
        "    size=\"Retweets\",\n",
        "    title=\"3D Scatter: Retweets, Likes, and Followers\"\n",
        ")\n",
        "print(\"Keep Year as Y and Retweets as X\")\n",
        "fig.show()\n"
      ],
      "metadata": {
        "id": "EQT8F91dsDr-",
        "trusted": true,
        "execution": {
          "iopub.status.busy": "2024-12-09T07:32:32.181513Z",
          "iopub.execute_input": "2024-12-09T07:32:32.182501Z",
          "iopub.status.idle": "2024-12-09T07:32:32.280206Z",
          "shell.execute_reply.started": "2024-12-09T07:32:32.182449Z",
          "shell.execute_reply": "2024-12-09T07:32:32.279328Z"
        }
      },
      "outputs": [],
      "execution_count": null
    },
    {
      "cell_type": "markdown",
      "source": [
        "### <font color=red>6.Variation of sentiments with Months"
      ],
      "metadata": {
        "id": "EuxSJV6-Qz7a"
      }
    },
    {
      "cell_type": "code",
      "source": [
        "start = int(input(\"Enter the start value: \"))\n",
        "end = int(input(\"Enter the end value: \"))\n",
        "\n",
        "# Get the top sentiments within the specified range\n",
        "top_sentiments = df['Sentiment'].value_counts().head(end).tail(end - start+1 ).index\n",
        "\n",
        "# Filter the DataFrame for the top sentiments\n",
        "filtered_df = df[df['Sentiment'].isin(top_sentiments)]\n",
        "\n",
        "# Group by month and sentiment, then count occurrences\n",
        "month_order = ['Jan', 'Feb', 'Mar', 'Apr', 'May', 'Jun', 'Jul', 'Aug', 'Sept', 'Oct', 'Nov', 'Dec']\n",
        "sentiment_counts = filtered_df.groupby(['Month', 'Sentiment']).size().reset_index(name='Count')\n",
        "\n",
        "# Convert 'Month' column to categorical with the desired order\n",
        "sentiment_counts['Month'] = pd.Categorical(sentiment_counts['Month'], categories=month_order, ordered=True)\n",
        "\n",
        "# Sort the DataFrame by the new categorical 'Month' column\n",
        "sentiment_counts = sentiment_counts.sort_values('Month')\n",
        "\n",
        "# Create the bar chart\n",
        "fig = px.bar(sentiment_counts, x='Month', y='Count', color='Sentiment',\n",
        "             title='Top Sentiments Value Counts vs Month',\n",
        "             labels={'Count': 'Number of Occurrences'})\n",
        "fig.show()"
      ],
      "metadata": {
        "id": "YVBBYDzcRdj7",
        "trusted": true,
        "execution": {
          "iopub.status.busy": "2024-12-09T07:32:36.312108Z",
          "iopub.execute_input": "2024-12-09T07:32:36.312474Z",
          "iopub.status.idle": "2024-12-09T07:32:41.829818Z",
          "shell.execute_reply.started": "2024-12-09T07:32:36.312442Z",
          "shell.execute_reply": "2024-12-09T07:32:41.828888Z"
        }
      },
      "outputs": [],
      "execution_count": null
    },
    {
      "cell_type": "markdown",
      "source": [
        "### <font color=red>7.Variation of sentiments with Months with flow of year"
      ],
      "metadata": {
        "id": "kFlDuSyHdxWu"
      }
    },
    {
      "cell_type": "code",
      "source": [
        "start = int(input(\"Enter the start value: \"))\n",
        "end = int(input(\"Enter the end value: \"))\n",
        "\n",
        "# Get the top sentiments within the specified range\n",
        "top_sentiments = df['Sentiment'].value_counts().head(end).tail(end - start+1 ).index\n",
        "\n",
        "# Filter the DataFrame for the top sentiments\n",
        "filtered_df = df[df['Sentiment'].isin(top_sentiments)]\n",
        "\n",
        "# Group by month, sentiment, and Year, then count occurrences\n",
        "month_order = ['Jan', 'Feb', 'Mar', 'Apr', 'May', 'Jun', 'Jul', 'Aug', 'Sept', 'Oct', 'Nov', 'Dec']\n",
        "sentiment_counts = filtered_df.groupby(['Month', 'Sentiment', 'Year']).size().reset_index(name='Count')\n",
        "\n",
        "# Convert 'Month' column to categorical with the desired order\n",
        "sentiment_counts['Month'] = pd.Categorical(sentiment_counts['Month'], categories=month_order, ordered=True)\n",
        "\n",
        "# Sort the DataFrame by the new categorical 'Month' column\n",
        "sentiment_counts = sentiment_counts.sort_values('Month')\n",
        "\n",
        "# Create the bar chart (rest of the code remains the same)\n",
        "fig = px.bar(sentiment_counts,\n",
        "             x='Month',\n",
        "             y='Count',\n",
        "             color='Sentiment',\n",
        "             title='Top 10 Sentiments Value Counts vs Month',\n",
        "             labels={'Count': 'Number of Occurrences'},\n",
        "             animation_frame='Year')  # Add animation_frame\n",
        "\n",
        "# Customize the slider appearance (optional)\n",
        "fig.update_layout(\n",
        "    updatemenus=[\n",
        "        dict(\n",
        "            type=\"buttons\",\n",
        "            buttons=[dict(label=\"Play\", method=\"animate\", args=[None]),\n",
        "                     dict(label=\"Pause\", method=\"animate\", args=[[None], {\"frame\": {\"duration\": 0, \"redraw\": False},\n",
        "                                                                 \"mode\": \"immediate\",\n",
        "                                                                 \"transition\": {\"duration\": 0}}])],\n",
        "\n",
        "        )\n",
        "    ]\n",
        ")\n",
        "\n",
        "fig.show()"
      ],
      "metadata": {
        "id": "9ikrpVMNdqdO",
        "trusted": true,
        "execution": {
          "iopub.status.busy": "2024-12-09T07:32:47.109248Z",
          "iopub.execute_input": "2024-12-09T07:32:47.110121Z",
          "iopub.status.idle": "2024-12-09T07:32:51.698838Z",
          "shell.execute_reply.started": "2024-12-09T07:32:47.110083Z",
          "shell.execute_reply": "2024-12-09T07:32:51.697454Z"
        }
      },
      "outputs": [],
      "execution_count": null
    },
    {
      "cell_type": "markdown",
      "source": [
        "### <font color=red>8.Variation of Sentiments with Country"
      ],
      "metadata": {
        "id": "CSz-3oK3eRJj"
      }
    },
    {
      "cell_type": "code",
      "source": [
        "import pandas as pd\n",
        "import plotly.express as px\n",
        "# Assuming 'df' is your DataFrame containing the data\n",
        "start = int(input(\"Enter the start value: \"))\n",
        "end = int(input(\"Enter the end value: \"))\n",
        "# Get the top sentiments within the specified range\n",
        "top_sentiments = df['Sentiment'].value_counts().head(end).tail(end - start + 1).index\n",
        "# Filter the DataFrame to include only the top sentiments\n",
        "filtered_df = df[df['Sentiment'].isin(top_sentiments)]\n",
        "# Group by Country and Sentiment, then count occurrences\n",
        "sentiment_counts = filtered_df.groupby(['Country', 'Sentiment']).size().reset_index(name='Count')\n",
        "# Create a choropleth map\n",
        "fig = px.choropleth(\n",
        "    sentiment_counts,\n",
        "    locations=\"Country\",\n",
        "    locationmode=\"country names\",\n",
        "    color=\"Count\",\n",
        "    hover_name=\"Country\",\n",
        "    animation_frame=\"Sentiment\",\n",
        "    title=f\"Sentiments {start}-{end} Distribution Across Countries\",  # Dynamic title\n",
        "    color_continuous_scale=px.colors.sequential.Plasma,\n",
        ")\n",
        "# Customize layout\n",
        "fig.update_layout(\n",
        "    geo=dict(\n",
        "        showframe=False,\n",
        "        showcoastlines=True,\n",
        "        projection_type=\"natural earth\",\n",
        "    ),\n",
        "    coloraxis_colorbar=dict(\n",
        "        title=\"Sentiment Count\",\n",
        "        ticks=\"outside\",\n",
        "    ),\n",
        ")\n",
        "fig.show()\n"
      ],
      "metadata": {
        "id": "5bniYArqhxUY",
        "trusted": true,
        "execution": {
          "iopub.status.busy": "2024-12-09T07:32:55.381567Z",
          "iopub.execute_input": "2024-12-09T07:32:55.382455Z",
          "iopub.status.idle": "2024-12-09T07:33:00.833393Z",
          "shell.execute_reply.started": "2024-12-09T07:32:55.382419Z",
          "shell.execute_reply": "2024-12-09T07:33:00.832522Z"
        }
      },
      "outputs": [],
      "execution_count": null
    },
    {
      "cell_type": "markdown",
      "source": [
        "### <font color=red>9.Variation of sentiments with Likes"
      ],
      "metadata": {
        "id": "NR4ejC7Ew0mb"
      }
    },
    {
      "cell_type": "code",
      "source": [
        "start = int(input(\"Enter the start value: \"))\n",
        "end = int(input(\"Enter the end value: \"))\n",
        "# Get the top sentiments within the specified range\n",
        "top_sentiments = df['Sentiment'].value_counts().head(end).tail(end - start + 1).index\n",
        "sentiments_to_show = top_sentiments\n",
        "# Group data by sentiment and sum the likes\n",
        "sentiment_likes = df.groupby('Sentiment')['Likes'].sum().reset_index()\n",
        "# Filter sentiment_likes based on user input\n",
        "filtered_sentiment_likes = sentiment_likes[sentiment_likes['Sentiment'].isin(sentiments_to_show)]\n",
        "# Create the plotly bar chart\n",
        "fig = px.bar(filtered_sentiment_likes,\n",
        "             x='Sentiment',\n",
        "             y='Likes',\n",
        "             color='Sentiment',\n",
        "             title='Total Likes by Sentiment',\n",
        "             labels={'Likes': 'Total Number of Likes', 'Sentiment': 'Sentiment'})\n",
        "# Show the plot\n",
        "fig.update_layout(xaxis_tickangle=270)  # Rotate x-axis labels\n",
        "fig.show()\n"
      ],
      "metadata": {
        "id": "Vn04ZlI_6I-I",
        "trusted": true,
        "execution": {
          "iopub.status.busy": "2024-12-09T07:33:05.421426Z",
          "iopub.execute_input": "2024-12-09T07:33:05.422152Z",
          "iopub.status.idle": "2024-12-09T07:33:10.262754Z",
          "shell.execute_reply.started": "2024-12-09T07:33:05.422118Z",
          "shell.execute_reply": "2024-12-09T07:33:10.26187Z"
        }
      },
      "outputs": [],
      "execution_count": null
    },
    {
      "cell_type": "markdown",
      "source": [
        "### <font color=red>10.Variation of sentiments with Retweet"
      ],
      "metadata": {
        "id": "GXpRd50UB0md"
      }
    },
    {
      "cell_type": "code",
      "source": [
        "start=int(input(\"Enter the start value: \"))\n",
        "end=int(input(\"Enter the end value: \"))\n",
        "# Get the top sentiments within the specified range\n",
        "top_sentiments = df['Sentiment'].value_counts().head(end).tail(end - start + 1).index\n",
        "sentiments_to_show = top_sentiments\n",
        "\n",
        "# Group data by sentiment and sum the likes\n",
        "sentiment_likes = df.groupby('Sentiment')['Retweets'].sum().reset_index()\n",
        "\n",
        "# Filter sentiment_likes based on user input\n",
        "filtered_sentiment_likes = sentiment_likes[sentiment_likes['Sentiment'].isin(sentiments_to_show)]\n",
        "\n",
        "# Create the plotly bar chart\n",
        "fig = px.bar(filtered_sentiment_likes,\n",
        "             x='Sentiment',\n",
        "             y='Retweets',\n",
        "             color='Sentiment',\n",
        "             title='Total Retweets by Sentiment',\n",
        "             labels={'Likes': 'Total Number of Retweets', 'Sentiment': 'Sentiment'})\n",
        "\n",
        "# Show the plot\n",
        "fig.update_layout(xaxis_tickangle=90)  # Rotate x-axis labels\n",
        "fig.show()"
      ],
      "metadata": {
        "id": "sGcllVpdB08o",
        "trusted": true,
        "execution": {
          "iopub.status.busy": "2024-12-09T07:33:15.021366Z",
          "iopub.execute_input": "2024-12-09T07:33:15.022235Z",
          "iopub.status.idle": "2024-12-09T07:33:21.195367Z",
          "shell.execute_reply.started": "2024-12-09T07:33:15.0222Z",
          "shell.execute_reply": "2024-12-09T07:33:21.19453Z"
        }
      },
      "outputs": [],
      "execution_count": null
    },
    {
      "cell_type": "markdown",
      "source": [
        "### <font color=red>11. No of Users with respect to Sentiment"
      ],
      "metadata": {
        "id": "68fhXB7dEG3_"
      }
    },
    {
      "cell_type": "code",
      "source": [
        "start=int(input(\"Enter the start value: \"))\n",
        "end=int(input(\"Enter the end value: \"))\n",
        "# Get the top sentiments within the specified range\n",
        "top_sentiments = df['Sentiment'].value_counts().head(end).tail(end - start + 1).index\n",
        "sentiments_to_show = top_sentiments\n",
        "\n",
        "# Group data by sentiment and count unique users using nunique()\n",
        "sentiment_user_counts = df.groupby('Sentiment')['User'].nunique().reset_index()\n",
        "\n",
        "# Rename the 'User' column to 'User_Count' for clarity\n",
        "sentiment_user_counts = sentiment_user_counts.rename(columns={'User': 'User_Count'})\n",
        "\n",
        "# Filter sentiment_user_counts based on user input\n",
        "filtered_sentiment_user_counts = sentiment_user_counts[sentiment_user_counts['Sentiment'].isin(sentiments_to_show)]\n",
        "\n",
        "# Create the plotly bar chart with 'User_Count' on the y-axis\n",
        "fig = px.bar(filtered_sentiment_user_counts,\n",
        "             x='Sentiment',\n",
        "             y='User_Count',\n",
        "             color='Sentiment',\n",
        "             title='Total Users by Sentiment',\n",
        "             labels={'User_Count': 'Total Number of Users', 'Sentiment': 'Sentiment'})\n",
        "\n",
        "# Show the plot\n",
        "fig.update_layout(xaxis_tickangle=270)  # Rotate x-axis labels\n",
        "fig.show()"
      ],
      "metadata": {
        "id": "_CfpWGSIEGij",
        "trusted": true,
        "execution": {
          "iopub.status.busy": "2024-12-09T07:33:26.061313Z",
          "iopub.execute_input": "2024-12-09T07:33:26.061885Z",
          "iopub.status.idle": "2024-12-09T07:33:30.915862Z",
          "shell.execute_reply.started": "2024-12-09T07:33:26.06185Z",
          "shell.execute_reply": "2024-12-09T07:33:30.914992Z"
        }
      },
      "outputs": [],
      "execution_count": null
    },
    {
      "cell_type": "markdown",
      "source": [
        "<html>\n",
        "\n",
        "\n",
        "\n",
        "<head>\n",
        "\n",
        "\n",
        "\n",
        "<h1>Conclusions from Social Media Sentiment Analysis</h1>\n",
        "\n",
        "\n",
        "\n",
        "</head>\n",
        "\n",
        "\n",
        "\n",
        "<body>\n",
        "\n",
        "\n",
        "\n",
        "<h2>Sentiment Distribution</h2>\n",
        "\n",
        "\n",
        "\n",
        "<p>The pie chart indicates that Insert dominant sentiment, e.g., Positive is the most prevalent sentiment expressed in social media posts.</p>\n",
        "\n",
        "\n",
        "\n",
        "\n",
        "\n",
        "\n",
        "\n",
        "<h2>Platform Usage</h2>\n",
        "\n",
        "\n",
        "\n",
        "<p>The histogram and choropleth map reveal that different social media platforms have varying popularity across countries. For instance, Twitter might be more commonly used in the United States, while Facebook could be dominant in other regions.</p>\n",
        "\n",
        "\n",
        "\n",
        "\n",
        "\n",
        "\n",
        "\n",
        "<h2>Retweets and Likes Correlation</h2>\n",
        "\n",
        "\n",
        "\n",
        "<p>The scatter plot demonstrates a positive correlation between retweets and likes, suggesting that posts with more retweets tend to have more likes, indicating higher engagement with popular content.</p>\n",
        "\n",
        "\n",
        "\n",
        "\n",
        "\n",
        "\n",
        "\n",
        "<h2>Sentiment-Likes Association</h2>\n",
        "\n",
        "\n",
        "\n",
        "<p>The histogram shows that posts with positive sentiment generally receive more likes compared to negative or neutral posts, implying that positive content is more appreciated by users.</p>\n",
        "\n",
        "\n",
        "\n",
        "\n",
        "\n",
        "\n",
        "\n",
        "<h2>Sentiment-User Count Association</h2>\n",
        "\n",
        "\n",
        "\n",
        "<p>The bar chart shows that more users express positive sentiments than negative ones, suggesting that social media is primarily used for sharing positive experiences and emotions.</p>\n",
        "\n",
        "\n",
        "\n",
        "\n",
        "\n",
        "\n",
        "\n",
        "<h2>General Observations</h2>\n",
        "\n",
        "\n",
        "\n",
        "<ul>\n",
        "\n",
        "\n",
        "\n",
        "  <li>Social media platforms exhibit varied popularity across countries.</li>\n",
        "\n",
        "\n",
        "\n",
        "  <li>Retweets and likes generally show a positive correlation, reflecting post engagement.</li>\n",
        "\n",
        "\n",
        "\n",
        "  <li>Sentiment plays a role in user engagement, with positive posts potentially receiving more likes.</li>\n",
        "\n",
        "\n",
        "\n",
        "  <li>Overall, a certain sentiment (e.g., Positive) might be dominant in the dataset.</li>\n",
        "\n",
        "\n",
        "\n",
        "</ul>\n",
        "\n",
        "\n",
        "\n",
        "</body>\n",
        "\n",
        "\n",
        "\n",
        "</html>"
      ],
      "metadata": {
        "id": "96OgyZzTQRW2"
      }
    }
  ]
}