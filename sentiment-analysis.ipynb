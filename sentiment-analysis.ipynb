{"source": [
    "<a href='https://www.kaggle.com/code/rishijmanna/sentiment-analysis'>Open in Kaggle</a>"
   ]
 "cells": [
  {
   "cell_type": "markdown",
   "metadata": {
    "id": "SFiOfbidHWNQ"
   },
   "source": [
    "# Introduction\n",
    "\n",
    "\n",
    "\n",
    "\n",
    "\n",
    "The Social Media Sentiments Analysis Dataset captures a vibrant tapestry of emotions, trends, and interactions across various social media platforms. This dataset provides a snapshot of user-generated content, encompassing text, timestamps, hashtags, countries, likes, and retweets. Each entry unveils unique stories—moments of surprise, excitement, admiration, thrill, contentment, and more—shared by individuals worldwide."
   ]
  },
  {
   "cell_type": "markdown",
   "metadata": {},
   
  },
  {
   "cell_type": "markdown",
   "metadata": {
    "id": "ZOjCsXwfRiBJ"
   },
   "source": [
    "## Mounting Google Drive"
   ]
  },
  {
   "cell_type": "code",
   "execution_count": 1,
   "metadata": {
    "execution": {
     "iopub.execute_input": "2024-12-09T05:43:28.397320Z",
     "iopub.status.busy": "2024-12-09T05:43:28.396868Z",
     "iopub.status.idle": "2024-12-09T05:43:28.402782Z",
     "shell.execute_reply": "2024-12-09T05:43:28.401382Z",
     "shell.execute_reply.started": "2024-12-09T05:43:28.397282Z"
    },
    "executionInfo": {
     "elapsed": 50225,
     "status": "ok",
     "timestamp": 1733727481312,
     "user": {
      "displayName": "66_Rishij Manna",
      "userId": "01245000441612451756"
     },
     "user_tz": -330
    },
    "id": "0npFDVzV-Qqh",
    "outputId": "9776a9a3-de6c-40a5-d77d-5cd0e1caa42c",
    "trusted": true
   },
   "outputs": [],
   "source": [
    "#from google.colab import drive\n",
    "\n",
    "#drive.mount('/content/drive')"
   ]
  },
  {
   "cell_type": "markdown",
   "metadata": {
    "id": "KXugIeaUHuJI"
   },
   "source": [
    "# Importing Libraries"
   ]
  },
  {
   "cell_type": "code",
   "execution_count": 1,
   "metadata": {
    "execution": {
     "iopub.execute_input": "2024-12-09T07:27:14.020739Z",
     "iopub.status.busy": "2024-12-09T07:27:14.020394Z",
     "iopub.status.idle": "2024-12-09T07:27:15.477703Z",
     "shell.execute_reply": "2024-12-09T07:27:15.476715Z",
     "shell.execute_reply.started": "2024-12-09T07:27:14.020708Z"
    },
    "executionInfo": {
     "elapsed": 2033,
     "status": "ok",
     "timestamp": 1733727483336,
     "user": {
      "displayName": "66_Rishij Manna",
      "userId": "01245000441612451756"
     },
     "user_tz": -330
    },
    "id": "Gk_BfES6JGVF",
    "trusted": true
   },
   "outputs": [],
   "source": [
    "import pandas as pd\n",
    "import numpy as np\n",
    "import plotly.express as px\n",
    "import os\n",
    "import warnings\n",
    "os.environ['PYTHONWARNINGS'] = 'ignore'\n",
    "warnings.filterwarnings(\"ignore\")"
   ]
  },
  {
   "cell_type": "markdown",
   "metadata": {
    "id": "Y0YZm2d4aTPI"
   },
   "source": [
    "# Analyzing  Dataset"
   ]
  },
  {
   "cell_type": "markdown",
   "metadata": {
    "id": "K2xGS5s_MpgN"
   },
   "source": [
    "# Loading Dataset"
   ]
  },
  {
   "cell_type": "markdown",
   "metadata": {
    "id": "UjRbJLOpi3l_"
   },
   "source": [
    "## Source of Dataset:\n",
    "\n",
    "\n",
    "\n",
    "The following dataset is downloaded from Kaggle and has been reused\n",
    "\n",
    "\n",
    "\n",
    "\n",
    "\n",
    "\n",
    "\n",
    "Link Given Below:\n",
    "\n",
    "\n",
    "\n",
    "\n",
    "\n",
    "\n",
    "\n",
    "[sentimentdataset.csv](https://www.kaggle.com/code/alkidiarete/social-media-analysis-sentiment/input?select=sentimentdataset.csv)"
   ]
  },
  {
   "cell_type": "code",
   "execution_count": 2,
   "metadata": {
    "execution": {
     "iopub.execute_input": "2024-12-09T07:28:32.618251Z",
     "iopub.status.busy": "2024-12-09T07:28:32.617179Z",
     "iopub.status.idle": "2024-12-09T07:28:32.662269Z",
     "shell.execute_reply": "2024-12-09T07:28:32.661396Z",
     "shell.execute_reply.started": "2024-12-09T07:28:32.618213Z"
    },
    "executionInfo": {
     "elapsed": 1007,
     "status": "ok",
     "timestamp": 1733728110550,
     "user": {
      "displayName": "66_Rishij Manna",
      "userId": "01245000441612451756"
     },
     "user_tz": -330
    },
    "id": "CGnJr1mEMqtL",
    "outputId": "e8c5f7bb-29e2-486e-b840-bdc5e7557492",
    "trusted": true
   },
   "outputs": [
    {
     "data": {
      "text/html": [
       "<div>\n",
       "<style scoped>\n",
       "    .dataframe tbody tr th:only-of-type {\n",
       "        vertical-align: middle;\n",
       "    }\n",
       "\n",
       "    .dataframe tbody tr th {\n",
       "        vertical-align: top;\n",
       "    }\n",
       "\n",
       "    .dataframe thead th {\n",
       "        text-align: right;\n",
       "    }\n",
       "</style>\n",
       "<table border=\"1\" class=\"dataframe\">\n",
       "  <thead>\n",
       "    <tr style=\"text-align: right;\">\n",
       "      <th></th>\n",
       "      <th>Unnamed: 0.1</th>\n",
       "      <th>Unnamed: 0</th>\n",
       "      <th>Text</th>\n",
       "      <th>Sentiment</th>\n",
       "      <th>Timestamp</th>\n",
       "      <th>User</th>\n",
       "      <th>Platform</th>\n",
       "      <th>Hashtags</th>\n",
       "      <th>Retweets</th>\n",
       "      <th>Likes</th>\n",
       "      <th>Country</th>\n",
       "      <th>Year</th>\n",
       "      <th>Month</th>\n",
       "      <th>Day</th>\n",
       "      <th>Hour</th>\n",
       "    </tr>\n",
       "  </thead>\n",
       "  <tbody>\n",
       "    <tr>\n",
       "      <th>0</th>\n",
       "      <td>0</td>\n",
       "      <td>0</td>\n",
       "      <td>Enjoying a beautiful day at the park!        ...</td>\n",
       "      <td>Positive</td>\n",
       "      <td>2023-01-15 12:30:00</td>\n",
       "      <td>User123</td>\n",
       "      <td>Twitter</td>\n",
       "      <td>#Nature #Park</td>\n",
       "      <td>15.0</td>\n",
       "      <td>30.0</td>\n",
       "      <td>USA</td>\n",
       "      <td>2023</td>\n",
       "      <td>1</td>\n",
       "      <td>15</td>\n",
       "      <td>12</td>\n",
       "    </tr>\n",
       "    <tr>\n",
       "      <th>1</th>\n",
       "      <td>1</td>\n",
       "      <td>1</td>\n",
       "      <td>Traffic was terrible this morning.           ...</td>\n",
       "      <td>Negative</td>\n",
       "      <td>2023-01-15 08:45:00</td>\n",
       "      <td>CommuterX</td>\n",
       "      <td>Twitter</td>\n",
       "      <td>#Traffic #Morning</td>\n",
       "      <td>5.0</td>\n",
       "      <td>10.0</td>\n",
       "      <td>Canada</td>\n",
       "      <td>2023</td>\n",
       "      <td>1</td>\n",
       "      <td>15</td>\n",
       "      <td>8</td>\n",
       "    </tr>\n",
       "    <tr>\n",
       "      <th>2</th>\n",
       "      <td>2</td>\n",
       "      <td>2</td>\n",
       "      <td>Just finished an amazing workout! 💪          ...</td>\n",
       "      <td>Positive</td>\n",
       "      <td>2023-01-15 15:45:00</td>\n",
       "      <td>FitnessFan</td>\n",
       "      <td>Instagram</td>\n",
       "      <td>#Fitness #Workout</td>\n",
       "      <td>20.0</td>\n",
       "      <td>40.0</td>\n",
       "      <td>USA</td>\n",
       "      <td>2023</td>\n",
       "      <td>1</td>\n",
       "      <td>15</td>\n",
       "      <td>15</td>\n",
       "    </tr>\n",
       "    <tr>\n",
       "      <th>3</th>\n",
       "      <td>3</td>\n",
       "      <td>3</td>\n",
       "      <td>Excited about the upcoming weekend getaway!  ...</td>\n",
       "      <td>Positive</td>\n",
       "      <td>2023-01-15 18:20:00</td>\n",
       "      <td>AdventureX</td>\n",
       "      <td>Facebook</td>\n",
       "      <td>#Travel #Adventure</td>\n",
       "      <td>8.0</td>\n",
       "      <td>15.0</td>\n",
       "      <td>UK</td>\n",
       "      <td>2023</td>\n",
       "      <td>1</td>\n",
       "      <td>15</td>\n",
       "      <td>18</td>\n",
       "    </tr>\n",
       "    <tr>\n",
       "      <th>4</th>\n",
       "      <td>4</td>\n",
       "      <td>4</td>\n",
       "      <td>Trying out a new recipe for dinner tonight.  ...</td>\n",
       "      <td>Neutral</td>\n",
       "      <td>2023-01-15 19:55:00</td>\n",
       "      <td>ChefCook</td>\n",
       "      <td>Instagram</td>\n",
       "      <td>#Cooking #Food</td>\n",
       "      <td>12.0</td>\n",
       "      <td>25.0</td>\n",
       "      <td>Australia</td>\n",
       "      <td>2023</td>\n",
       "      <td>1</td>\n",
       "      <td>15</td>\n",
       "      <td>19</td>\n",
       "    </tr>\n",
       "  </tbody>\n",
       "</table>\n",
       "</div>"
      ],
      "text/plain": [
       "   Unnamed: 0.1  Unnamed: 0  \\\n",
       "0             0           0   \n",
       "1             1           1   \n",
       "2             2           2   \n",
       "3             3           3   \n",
       "4             4           4   \n",
       "\n",
       "                                                Text    Sentiment  \\\n",
       "0   Enjoying a beautiful day at the park!        ...   Positive     \n",
       "1   Traffic was terrible this morning.           ...   Negative     \n",
       "2   Just finished an amazing workout! 💪          ...   Positive     \n",
       "3   Excited about the upcoming weekend getaway!  ...   Positive     \n",
       "4   Trying out a new recipe for dinner tonight.  ...   Neutral      \n",
       "\n",
       "             Timestamp            User     Platform  \\\n",
       "0  2023-01-15 12:30:00   User123          Twitter     \n",
       "1  2023-01-15 08:45:00   CommuterX        Twitter     \n",
       "2  2023-01-15 15:45:00   FitnessFan      Instagram    \n",
       "3  2023-01-15 18:20:00   AdventureX       Facebook    \n",
       "4  2023-01-15 19:55:00   ChefCook        Instagram    \n",
       "\n",
       "                                     Hashtags  Retweets  Likes       Country  \\\n",
       "0   #Nature #Park                                  15.0   30.0     USA         \n",
       "1   #Traffic #Morning                               5.0   10.0     Canada      \n",
       "2   #Fitness #Workout                              20.0   40.0   USA           \n",
       "3   #Travel #Adventure                              8.0   15.0     UK          \n",
       "4   #Cooking #Food                                 12.0   25.0    Australia    \n",
       "\n",
       "   Year  Month  Day  Hour  \n",
       "0  2023      1   15    12  \n",
       "1  2023      1   15     8  \n",
       "2  2023      1   15    15  \n",
       "3  2023      1   15    18  \n",
       "4  2023      1   15    19  "
      ]
     },
     "execution_count": 2,
     "metadata": {},
     "output_type": "execute_result"
    }
   ],
   "source": [
    "df=pd.read_csv('/kaggle/input/sentimentdataset/sentimentdataset.csv')\n",
    "df.head()"
   ]
  },
  {
   "cell_type": "markdown",
   "metadata": {
    "id": "GYUFRWvGHaec"
   },
   "source": [
    "<html>\n",
    "\n",
    "<body>\n",
    "\n",
    "\n",
    "\n",
    "<h1>Column Descriptions</h1>\n",
    "\n",
    "\n",
    "\n",
    "<table>\n",
    "\n",
    "  <tr>\n",
    "\n",
    "    <th>Column Name</th>\n",
    "\n",
    "    <th>Description</th>\n",
    "\n",
    "  </tr>\n",
    "\n",
    "  <tr>\n",
    "\n",
    "    <td>Text</td>\n",
    "\n",
    "    <td>The actual content of the social media post.</td>\n",
    "\n",
    "  </tr>\n",
    "\n",
    "  <tr>\n",
    "\n",
    "    <td>Sentiment</td>\n",
    "\n",
    "    <td>The overall sentiment expressed in the post (positive, negative, or neutral).</td>\n",
    "\n",
    "  </tr>\n",
    "\n",
    "  <tr>\n",
    "\n",
    "    <td>User</td>\n",
    "\n",
    "    <td>The username or identifier of the person who made the post.</td>\n",
    "\n",
    "  </tr>\n",
    "\n",
    "  <tr>\n",
    "\n",
    "    <td>Platform</td>\n",
    "\n",
    "    <td>The social media platform where the post originated (e.g., Twitter, Facebook, Instagram).</td>\n",
    "\n",
    "  </tr>\n",
    "\n",
    "  <tr>\n",
    "\n",
    "    <td>Hashtags</td>\n",
    "\n",
    "    <td>A list or string containing the hashtags used in the post.</td>\n",
    "\n",
    "  </tr>\n",
    "\n",
    "  <tr>\n",
    "\n",
    "    <td>Retweets</td>\n",
    "\n",
    "    <td>The number of times the post was retweeted.</td>\n",
    "\n",
    "  </tr>\n",
    "\n",
    "  <tr>\n",
    "\n",
    "    <td>Likes</td>\n",
    "\n",
    "    <td>The number of likes the post received.</td>\n",
    "\n",
    "  </tr>\n",
    "\n",
    "  <tr>\n",
    "\n",
    "    <td>Country</td>\n",
    "\n",
    "    <td>The country associated with the user who made the post.</td>\n",
    "\n",
    "  </tr>\n",
    "\n",
    "  <tr>\n",
    "\n",
    "    <td>Year</td>\n",
    "\n",
    "    <td>The year the post was made.</td>\n",
    "\n",
    "  </tr>\n",
    "\n",
    "  <tr>\n",
    "\n",
    "    <td>Month</td>\n",
    "\n",
    "    <td>The month the post was made.</td>\n",
    "\n",
    "  </tr>\n",
    "\n",
    "</table>\n",
    "\n",
    "\n",
    "\n",
    "</body>\n",
    "\n",
    "</html>"
   ]
  },
  {
   "cell_type": "markdown",
   "metadata": {
    "id": "WuaMT7r5gcz8"
   },
   "source": [
    "<!DOCTYPE html>\n",
    "\n",
    "\n",
    "\n",
    "<html>\n",
    "\n",
    "\n",
    "\n",
    "<head>\n",
    "\n",
    "\n",
    "\n",
    "</head>\n",
    "\n",
    "\n",
    "\n",
    "<body>\n",
    "\n",
    "\n",
    "\n",
    "\n",
    "\n",
    "\n",
    "\n",
    "<h1>Target Findings</h1>\n",
    "\n",
    "\n",
    "\n",
    "\n",
    "\n",
    "\n",
    "\n",
    "<p>The aim of the work in this notebook is to perform sentiment analysis on a social media dataset and visualize the findings to understand user sentiments, platform usage patterns, and engagement metrics.</p>\n",
    "\n",
    "\n",
    "\n",
    "\n",
    "\n",
    "\n",
    "\n",
    "<h2>Data Preparation and Cleaning</h2>\n",
    "\n",
    "\n",
    "\n",
    "<p>The code begins by importing libraries, mounting Google Drive to access the dataset, and performing initial data cleaning (e.g., removing unnecessary columns, cleaning text data).</p>\n",
    "\n",
    "\n",
    "\n",
    "\n",
    "\n",
    "\n",
    "\n",
    "<h2>Sentiment Analysis</h2>\n",
    "\n",
    "\n",
    "\n",
    "<p>The core of the analysis is likely performed using the <code>clean()</code> function and possibly other techniques (not fully defined in the provided code), with the goal of classifying social media posts into positive, negative, or neutral sentiments.</p>\n",
    "\n",
    "\n",
    "\n",
    "\n",
    "\n",
    "\n",
    "\n",
    "<h2>Visualization and Insights</h2>\n",
    "\n",
    "\n",
    "\n",
    "<ul>\n",
    "\n",
    "\n",
    "\n",
    "  <li>Visualizing the distribution of sentiments across different social media platforms.</li>\n",
    "\n",
    "\n",
    "\n",
    "  <li>Identifying the most prevalent sentiment in the dataset.</li>\n",
    "\n",
    "\n",
    "\n",
    "  <li>Understanding the distribution of platform usage across countries.</li>\n",
    "\n",
    "\n",
    "\n",
    "  <li>Exploring the correlation between retweets, likes, and potentially other engagement metrics.</li>\n",
    "\n",
    "\n",
    "\n",
    "  <li>Analyzing how these metrics might change over time (using a 3D scatter plot with the year as a dimension).</li>\n",
    "\n",
    "\n",
    "\n",
    "</ul>\n",
    "\n",
    "\n",
    "\n",
    "\n",
    "\n",
    "\n",
    "\n",
    "<h2>Overall Goal</h2>\n",
    "\n",
    "\n",
    "\n",
    "<p>By combining sentiment analysis with data visualization, the work aims to gain insights into the social media landscape and user behavior, possibly to inform marketing strategies, brand monitoring, or other relevant applications.</p>\n",
    "\n",
    "\n",
    "\n",
    "\n",
    "\n",
    "\n",
    "\n",
    "</body>\n",
    "\n",
    "\n",
    "\n",
    "</html>"
   ]
  },
  {
   "cell_type": "markdown",
   "metadata": {
    "id": "umgJhr86wigh"
   },
   "source": [
    "## Removing Unnamed Columns"
   ]
  },
  {
   "cell_type": "code",
   "execution_count": 6,
   "metadata": {
    "execution": {
     "iopub.execute_input": "2024-12-09T07:28:56.161813Z",
     "iopub.status.busy": "2024-12-09T07:28:56.161430Z",
     "iopub.status.idle": "2024-12-09T07:28:56.167286Z",
     "shell.execute_reply": "2024-12-09T07:28:56.166235Z",
     "shell.execute_reply.started": "2024-12-09T07:28:56.161780Z"
    },
    "executionInfo": {
     "elapsed": 763,
     "status": "ok",
     "timestamp": 1733728119496,
     "user": {
      "displayName": "66_Rishij Manna",
      "userId": "01245000441612451756"
     },
     "user_tz": -330
    },
    "id": "GCn9lt43m_Qw",
    "trusted": true
   },
   "outputs": [],
   "source": [
    "unnamed_cols = [col for col in df.columns if 'Unnamed' in col]\n",
    "df.drop(columns=unnamed_cols, inplace=True)"
   ]
  },
  {
   "cell_type": "code",
   "execution_count": 7,
   "metadata": {
    "execution": {
     "iopub.execute_input": "2024-12-09T07:28:58.736810Z",
     "iopub.status.busy": "2024-12-09T07:28:58.736416Z",
     "iopub.status.idle": "2024-12-09T07:28:58.752412Z",
     "shell.execute_reply": "2024-12-09T07:28:58.751423Z",
     "shell.execute_reply.started": "2024-12-09T07:28:58.736774Z"
    },
    "executionInfo": {
     "elapsed": 1098,
     "status": "ok",
     "timestamp": 1733728120592,
     "user": {
      "displayName": "66_Rishij Manna",
      "userId": "01245000441612451756"
     },
     "user_tz": -330
    },
    "id": "jXQRUn0AOBP8",
    "outputId": "e9b19f41-f7f1-48c2-876c-64b2b855adfb",
    "trusted": true
   },
   "outputs": [
    {
     "data": {
      "text/html": [
       "<div>\n",
       "<style scoped>\n",
       "    .dataframe tbody tr th:only-of-type {\n",
       "        vertical-align: middle;\n",
       "    }\n",
       "\n",
       "    .dataframe tbody tr th {\n",
       "        vertical-align: top;\n",
       "    }\n",
       "\n",
       "    .dataframe thead th {\n",
       "        text-align: right;\n",
       "    }\n",
       "</style>\n",
       "<table border=\"1\" class=\"dataframe\">\n",
       "  <thead>\n",
       "    <tr style=\"text-align: right;\">\n",
       "      <th></th>\n",
       "      <th>Text</th>\n",
       "      <th>Sentiment</th>\n",
       "      <th>Timestamp</th>\n",
       "      <th>User</th>\n",
       "      <th>Platform</th>\n",
       "      <th>Hashtags</th>\n",
       "      <th>Retweets</th>\n",
       "      <th>Likes</th>\n",
       "      <th>Country</th>\n",
       "      <th>Year</th>\n",
       "      <th>Month</th>\n",
       "      <th>Day</th>\n",
       "      <th>Hour</th>\n",
       "    </tr>\n",
       "  </thead>\n",
       "  <tbody>\n",
       "    <tr>\n",
       "      <th>0</th>\n",
       "      <td>Enjoying a beautiful day at the park!        ...</td>\n",
       "      <td>Positive</td>\n",
       "      <td>2023-01-15 12:30:00</td>\n",
       "      <td>User123</td>\n",
       "      <td>Twitter</td>\n",
       "      <td>#Nature #Park</td>\n",
       "      <td>15.0</td>\n",
       "      <td>30.0</td>\n",
       "      <td>USA</td>\n",
       "      <td>2023</td>\n",
       "      <td>1</td>\n",
       "      <td>15</td>\n",
       "      <td>12</td>\n",
       "    </tr>\n",
       "    <tr>\n",
       "      <th>1</th>\n",
       "      <td>Traffic was terrible this morning.           ...</td>\n",
       "      <td>Negative</td>\n",
       "      <td>2023-01-15 08:45:00</td>\n",
       "      <td>CommuterX</td>\n",
       "      <td>Twitter</td>\n",
       "      <td>#Traffic #Morning</td>\n",
       "      <td>5.0</td>\n",
       "      <td>10.0</td>\n",
       "      <td>Canada</td>\n",
       "      <td>2023</td>\n",
       "      <td>1</td>\n",
       "      <td>15</td>\n",
       "      <td>8</td>\n",
       "    </tr>\n",
       "    <tr>\n",
       "      <th>2</th>\n",
       "      <td>Just finished an amazing workout! 💪          ...</td>\n",
       "      <td>Positive</td>\n",
       "      <td>2023-01-15 15:45:00</td>\n",
       "      <td>FitnessFan</td>\n",
       "      <td>Instagram</td>\n",
       "      <td>#Fitness #Workout</td>\n",
       "      <td>20.0</td>\n",
       "      <td>40.0</td>\n",
       "      <td>USA</td>\n",
       "      <td>2023</td>\n",
       "      <td>1</td>\n",
       "      <td>15</td>\n",
       "      <td>15</td>\n",
       "    </tr>\n",
       "    <tr>\n",
       "      <th>3</th>\n",
       "      <td>Excited about the upcoming weekend getaway!  ...</td>\n",
       "      <td>Positive</td>\n",
       "      <td>2023-01-15 18:20:00</td>\n",
       "      <td>AdventureX</td>\n",
       "      <td>Facebook</td>\n",
       "      <td>#Travel #Adventure</td>\n",
       "      <td>8.0</td>\n",
       "      <td>15.0</td>\n",
       "      <td>UK</td>\n",
       "      <td>2023</td>\n",
       "      <td>1</td>\n",
       "      <td>15</td>\n",
       "      <td>18</td>\n",
       "    </tr>\n",
       "    <tr>\n",
       "      <th>4</th>\n",
       "      <td>Trying out a new recipe for dinner tonight.  ...</td>\n",
       "      <td>Neutral</td>\n",
       "      <td>2023-01-15 19:55:00</td>\n",
       "      <td>ChefCook</td>\n",
       "      <td>Instagram</td>\n",
       "      <td>#Cooking #Food</td>\n",
       "      <td>12.0</td>\n",
       "      <td>25.0</td>\n",
       "      <td>Australia</td>\n",
       "      <td>2023</td>\n",
       "      <td>1</td>\n",
       "      <td>15</td>\n",
       "      <td>19</td>\n",
       "    </tr>\n",
       "  </tbody>\n",
       "</table>\n",
       "</div>"
      ],
      "text/plain": [
       "                                                Text    Sentiment  \\\n",
       "0   Enjoying a beautiful day at the park!        ...   Positive     \n",
       "1   Traffic was terrible this morning.           ...   Negative     \n",
       "2   Just finished an amazing workout! 💪          ...   Positive     \n",
       "3   Excited about the upcoming weekend getaway!  ...   Positive     \n",
       "4   Trying out a new recipe for dinner tonight.  ...   Neutral      \n",
       "\n",
       "             Timestamp            User     Platform  \\\n",
       "0  2023-01-15 12:30:00   User123          Twitter     \n",
       "1  2023-01-15 08:45:00   CommuterX        Twitter     \n",
       "2  2023-01-15 15:45:00   FitnessFan      Instagram    \n",
       "3  2023-01-15 18:20:00   AdventureX       Facebook    \n",
       "4  2023-01-15 19:55:00   ChefCook        Instagram    \n",
       "\n",
       "                                     Hashtags  Retweets  Likes       Country  \\\n",
       "0   #Nature #Park                                  15.0   30.0     USA         \n",
       "1   #Traffic #Morning                               5.0   10.0     Canada      \n",
       "2   #Fitness #Workout                              20.0   40.0   USA           \n",
       "3   #Travel #Adventure                              8.0   15.0     UK          \n",
       "4   #Cooking #Food                                 12.0   25.0    Australia    \n",
       "\n",
       "   Year  Month  Day  Hour  \n",
       "0  2023      1   15    12  \n",
       "1  2023      1   15     8  \n",
       "2  2023      1   15    15  \n",
       "3  2023      1   15    18  \n",
       "4  2023      1   15    19  "
      ]
     },
     "execution_count": 7,
     "metadata": {},
     "output_type": "execute_result"
    }
   ],
   "source": [
    "df.head()"
   ]
  },
  {
   "cell_type": "code",
   "execution_count": 8,
   "metadata": {
    "execution": {
     "iopub.execute_input": "2024-12-09T07:29:01.857144Z",
     "iopub.status.busy": "2024-12-09T07:29:01.856476Z",
     "iopub.status.idle": "2024-12-09T07:29:01.878277Z",
     "shell.execute_reply": "2024-12-09T07:29:01.877445Z",
     "shell.execute_reply.started": "2024-12-09T07:29:01.857109Z"
    },
    "executionInfo": {
     "elapsed": 43,
     "status": "ok",
     "timestamp": 1733728120592,
     "user": {
      "displayName": "66_Rishij Manna",
      "userId": "01245000441612451756"
     },
     "user_tz": -330
    },
    "id": "bg4m4QfjOESh",
    "outputId": "c7140175-681b-4f52-d422-78efa887676f",
    "trusted": true
   },
   "outputs": [
    {
     "name": "stdout",
     "output_type": "stream",
     "text": [
      "<class 'pandas.core.frame.DataFrame'>\n",
      "RangeIndex: 732 entries, 0 to 731\n",
      "Data columns (total 13 columns):\n",
      " #   Column     Non-Null Count  Dtype  \n",
      "---  ------     --------------  -----  \n",
      " 0   Text       732 non-null    object \n",
      " 1   Sentiment  732 non-null    object \n",
      " 2   Timestamp  732 non-null    object \n",
      " 3   User       732 non-null    object \n",
      " 4   Platform   732 non-null    object \n",
      " 5   Hashtags   732 non-null    object \n",
      " 6   Retweets   732 non-null    float64\n",
      " 7   Likes      732 non-null    float64\n",
      " 8   Country    732 non-null    object \n",
      " 9   Year       732 non-null    int64  \n",
      " 10  Month      732 non-null    int64  \n",
      " 11  Day        732 non-null    int64  \n",
      " 12  Hour       732 non-null    int64  \n",
      "dtypes: float64(2), int64(4), object(7)\n",
      "memory usage: 74.5+ KB\n"
     ]
    }
   ],
   "source": [
    "df.info()"
   ]
  },
  {
   "cell_type": "code",
   "execution_count": 9,
   "metadata": {
    "execution": {
     "iopub.execute_input": "2024-12-09T07:29:05.576912Z",
     "iopub.status.busy": "2024-12-09T07:29:05.576524Z",
     "iopub.status.idle": "2024-12-09T07:29:05.583285Z",
     "shell.execute_reply": "2024-12-09T07:29:05.582268Z",
     "shell.execute_reply.started": "2024-12-09T07:29:05.576879Z"
    },
    "executionInfo": {
     "elapsed": 41,
     "status": "ok",
     "timestamp": 1733728120592,
     "user": {
      "displayName": "66_Rishij Manna",
      "userId": "01245000441612451756"
     },
     "user_tz": -330
    },
    "id": "IcZEF_tMObOq",
    "outputId": "8b00ccf2-83a2-4df6-afe9-10f4643e6208",
    "trusted": true
   },
   "outputs": [
    {
     "data": {
      "text/plain": [
       "(732, 13)"
      ]
     },
     "execution_count": 9,
     "metadata": {},
     "output_type": "execute_result"
    }
   ],
   "source": [
    "df.shape"
   ]
  },
  {
   "cell_type": "code",
   "execution_count": 10,
   "metadata": {
    "execution": {
     "iopub.execute_input": "2024-12-09T07:29:08.619201Z",
     "iopub.status.busy": "2024-12-09T07:29:08.618310Z",
     "iopub.status.idle": "2024-12-09T07:29:08.626710Z",
     "shell.execute_reply": "2024-12-09T07:29:08.625726Z",
     "shell.execute_reply.started": "2024-12-09T07:29:08.619163Z"
    },
    "executionInfo": {
     "elapsed": 40,
     "status": "ok",
     "timestamp": 1733728120592,
     "user": {
      "displayName": "66_Rishij Manna",
      "userId": "01245000441612451756"
     },
     "user_tz": -330
    },
    "id": "hch8tK4zOfLb",
    "outputId": "f8ba11bc-0839-45ec-d2ac-edcdb248e4dd",
    "trusted": true
   },
   "outputs": [
    {
     "data": {
      "text/plain": [
       "Text         0\n",
       "Sentiment    0\n",
       "Timestamp    0\n",
       "User         0\n",
       "Platform     0\n",
       "Hashtags     0\n",
       "Retweets     0\n",
       "Likes        0\n",
       "Country      0\n",
       "Year         0\n",
       "Month        0\n",
       "Day          0\n",
       "Hour         0\n",
       "dtype: int64"
      ]
     },
     "execution_count": 10,
     "metadata": {},
     "output_type": "execute_result"
    }
   ],
   "source": [
    "#searching for null values\n",
    "df.isnull().sum()"
   ]
  },
  {
   "cell_type": "markdown",
   "metadata": {
    "id": "9QyY6PmMwaeU"
   },
   "source": [
    "### **Unique Values**"
   ]
  },
  {
   "cell_type": "code",
   "execution_count": 11,
   "metadata": {
    "execution": {
     "iopub.execute_input": "2024-12-09T07:29:16.536869Z",
     "iopub.status.busy": "2024-12-09T07:29:16.536386Z",
     "iopub.status.idle": "2024-12-09T07:29:16.545240Z",
     "shell.execute_reply": "2024-12-09T07:29:16.544234Z",
     "shell.execute_reply.started": "2024-12-09T07:29:16.536835Z"
    },
    "executionInfo": {
     "elapsed": 39,
     "status": "ok",
     "timestamp": 1733728120592,
     "user": {
      "displayName": "66_Rishij Manna",
      "userId": "01245000441612451756"
     },
     "user_tz": -330
    },
    "id": "f8IHBSYpPMVf",
    "outputId": "13d2e5f0-1a99-413e-eb25-35a5ced7e842",
    "trusted": true
   },
   "outputs": [
    {
     "name": "stdout",
     "output_type": "stream",
     "text": [
      "Text: 707 distinct values\n",
      "Sentiment: 279 distinct values\n",
      "Timestamp: 683 distinct values\n",
      "User: 685 distinct values\n",
      "Platform: 4 distinct values\n",
      "Hashtags: 697 distinct values\n",
      "Retweets: 26 distinct values\n",
      "Likes: 38 distinct values\n",
      "Country: 115 distinct values\n",
      "Year: 14 distinct values\n",
      "Month: 12 distinct values\n",
      "Day: 31 distinct values\n",
      "Hour: 22 distinct values\n"
     ]
    }
   ],
   "source": [
    "for column in df.columns:\n",
    "    num_distinct_values = len(df[column].unique())\n",
    "    print(f\"{column}: {num_distinct_values} distinct values\")"
   ]
  },
  {
   "cell_type": "markdown",
   "metadata": {
    "id": "pbThqkZByauI"
   },
   "source": [
    "### Dropping Useless Columns"
   ]
  },
  {
   "cell_type": "code",
   "execution_count": 12,
   "metadata": {
    "execution": {
     "iopub.execute_input": "2024-12-09T07:29:20.176796Z",
     "iopub.status.busy": "2024-12-09T07:29:20.176406Z",
     "iopub.status.idle": "2024-12-09T07:29:20.182126Z",
     "shell.execute_reply": "2024-12-09T07:29:20.181150Z",
     "shell.execute_reply.started": "2024-12-09T07:29:20.176763Z"
    },
    "executionInfo": {
     "elapsed": 38,
     "status": "ok",
     "timestamp": 1733728120592,
     "user": {
      "displayName": "66_Rishij Manna",
      "userId": "01245000441612451756"
     },
     "user_tz": -330
    },
    "id": "gFTUHEiCQT5N",
    "trusted": true
   },
   "outputs": [],
   "source": [
    "df = df.drop(columns=['Day', 'Hour','Timestamp'])"
   ]
  },
  {
   "cell_type": "code",
   "execution_count": 13,
   "metadata": {
    "execution": {
     "iopub.execute_input": "2024-12-09T07:29:22.856946Z",
     "iopub.status.busy": "2024-12-09T07:29:22.856242Z",
     "iopub.status.idle": "2024-12-09T07:29:22.869723Z",
     "shell.execute_reply": "2024-12-09T07:29:22.868701Z",
     "shell.execute_reply.started": "2024-12-09T07:29:22.856910Z"
    },
    "executionInfo": {
     "elapsed": 37,
     "status": "ok",
     "timestamp": 1733728120592,
     "user": {
      "displayName": "66_Rishij Manna",
      "userId": "01245000441612451756"
     },
     "user_tz": -330
    },
    "id": "uCw_a1CVkTpH",
    "outputId": "442f25d2-becf-44ec-e4f5-77d541bfffd5",
    "trusted": true
   },
   "outputs": [
    {
     "data": {
      "text/html": [
       "<div>\n",
       "<style scoped>\n",
       "    .dataframe tbody tr th:only-of-type {\n",
       "        vertical-align: middle;\n",
       "    }\n",
       "\n",
       "    .dataframe tbody tr th {\n",
       "        vertical-align: top;\n",
       "    }\n",
       "\n",
       "    .dataframe thead th {\n",
       "        text-align: right;\n",
       "    }\n",
       "</style>\n",
       "<table border=\"1\" class=\"dataframe\">\n",
       "  <thead>\n",
       "    <tr style=\"text-align: right;\">\n",
       "      <th></th>\n",
       "      <th>Text</th>\n",
       "      <th>Sentiment</th>\n",
       "      <th>User</th>\n",
       "      <th>Platform</th>\n",
       "      <th>Hashtags</th>\n",
       "      <th>Retweets</th>\n",
       "      <th>Likes</th>\n",
       "      <th>Country</th>\n",
       "      <th>Year</th>\n",
       "      <th>Month</th>\n",
       "    </tr>\n",
       "  </thead>\n",
       "  <tbody>\n",
       "    <tr>\n",
       "      <th>0</th>\n",
       "      <td>Enjoying a beautiful day at the park!        ...</td>\n",
       "      <td>Positive</td>\n",
       "      <td>User123</td>\n",
       "      <td>Twitter</td>\n",
       "      <td>#Nature #Park</td>\n",
       "      <td>15.0</td>\n",
       "      <td>30.0</td>\n",
       "      <td>USA</td>\n",
       "      <td>2023</td>\n",
       "      <td>1</td>\n",
       "    </tr>\n",
       "    <tr>\n",
       "      <th>1</th>\n",
       "      <td>Traffic was terrible this morning.           ...</td>\n",
       "      <td>Negative</td>\n",
       "      <td>CommuterX</td>\n",
       "      <td>Twitter</td>\n",
       "      <td>#Traffic #Morning</td>\n",
       "      <td>5.0</td>\n",
       "      <td>10.0</td>\n",
       "      <td>Canada</td>\n",
       "      <td>2023</td>\n",
       "      <td>1</td>\n",
       "    </tr>\n",
       "    <tr>\n",
       "      <th>2</th>\n",
       "      <td>Just finished an amazing workout! 💪          ...</td>\n",
       "      <td>Positive</td>\n",
       "      <td>FitnessFan</td>\n",
       "      <td>Instagram</td>\n",
       "      <td>#Fitness #Workout</td>\n",
       "      <td>20.0</td>\n",
       "      <td>40.0</td>\n",
       "      <td>USA</td>\n",
       "      <td>2023</td>\n",
       "      <td>1</td>\n",
       "    </tr>\n",
       "    <tr>\n",
       "      <th>3</th>\n",
       "      <td>Excited about the upcoming weekend getaway!  ...</td>\n",
       "      <td>Positive</td>\n",
       "      <td>AdventureX</td>\n",
       "      <td>Facebook</td>\n",
       "      <td>#Travel #Adventure</td>\n",
       "      <td>8.0</td>\n",
       "      <td>15.0</td>\n",
       "      <td>UK</td>\n",
       "      <td>2023</td>\n",
       "      <td>1</td>\n",
       "    </tr>\n",
       "    <tr>\n",
       "      <th>4</th>\n",
       "      <td>Trying out a new recipe for dinner tonight.  ...</td>\n",
       "      <td>Neutral</td>\n",
       "      <td>ChefCook</td>\n",
       "      <td>Instagram</td>\n",
       "      <td>#Cooking #Food</td>\n",
       "      <td>12.0</td>\n",
       "      <td>25.0</td>\n",
       "      <td>Australia</td>\n",
       "      <td>2023</td>\n",
       "      <td>1</td>\n",
       "    </tr>\n",
       "  </tbody>\n",
       "</table>\n",
       "</div>"
      ],
      "text/plain": [
       "                                                Text    Sentiment  \\\n",
       "0   Enjoying a beautiful day at the park!        ...   Positive     \n",
       "1   Traffic was terrible this morning.           ...   Negative     \n",
       "2   Just finished an amazing workout! 💪          ...   Positive     \n",
       "3   Excited about the upcoming weekend getaway!  ...   Positive     \n",
       "4   Trying out a new recipe for dinner tonight.  ...   Neutral      \n",
       "\n",
       "             User     Platform                                    Hashtags  \\\n",
       "0   User123          Twitter     #Nature #Park                               \n",
       "1   CommuterX        Twitter     #Traffic #Morning                           \n",
       "2   FitnessFan      Instagram    #Fitness #Workout                           \n",
       "3   AdventureX       Facebook    #Travel #Adventure                          \n",
       "4   ChefCook        Instagram    #Cooking #Food                              \n",
       "\n",
       "   Retweets  Likes       Country  Year  Month  \n",
       "0      15.0   30.0     USA        2023      1  \n",
       "1       5.0   10.0     Canada     2023      1  \n",
       "2      20.0   40.0   USA          2023      1  \n",
       "3       8.0   15.0     UK         2023      1  \n",
       "4      12.0   25.0    Australia   2023      1  "
      ]
     },
     "execution_count": 13,
     "metadata": {},
     "output_type": "execute_result"
    }
   ],
   "source": [
    "df.head()"
   ]
  },
  {
   "cell_type": "code",
   "execution_count": 14,
   "metadata": {
    "execution": {
     "iopub.execute_input": "2024-12-09T07:29:32.276742Z",
     "iopub.status.busy": "2024-12-09T07:29:32.276361Z",
     "iopub.status.idle": "2024-12-09T07:29:32.282993Z",
     "shell.execute_reply": "2024-12-09T07:29:32.282088Z",
     "shell.execute_reply.started": "2024-12-09T07:29:32.276708Z"
    },
    "executionInfo": {
     "elapsed": 37,
     "status": "ok",
     "timestamp": 1733728120592,
     "user": {
      "displayName": "66_Rishij Manna",
      "userId": "01245000441612451756"
     },
     "user_tz": -330
    },
    "id": "ru0p2k5LQboU",
    "outputId": "29f2aad8-ae54-41cb-a354-70b3894e4a49",
    "trusted": true
   },
   "outputs": [
    {
     "data": {
      "text/plain": [
       "Index(['Text', 'Sentiment', 'User', 'Platform', 'Hashtags', 'Retweets',\n",
       "       'Likes', 'Country', 'Year', 'Month'],\n",
       "      dtype='object')"
      ]
     },
     "execution_count": 14,
     "metadata": {},
     "output_type": "execute_result"
    }
   ],
   "source": [
    "df.columns"
   ]
  },
  {
   "cell_type": "markdown",
   "metadata": {
    "id": "utgOEXjgcy3N"
   },
   "source": [
    "###  Remove leading and trailing whitespaces from each column"
   ]
  },
  {
   "cell_type": "code",
   "execution_count": 15,
   "metadata": {
    "execution": {
     "iopub.execute_input": "2024-12-09T07:29:35.697709Z",
     "iopub.status.busy": "2024-12-09T07:29:35.696833Z",
     "iopub.status.idle": "2024-12-09T07:29:35.707262Z",
     "shell.execute_reply": "2024-12-09T07:29:35.706326Z",
     "shell.execute_reply.started": "2024-12-09T07:29:35.697640Z"
    },
    "executionInfo": {
     "elapsed": 35,
     "status": "ok",
     "timestamp": 1733728120592,
     "user": {
      "displayName": "66_Rishij Manna",
      "userId": "01245000441612451756"
     },
     "user_tz": -330
    },
    "id": "gW_RnVsEctTt",
    "trusted": true
   },
   "outputs": [],
   "source": [
    "for column in df.select_dtypes(include=['object']).columns:\n",
    "    df[column] = df[column].str.strip()"
   ]
  },
  {
   "cell_type": "markdown",
   "metadata": {
    "id": "OOHk4yG8mDA9"
   },
   "source": [
    "Converting the number format to name of month format in the 'Month' column for better understanding"
   ]
  },
  {
   "cell_type": "code",
   "execution_count": 16,
   "metadata": {
    "execution": {
     "iopub.execute_input": "2024-12-09T07:29:38.617280Z",
     "iopub.status.busy": "2024-12-09T07:29:38.616615Z",
     "iopub.status.idle": "2024-12-09T07:29:38.623817Z",
     "shell.execute_reply": "2024-12-09T07:29:38.622710Z",
     "shell.execute_reply.started": "2024-12-09T07:29:38.617243Z"
    },
    "executionInfo": {
     "elapsed": 35,
     "status": "ok",
     "timestamp": 1733728120592,
     "user": {
      "displayName": "66_Rishij Manna",
      "userId": "01245000441612451756"
     },
     "user_tz": -330
    },
    "id": "XanhUXSzzr2s",
    "trusted": true
   },
   "outputs": [],
   "source": [
    "month_mapping = {\n",
    "\n",
    "    1: 'Jan',2: 'Feb',3: 'Mar',4: 'Apr',5: 'May',6: 'Jun',7: 'Jul',8: 'Aug',9: 'Sept',10: 'Oct',11: 'Nov',12: 'Dec'\n",
    "}\n",
    "df['Month'] = df['Month'].map(month_mapping)\n",
    "\n",
    "df['Month'] = df['Month'].astype('object')"
   ]
  },
  {
   "cell_type": "markdown",
   "metadata": {
    "id": "u9UH6io-JKRa"
   },
   "source": [
    "### Value Counts of unique value for each and every column"
   ]
  },
  {
   "cell_type": "code",
   "execution_count": 17,
   "metadata": {
    "execution": {
     "iopub.execute_input": "2024-12-09T07:29:42.216603Z",
     "iopub.status.busy": "2024-12-09T07:29:42.216245Z",
     "iopub.status.idle": "2024-12-09T07:29:42.238139Z",
     "shell.execute_reply": "2024-12-09T07:29:42.237214Z",
     "shell.execute_reply.started": "2024-12-09T07:29:42.216571Z"
    },
    "executionInfo": {
     "elapsed": 35,
     "status": "ok",
     "timestamp": 1733728120592,
     "user": {
      "displayName": "66_Rishij Manna",
      "userId": "01245000441612451756"
     },
     "user_tz": -330
    },
    "id": "CljPy3vBtD49",
    "outputId": "d2da1421-010e-431d-a05d-8a3cc5248ceb",
    "trusted": true
   },
   "outputs": [
    {
     "name": "stdout",
     "output_type": "stream",
     "text": [
      "Value counts for : Text\n",
      "Text\n",
      "A compassionate rain, tears of empathy falling gently, nurturing the seeds of kindness in the garden of human connections.    3\n",
      "Proudly scaling the peaks of achievement, a mountaineer conquering challenges and planting the flag of success.               3\n",
      "Embraced by the hopeful dawn, a gardener sowing seeds of optimism, tending to the blooms of a brighter tomorrow.              3\n",
      "A playful escapade in the carnival of life, carousel laughter and cotton candy dreams swirling in the joyous atmosphere.      3\n",
      "Whispers of inspiration from the rustling leaves in a serene forest.                                                          2\n",
      "                                                                                                                             ..\n",
      "A journey into the past, flipping through the pages of an old diary, nostalgia taking the lead.                               1\n",
      "Ambivalence clouding decisions, caught in the crossroads of conflicting emotions.                                             1\n",
      "Embracing imperfections, finding acceptance in the mosaic of life's beautiful chaos.                                          1\n",
      "Determination as the driving force, propelling me forward on the path to extraordinary achievements.                          1\n",
      "Organizing a virtual talent show during challenging times, bringing smiles to classmates' faces!                              1\n",
      "Name: count, Length: 706, dtype: int64\n",
      "\n",
      "\n",
      "Value counts for : Sentiment\n",
      "Sentiment\n",
      "Positive          45\n",
      "Joy               44\n",
      "Excitement        37\n",
      "Contentment       19\n",
      "Neutral           18\n",
      "                  ..\n",
      "LostLove           1\n",
      "EmotionalStorm     1\n",
      "Suffering          1\n",
      "Bittersweet        1\n",
      "Intrigue           1\n",
      "Name: count, Length: 191, dtype: int64\n",
      "\n",
      "\n",
      "Value counts for : User\n",
      "User\n",
      "ForestDreamer                         3\n",
      "CarnivalDreamer                       3\n",
      "WinterWarmth                          3\n",
      "WindWhisperer                         3\n",
      "NatureAdmirer                         3\n",
      "                                     ..\n",
      "ResilientFortress                     1\n",
      "CanvasDreamer                         1\n",
      "DiaryExplorer                         1\n",
      "CrossroadsTraveler                    1\n",
      "VirtualTalentShowSuccessHighSchool    1\n",
      "Name: count, Length: 670, dtype: int64\n",
      "\n",
      "\n",
      "Value counts for : Platform\n",
      "Platform\n",
      "Instagram    258\n",
      "Twitter      243\n",
      "Facebook     231\n",
      "Name: count, dtype: int64\n",
      "\n",
      "\n",
      "Value counts for : Hashtags\n",
      "Hashtags\n",
      "#Playful #CarnivalEscapade                     3\n",
      "#Hopeful #SeedsOfOptimism                      3\n",
      "#Proud #ScalingPeaks                           3\n",
      "#Compassionate #TearsOfEmpathy                 3\n",
      "#Numbness #EmotionalShield                     2\n",
      "                                              ..\n",
      "#Curiosity #SeekerOfKnowledge                  1\n",
      "#Confusion #LabyrinthOfThoughts                1\n",
      "#Melancholy #WistfulYearning                   1\n",
      "#Nostalgia #PhotoAlbumStories                  1\n",
      "#VirtualEntertainment #HighSchoolPositivity    1\n",
      "Name: count, Length: 692, dtype: int64\n",
      "\n",
      "\n",
      "Value counts for : Retweets\n",
      "Retweets\n",
      "22.0    106\n",
      "18.0     93\n",
      "25.0     75\n",
      "15.0     74\n",
      "20.0     67\n",
      "30.0     55\n",
      "28.0     50\n",
      "35.0     41\n",
      "12.0     29\n",
      "10.0     21\n",
      "40.0     16\n",
      "14.0     15\n",
      "23.0     12\n",
      "8.0      12\n",
      "21.0     10\n",
      "19.0      9\n",
      "16.0      9\n",
      "24.0      8\n",
      "7.0       7\n",
      "13.0      5\n",
      "17.0      5\n",
      "26.0      5\n",
      "9.0       3\n",
      "5.0       2\n",
      "27.0      2\n",
      "11.0      1\n",
      "Name: count, dtype: int64\n",
      "\n",
      "\n",
      "Value counts for : Likes\n",
      "Likes\n",
      "45.0    94\n",
      "35.0    77\n",
      "50.0    75\n",
      "30.0    73\n",
      "40.0    62\n",
      "60.0    55\n",
      "55.0    50\n",
      "70.0    41\n",
      "25.0    23\n",
      "20.0    21\n",
      "15.0    17\n",
      "80.0    16\n",
      "36.0    16\n",
      "28.0    15\n",
      "44.0    10\n",
      "48.0     9\n",
      "42.0     9\n",
      "32.0     8\n",
      "38.0     7\n",
      "24.0     6\n",
      "46.0     6\n",
      "39.0     6\n",
      "43.0     6\n",
      "26.0     5\n",
      "34.0     4\n",
      "18.0     3\n",
      "37.0     3\n",
      "10.0     2\n",
      "16.0     2\n",
      "52.0     2\n",
      "41.0     2\n",
      "27.0     1\n",
      "51.0     1\n",
      "49.0     1\n",
      "33.0     1\n",
      "31.0     1\n",
      "22.0     1\n",
      "47.0     1\n",
      "Name: count, dtype: int64\n",
      "\n",
      "\n",
      "Value counts for : Country\n",
      "Country\n",
      "USA               188\n",
      "UK                143\n",
      "Canada            135\n",
      "Australia          75\n",
      "India              70\n",
      "Brazil             17\n",
      "France             16\n",
      "Japan              15\n",
      "Germany            14\n",
      "Italy              11\n",
      "Spain               6\n",
      "South Africa        6\n",
      "Greece              5\n",
      "Netherlands         4\n",
      "Switzerland         3\n",
      "Portugal            2\n",
      "Austria             2\n",
      "Belgium             2\n",
      "Denmark             2\n",
      "Czech Republic      2\n",
      "Sweden              2\n",
      "Colombia            1\n",
      "Scotland            1\n",
      "Kenya               1\n",
      "Jamaica             1\n",
      "Ireland             1\n",
      "China               1\n",
      "Norway              1\n",
      "Cambodia            1\n",
      "Maldives            1\n",
      "Peru                1\n",
      "Jordan              1\n",
      "Thailand            1\n",
      "Name: count, dtype: int64\n",
      "\n",
      "\n",
      "Value counts for : Year\n",
      "Year\n",
      "2023    289\n",
      "2019     73\n",
      "2020     69\n",
      "2021     63\n",
      "2022     63\n",
      "2018     56\n",
      "2017     43\n",
      "2016     38\n",
      "2015     19\n",
      "2011      4\n",
      "2012      4\n",
      "2013      4\n",
      "2014      4\n",
      "2010      3\n",
      "Name: count, dtype: int64\n",
      "\n",
      "\n",
      "Value counts for : Month\n",
      "Month\n",
      "Feb     85\n",
      "Jan     82\n",
      "Aug     78\n",
      "Sept    77\n",
      "Jun     71\n",
      "Jul     62\n",
      "Apr     51\n",
      "Nov     49\n",
      "Oct     48\n",
      "May     46\n",
      "Mar     44\n",
      "Dec     39\n",
      "Name: count, dtype: int64\n",
      "\n",
      "\n"
     ]
    }
   ],
   "source": [
    "for column in df.columns:\n",
    "\n",
    "    print(\"Value counts for :\",column)\n",
    "    print(df[column].value_counts())\n",
    "    print(\"\\n\")"
   ]
  },
  {
   "cell_type": "markdown",
   "metadata": {
    "id": "BgbwmIYFBmPf"
   },
   "source": [
    "# VISUALIZATION"
   ]
  },
  {
   "cell_type": "markdown",
   "metadata": {
    "id": "VOLfqDNYM73r"
   },
   "source": [
    "### <font color=red> 1. Distribution of Sentiments on basis of platform"
   ]
  },
  {
   "cell_type": "code",
   "execution_count": 18,
   "metadata": {
    "execution": {
     "iopub.execute_input": "2024-12-09T07:29:48.941826Z",
     "iopub.status.busy": "2024-12-09T07:29:48.941450Z",
     "iopub.status.idle": "2024-12-09T07:30:12.709024Z",
     "shell.execute_reply": "2024-12-09T07:30:12.708111Z",
     "shell.execute_reply.started": "2024-12-09T07:29:48.941792Z"
    },
    "executionInfo": {
     "elapsed": 9050,
     "status": "ok",
     "timestamp": 1733728129608,
     "user": {
      "displayName": "66_Rishij Manna",
      "userId": "01245000441612451756"
     },
     "user_tz": -330
    },
    "id": "SKoqBHSdh1sW",
    "outputId": "f86135be-ef42-4590-8e00-442ec1f69a58",
    "trusted": true
   },
   "outputs": [
    {
     "name": "stdout",
     "output_type": "stream",
     "text": [
      "Enter the range of sentiments to display (e.g., 1-3):  1-15\n"
     ]
    },
    {
     "name": "stdout",
     "output_type": "stream",
     "text": [
      "Enter Platform Name with ( , ) without space if you want multiple platforms together\n"
     ]
    },
    {
     "name": "stdout",
     "output_type": "stream",
     "text": [
      "Enter the platform(s) to display: Instagram,Facebook,Twitter'):  Instagram,Facebook\n"
     ]
    },
    {
     "data": {
      "text/html": [
       "        <script type=\"text/javascript\">\n",
       "        window.PlotlyConfig = {MathJaxConfig: 'local'};\n",
       "        if (window.MathJax && window.MathJax.Hub && window.MathJax.Hub.Config) {window.MathJax.Hub.Config({SVG: {font: \"STIX-Web\"}});}\n",
       "        if (typeof require !== 'undefined') {\n",
       "        require.undef(\"plotly\");\n",
       "        requirejs.config({\n",
       "            paths: {\n",
       "                'plotly': ['https://cdn.plot.ly/plotly-2.32.0.min']\n",
       "            }\n",
       "        });\n",
       "        require(['plotly'], function(Plotly) {\n",
       "            window._Plotly = Plotly;\n",
       "        });\n",
       "        }\n",
       "        </script>\n",
       "        "
      ]
     },
     "metadata": {},
     "output_type": "display_data"
    },
    {
     "data": {
      "text/html": [
       "<div>                            <div id=\"7410de5d-504d-4d15-95c6-ff6318d8b331\" class=\"plotly-graph-div\" style=\"height:525px; width:100%;\"></div>            <script type=\"text/javascript\">                require([\"plotly\"], function(Plotly) {                    window.PLOTLYENV=window.PLOTLYENV || {};                                    if (document.getElementById(\"7410de5d-504d-4d15-95c6-ff6318d8b331\")) {                    Plotly.newPlot(                        \"7410de5d-504d-4d15-95c6-ff6318d8b331\",                        [{\"customdata\":[[\"Awe\"],[\"Awe\"],[\"Contentment\"],[\"Contentment\"],[\"Curiosity\"],[\"Curiosity\"],[\"Despair\"],[\"Despair\"],[\"Excitement\"],[\"Excitement\"],[\"Gratitude\"],[\"Gratitude\"],[\"Grief\"],[\"Grief\"],[\"Happy\"],[\"Happy\"],[\"Hopeful\"],[\"Hopeful\"],[\"Joy\"],[\"Joy\"],[\"Neutral\"],[\"Neutral\"],[\"Nostalgia\"],[\"Nostalgia\"],[\"Positive\"],[\"Positive\"],[\"Sad\"],[\"Sad\"],[\"Serenity\"],[\"Serenity\"]],\"domain\":{\"x\":[0.0,1.0],\"y\":[0.0,1.0]},\"hovertemplate\":\"Sentiment=%{customdata[0]}\\u003cbr\\u003eCount=%{value}\\u003cextra\\u003e\\u003c\\u002fextra\\u003e\",\"labels\":[\"Awe\",\"Awe\",\"Contentment\",\"Contentment\",\"Curiosity\",\"Curiosity\",\"Despair\",\"Despair\",\"Excitement\",\"Excitement\",\"Gratitude\",\"Gratitude\",\"Grief\",\"Grief\",\"Happy\",\"Happy\",\"Hopeful\",\"Hopeful\",\"Joy\",\"Joy\",\"Neutral\",\"Neutral\",\"Nostalgia\",\"Nostalgia\",\"Positive\",\"Positive\",\"Sad\",\"Sad\",\"Serenity\",\"Serenity\"],\"legendgroup\":\"\",\"marker\":{\"colors\":[\"rgb(102, 197, 204)\",\"rgb(102, 197, 204)\",\"rgb(246, 207, 113)\",\"rgb(246, 207, 113)\",\"rgb(248, 156, 116)\",\"rgb(248, 156, 116)\",\"rgb(220, 176, 242)\",\"rgb(220, 176, 242)\",\"rgb(135, 197, 95)\",\"rgb(135, 197, 95)\",\"rgb(158, 185, 243)\",\"rgb(158, 185, 243)\",\"rgb(254, 136, 177)\",\"rgb(254, 136, 177)\",\"rgb(201, 219, 116)\",\"rgb(201, 219, 116)\",\"rgb(139, 224, 164)\",\"rgb(139, 224, 164)\",\"rgb(180, 151, 231)\",\"rgb(180, 151, 231)\",\"rgb(179, 179, 179)\",\"rgb(179, 179, 179)\",\"rgb(102, 197, 204)\",\"rgb(102, 197, 204)\",\"rgb(246, 207, 113)\",\"rgb(246, 207, 113)\",\"rgb(248, 156, 116)\",\"rgb(248, 156, 116)\",\"rgb(220, 176, 242)\",\"rgb(220, 176, 242)\"]},\"name\":\"\",\"showlegend\":true,\"values\":[5,3,6,7,6,6,4,4,11,13,7,4,6,2,4,6,1,4,20,14,6,6,4,4,16,16,3,3,5,4],\"type\":\"pie\"}],                        {\"template\":{\"data\":{\"histogram2dcontour\":[{\"type\":\"histogram2dcontour\",\"colorbar\":{\"outlinewidth\":0,\"ticks\":\"\"},\"colorscale\":[[0.0,\"#0d0887\"],[0.1111111111111111,\"#46039f\"],[0.2222222222222222,\"#7201a8\"],[0.3333333333333333,\"#9c179e\"],[0.4444444444444444,\"#bd3786\"],[0.5555555555555556,\"#d8576b\"],[0.6666666666666666,\"#ed7953\"],[0.7777777777777778,\"#fb9f3a\"],[0.8888888888888888,\"#fdca26\"],[1.0,\"#f0f921\"]]}],\"choropleth\":[{\"type\":\"choropleth\",\"colorbar\":{\"outlinewidth\":0,\"ticks\":\"\"}}],\"histogram2d\":[{\"type\":\"histogram2d\",\"colorbar\":{\"outlinewidth\":0,\"ticks\":\"\"},\"colorscale\":[[0.0,\"#0d0887\"],[0.1111111111111111,\"#46039f\"],[0.2222222222222222,\"#7201a8\"],[0.3333333333333333,\"#9c179e\"],[0.4444444444444444,\"#bd3786\"],[0.5555555555555556,\"#d8576b\"],[0.6666666666666666,\"#ed7953\"],[0.7777777777777778,\"#fb9f3a\"],[0.8888888888888888,\"#fdca26\"],[1.0,\"#f0f921\"]]}],\"heatmap\":[{\"type\":\"heatmap\",\"colorbar\":{\"outlinewidth\":0,\"ticks\":\"\"},\"colorscale\":[[0.0,\"#0d0887\"],[0.1111111111111111,\"#46039f\"],[0.2222222222222222,\"#7201a8\"],[0.3333333333333333,\"#9c179e\"],[0.4444444444444444,\"#bd3786\"],[0.5555555555555556,\"#d8576b\"],[0.6666666666666666,\"#ed7953\"],[0.7777777777777778,\"#fb9f3a\"],[0.8888888888888888,\"#fdca26\"],[1.0,\"#f0f921\"]]}],\"heatmapgl\":[{\"type\":\"heatmapgl\",\"colorbar\":{\"outlinewidth\":0,\"ticks\":\"\"},\"colorscale\":[[0.0,\"#0d0887\"],[0.1111111111111111,\"#46039f\"],[0.2222222222222222,\"#7201a8\"],[0.3333333333333333,\"#9c179e\"],[0.4444444444444444,\"#bd3786\"],[0.5555555555555556,\"#d8576b\"],[0.6666666666666666,\"#ed7953\"],[0.7777777777777778,\"#fb9f3a\"],[0.8888888888888888,\"#fdca26\"],[1.0,\"#f0f921\"]]}],\"contourcarpet\":[{\"type\":\"contourcarpet\",\"colorbar\":{\"outlinewidth\":0,\"ticks\":\"\"}}],\"contour\":[{\"type\":\"contour\",\"colorbar\":{\"outlinewidth\":0,\"ticks\":\"\"},\"colorscale\":[[0.0,\"#0d0887\"],[0.1111111111111111,\"#46039f\"],[0.2222222222222222,\"#7201a8\"],[0.3333333333333333,\"#9c179e\"],[0.4444444444444444,\"#bd3786\"],[0.5555555555555556,\"#d8576b\"],[0.6666666666666666,\"#ed7953\"],[0.7777777777777778,\"#fb9f3a\"],[0.8888888888888888,\"#fdca26\"],[1.0,\"#f0f921\"]]}],\"surface\":[{\"type\":\"surface\",\"colorbar\":{\"outlinewidth\":0,\"ticks\":\"\"},\"colorscale\":[[0.0,\"#0d0887\"],[0.1111111111111111,\"#46039f\"],[0.2222222222222222,\"#7201a8\"],[0.3333333333333333,\"#9c179e\"],[0.4444444444444444,\"#bd3786\"],[0.5555555555555556,\"#d8576b\"],[0.6666666666666666,\"#ed7953\"],[0.7777777777777778,\"#fb9f3a\"],[0.8888888888888888,\"#fdca26\"],[1.0,\"#f0f921\"]]}],\"mesh3d\":[{\"type\":\"mesh3d\",\"colorbar\":{\"outlinewidth\":0,\"ticks\":\"\"}}],\"scatter\":[{\"fillpattern\":{\"fillmode\":\"overlay\",\"size\":10,\"solidity\":0.2},\"type\":\"scatter\"}],\"parcoords\":[{\"type\":\"parcoords\",\"line\":{\"colorbar\":{\"outlinewidth\":0,\"ticks\":\"\"}}}],\"scatterpolargl\":[{\"type\":\"scatterpolargl\",\"marker\":{\"colorbar\":{\"outlinewidth\":0,\"ticks\":\"\"}}}],\"bar\":[{\"error_x\":{\"color\":\"#2a3f5f\"},\"error_y\":{\"color\":\"#2a3f5f\"},\"marker\":{\"line\":{\"color\":\"#E5ECF6\",\"width\":0.5},\"pattern\":{\"fillmode\":\"overlay\",\"size\":10,\"solidity\":0.2}},\"type\":\"bar\"}],\"scattergeo\":[{\"type\":\"scattergeo\",\"marker\":{\"colorbar\":{\"outlinewidth\":0,\"ticks\":\"\"}}}],\"scatterpolar\":[{\"type\":\"scatterpolar\",\"marker\":{\"colorbar\":{\"outlinewidth\":0,\"ticks\":\"\"}}}],\"histogram\":[{\"marker\":{\"pattern\":{\"fillmode\":\"overlay\",\"size\":10,\"solidity\":0.2}},\"type\":\"histogram\"}],\"scattergl\":[{\"type\":\"scattergl\",\"marker\":{\"colorbar\":{\"outlinewidth\":0,\"ticks\":\"\"}}}],\"scatter3d\":[{\"type\":\"scatter3d\",\"line\":{\"colorbar\":{\"outlinewidth\":0,\"ticks\":\"\"}},\"marker\":{\"colorbar\":{\"outlinewidth\":0,\"ticks\":\"\"}}}],\"scattermapbox\":[{\"type\":\"scattermapbox\",\"marker\":{\"colorbar\":{\"outlinewidth\":0,\"ticks\":\"\"}}}],\"scatterternary\":[{\"type\":\"scatterternary\",\"marker\":{\"colorbar\":{\"outlinewidth\":0,\"ticks\":\"\"}}}],\"scattercarpet\":[{\"type\":\"scattercarpet\",\"marker\":{\"colorbar\":{\"outlinewidth\":0,\"ticks\":\"\"}}}],\"carpet\":[{\"aaxis\":{\"endlinecolor\":\"#2a3f5f\",\"gridcolor\":\"white\",\"linecolor\":\"white\",\"minorgridcolor\":\"white\",\"startlinecolor\":\"#2a3f5f\"},\"baxis\":{\"endlinecolor\":\"#2a3f5f\",\"gridcolor\":\"white\",\"linecolor\":\"white\",\"minorgridcolor\":\"white\",\"startlinecolor\":\"#2a3f5f\"},\"type\":\"carpet\"}],\"table\":[{\"cells\":{\"fill\":{\"color\":\"#EBF0F8\"},\"line\":{\"color\":\"white\"}},\"header\":{\"fill\":{\"color\":\"#C8D4E3\"},\"line\":{\"color\":\"white\"}},\"type\":\"table\"}],\"barpolar\":[{\"marker\":{\"line\":{\"color\":\"#E5ECF6\",\"width\":0.5},\"pattern\":{\"fillmode\":\"overlay\",\"size\":10,\"solidity\":0.2}},\"type\":\"barpolar\"}],\"pie\":[{\"automargin\":true,\"type\":\"pie\"}]},\"layout\":{\"autotypenumbers\":\"strict\",\"colorway\":[\"#636efa\",\"#EF553B\",\"#00cc96\",\"#ab63fa\",\"#FFA15A\",\"#19d3f3\",\"#FF6692\",\"#B6E880\",\"#FF97FF\",\"#FECB52\"],\"font\":{\"color\":\"#2a3f5f\"},\"hovermode\":\"closest\",\"hoverlabel\":{\"align\":\"left\"},\"paper_bgcolor\":\"white\",\"plot_bgcolor\":\"#E5ECF6\",\"polar\":{\"bgcolor\":\"#E5ECF6\",\"angularaxis\":{\"gridcolor\":\"white\",\"linecolor\":\"white\",\"ticks\":\"\"},\"radialaxis\":{\"gridcolor\":\"white\",\"linecolor\":\"white\",\"ticks\":\"\"}},\"ternary\":{\"bgcolor\":\"#E5ECF6\",\"aaxis\":{\"gridcolor\":\"white\",\"linecolor\":\"white\",\"ticks\":\"\"},\"baxis\":{\"gridcolor\":\"white\",\"linecolor\":\"white\",\"ticks\":\"\"},\"caxis\":{\"gridcolor\":\"white\",\"linecolor\":\"white\",\"ticks\":\"\"}},\"coloraxis\":{\"colorbar\":{\"outlinewidth\":0,\"ticks\":\"\"}},\"colorscale\":{\"sequential\":[[0.0,\"#0d0887\"],[0.1111111111111111,\"#46039f\"],[0.2222222222222222,\"#7201a8\"],[0.3333333333333333,\"#9c179e\"],[0.4444444444444444,\"#bd3786\"],[0.5555555555555556,\"#d8576b\"],[0.6666666666666666,\"#ed7953\"],[0.7777777777777778,\"#fb9f3a\"],[0.8888888888888888,\"#fdca26\"],[1.0,\"#f0f921\"]],\"sequentialminus\":[[0.0,\"#0d0887\"],[0.1111111111111111,\"#46039f\"],[0.2222222222222222,\"#7201a8\"],[0.3333333333333333,\"#9c179e\"],[0.4444444444444444,\"#bd3786\"],[0.5555555555555556,\"#d8576b\"],[0.6666666666666666,\"#ed7953\"],[0.7777777777777778,\"#fb9f3a\"],[0.8888888888888888,\"#fdca26\"],[1.0,\"#f0f921\"]],\"diverging\":[[0,\"#8e0152\"],[0.1,\"#c51b7d\"],[0.2,\"#de77ae\"],[0.3,\"#f1b6da\"],[0.4,\"#fde0ef\"],[0.5,\"#f7f7f7\"],[0.6,\"#e6f5d0\"],[0.7,\"#b8e186\"],[0.8,\"#7fbc41\"],[0.9,\"#4d9221\"],[1,\"#276419\"]]},\"xaxis\":{\"gridcolor\":\"white\",\"linecolor\":\"white\",\"ticks\":\"\",\"title\":{\"standoff\":15},\"zerolinecolor\":\"white\",\"automargin\":true,\"zerolinewidth\":2},\"yaxis\":{\"gridcolor\":\"white\",\"linecolor\":\"white\",\"ticks\":\"\",\"title\":{\"standoff\":15},\"zerolinecolor\":\"white\",\"automargin\":true,\"zerolinewidth\":2},\"scene\":{\"xaxis\":{\"backgroundcolor\":\"#E5ECF6\",\"gridcolor\":\"white\",\"linecolor\":\"white\",\"showbackground\":true,\"ticks\":\"\",\"zerolinecolor\":\"white\",\"gridwidth\":2},\"yaxis\":{\"backgroundcolor\":\"#E5ECF6\",\"gridcolor\":\"white\",\"linecolor\":\"white\",\"showbackground\":true,\"ticks\":\"\",\"zerolinecolor\":\"white\",\"gridwidth\":2},\"zaxis\":{\"backgroundcolor\":\"#E5ECF6\",\"gridcolor\":\"white\",\"linecolor\":\"white\",\"showbackground\":true,\"ticks\":\"\",\"zerolinecolor\":\"white\",\"gridwidth\":2}},\"shapedefaults\":{\"line\":{\"color\":\"#2a3f5f\"}},\"annotationdefaults\":{\"arrowcolor\":\"#2a3f5f\",\"arrowhead\":0,\"arrowwidth\":1},\"geo\":{\"bgcolor\":\"white\",\"landcolor\":\"#E5ECF6\",\"subunitcolor\":\"white\",\"showland\":true,\"showlakes\":true,\"lakecolor\":\"white\"},\"title\":{\"x\":0.05},\"mapbox\":{\"style\":\"light\"}}},\"legend\":{\"tracegroupgap\":0},\"title\":{\"text\":\"Distribution of Sentiments in Range 1-15 for Platforms: Instagram, Facebook\"},\"piecolorway\":[\"rgb(102, 197, 204)\",\"rgb(246, 207, 113)\",\"rgb(248, 156, 116)\",\"rgb(220, 176, 242)\",\"rgb(135, 197, 95)\",\"rgb(158, 185, 243)\",\"rgb(254, 136, 177)\",\"rgb(201, 219, 116)\",\"rgb(139, 224, 164)\",\"rgb(180, 151, 231)\",\"rgb(179, 179, 179)\"]},                        {\"responsive\": true}                    ).then(function(){\n",
       "                            \n",
       "var gd = document.getElementById('7410de5d-504d-4d15-95c6-ff6318d8b331');\n",
       "var x = new MutationObserver(function (mutations, observer) {{\n",
       "        var display = window.getComputedStyle(gd).display;\n",
       "        if (!display || display === 'none') {{\n",
       "            console.log([gd, 'removed!']);\n",
       "            Plotly.purge(gd);\n",
       "            observer.disconnect();\n",
       "        }}\n",
       "}});\n",
       "\n",
       "// Listen for the removal of the full notebook cells\n",
       "var notebookContainer = gd.closest('#notebook-container');\n",
       "if (notebookContainer) {{\n",
       "    x.observe(notebookContainer, {childList: true});\n",
       "}}\n",
       "\n",
       "// Listen for the clearing of the current output cell\n",
       "var outputEl = gd.closest('.output');\n",
       "if (outputEl) {{\n",
       "    x.observe(outputEl, {childList: true});\n",
       "}}\n",
       "\n",
       "                        })                };                });            </script>        </div>"
      ]
     },
     "metadata": {},
     "output_type": "display_data"
    }
   ],
   "source": [
    "try:\n",
    "    # User inputs the range for sentiments\n",
    "    sentiment_range = input(\"Enter the range of sentiments to display (e.g., 1-3): \").strip()\n",
    "\n",
    "    # Validate and parse the input range\n",
    "    start, end = map(int, sentiment_range.split('-'))\n",
    "    if start < 1 or end < start:\n",
    "        raise ValueError(\"Invalid range. Ensure the start is >= 1 and start <= end.\")\n",
    "\n",
    "    # Validate against available sentiments\n",
    "    unique_sentiments = df['Sentiment'].value_counts()\n",
    "    if end > len(unique_sentiments):\n",
    "        raise ValueError(f\"Only {len(unique_sentiments)} unique sentiments are available.\")\n",
    "\n",
    "    # Select the sentiments within the specified range\n",
    "    top_sentiments = unique_sentiments.iloc[start-1:end].index\n",
    "    filtered_df = df[df['Sentiment'].isin(top_sentiments)]\n",
    "\n",
    "    # User inputs the platform(s)\n",
    "    print(\"Enter Platform Name with ( , ) without space if you want multiple platforms together\")\n",
    "    platforms_input = input(\"Enter the platform(s) to display: Instagram,Facebook,Twitter'): \").strip()\n",
    "    selected_platforms = [platform.strip() for platform in platforms_input.split(',')]  # Allow multiple platforms\n",
    "\n",
    "    # Filter the data based on selected platforms\n",
    "    filtered_df = filtered_df[filtered_df['Platform'].isin(selected_platforms)]\n",
    "\n",
    "    # Check if the selected platforms exist in the data\n",
    "    available_platforms = df['Platform'].unique()\n",
    "    for platform in selected_platforms:\n",
    "        if platform not in available_platforms:\n",
    "            raise ValueError(f\"Platform '{platform}' not found in the data. Available platforms: {', '.join(available_platforms)}\")\n",
    "\n",
    "    # Create and display the pie chart\n",
    "    sentiment_counts = filtered_df.groupby(['Sentiment', 'Platform']).size().reset_index(name='Count')\n",
    "\n",
    "    fig = px.pie(sentiment_counts,\n",
    "                 names='Sentiment',\n",
    "                 values='Count',\n",
    "                 title=f'Distribution of Sentiments in Range {start}-{end} for Platforms: {\", \".join(selected_platforms)}',\n",
    "                 color='Sentiment',  # Color by Sentiment for differentiation\n",
    "                 color_discrete_sequence=px.colors.qualitative.Pastel)\n",
    "    # Show the pie chart\n",
    "    fig.show()\n",
    "\n",
    "except ValueError as ve:\n",
    "    print(f\"ValueError: {ve}\")\n",
    "\n",
    "except Exception as e:\n",
    "    print(f\"An error occurred: {e}\")\n"
   ]
  },
  {
   "cell_type": "markdown",
   "metadata": {
    "id": "Wide0-_2h3gy"
   },
   "source": [
    "### <font color=red> 2. Most prevalent sentiment (positive, negative,neutral,....)  in the dataset"
   ]
  },
  {
   "cell_type": "code",
   "execution_count": 19,
   "metadata": {
    "execution": {
     "iopub.execute_input": "2024-12-09T07:30:22.817193Z",
     "iopub.status.busy": "2024-12-09T07:30:22.816361Z",
     "iopub.status.idle": "2024-12-09T07:30:28.534760Z",
     "shell.execute_reply": "2024-12-09T07:30:28.533798Z",
     "shell.execute_reply.started": "2024-12-09T07:30:22.817158Z"
    },
    "executionInfo": {
     "elapsed": 6394,
     "status": "ok",
     "timestamp": 1733728135988,
     "user": {
      "displayName": "66_Rishij Manna",
      "userId": "01245000441612451756"
     },
     "user_tz": -330
    },
    "id": "vUn0PvrgGiis",
    "outputId": "f608d803-4ef7-4e35-a7b2-22c5f3f7a7f7",
    "trusted": true
   },
   "outputs": [
    {
     "name": "stdout",
     "output_type": "stream",
     "text": [
      "Enter the range of sentiments to display (e.g., 1-3):  1-16\n"
     ]
    },
    {
     "data": {
      "text/html": [
       "<div>                            <div id=\"df169b91-9dc8-47f9-8eab-1abee52257d9\" class=\"plotly-graph-div\" style=\"height:525px; width:100%;\"></div>            <script type=\"text/javascript\">                require([\"plotly\"], function(Plotly) {                    window.PLOTLYENV=window.PLOTLYENV || {};                                    if (document.getElementById(\"df169b91-9dc8-47f9-8eab-1abee52257d9\")) {                    Plotly.newPlot(                        \"df169b91-9dc8-47f9-8eab-1abee52257d9\",                        [{\"domain\":{\"x\":[0.0,1.0],\"y\":[0.0,1.0]},\"hovertemplate\":\"Sentiment=%{label}\\u003cbr\\u003evalue=%{value}\\u003cextra\\u003e\\u003c\\u002fextra\\u003e\",\"labels\":[\"Positive\",\"Joy\",\"Excitement\",\"Contentment\",\"Neutral\",\"Gratitude\",\"Curiosity\",\"Serenity\",\"Happy\",\"Despair\",\"Nostalgia\",\"Awe\",\"Grief\",\"Loneliness\",\"Hopeful\",\"Sad\"],\"legendgroup\":\"\",\"name\":\"\",\"showlegend\":true,\"values\":[45,44,37,19,18,18,16,15,14,11,11,9,9,9,9,9],\"type\":\"pie\"}],                        {\"template\":{\"data\":{\"histogram2dcontour\":[{\"type\":\"histogram2dcontour\",\"colorbar\":{\"outlinewidth\":0,\"ticks\":\"\"},\"colorscale\":[[0.0,\"#0d0887\"],[0.1111111111111111,\"#46039f\"],[0.2222222222222222,\"#7201a8\"],[0.3333333333333333,\"#9c179e\"],[0.4444444444444444,\"#bd3786\"],[0.5555555555555556,\"#d8576b\"],[0.6666666666666666,\"#ed7953\"],[0.7777777777777778,\"#fb9f3a\"],[0.8888888888888888,\"#fdca26\"],[1.0,\"#f0f921\"]]}],\"choropleth\":[{\"type\":\"choropleth\",\"colorbar\":{\"outlinewidth\":0,\"ticks\":\"\"}}],\"histogram2d\":[{\"type\":\"histogram2d\",\"colorbar\":{\"outlinewidth\":0,\"ticks\":\"\"},\"colorscale\":[[0.0,\"#0d0887\"],[0.1111111111111111,\"#46039f\"],[0.2222222222222222,\"#7201a8\"],[0.3333333333333333,\"#9c179e\"],[0.4444444444444444,\"#bd3786\"],[0.5555555555555556,\"#d8576b\"],[0.6666666666666666,\"#ed7953\"],[0.7777777777777778,\"#fb9f3a\"],[0.8888888888888888,\"#fdca26\"],[1.0,\"#f0f921\"]]}],\"heatmap\":[{\"type\":\"heatmap\",\"colorbar\":{\"outlinewidth\":0,\"ticks\":\"\"},\"colorscale\":[[0.0,\"#0d0887\"],[0.1111111111111111,\"#46039f\"],[0.2222222222222222,\"#7201a8\"],[0.3333333333333333,\"#9c179e\"],[0.4444444444444444,\"#bd3786\"],[0.5555555555555556,\"#d8576b\"],[0.6666666666666666,\"#ed7953\"],[0.7777777777777778,\"#fb9f3a\"],[0.8888888888888888,\"#fdca26\"],[1.0,\"#f0f921\"]]}],\"heatmapgl\":[{\"type\":\"heatmapgl\",\"colorbar\":{\"outlinewidth\":0,\"ticks\":\"\"},\"colorscale\":[[0.0,\"#0d0887\"],[0.1111111111111111,\"#46039f\"],[0.2222222222222222,\"#7201a8\"],[0.3333333333333333,\"#9c179e\"],[0.4444444444444444,\"#bd3786\"],[0.5555555555555556,\"#d8576b\"],[0.6666666666666666,\"#ed7953\"],[0.7777777777777778,\"#fb9f3a\"],[0.8888888888888888,\"#fdca26\"],[1.0,\"#f0f921\"]]}],\"contourcarpet\":[{\"type\":\"contourcarpet\",\"colorbar\":{\"outlinewidth\":0,\"ticks\":\"\"}}],\"contour\":[{\"type\":\"contour\",\"colorbar\":{\"outlinewidth\":0,\"ticks\":\"\"},\"colorscale\":[[0.0,\"#0d0887\"],[0.1111111111111111,\"#46039f\"],[0.2222222222222222,\"#7201a8\"],[0.3333333333333333,\"#9c179e\"],[0.4444444444444444,\"#bd3786\"],[0.5555555555555556,\"#d8576b\"],[0.6666666666666666,\"#ed7953\"],[0.7777777777777778,\"#fb9f3a\"],[0.8888888888888888,\"#fdca26\"],[1.0,\"#f0f921\"]]}],\"surface\":[{\"type\":\"surface\",\"colorbar\":{\"outlinewidth\":0,\"ticks\":\"\"},\"colorscale\":[[0.0,\"#0d0887\"],[0.1111111111111111,\"#46039f\"],[0.2222222222222222,\"#7201a8\"],[0.3333333333333333,\"#9c179e\"],[0.4444444444444444,\"#bd3786\"],[0.5555555555555556,\"#d8576b\"],[0.6666666666666666,\"#ed7953\"],[0.7777777777777778,\"#fb9f3a\"],[0.8888888888888888,\"#fdca26\"],[1.0,\"#f0f921\"]]}],\"mesh3d\":[{\"type\":\"mesh3d\",\"colorbar\":{\"outlinewidth\":0,\"ticks\":\"\"}}],\"scatter\":[{\"fillpattern\":{\"fillmode\":\"overlay\",\"size\":10,\"solidity\":0.2},\"type\":\"scatter\"}],\"parcoords\":[{\"type\":\"parcoords\",\"line\":{\"colorbar\":{\"outlinewidth\":0,\"ticks\":\"\"}}}],\"scatterpolargl\":[{\"type\":\"scatterpolargl\",\"marker\":{\"colorbar\":{\"outlinewidth\":0,\"ticks\":\"\"}}}],\"bar\":[{\"error_x\":{\"color\":\"#2a3f5f\"},\"error_y\":{\"color\":\"#2a3f5f\"},\"marker\":{\"line\":{\"color\":\"#E5ECF6\",\"width\":0.5},\"pattern\":{\"fillmode\":\"overlay\",\"size\":10,\"solidity\":0.2}},\"type\":\"bar\"}],\"scattergeo\":[{\"type\":\"scattergeo\",\"marker\":{\"colorbar\":{\"outlinewidth\":0,\"ticks\":\"\"}}}],\"scatterpolar\":[{\"type\":\"scatterpolar\",\"marker\":{\"colorbar\":{\"outlinewidth\":0,\"ticks\":\"\"}}}],\"histogram\":[{\"marker\":{\"pattern\":{\"fillmode\":\"overlay\",\"size\":10,\"solidity\":0.2}},\"type\":\"histogram\"}],\"scattergl\":[{\"type\":\"scattergl\",\"marker\":{\"colorbar\":{\"outlinewidth\":0,\"ticks\":\"\"}}}],\"scatter3d\":[{\"type\":\"scatter3d\",\"line\":{\"colorbar\":{\"outlinewidth\":0,\"ticks\":\"\"}},\"marker\":{\"colorbar\":{\"outlinewidth\":0,\"ticks\":\"\"}}}],\"scattermapbox\":[{\"type\":\"scattermapbox\",\"marker\":{\"colorbar\":{\"outlinewidth\":0,\"ticks\":\"\"}}}],\"scatterternary\":[{\"type\":\"scatterternary\",\"marker\":{\"colorbar\":{\"outlinewidth\":0,\"ticks\":\"\"}}}],\"scattercarpet\":[{\"type\":\"scattercarpet\",\"marker\":{\"colorbar\":{\"outlinewidth\":0,\"ticks\":\"\"}}}],\"carpet\":[{\"aaxis\":{\"endlinecolor\":\"#2a3f5f\",\"gridcolor\":\"white\",\"linecolor\":\"white\",\"minorgridcolor\":\"white\",\"startlinecolor\":\"#2a3f5f\"},\"baxis\":{\"endlinecolor\":\"#2a3f5f\",\"gridcolor\":\"white\",\"linecolor\":\"white\",\"minorgridcolor\":\"white\",\"startlinecolor\":\"#2a3f5f\"},\"type\":\"carpet\"}],\"table\":[{\"cells\":{\"fill\":{\"color\":\"#EBF0F8\"},\"line\":{\"color\":\"white\"}},\"header\":{\"fill\":{\"color\":\"#C8D4E3\"},\"line\":{\"color\":\"white\"}},\"type\":\"table\"}],\"barpolar\":[{\"marker\":{\"line\":{\"color\":\"#E5ECF6\",\"width\":0.5},\"pattern\":{\"fillmode\":\"overlay\",\"size\":10,\"solidity\":0.2}},\"type\":\"barpolar\"}],\"pie\":[{\"automargin\":true,\"type\":\"pie\"}]},\"layout\":{\"autotypenumbers\":\"strict\",\"colorway\":[\"#636efa\",\"#EF553B\",\"#00cc96\",\"#ab63fa\",\"#FFA15A\",\"#19d3f3\",\"#FF6692\",\"#B6E880\",\"#FF97FF\",\"#FECB52\"],\"font\":{\"color\":\"#2a3f5f\"},\"hovermode\":\"closest\",\"hoverlabel\":{\"align\":\"left\"},\"paper_bgcolor\":\"white\",\"plot_bgcolor\":\"#E5ECF6\",\"polar\":{\"bgcolor\":\"#E5ECF6\",\"angularaxis\":{\"gridcolor\":\"white\",\"linecolor\":\"white\",\"ticks\":\"\"},\"radialaxis\":{\"gridcolor\":\"white\",\"linecolor\":\"white\",\"ticks\":\"\"}},\"ternary\":{\"bgcolor\":\"#E5ECF6\",\"aaxis\":{\"gridcolor\":\"white\",\"linecolor\":\"white\",\"ticks\":\"\"},\"baxis\":{\"gridcolor\":\"white\",\"linecolor\":\"white\",\"ticks\":\"\"},\"caxis\":{\"gridcolor\":\"white\",\"linecolor\":\"white\",\"ticks\":\"\"}},\"coloraxis\":{\"colorbar\":{\"outlinewidth\":0,\"ticks\":\"\"}},\"colorscale\":{\"sequential\":[[0.0,\"#0d0887\"],[0.1111111111111111,\"#46039f\"],[0.2222222222222222,\"#7201a8\"],[0.3333333333333333,\"#9c179e\"],[0.4444444444444444,\"#bd3786\"],[0.5555555555555556,\"#d8576b\"],[0.6666666666666666,\"#ed7953\"],[0.7777777777777778,\"#fb9f3a\"],[0.8888888888888888,\"#fdca26\"],[1.0,\"#f0f921\"]],\"sequentialminus\":[[0.0,\"#0d0887\"],[0.1111111111111111,\"#46039f\"],[0.2222222222222222,\"#7201a8\"],[0.3333333333333333,\"#9c179e\"],[0.4444444444444444,\"#bd3786\"],[0.5555555555555556,\"#d8576b\"],[0.6666666666666666,\"#ed7953\"],[0.7777777777777778,\"#fb9f3a\"],[0.8888888888888888,\"#fdca26\"],[1.0,\"#f0f921\"]],\"diverging\":[[0,\"#8e0152\"],[0.1,\"#c51b7d\"],[0.2,\"#de77ae\"],[0.3,\"#f1b6da\"],[0.4,\"#fde0ef\"],[0.5,\"#f7f7f7\"],[0.6,\"#e6f5d0\"],[0.7,\"#b8e186\"],[0.8,\"#7fbc41\"],[0.9,\"#4d9221\"],[1,\"#276419\"]]},\"xaxis\":{\"gridcolor\":\"white\",\"linecolor\":\"white\",\"ticks\":\"\",\"title\":{\"standoff\":15},\"zerolinecolor\":\"white\",\"automargin\":true,\"zerolinewidth\":2},\"yaxis\":{\"gridcolor\":\"white\",\"linecolor\":\"white\",\"ticks\":\"\",\"title\":{\"standoff\":15},\"zerolinecolor\":\"white\",\"automargin\":true,\"zerolinewidth\":2},\"scene\":{\"xaxis\":{\"backgroundcolor\":\"#E5ECF6\",\"gridcolor\":\"white\",\"linecolor\":\"white\",\"showbackground\":true,\"ticks\":\"\",\"zerolinecolor\":\"white\",\"gridwidth\":2},\"yaxis\":{\"backgroundcolor\":\"#E5ECF6\",\"gridcolor\":\"white\",\"linecolor\":\"white\",\"showbackground\":true,\"ticks\":\"\",\"zerolinecolor\":\"white\",\"gridwidth\":2},\"zaxis\":{\"backgroundcolor\":\"#E5ECF6\",\"gridcolor\":\"white\",\"linecolor\":\"white\",\"showbackground\":true,\"ticks\":\"\",\"zerolinecolor\":\"white\",\"gridwidth\":2}},\"shapedefaults\":{\"line\":{\"color\":\"#2a3f5f\"}},\"annotationdefaults\":{\"arrowcolor\":\"#2a3f5f\",\"arrowhead\":0,\"arrowwidth\":1},\"geo\":{\"bgcolor\":\"white\",\"landcolor\":\"#E5ECF6\",\"subunitcolor\":\"white\",\"showland\":true,\"showlakes\":true,\"lakecolor\":\"white\"},\"title\":{\"x\":0.05},\"mapbox\":{\"style\":\"light\"}}},\"legend\":{\"tracegroupgap\":0},\"title\":{\"text\":\"Distribution of Sentiments in Range 1-16\"}},                        {\"responsive\": true}                    ).then(function(){\n",
       "                            \n",
       "var gd = document.getElementById('df169b91-9dc8-47f9-8eab-1abee52257d9');\n",
       "var x = new MutationObserver(function (mutations, observer) {{\n",
       "        var display = window.getComputedStyle(gd).display;\n",
       "        if (!display || display === 'none') {{\n",
       "            console.log([gd, 'removed!']);\n",
       "            Plotly.purge(gd);\n",
       "            observer.disconnect();\n",
       "        }}\n",
       "}});\n",
       "\n",
       "// Listen for the removal of the full notebook cells\n",
       "var notebookContainer = gd.closest('#notebook-container');\n",
       "if (notebookContainer) {{\n",
       "    x.observe(notebookContainer, {childList: true});\n",
       "}}\n",
       "\n",
       "// Listen for the clearing of the current output cell\n",
       "var outputEl = gd.closest('.output');\n",
       "if (outputEl) {{\n",
       "    x.observe(outputEl, {childList: true});\n",
       "}}\n",
       "\n",
       "                        })                };                });            </script>        </div>"
      ]
     },
     "metadata": {},
     "output_type": "display_data"
    }
   ],
   "source": [
    "try:\n",
    "    # User inputs the range for sentiments\n",
    "    sentiment_range = input(\"Enter the range of sentiments to display (e.g., 1-3): \").strip()\n",
    "\n",
    "    # Validate and parse the input range\n",
    "    start, end = map(int, sentiment_range.split('-'))\n",
    "    if start < 1 or end < start:\n",
    "        raise ValueError(\"Invalid range. Ensure the start is >= 1 and start <= end.\")\n",
    "\n",
    "    # Validate against available sentiments\n",
    "    unique_sentiments = df['Sentiment'].value_counts()\n",
    "    if end > len(unique_sentiments):\n",
    "        raise ValueError(f\"Only {len(unique_sentiments)} unique sentiments are available.\")\n",
    "\n",
    "    # Select the sentiments within the specified range\n",
    "    top_sentiments = unique_sentiments.iloc[start-1:end].index\n",
    "    filtered_df = df[df['Sentiment'].isin(top_sentiments)]\n",
    "\n",
    "    # Create and display the pie chart\n",
    "    sentiment_counts = filtered_df['Sentiment'].value_counts()\n",
    "    fig = px.pie(sentiment_counts,\n",
    "                 names=sentiment_counts.index,\n",
    "                 values=sentiment_counts.values,\n",
    "                 title=f'Distribution of Sentiments in Range {start}-{end}')\n",
    "    fig.show()\n",
    "\n",
    "except ValueError as ve:\n",
    "    print(f\"ValueError: {ve}\")\n",
    "\n",
    "except Exception as e:\n",
    "    print(f\"An error occurred: {e}\")"
   ]
  },
  {
   "cell_type": "markdown",
   "metadata": {
    "id": "rNIY29FFNCEa"
   },
   "source": [
    "### <font color=red> 3. Distribution of different Social Media Platforms  across Countries"
   ]
  },
  {
   "cell_type": "markdown",
   "metadata": {
    "id": "SlPiYQiXnQzc"
   },
   "source": [
    "a.` In Histogram Format`"
   ]
  },
  {
   "cell_type": "code",
   "execution_count": 20,
   "metadata": {
    "execution": {
     "iopub.execute_input": "2024-12-09T07:32:17.182404Z",
     "iopub.status.busy": "2024-12-09T07:32:17.181529Z",
     "iopub.status.idle": "2024-12-09T07:32:17.307888Z",
     "shell.execute_reply": "2024-12-09T07:32:17.306886Z",
     "shell.execute_reply.started": "2024-12-09T07:32:17.182365Z"
    },
    "executionInfo": {
     "elapsed": 32,
     "status": "ok",
     "timestamp": 1733728135988,
     "user": {
      "displayName": "66_Rishij Manna",
      "userId": "01245000441612451756"
     },
     "user_tz": -330
    },
    "id": "EwG8KAzzNBnk",
    "outputId": "d2da4faa-9bae-4683-e536-e0179f8857f3",
    "trusted": true
   },
   "outputs": [
    {
     "data": {
      "text/html": [
       "<div>                            <div id=\"74254459-bf72-42b4-9dc4-6c26abb1c01d\" class=\"plotly-graph-div\" style=\"height:525px; width:100%;\"></div>            <script type=\"text/javascript\">                require([\"plotly\"], function(Plotly) {                    window.PLOTLYENV=window.PLOTLYENV || {};                                    if (document.getElementById(\"74254459-bf72-42b4-9dc4-6c26abb1c01d\")) {                    Plotly.newPlot(                        \"74254459-bf72-42b4-9dc4-6c26abb1c01d\",                        [{\"alignmentgroup\":\"True\",\"bingroup\":\"x\",\"hovertemplate\":\"\\u003cb\\u003eCountry:\\u003c\\u002fb\\u003e %{x}\\u003cbr\\u003e\\u003cb\\u003eCount:\\u003c\\u002fb\\u003e %{y}\\u003cextra\\u003e\\u003c\\u002fextra\\u003e\",\"legendgroup\":\"Twitter\",\"marker\":{\"color\":\"rgb(102, 197, 204)\",\"pattern\":{\"shape\":\"\"}},\"name\":\"Twitter\",\"offsetgroup\":\"Twitter\",\"orientation\":\"v\",\"showlegend\":true,\"texttemplate\":\"%{value}\",\"x\":[\"USA\",\"Canada\",\"India\",\"USA\",\"Canada\",\"India\",\"UK\",\"India\",\"UK\",\"USA\",\"India\",\"Canada\",\"India\",\"USA\",\"Canada\",\"India\",\"Canada\",\"Canada\",\"UK\",\"Australia\",\"USA\",\"India\",\"UK\",\"India\",\"USA\",\"Canada\",\"UK\",\"Australia\",\"USA\",\"India\",\"UK\",\"India\",\"USA\",\"Australia\",\"Canada\",\"India\",\"UK\",\"Canada\",\"UK\",\"UK\",\"Australia\",\"UK\",\"Australia\",\"Canada\",\"UK\",\"India\",\"USA\",\"Canada\",\"UK\",\"India\",\"Australia\",\"India\",\"UK\",\"Canada\",\"India\",\"USA\",\"India\",\"Canada\",\"Australia\",\"India\",\"UK\",\"USA\",\"India\",\"USA\",\"Canada\",\"India\",\"USA\",\"India\",\"Canada\",\"Australia\",\"UK\",\"Canada\",\"USA\",\"UK\",\"Canada\",\"Canada\",\"UK\",\"India\",\"Canada\",\"Australia\",\"USA\",\"UK\",\"USA\",\"Canada\",\"Australia\",\"UK\",\"Canada\",\"Australia\",\"USA\",\"India\",\"UK\",\"India\",\"Australia\",\"USA\",\"India\",\"UK\",\"India\",\"Australia\",\"USA\",\"USA\",\"UK\",\"Australia\",\"UK\",\"UK\",\"Australia\",\"USA\",\"UK\",\"India\",\"UK\",\"USA\",\"Canada\",\"Canada\",\"Australia\",\"Brazil\",\"Canada\",\"India\",\"UK\",\"USA\",\"India\",\"UK\",\"India\",\"USA\",\"India\",\"France\",\"Australia\",\"Greece\",\"Italy\",\"Spain\",\"Belgium\",\"France\",\"Australia\",\"Greece\",\"Italy\",\"Spain\",\"Belgium\",\"Canada\",\"UK\",\"Japan\",\"Canada\",\"Germany\",\"France\",\"Spain\",\"UK\",\"Germany\",\"Brazil\",\"Australia\",\"UK\",\"France\",\"Japan\",\"Spain\",\"UK\",\"Brazil\",\"Italy\",\"USA\",\"Australia\",\"Canada\",\"India\",\"Japan\",\"USA\",\"Australia\",\"France\",\"France\",\"Japan\",\"Jordan\",\"Italy\",\"China\",\"Switzerland\",\"USA\",\"UK\",\"USA\",\"USA\",\"USA\",\"USA\",\"USA\",\"Australia\",\"France\",\"Brazil\",\"USA\",\"UK\",\"Germany\",\"Brazil\",\"France\",\"Canada\",\"Spain\",\"USA\",\"Germany\",\"Italy\",\"USA\",\"UK\",\"France\",\"Greece\",\"USA\",\"USA\",\"UK\",\"UK\",\"USA\",\"USA\",\"USA\",\"Canada\",\"UK\",\"UK\",\"UK\",\"UK\",\"Canada\",\"USA\",\"UK\",\"Canada\",\"UK\",\"Canada\",\"Canada\",\"USA\",\"UK\",\"Canada\",\"UK\",\"Canada\",\"Canada\",\"Canada\",\"USA\",\"UK\",\"Canada\",\"USA\",\"USA\",\"USA\",\"UK\",\"UK\",\"Canada\",\"USA\",\"USA\",\"USA\",\"USA\",\"USA\",\"USA\",\"USA\",\"USA\",\"Canada\",\"Canada\",\"Canada\",\"Canada\",\"Canada\",\"USA\",\"USA\",\"Canada\",\"Canada\"],\"xaxis\":\"x\",\"yaxis\":\"y\",\"type\":\"histogram\"},{\"alignmentgroup\":\"True\",\"bingroup\":\"x\",\"hovertemplate\":\"\\u003cb\\u003eCountry:\\u003c\\u002fb\\u003e %{x}\\u003cbr\\u003e\\u003cb\\u003eCount:\\u003c\\u002fb\\u003e %{y}\\u003cextra\\u003e\\u003c\\u002fextra\\u003e\",\"legendgroup\":\"Instagram\",\"marker\":{\"color\":\"rgb(246, 207, 113)\",\"pattern\":{\"shape\":\"\"}},\"name\":\"Instagram\",\"offsetgroup\":\"Instagram\",\"orientation\":\"v\",\"showlegend\":true,\"texttemplate\":\"%{value}\",\"x\":[\"USA\",\"Australia\",\"USA\",\"USA\",\"USA\",\"Canada\",\"USA\",\"USA\",\"UK\",\"Australia\",\"UK\",\"USA\",\"USA\",\"USA\",\"India\",\"UK\",\"USA\",\"USA\",\"USA\",\"USA\",\"UK\",\"USA\",\"USA\",\"USA\",\"UK\",\"Australia\",\"USA\",\"UK\",\"UK\",\"USA\",\"USA\",\"Australia\",\"UK\",\"UK\",\"USA\",\"USA\",\"Canada\",\"USA\",\"Australia\",\"Canada\",\"USA\",\"Canada\",\"UK\",\"USA\",\"Australia\",\"UK\",\"UK\",\"USA\",\"Australia\",\"USA\",\"UK\",\"Canada\",\"India\",\"UK\",\"USA\",\"Canada\",\"Australia\",\"UK\",\"Canada\",\"USA\",\"India\",\"Canada\",\"Australia\",\"UK\",\"Australia\",\"UK\",\"Canada\",\"Australia\",\"UK\",\"USA\",\"Australia\",\"UK\",\"Canada\",\"Australia\",\"India\",\"UK\",\"India\",\"USA\",\"Australia\",\"UK\",\"Canada\",\"Canada\",\"USA\",\"Canada\",\"India\",\"UK\",\"India\",\"Australia\",\"USA\",\"India\",\"UK\",\"Canada\",\"Australia\",\"USA\",\"Canada\",\"UK\",\"Canada\",\"Australia\",\"USA\",\"Canada\",\"India\",\"Canada\",\"Australia\",\"Canada\",\"India\",\"Canada\",\"India\",\"Canada\",\"Australia\",\"USA\",\"Canada\",\"Australia\",\"Australia\",\"USA\",\"India\",\"France\",\"Japan\",\"USA\",\"UK\",\"USA\",\"India\",\"UK\",\"USA\",\"USA\",\"UK\",\"Canada\",\"USA\",\"Brazil\",\"Canada\",\"USA\",\"Sweden\",\"South Africa\",\"Switzerland\",\"Denmark\",\"Brazil\",\"Canada\",\"USA\",\"Sweden\",\"South Africa\",\"Switzerland\",\"Denmark\",\"Australia\",\"France\",\"India\",\"Brazil\",\"USA\",\"Australia\",\"India\",\"Japan\",\"South Africa\",\"Canada\",\"France\",\"Canada\",\"Germany\",\"India\",\"South Africa\",\"Canada\",\"Germany\",\"France\",\"Japan\",\"Canada\",\"UK\",\"Spain\",\"USA\",\"Australia\",\"France\",\"South Africa\",\"Canada\",\"India\",\"Japan\",\"South Africa\",\"USA\",\"Netherlands\",\"USA\",\"Italy\",\"USA\",\"Brazil\",\"Cambodia\",\"Norway\",\"USA\",\"UK\",\"USA\",\"UK\",\"Canada\",\"USA\",\"Ireland\",\"Jamaica\",\"UK\",\"India\",\"Germany\",\"Brazil\",\"Kenya\",\"Scotland\",\"Canada\",\"USA\",\"Japan\",\"Australia\",\"Canada\",\"Brazil\",\"India\",\"Australia\",\"Thailand\",\"Australia\",\"Italy\",\"Canada\",\"Canada\",\"Canada\",\"USA\",\"UK\",\"UK\",\"UK\",\"USA\",\"USA\",\"USA\",\"USA\",\"UK\",\"UK\",\"USA\",\"USA\",\"USA\",\"UK\",\"UK\",\"UK\",\"USA\",\"UK\",\"USA\",\"USA\",\"UK\",\"UK\",\"UK\",\"USA\",\"UK\",\"USA\",\"UK\",\"UK\",\"Canada\",\"Canada\",\"USA\",\"USA\",\"UK\",\"Canada\",\"Canada\",\"Canada\",\"Canada\",\"Canada\",\"Canada\",\"Canada\",\"USA\",\"USA\",\"UK\",\"UK\",\"UK\",\"UK\",\"UK\",\"UK\",\"USA\",\"USA\",\"USA\"],\"xaxis\":\"x\",\"yaxis\":\"y\",\"type\":\"histogram\"},{\"alignmentgroup\":\"True\",\"bingroup\":\"x\",\"hovertemplate\":\"\\u003cb\\u003eCountry:\\u003c\\u002fb\\u003e %{x}\\u003cbr\\u003e\\u003cb\\u003eCount:\\u003c\\u002fb\\u003e %{y}\\u003cextra\\u003e\\u003c\\u002fextra\\u003e\",\"legendgroup\":\"Facebook\",\"marker\":{\"color\":\"rgb(248, 156, 116)\",\"pattern\":{\"shape\":\"\"}},\"name\":\"Facebook\",\"offsetgroup\":\"Facebook\",\"orientation\":\"v\",\"showlegend\":true,\"texttemplate\":\"%{value}\",\"x\":[\"UK\",\"Canada\",\"Australia\",\"UK\",\"USA\",\"USA\",\"USA\",\"Canada\",\"India\",\"Canada\",\"USA\",\"UK\",\"Canada\",\"UK\",\"USA\",\"Australia\",\"UK\",\"India\",\"Canada\",\"Canada\",\"Australia\",\"Canada\",\"USA\",\"Canada\",\"India\",\"India\",\"Canada\",\"USA\",\"Australia\",\"Canada\",\"USA\",\"Canada\",\"India\",\"UK\",\"USA\",\"India\",\"USA\",\"UK\",\"India\",\"USA\",\"India\",\"USA\",\"Canada\",\"USA\",\"India\",\"Canada\",\"UK\",\"Canada\",\"USA\",\"Australia\",\"USA\",\"Australia\",\"Canada\",\"UK\",\"USA\",\"India\",\"UK\",\"Canada\",\"Australia\",\"UK\",\"Canada\",\"India\",\"USA\",\"Canada\",\"UK\",\"USA\",\"India\",\"Canada\",\"India\",\"Australia\",\"India\",\"USA\",\"Australia\",\"USA\",\"Australia\",\"Canada\",\"USA\",\"India\",\"UK\",\"Australia\",\"India\",\"Australia\",\"USA\",\"Canada\",\"USA\",\"UK\",\"Canada\",\"Australia\",\"USA\",\"Canada\",\"UK\",\"Australia\",\"USA\",\"Canada\",\"UK\",\"Australia\",\"UK\",\"India\",\"USA\",\"USA\",\"Australia\",\"USA\",\"UK\",\"Canada\",\"Australia\",\"USA\",\"India\",\"Australia\",\"UK\",\"USA\",\"Greece\",\"Australia\",\"Canada\",\"Australia\",\"Canada\",\"Australia\",\"Canada\",\"Australia\",\"UK\",\"Australia\",\"Japan\",\"UK\",\"Germany\",\"Netherlands\",\"Portugal\",\"Austria\",\"Czech Republic\",\"Japan\",\"UK\",\"Germany\",\"Netherlands\",\"Portugal\",\"Austria\",\"Czech Republic\",\"USA\",\"Australia\",\"Germany\",\"UK\",\"Brazil\",\"Italy\",\"Netherlands\",\"Australia\",\"USA\",\"USA\",\"Brazil\",\"Italy\",\"Australia\",\"USA\",\"India\",\"Germany\",\"France\",\"Brazil\",\"UK\",\"Germany\",\"Brazil\",\"UK\",\"Germany\",\"Brazil\",\"Italy\",\"Greece\",\"Peru\",\"Maldives\",\"Japan\",\"Japan\",\"USA\",\"USA\",\"USA\",\"UK\",\"Colombia\",\"USA\",\"Canada\",\"USA\",\"Japan\",\"India\",\"USA\",\"Italy\",\"UK\",\"USA\",\"Germany\",\"France\",\"UK\",\"Japan\",\"Canada\",\"USA\",\"Brazil\",\"UK\",\"USA\",\"USA\",\"Canada\",\"Canada\",\"Canada\",\"USA\",\"Canada\",\"Canada\",\"Canada\",\"USA\",\"USA\",\"UK\",\"UK\",\"USA\",\"USA\",\"USA\",\"Canada\",\"USA\",\"Canada\",\"USA\",\"USA\",\"USA\",\"Canada\",\"USA\",\"Canada\",\"Canada\",\"USA\",\"USA\",\"UK\",\"Canada\",\"UK\",\"UK\",\"UK\",\"UK\",\"UK\",\"UK\",\"UK\",\"UK\",\"USA\",\"USA\",\"USA\",\"Canada\",\"Canada\",\"UK\",\"UK\"],\"xaxis\":\"x\",\"yaxis\":\"y\",\"type\":\"histogram\"}],                        {\"template\":{\"data\":{\"histogram2dcontour\":[{\"type\":\"histogram2dcontour\",\"colorbar\":{\"outlinewidth\":0,\"ticks\":\"\"},\"colorscale\":[[0.0,\"#0d0887\"],[0.1111111111111111,\"#46039f\"],[0.2222222222222222,\"#7201a8\"],[0.3333333333333333,\"#9c179e\"],[0.4444444444444444,\"#bd3786\"],[0.5555555555555556,\"#d8576b\"],[0.6666666666666666,\"#ed7953\"],[0.7777777777777778,\"#fb9f3a\"],[0.8888888888888888,\"#fdca26\"],[1.0,\"#f0f921\"]]}],\"choropleth\":[{\"type\":\"choropleth\",\"colorbar\":{\"outlinewidth\":0,\"ticks\":\"\"}}],\"histogram2d\":[{\"type\":\"histogram2d\",\"colorbar\":{\"outlinewidth\":0,\"ticks\":\"\"},\"colorscale\":[[0.0,\"#0d0887\"],[0.1111111111111111,\"#46039f\"],[0.2222222222222222,\"#7201a8\"],[0.3333333333333333,\"#9c179e\"],[0.4444444444444444,\"#bd3786\"],[0.5555555555555556,\"#d8576b\"],[0.6666666666666666,\"#ed7953\"],[0.7777777777777778,\"#fb9f3a\"],[0.8888888888888888,\"#fdca26\"],[1.0,\"#f0f921\"]]}],\"heatmap\":[{\"type\":\"heatmap\",\"colorbar\":{\"outlinewidth\":0,\"ticks\":\"\"},\"colorscale\":[[0.0,\"#0d0887\"],[0.1111111111111111,\"#46039f\"],[0.2222222222222222,\"#7201a8\"],[0.3333333333333333,\"#9c179e\"],[0.4444444444444444,\"#bd3786\"],[0.5555555555555556,\"#d8576b\"],[0.6666666666666666,\"#ed7953\"],[0.7777777777777778,\"#fb9f3a\"],[0.8888888888888888,\"#fdca26\"],[1.0,\"#f0f921\"]]}],\"heatmapgl\":[{\"type\":\"heatmapgl\",\"colorbar\":{\"outlinewidth\":0,\"ticks\":\"\"},\"colorscale\":[[0.0,\"#0d0887\"],[0.1111111111111111,\"#46039f\"],[0.2222222222222222,\"#7201a8\"],[0.3333333333333333,\"#9c179e\"],[0.4444444444444444,\"#bd3786\"],[0.5555555555555556,\"#d8576b\"],[0.6666666666666666,\"#ed7953\"],[0.7777777777777778,\"#fb9f3a\"],[0.8888888888888888,\"#fdca26\"],[1.0,\"#f0f921\"]]}],\"contourcarpet\":[{\"type\":\"contourcarpet\",\"colorbar\":{\"outlinewidth\":0,\"ticks\":\"\"}}],\"contour\":[{\"type\":\"contour\",\"colorbar\":{\"outlinewidth\":0,\"ticks\":\"\"},\"colorscale\":[[0.0,\"#0d0887\"],[0.1111111111111111,\"#46039f\"],[0.2222222222222222,\"#7201a8\"],[0.3333333333333333,\"#9c179e\"],[0.4444444444444444,\"#bd3786\"],[0.5555555555555556,\"#d8576b\"],[0.6666666666666666,\"#ed7953\"],[0.7777777777777778,\"#fb9f3a\"],[0.8888888888888888,\"#fdca26\"],[1.0,\"#f0f921\"]]}],\"surface\":[{\"type\":\"surface\",\"colorbar\":{\"outlinewidth\":0,\"ticks\":\"\"},\"colorscale\":[[0.0,\"#0d0887\"],[0.1111111111111111,\"#46039f\"],[0.2222222222222222,\"#7201a8\"],[0.3333333333333333,\"#9c179e\"],[0.4444444444444444,\"#bd3786\"],[0.5555555555555556,\"#d8576b\"],[0.6666666666666666,\"#ed7953\"],[0.7777777777777778,\"#fb9f3a\"],[0.8888888888888888,\"#fdca26\"],[1.0,\"#f0f921\"]]}],\"mesh3d\":[{\"type\":\"mesh3d\",\"colorbar\":{\"outlinewidth\":0,\"ticks\":\"\"}}],\"scatter\":[{\"fillpattern\":{\"fillmode\":\"overlay\",\"size\":10,\"solidity\":0.2},\"type\":\"scatter\"}],\"parcoords\":[{\"type\":\"parcoords\",\"line\":{\"colorbar\":{\"outlinewidth\":0,\"ticks\":\"\"}}}],\"scatterpolargl\":[{\"type\":\"scatterpolargl\",\"marker\":{\"colorbar\":{\"outlinewidth\":0,\"ticks\":\"\"}}}],\"bar\":[{\"error_x\":{\"color\":\"#2a3f5f\"},\"error_y\":{\"color\":\"#2a3f5f\"},\"marker\":{\"line\":{\"color\":\"#E5ECF6\",\"width\":0.5},\"pattern\":{\"fillmode\":\"overlay\",\"size\":10,\"solidity\":0.2}},\"type\":\"bar\"}],\"scattergeo\":[{\"type\":\"scattergeo\",\"marker\":{\"colorbar\":{\"outlinewidth\":0,\"ticks\":\"\"}}}],\"scatterpolar\":[{\"type\":\"scatterpolar\",\"marker\":{\"colorbar\":{\"outlinewidth\":0,\"ticks\":\"\"}}}],\"histogram\":[{\"marker\":{\"pattern\":{\"fillmode\":\"overlay\",\"size\":10,\"solidity\":0.2}},\"type\":\"histogram\"}],\"scattergl\":[{\"type\":\"scattergl\",\"marker\":{\"colorbar\":{\"outlinewidth\":0,\"ticks\":\"\"}}}],\"scatter3d\":[{\"type\":\"scatter3d\",\"line\":{\"colorbar\":{\"outlinewidth\":0,\"ticks\":\"\"}},\"marker\":{\"colorbar\":{\"outlinewidth\":0,\"ticks\":\"\"}}}],\"scattermapbox\":[{\"type\":\"scattermapbox\",\"marker\":{\"colorbar\":{\"outlinewidth\":0,\"ticks\":\"\"}}}],\"scatterternary\":[{\"type\":\"scatterternary\",\"marker\":{\"colorbar\":{\"outlinewidth\":0,\"ticks\":\"\"}}}],\"scattercarpet\":[{\"type\":\"scattercarpet\",\"marker\":{\"colorbar\":{\"outlinewidth\":0,\"ticks\":\"\"}}}],\"carpet\":[{\"aaxis\":{\"endlinecolor\":\"#2a3f5f\",\"gridcolor\":\"white\",\"linecolor\":\"white\",\"minorgridcolor\":\"white\",\"startlinecolor\":\"#2a3f5f\"},\"baxis\":{\"endlinecolor\":\"#2a3f5f\",\"gridcolor\":\"white\",\"linecolor\":\"white\",\"minorgridcolor\":\"white\",\"startlinecolor\":\"#2a3f5f\"},\"type\":\"carpet\"}],\"table\":[{\"cells\":{\"fill\":{\"color\":\"#EBF0F8\"},\"line\":{\"color\":\"white\"}},\"header\":{\"fill\":{\"color\":\"#C8D4E3\"},\"line\":{\"color\":\"white\"}},\"type\":\"table\"}],\"barpolar\":[{\"marker\":{\"line\":{\"color\":\"#E5ECF6\",\"width\":0.5},\"pattern\":{\"fillmode\":\"overlay\",\"size\":10,\"solidity\":0.2}},\"type\":\"barpolar\"}],\"pie\":[{\"automargin\":true,\"type\":\"pie\"}]},\"layout\":{\"autotypenumbers\":\"strict\",\"colorway\":[\"#636efa\",\"#EF553B\",\"#00cc96\",\"#ab63fa\",\"#FFA15A\",\"#19d3f3\",\"#FF6692\",\"#B6E880\",\"#FF97FF\",\"#FECB52\"],\"font\":{\"color\":\"#2a3f5f\"},\"hovermode\":\"closest\",\"hoverlabel\":{\"align\":\"left\"},\"paper_bgcolor\":\"white\",\"plot_bgcolor\":\"#E5ECF6\",\"polar\":{\"bgcolor\":\"#E5ECF6\",\"angularaxis\":{\"gridcolor\":\"white\",\"linecolor\":\"white\",\"ticks\":\"\"},\"radialaxis\":{\"gridcolor\":\"white\",\"linecolor\":\"white\",\"ticks\":\"\"}},\"ternary\":{\"bgcolor\":\"#E5ECF6\",\"aaxis\":{\"gridcolor\":\"white\",\"linecolor\":\"white\",\"ticks\":\"\"},\"baxis\":{\"gridcolor\":\"white\",\"linecolor\":\"white\",\"ticks\":\"\"},\"caxis\":{\"gridcolor\":\"white\",\"linecolor\":\"white\",\"ticks\":\"\"}},\"coloraxis\":{\"colorbar\":{\"outlinewidth\":0,\"ticks\":\"\"}},\"colorscale\":{\"sequential\":[[0.0,\"#0d0887\"],[0.1111111111111111,\"#46039f\"],[0.2222222222222222,\"#7201a8\"],[0.3333333333333333,\"#9c179e\"],[0.4444444444444444,\"#bd3786\"],[0.5555555555555556,\"#d8576b\"],[0.6666666666666666,\"#ed7953\"],[0.7777777777777778,\"#fb9f3a\"],[0.8888888888888888,\"#fdca26\"],[1.0,\"#f0f921\"]],\"sequentialminus\":[[0.0,\"#0d0887\"],[0.1111111111111111,\"#46039f\"],[0.2222222222222222,\"#7201a8\"],[0.3333333333333333,\"#9c179e\"],[0.4444444444444444,\"#bd3786\"],[0.5555555555555556,\"#d8576b\"],[0.6666666666666666,\"#ed7953\"],[0.7777777777777778,\"#fb9f3a\"],[0.8888888888888888,\"#fdca26\"],[1.0,\"#f0f921\"]],\"diverging\":[[0,\"#8e0152\"],[0.1,\"#c51b7d\"],[0.2,\"#de77ae\"],[0.3,\"#f1b6da\"],[0.4,\"#fde0ef\"],[0.5,\"#f7f7f7\"],[0.6,\"#e6f5d0\"],[0.7,\"#b8e186\"],[0.8,\"#7fbc41\"],[0.9,\"#4d9221\"],[1,\"#276419\"]]},\"xaxis\":{\"gridcolor\":\"white\",\"linecolor\":\"white\",\"ticks\":\"\",\"title\":{\"standoff\":15},\"zerolinecolor\":\"white\",\"automargin\":true,\"zerolinewidth\":2},\"yaxis\":{\"gridcolor\":\"white\",\"linecolor\":\"white\",\"ticks\":\"\",\"title\":{\"standoff\":15},\"zerolinecolor\":\"white\",\"automargin\":true,\"zerolinewidth\":2},\"scene\":{\"xaxis\":{\"backgroundcolor\":\"#E5ECF6\",\"gridcolor\":\"white\",\"linecolor\":\"white\",\"showbackground\":true,\"ticks\":\"\",\"zerolinecolor\":\"white\",\"gridwidth\":2},\"yaxis\":{\"backgroundcolor\":\"#E5ECF6\",\"gridcolor\":\"white\",\"linecolor\":\"white\",\"showbackground\":true,\"ticks\":\"\",\"zerolinecolor\":\"white\",\"gridwidth\":2},\"zaxis\":{\"backgroundcolor\":\"#E5ECF6\",\"gridcolor\":\"white\",\"linecolor\":\"white\",\"showbackground\":true,\"ticks\":\"\",\"zerolinecolor\":\"white\",\"gridwidth\":2}},\"shapedefaults\":{\"line\":{\"color\":\"#2a3f5f\"}},\"annotationdefaults\":{\"arrowcolor\":\"#2a3f5f\",\"arrowhead\":0,\"arrowwidth\":1},\"geo\":{\"bgcolor\":\"white\",\"landcolor\":\"#E5ECF6\",\"subunitcolor\":\"white\",\"showland\":true,\"showlakes\":true,\"lakecolor\":\"white\"},\"title\":{\"x\":0.05},\"mapbox\":{\"style\":\"light\"}}},\"xaxis\":{\"anchor\":\"y\",\"domain\":[0.0,1.0],\"title\":{\"text\":\"Country\"},\"tickangle\":-90},\"yaxis\":{\"anchor\":\"x\",\"domain\":[0.0,1.0],\"title\":{\"text\":\"Count\"}},\"legend\":{\"title\":{\"text\":\"Platform\",\"font\":{\"size\":14}},\"tracegroupgap\":0,\"bgcolor\":\"rgba(255,255,255,0.7)\"},\"title\":{\"text\":\"Country vs Platform Distribution\",\"font\":{\"size\":22,\"family\":\"Arial\",\"color\":\"darkblue\"}},\"barmode\":\"group\",\"bargap\":0.15,\"plot_bgcolor\":\"rgba(245, 245, 245, 1)\"},                        {\"responsive\": true}                    ).then(function(){\n",
       "                            \n",
       "var gd = document.getElementById('74254459-bf72-42b4-9dc4-6c26abb1c01d');\n",
       "var x = new MutationObserver(function (mutations, observer) {{\n",
       "        var display = window.getComputedStyle(gd).display;\n",
       "        if (!display || display === 'none') {{\n",
       "            console.log([gd, 'removed!']);\n",
       "            Plotly.purge(gd);\n",
       "            observer.disconnect();\n",
       "        }}\n",
       "}});\n",
       "\n",
       "// Listen for the removal of the full notebook cells\n",
       "var notebookContainer = gd.closest('#notebook-container');\n",
       "if (notebookContainer) {{\n",
       "    x.observe(notebookContainer, {childList: true});\n",
       "}}\n",
       "\n",
       "// Listen for the clearing of the current output cell\n",
       "var outputEl = gd.closest('.output');\n",
       "if (outputEl) {{\n",
       "    x.observe(outputEl, {childList: true});\n",
       "}}\n",
       "\n",
       "                        })                };                });            </script>        </div>"
      ]
     },
     "metadata": {},
     "output_type": "display_data"
    }
   ],
   "source": [
    "# Sort countries by total frequency\n",
    "sorted_df = df.groupby('Country').size().sort_values(ascending=False).reset_index(name='Count')\n",
    "df['Country'] = pd.Categorical(df['Country'], categories=sorted_df['Country'], ordered=True)\n",
    "\n",
    "# Create the histogram\n",
    "fig = px.histogram(\n",
    "    df,\n",
    "    x=\"Country\",\n",
    "    color=\"Platform\",\n",
    "    title=\"Country vs Platform Distribution\",\n",
    "    labels={\"Country\": \"Country\", \"Platform\": \"Platform\"},\n",
    "    barmode='group',  # Use 'stack' for stacked bars\n",
    "    text_auto=True,   # Display counts directly on the bars\n",
    "    color_discrete_sequence=px.colors.qualitative.Pastel\n",
    ")\n",
    "\n",
    "# Customize the layout\n",
    "\n",
    "fig.update_layout(\n",
    "    xaxis_title=\"Country\",\n",
    "    yaxis_title=\"Count\",\n",
    "    title_font=dict(size=22, family=\"Arial\", color=\"darkblue\"),\n",
    "    legend_title=\"Platform\",\n",
    "    legend=dict(title_font=dict(size=14), bgcolor=\"rgba(255,255,255,0.7)\"),\n",
    "    xaxis=dict(tickangle=270),  # Rotate x-axis labels for better readability\n",
    "    bargap=0.15,  # Add spacing between bars\n",
    "    plot_bgcolor=\"rgba(245, 245, 245, 1)\",  # Light background\n",
    ")\n",
    "\n",
    "# Ensure tooltips display correct data\n",
    "fig.update_traces(\n",
    "    hovertemplate=\"<b>Country:</b> %{x}<br>\" +\n",
    "                  \"<b>Count:</b> %{y}<extra></extra>\"\n",
    ")\n",
    "\n",
    "# Show the figure\n",
    "fig.show()\n"
   ]
  },
  {
   "cell_type": "markdown",
   "metadata": {
    "id": "6qVrqpqlnZV1"
   },
   "source": [
    "b. `Zonal Representation on Map`"
   ]
  },
  {
   "cell_type": "code",
   "execution_count": 21,
   "metadata": {
    "execution": {
     "iopub.execute_input": "2024-12-09T07:32:22.702302Z",
     "iopub.status.busy": "2024-12-09T07:32:22.701390Z",
     "iopub.status.idle": "2024-12-09T07:32:22.865429Z",
     "shell.execute_reply": "2024-12-09T07:32:22.864487Z",
     "shell.execute_reply.started": "2024-12-09T07:32:22.702264Z"
    },
    "executionInfo": {
     "elapsed": 31,
     "status": "ok",
     "timestamp": 1733728135988,
     "user": {
      "displayName": "66_Rishij Manna",
      "userId": "01245000441612451756"
     },
     "user_tz": -330
    },
    "id": "CmQ35oAbOrw2",
    "outputId": "4266458a-2854-469b-a7a7-52712f311ab0",
    "trusted": true
   },
   "outputs": [
    {
     "data": {
      "text/html": [
       "<div>                            <div id=\"b1fd429a-8480-4ea4-8d8b-a16d7fda3140\" class=\"plotly-graph-div\" style=\"height:525px; width:100%;\"></div>            <script type=\"text/javascript\">                require([\"plotly\"], function(Plotly) {                    window.PLOTLYENV=window.PLOTLYENV || {};                                    if (document.getElementById(\"b1fd429a-8480-4ea4-8d8b-a16d7fda3140\")) {                    Plotly.newPlot(                        \"b1fd429a-8480-4ea4-8d8b-a16d7fda3140\",                        [{\"coloraxis\":\"coloraxis\",\"geo\":\"geo\",\"hovertemplate\":\"\\u003cb\\u003e%{hovertext}\\u003c\\u002fb\\u003e\\u003cbr\\u003e\\u003cbr\\u003ePlatform=Facebook\\u003cbr\\u003eCountry=%{location}\\u003cbr\\u003eCount=%{z}\\u003cextra\\u003e\\u003c\\u002fextra\\u003e\",\"hovertext\":[\"USA\",\"UK\",\"Canada\",\"Australia\",\"India\",\"Brazil\",\"France\",\"Japan\",\"Germany\",\"Italy\",\"Spain\",\"South Africa\",\"Greece\",\"Netherlands\",\"Switzerland\",\"Portugal\",\"Denmark\",\"Austria\",\"Czech Republic\",\"Belgium\",\"Sweden\",\"Cambodia\",\"Thailand\",\"Scotland\",\"Jordan\",\"Peru\",\"Norway\",\"Maldives\",\"Kenya\",\"Ireland\",\"Colombia\",\"China\",\"Jamaica\"],\"locationmode\":\"country names\",\"locations\":[\"USA\",\"UK\",\"Canada\",\"Australia\",\"India\",\"Brazil\",\"France\",\"Japan\",\"Germany\",\"Italy\",\"Spain\",\"South Africa\",\"Greece\",\"Netherlands\",\"Switzerland\",\"Portugal\",\"Denmark\",\"Austria\",\"Czech Republic\",\"Belgium\",\"Sweden\",\"Cambodia\",\"Thailand\",\"Scotland\",\"Jordan\",\"Peru\",\"Norway\",\"Maldives\",\"Kenya\",\"Ireland\",\"Colombia\",\"China\",\"Jamaica\"],\"name\":\"\",\"z\":[60,42,44,26,20,6,2,6,7,4,0,0,2,3,0,2,0,2,2,0,0,0,0,0,0,1,0,1,0,0,1,0,0],\"type\":\"choropleth\"}],                        {\"template\":{\"data\":{\"histogram2dcontour\":[{\"type\":\"histogram2dcontour\",\"colorbar\":{\"outlinewidth\":0,\"ticks\":\"\"},\"colorscale\":[[0.0,\"#0d0887\"],[0.1111111111111111,\"#46039f\"],[0.2222222222222222,\"#7201a8\"],[0.3333333333333333,\"#9c179e\"],[0.4444444444444444,\"#bd3786\"],[0.5555555555555556,\"#d8576b\"],[0.6666666666666666,\"#ed7953\"],[0.7777777777777778,\"#fb9f3a\"],[0.8888888888888888,\"#fdca26\"],[1.0,\"#f0f921\"]]}],\"choropleth\":[{\"type\":\"choropleth\",\"colorbar\":{\"outlinewidth\":0,\"ticks\":\"\"}}],\"histogram2d\":[{\"type\":\"histogram2d\",\"colorbar\":{\"outlinewidth\":0,\"ticks\":\"\"},\"colorscale\":[[0.0,\"#0d0887\"],[0.1111111111111111,\"#46039f\"],[0.2222222222222222,\"#7201a8\"],[0.3333333333333333,\"#9c179e\"],[0.4444444444444444,\"#bd3786\"],[0.5555555555555556,\"#d8576b\"],[0.6666666666666666,\"#ed7953\"],[0.7777777777777778,\"#fb9f3a\"],[0.8888888888888888,\"#fdca26\"],[1.0,\"#f0f921\"]]}],\"heatmap\":[{\"type\":\"heatmap\",\"colorbar\":{\"outlinewidth\":0,\"ticks\":\"\"},\"colorscale\":[[0.0,\"#0d0887\"],[0.1111111111111111,\"#46039f\"],[0.2222222222222222,\"#7201a8\"],[0.3333333333333333,\"#9c179e\"],[0.4444444444444444,\"#bd3786\"],[0.5555555555555556,\"#d8576b\"],[0.6666666666666666,\"#ed7953\"],[0.7777777777777778,\"#fb9f3a\"],[0.8888888888888888,\"#fdca26\"],[1.0,\"#f0f921\"]]}],\"heatmapgl\":[{\"type\":\"heatmapgl\",\"colorbar\":{\"outlinewidth\":0,\"ticks\":\"\"},\"colorscale\":[[0.0,\"#0d0887\"],[0.1111111111111111,\"#46039f\"],[0.2222222222222222,\"#7201a8\"],[0.3333333333333333,\"#9c179e\"],[0.4444444444444444,\"#bd3786\"],[0.5555555555555556,\"#d8576b\"],[0.6666666666666666,\"#ed7953\"],[0.7777777777777778,\"#fb9f3a\"],[0.8888888888888888,\"#fdca26\"],[1.0,\"#f0f921\"]]}],\"contourcarpet\":[{\"type\":\"contourcarpet\",\"colorbar\":{\"outlinewidth\":0,\"ticks\":\"\"}}],\"contour\":[{\"type\":\"contour\",\"colorbar\":{\"outlinewidth\":0,\"ticks\":\"\"},\"colorscale\":[[0.0,\"#0d0887\"],[0.1111111111111111,\"#46039f\"],[0.2222222222222222,\"#7201a8\"],[0.3333333333333333,\"#9c179e\"],[0.4444444444444444,\"#bd3786\"],[0.5555555555555556,\"#d8576b\"],[0.6666666666666666,\"#ed7953\"],[0.7777777777777778,\"#fb9f3a\"],[0.8888888888888888,\"#fdca26\"],[1.0,\"#f0f921\"]]}],\"surface\":[{\"type\":\"surface\",\"colorbar\":{\"outlinewidth\":0,\"ticks\":\"\"},\"colorscale\":[[0.0,\"#0d0887\"],[0.1111111111111111,\"#46039f\"],[0.2222222222222222,\"#7201a8\"],[0.3333333333333333,\"#9c179e\"],[0.4444444444444444,\"#bd3786\"],[0.5555555555555556,\"#d8576b\"],[0.6666666666666666,\"#ed7953\"],[0.7777777777777778,\"#fb9f3a\"],[0.8888888888888888,\"#fdca26\"],[1.0,\"#f0f921\"]]}],\"mesh3d\":[{\"type\":\"mesh3d\",\"colorbar\":{\"outlinewidth\":0,\"ticks\":\"\"}}],\"scatter\":[{\"fillpattern\":{\"fillmode\":\"overlay\",\"size\":10,\"solidity\":0.2},\"type\":\"scatter\"}],\"parcoords\":[{\"type\":\"parcoords\",\"line\":{\"colorbar\":{\"outlinewidth\":0,\"ticks\":\"\"}}}],\"scatterpolargl\":[{\"type\":\"scatterpolargl\",\"marker\":{\"colorbar\":{\"outlinewidth\":0,\"ticks\":\"\"}}}],\"bar\":[{\"error_x\":{\"color\":\"#2a3f5f\"},\"error_y\":{\"color\":\"#2a3f5f\"},\"marker\":{\"line\":{\"color\":\"#E5ECF6\",\"width\":0.5},\"pattern\":{\"fillmode\":\"overlay\",\"size\":10,\"solidity\":0.2}},\"type\":\"bar\"}],\"scattergeo\":[{\"type\":\"scattergeo\",\"marker\":{\"colorbar\":{\"outlinewidth\":0,\"ticks\":\"\"}}}],\"scatterpolar\":[{\"type\":\"scatterpolar\",\"marker\":{\"colorbar\":{\"outlinewidth\":0,\"ticks\":\"\"}}}],\"histogram\":[{\"marker\":{\"pattern\":{\"fillmode\":\"overlay\",\"size\":10,\"solidity\":0.2}},\"type\":\"histogram\"}],\"scattergl\":[{\"type\":\"scattergl\",\"marker\":{\"colorbar\":{\"outlinewidth\":0,\"ticks\":\"\"}}}],\"scatter3d\":[{\"type\":\"scatter3d\",\"line\":{\"colorbar\":{\"outlinewidth\":0,\"ticks\":\"\"}},\"marker\":{\"colorbar\":{\"outlinewidth\":0,\"ticks\":\"\"}}}],\"scattermapbox\":[{\"type\":\"scattermapbox\",\"marker\":{\"colorbar\":{\"outlinewidth\":0,\"ticks\":\"\"}}}],\"scatterternary\":[{\"type\":\"scatterternary\",\"marker\":{\"colorbar\":{\"outlinewidth\":0,\"ticks\":\"\"}}}],\"scattercarpet\":[{\"type\":\"scattercarpet\",\"marker\":{\"colorbar\":{\"outlinewidth\":0,\"ticks\":\"\"}}}],\"carpet\":[{\"aaxis\":{\"endlinecolor\":\"#2a3f5f\",\"gridcolor\":\"white\",\"linecolor\":\"white\",\"minorgridcolor\":\"white\",\"startlinecolor\":\"#2a3f5f\"},\"baxis\":{\"endlinecolor\":\"#2a3f5f\",\"gridcolor\":\"white\",\"linecolor\":\"white\",\"minorgridcolor\":\"white\",\"startlinecolor\":\"#2a3f5f\"},\"type\":\"carpet\"}],\"table\":[{\"cells\":{\"fill\":{\"color\":\"#EBF0F8\"},\"line\":{\"color\":\"white\"}},\"header\":{\"fill\":{\"color\":\"#C8D4E3\"},\"line\":{\"color\":\"white\"}},\"type\":\"table\"}],\"barpolar\":[{\"marker\":{\"line\":{\"color\":\"#E5ECF6\",\"width\":0.5},\"pattern\":{\"fillmode\":\"overlay\",\"size\":10,\"solidity\":0.2}},\"type\":\"barpolar\"}],\"pie\":[{\"automargin\":true,\"type\":\"pie\"}]},\"layout\":{\"autotypenumbers\":\"strict\",\"colorway\":[\"#636efa\",\"#EF553B\",\"#00cc96\",\"#ab63fa\",\"#FFA15A\",\"#19d3f3\",\"#FF6692\",\"#B6E880\",\"#FF97FF\",\"#FECB52\"],\"font\":{\"color\":\"#2a3f5f\"},\"hovermode\":\"closest\",\"hoverlabel\":{\"align\":\"left\"},\"paper_bgcolor\":\"white\",\"plot_bgcolor\":\"#E5ECF6\",\"polar\":{\"bgcolor\":\"#E5ECF6\",\"angularaxis\":{\"gridcolor\":\"white\",\"linecolor\":\"white\",\"ticks\":\"\"},\"radialaxis\":{\"gridcolor\":\"white\",\"linecolor\":\"white\",\"ticks\":\"\"}},\"ternary\":{\"bgcolor\":\"#E5ECF6\",\"aaxis\":{\"gridcolor\":\"white\",\"linecolor\":\"white\",\"ticks\":\"\"},\"baxis\":{\"gridcolor\":\"white\",\"linecolor\":\"white\",\"ticks\":\"\"},\"caxis\":{\"gridcolor\":\"white\",\"linecolor\":\"white\",\"ticks\":\"\"}},\"coloraxis\":{\"colorbar\":{\"outlinewidth\":0,\"ticks\":\"\"}},\"colorscale\":{\"sequential\":[[0.0,\"#0d0887\"],[0.1111111111111111,\"#46039f\"],[0.2222222222222222,\"#7201a8\"],[0.3333333333333333,\"#9c179e\"],[0.4444444444444444,\"#bd3786\"],[0.5555555555555556,\"#d8576b\"],[0.6666666666666666,\"#ed7953\"],[0.7777777777777778,\"#fb9f3a\"],[0.8888888888888888,\"#fdca26\"],[1.0,\"#f0f921\"]],\"sequentialminus\":[[0.0,\"#0d0887\"],[0.1111111111111111,\"#46039f\"],[0.2222222222222222,\"#7201a8\"],[0.3333333333333333,\"#9c179e\"],[0.4444444444444444,\"#bd3786\"],[0.5555555555555556,\"#d8576b\"],[0.6666666666666666,\"#ed7953\"],[0.7777777777777778,\"#fb9f3a\"],[0.8888888888888888,\"#fdca26\"],[1.0,\"#f0f921\"]],\"diverging\":[[0,\"#8e0152\"],[0.1,\"#c51b7d\"],[0.2,\"#de77ae\"],[0.3,\"#f1b6da\"],[0.4,\"#fde0ef\"],[0.5,\"#f7f7f7\"],[0.6,\"#e6f5d0\"],[0.7,\"#b8e186\"],[0.8,\"#7fbc41\"],[0.9,\"#4d9221\"],[1,\"#276419\"]]},\"xaxis\":{\"gridcolor\":\"white\",\"linecolor\":\"white\",\"ticks\":\"\",\"title\":{\"standoff\":15},\"zerolinecolor\":\"white\",\"automargin\":true,\"zerolinewidth\":2},\"yaxis\":{\"gridcolor\":\"white\",\"linecolor\":\"white\",\"ticks\":\"\",\"title\":{\"standoff\":15},\"zerolinecolor\":\"white\",\"automargin\":true,\"zerolinewidth\":2},\"scene\":{\"xaxis\":{\"backgroundcolor\":\"#E5ECF6\",\"gridcolor\":\"white\",\"linecolor\":\"white\",\"showbackground\":true,\"ticks\":\"\",\"zerolinecolor\":\"white\",\"gridwidth\":2},\"yaxis\":{\"backgroundcolor\":\"#E5ECF6\",\"gridcolor\":\"white\",\"linecolor\":\"white\",\"showbackground\":true,\"ticks\":\"\",\"zerolinecolor\":\"white\",\"gridwidth\":2},\"zaxis\":{\"backgroundcolor\":\"#E5ECF6\",\"gridcolor\":\"white\",\"linecolor\":\"white\",\"showbackground\":true,\"ticks\":\"\",\"zerolinecolor\":\"white\",\"gridwidth\":2}},\"shapedefaults\":{\"line\":{\"color\":\"#2a3f5f\"}},\"annotationdefaults\":{\"arrowcolor\":\"#2a3f5f\",\"arrowhead\":0,\"arrowwidth\":1},\"geo\":{\"bgcolor\":\"white\",\"landcolor\":\"#E5ECF6\",\"subunitcolor\":\"white\",\"showland\":true,\"showlakes\":true,\"lakecolor\":\"white\"},\"title\":{\"x\":0.05},\"mapbox\":{\"style\":\"light\"}}},\"geo\":{\"domain\":{\"x\":[0.0,1.0],\"y\":[0.0,1.0]},\"center\":{},\"projection\":{\"type\":\"natural earth\"},\"showframe\":false,\"showcoastlines\":true},\"coloraxis\":{\"colorbar\":{\"title\":{\"text\":\"Count\"}},\"colorscale\":[[0.0,\"#0d0887\"],[0.1111111111111111,\"#46039f\"],[0.2222222222222222,\"#7201a8\"],[0.3333333333333333,\"#9c179e\"],[0.4444444444444444,\"#bd3786\"],[0.5555555555555556,\"#d8576b\"],[0.6666666666666666,\"#ed7953\"],[0.7777777777777778,\"#fb9f3a\"],[0.8888888888888888,\"#fdca26\"],[1.0,\"#f0f921\"]]},\"legend\":{\"tracegroupgap\":0},\"title\":{\"text\":\"Platform Distribution Across Countries\",\"font\":{\"size\":20,\"family\":\"Arial Black\"}},\"updatemenus\":[{\"buttons\":[{\"args\":[null,{\"frame\":{\"duration\":500,\"redraw\":true},\"mode\":\"immediate\",\"fromcurrent\":true,\"transition\":{\"duration\":500,\"easing\":\"linear\"}}],\"label\":\"&#9654;\",\"method\":\"animate\"},{\"args\":[[null],{\"frame\":{\"duration\":0,\"redraw\":true},\"mode\":\"immediate\",\"fromcurrent\":true,\"transition\":{\"duration\":0,\"easing\":\"linear\"}}],\"label\":\"&#9724;\",\"method\":\"animate\"}],\"direction\":\"left\",\"pad\":{\"r\":10,\"t\":70},\"showactive\":false,\"type\":\"buttons\",\"x\":0.1,\"xanchor\":\"right\",\"y\":0,\"yanchor\":\"top\"}],\"sliders\":[{\"active\":0,\"currentvalue\":{\"prefix\":\"Platform=\"},\"len\":0.9,\"pad\":{\"b\":10,\"t\":60},\"steps\":[{\"args\":[[\"Facebook\"],{\"frame\":{\"duration\":0,\"redraw\":true},\"mode\":\"immediate\",\"fromcurrent\":true,\"transition\":{\"duration\":0,\"easing\":\"linear\"}}],\"label\":\"Facebook\",\"method\":\"animate\"},{\"args\":[[\"Instagram\"],{\"frame\":{\"duration\":0,\"redraw\":true},\"mode\":\"immediate\",\"fromcurrent\":true,\"transition\":{\"duration\":0,\"easing\":\"linear\"}}],\"label\":\"Instagram\",\"method\":\"animate\"},{\"args\":[[\"Twitter\"],{\"frame\":{\"duration\":0,\"redraw\":true},\"mode\":\"immediate\",\"fromcurrent\":true,\"transition\":{\"duration\":0,\"easing\":\"linear\"}}],\"label\":\"Twitter\",\"method\":\"animate\"}],\"x\":0.1,\"xanchor\":\"left\",\"y\":0,\"yanchor\":\"top\"}]},                        {\"responsive\": true}                    ).then(function(){\n",
       "                            Plotly.addFrames('b1fd429a-8480-4ea4-8d8b-a16d7fda3140', [{\"data\":[{\"coloraxis\":\"coloraxis\",\"geo\":\"geo\",\"hovertemplate\":\"\\u003cb\\u003e%{hovertext}\\u003c\\u002fb\\u003e\\u003cbr\\u003e\\u003cbr\\u003ePlatform=Facebook\\u003cbr\\u003eCountry=%{location}\\u003cbr\\u003eCount=%{z}\\u003cextra\\u003e\\u003c\\u002fextra\\u003e\",\"hovertext\":[\"USA\",\"UK\",\"Canada\",\"Australia\",\"India\",\"Brazil\",\"France\",\"Japan\",\"Germany\",\"Italy\",\"Spain\",\"South Africa\",\"Greece\",\"Netherlands\",\"Switzerland\",\"Portugal\",\"Denmark\",\"Austria\",\"Czech Republic\",\"Belgium\",\"Sweden\",\"Cambodia\",\"Thailand\",\"Scotland\",\"Jordan\",\"Peru\",\"Norway\",\"Maldives\",\"Kenya\",\"Ireland\",\"Colombia\",\"China\",\"Jamaica\"],\"locationmode\":\"country names\",\"locations\":[\"USA\",\"UK\",\"Canada\",\"Australia\",\"India\",\"Brazil\",\"France\",\"Japan\",\"Germany\",\"Italy\",\"Spain\",\"South Africa\",\"Greece\",\"Netherlands\",\"Switzerland\",\"Portugal\",\"Denmark\",\"Austria\",\"Czech Republic\",\"Belgium\",\"Sweden\",\"Cambodia\",\"Thailand\",\"Scotland\",\"Jordan\",\"Peru\",\"Norway\",\"Maldives\",\"Kenya\",\"Ireland\",\"Colombia\",\"China\",\"Jamaica\"],\"name\":\"\",\"z\":[60,42,44,26,20,6,2,6,7,4,0,0,2,3,0,2,0,2,2,0,0,0,0,0,0,1,0,1,0,0,1,0,0],\"type\":\"choropleth\"}],\"name\":\"Facebook\"},{\"data\":[{\"coloraxis\":\"coloraxis\",\"geo\":\"geo\",\"hovertemplate\":\"\\u003cb\\u003e%{hovertext}\\u003c\\u002fb\\u003e\\u003cbr\\u003e\\u003cbr\\u003ePlatform=Instagram\\u003cbr\\u003eCountry=%{location}\\u003cbr\\u003eCount=%{z}\\u003cextra\\u003e\\u003c\\u002fextra\\u003e\",\"hovertext\":[\"USA\",\"UK\",\"Canada\",\"Australia\",\"India\",\"Brazil\",\"France\",\"Japan\",\"Germany\",\"Italy\",\"Spain\",\"South Africa\",\"Greece\",\"Netherlands\",\"Switzerland\",\"Portugal\",\"Denmark\",\"Austria\",\"Czech Republic\",\"Belgium\",\"Sweden\",\"Cambodia\",\"Thailand\",\"Scotland\",\"Jordan\",\"Peru\",\"Norway\",\"Maldives\",\"Kenya\",\"Ireland\",\"Colombia\",\"China\",\"Jamaica\"],\"locationmode\":\"country names\",\"locations\":[\"USA\",\"UK\",\"Canada\",\"Australia\",\"India\",\"Brazil\",\"France\",\"Japan\",\"Germany\",\"Italy\",\"Spain\",\"South Africa\",\"Greece\",\"Netherlands\",\"Switzerland\",\"Portugal\",\"Denmark\",\"Austria\",\"Czech Republic\",\"Belgium\",\"Sweden\",\"Cambodia\",\"Thailand\",\"Scotland\",\"Jordan\",\"Peru\",\"Norway\",\"Maldives\",\"Kenya\",\"Ireland\",\"Colombia\",\"China\",\"Jamaica\"],\"name\":\"\",\"z\":[72,53,45,27,19,6,5,5,3,2,1,6,0,1,2,0,2,0,0,0,2,1,1,1,0,0,1,0,1,1,0,0,1],\"type\":\"choropleth\"}],\"name\":\"Instagram\"},{\"data\":[{\"coloraxis\":\"coloraxis\",\"geo\":\"geo\",\"hovertemplate\":\"\\u003cb\\u003e%{hovertext}\\u003c\\u002fb\\u003e\\u003cbr\\u003e\\u003cbr\\u003ePlatform=Twitter\\u003cbr\\u003eCountry=%{location}\\u003cbr\\u003eCount=%{z}\\u003cextra\\u003e\\u003c\\u002fextra\\u003e\",\"hovertext\":[\"USA\",\"UK\",\"Canada\",\"Australia\",\"India\",\"Brazil\",\"France\",\"Japan\",\"Germany\",\"Italy\",\"Spain\",\"South Africa\",\"Greece\",\"Netherlands\",\"Switzerland\",\"Portugal\",\"Denmark\",\"Austria\",\"Czech Republic\",\"Belgium\",\"Sweden\",\"Cambodia\",\"Thailand\",\"Scotland\",\"Jordan\",\"Peru\",\"Norway\",\"Maldives\",\"Kenya\",\"Ireland\",\"Colombia\",\"China\",\"Jamaica\"],\"locationmode\":\"country names\",\"locations\":[\"USA\",\"UK\",\"Canada\",\"Australia\",\"India\",\"Brazil\",\"France\",\"Japan\",\"Germany\",\"Italy\",\"Spain\",\"South Africa\",\"Greece\",\"Netherlands\",\"Switzerland\",\"Portugal\",\"Denmark\",\"Austria\",\"Czech Republic\",\"Belgium\",\"Sweden\",\"Cambodia\",\"Thailand\",\"Scotland\",\"Jordan\",\"Peru\",\"Norway\",\"Maldives\",\"Kenya\",\"Ireland\",\"Colombia\",\"China\",\"Jamaica\"],\"name\":\"\",\"z\":[56,48,46,22,31,5,9,4,4,5,5,0,3,0,1,0,0,0,0,2,0,0,0,0,1,0,0,0,0,0,0,1,0],\"type\":\"choropleth\"}],\"name\":\"Twitter\"}]);\n",
       "                        }).then(function(){\n",
       "                            \n",
       "var gd = document.getElementById('b1fd429a-8480-4ea4-8d8b-a16d7fda3140');\n",
       "var x = new MutationObserver(function (mutations, observer) {{\n",
       "        var display = window.getComputedStyle(gd).display;\n",
       "        if (!display || display === 'none') {{\n",
       "            console.log([gd, 'removed!']);\n",
       "            Plotly.purge(gd);\n",
       "            observer.disconnect();\n",
       "        }}\n",
       "}});\n",
       "\n",
       "// Listen for the removal of the full notebook cells\n",
       "var notebookContainer = gd.closest('#notebook-container');\n",
       "if (notebookContainer) {{\n",
       "    x.observe(notebookContainer, {childList: true});\n",
       "}}\n",
       "\n",
       "// Listen for the clearing of the current output cell\n",
       "var outputEl = gd.closest('.output');\n",
       "if (outputEl) {{\n",
       "    x.observe(outputEl, {childList: true});\n",
       "}}\n",
       "\n",
       "                        })                };                });            </script>        </div>"
      ]
     },
     "metadata": {},
     "output_type": "display_data"
    }
   ],
   "source": [
    "country_platform_counts = df.groupby(['Country', 'Platform']).size().reset_index(name='Count')\n",
    "fig = px.choropleth(\n",
    "    country_platform_counts,\n",
    "    locations=\"Country\",  # Country names or ISO codes\n",
    "    locationmode=\"country names\",\n",
    "    color=\"Count\",\n",
    "    hover_name=\"Country\",\n",
    "    animation_frame=\"Platform\",  # Add a slider for the 'Platform' variable\n",
    "    title=\"Platform Distribution Across Countries\",\n",
    "    color_continuous_scale=px.colors.sequential.Plasma\n",
    ")\n",
    "fig.update_layout(\n",
    "    geo=dict(showframe=False, showcoastlines=True, projection_type='natural earth'),\n",
    "    title_font=dict(size=20, family=\"Arial Black\")\n",
    ")\n",
    "fig.show()\n"
   ]
  },
  {
   "cell_type": "markdown",
   "metadata": {
    "id": "yBZEjSAglK0G"
   },
   "source": [
    "### <font color=red> 4. Correlation between the number of Retweets and the Likes"
   ]
  },
  {
   "cell_type": "code",
   "execution_count": 22,
   "metadata": {
    "execution": {
     "iopub.execute_input": "2024-12-09T07:32:27.667086Z",
     "iopub.status.busy": "2024-12-09T07:32:27.666378Z",
     "iopub.status.idle": "2024-12-09T07:32:27.738569Z",
     "shell.execute_reply": "2024-12-09T07:32:27.737722Z",
     "shell.execute_reply.started": "2024-12-09T07:32:27.667048Z"
    },
    "executionInfo": {
     "elapsed": 30,
     "status": "ok",
     "timestamp": 1733728135988,
     "user": {
      "displayName": "66_Rishij Manna",
      "userId": "01245000441612451756"
     },
     "user_tz": -330
    },
    "id": "KJdGH7WJrnwH",
    "outputId": "a222b842-c57f-460e-fe57-d1dcec80bff1",
    "trusted": true
   },
   "outputs": [
    {
     "data": {
      "text/html": [
       "<div>                            <div id=\"4e6fdbba-d9a7-4531-a8e4-6725d7b728a5\" class=\"plotly-graph-div\" style=\"height:525px; width:100%;\"></div>            <script type=\"text/javascript\">                require([\"plotly\"], function(Plotly) {                    window.PLOTLYENV=window.PLOTLYENV || {};                                    if (document.getElementById(\"4e6fdbba-d9a7-4531-a8e4-6725d7b728a5\")) {                    Plotly.newPlot(                        \"4e6fdbba-d9a7-4531-a8e4-6725d7b728a5\",                        [{\"hovertemplate\":\"Retweets=%{x}\\u003cbr\\u003eLikes=%{marker.color}\\u003cextra\\u003e\\u003c\\u002fextra\\u003e\",\"legendgroup\":\"\",\"marker\":{\"color\":[30.0,10.0,40.0,15.0,25.0,50.0,20.0,30.0,60.0,35.0,45.0,15.0,25.0,55.0,30.0,40.0,30.0,35.0,50.0,15.0,45.0,30.0,60.0,40.0,25.0,30.0,50.0,30.0,45.0,25.0,35.0,30.0,60.0,50.0,30.0,45.0,35.0,30.0,25.0,60.0,50.0,30.0,45.0,35.0,30.0,25.0,55.0,30.0,40.0,30.0,45.0,35.0,40.0,30.0,50.0,35.0,60.0,45.0,30.0,35.0,50.0,40.0,30.0,45.0,35.0,50.0,30.0,45.0,40.0,35.0,30.0,50.0,45.0,40.0,60.0,30.0,40.0,30.0,50.0,35.0,60.0,45.0,30.0,35.0,50.0,40.0,30.0,45.0,35.0,50.0,30.0,45.0,40.0,35.0,30.0,50.0,45.0,40.0,60.0,30.0,45.0,35.0,30.0,30.0,60.0,50.0,45.0,25.0,30.0,40.0,30.0,50.0,35.0,60.0,45.0,30.0,35.0,50.0,40.0,30.0,45.0,35.0,50.0,30.0,60.0,45.0,30.0,35.0,50.0,35.0,50.0,40.0,30.0,45.0,35.0,50.0,40.0,30.0,50.0,35.0,60.0,45.0,30.0,35.0,50.0,40.0,30.0,45.0,35.0,50.0,30.0,60.0,45.0,30.0,35.0,50.0,35.0,50.0,40.0,30.0,45.0,35.0,50.0,10.0,15.0,20.0,25.0,15.0,20.0,15.0,25.0,30.0,15.0,20.0,25.0,15.0,20.0,25.0,30.0,15.0,20.0,25.0,15.0,20.0,30.0,15.0,20.0,25.0,15.0,20.0,25.0,30.0,15.0,20.0,25.0,15.0,30.0,15.0,20.0,15.0,25.0,20.0,25.0,30.0,20.0,25.0,40.0,20.0,30.0,15.0,25.0,20.0,25.0,30.0,35.0,50.0,45.0,18.0,28.0,20.0,26.0,25.0,30.0,36.0,40.0,50.0,18.0,28.0,22.0,26.0,25.0,30.0,36.0,40.0,50.0,45.0,18.0,28.0,20.0,26.0,25.0,30.0,36.0,40.0,50.0,44.0,20.0,30.0,36.0,24.0,50.0,40.0,30.0,36.0,44.0,40.0,30.0,24.0,50.0,26.0,34.0,28.0,38.0,32.0,42.0,46.0,28.0,48.0,36.0,40.0,32.0,44.0,38.0,46.0,30.0,50.0,28.0,34.0,42.0,46.0,28.0,48.0,36.0,40.0,32.0,44.0,38.0,46.0,30.0,50.0,28.0,34.0,42.0,46.0,28.0,48.0,16.0,24.0,30.0,20.0,36.0,28.0,44.0,32.0,50.0,24.0,40.0,28.0,30.0,36.0,26.0,20.0,40.0,32.0,50.0,28.0,40.0,24.0,16.0,30.0,36.0,20.0,36.0,28.0,44.0,32.0,50.0,28.0,40.0,24.0,30.0,36.0,55.0,30.0,45.0,80.0,35.0,50.0,60.0,70.0,40.0,35.0,50.0,35.0,60.0,80.0,45.0,70.0,30.0,55.0,40.0,60.0,50.0,35.0,45.0,80.0,70.0,40.0,55.0,30.0,50.0,60.0,35.0,45.0,70.0,40.0,55.0,30.0,80.0,35.0,50.0,35.0,45.0,70.0,60.0,55.0,40.0,35.0,45.0,70.0,30.0,50.0,80.0,35.0,55.0,60.0,45.0,70.0,40.0,35.0,50.0,35.0,45.0,70.0,60.0,55.0,40.0,35.0,45.0,70.0,30.0,50.0,80.0,35.0,55.0,60.0,45.0,70.0,40.0,35.0,35.0,45.0,55.0,70.0,40.0,50.0,60.0,35.0,45.0,55.0,30.0,35.0,45.0,55.0,45.0,50.0,60.0,35.0,55.0,70.0,40.0,45.0,80.0,35.0,50.0,70.0,35.0,55.0,45.0,40.0,40.0,50.0,35.0,45.0,30.0,55.0,45.0,60.0,50.0,70.0,60.0,35.0,55.0,45.0,40.0,50.0,30.0,45.0,35.0,55.0,60.0,35.0,45.0,50.0,40.0,55.0,35.0,45.0,30.0,60.0,80.0,70.0,50.0,60.0,45.0,55.0,35.0,40.0,50.0,60.0,70.0,80.0,60.0,50.0,45.0,55.0,35.0,45.0,60.0,70.0,55.0,60.0,45.0,70.0,35.0,50.0,45.0,60.0,40.0,55.0,70.0,50.0,45.0,60.0,35.0,55.0,40.0,45.0,50.0,45.0,80.0,70.0,60.0,45.0,35.0,55.0,50.0,45.0,70.0,60.0,80.0,70.0,60.0,45.0,35.0,55.0,50.0,45.0,70.0,60.0,80.0,70.0,60.0,45.0,55.0,35.0,45.0,55.0,70.0,45.0,80.0,70.0,60.0,45.0,55.0,35.0,45.0,55.0,70.0,45.0,80.0,70.0,60.0,45.0,55.0,35.0,45.0,55.0,70.0,45.0,80.0,70.0,60.0,45.0,55.0,35.0,45.0,55.0,70.0,45.0,80.0,70.0,60.0,45.0,55.0,35.0,45.0,55.0,45.0,70.0,30.0,35.0,45.0,40.0,50.0,40.0,55.0,45.0,35.0,60.0,45.0,70.0,40.0,55.0,45.0,50.0,35.0,55.0,45.0,70.0,40.0,60.0,70.0,55.0,45.0,50.0,60.0,35.0,70.0,55.0,45.0,40.0,35.0,50.0,55.0,45.0,70.0,60.0,40.0,35.0,50.0,55.0,60.0,45.0,55.0,70.0,35.0,50.0,45.0,60.0,40.0,55.0,45.0,50.0,70.0,40.0,55.0,60.0,35.0,50.0,45.0,60.0,40.0,50.0,35.0,45.0,60.0,55.0,45.0,60.0,40.0,55.0,45.0,50.0,70.0,40.0,55.0,60.0,35.0,50.0,45.0,60.0,30.0,40.0,55.0,38.0,50.0,35.0,45.0,36.0,48.0,40.0,42.0,39.0,33.0,44.0,37.0,52.0,43.0,39.0,48.0,32.0,42.0,28.0,36.0,40.0,34.0,41.0,38.0,44.0,31.0,27.0,35.0,39.0,46.0,50.0,42.0,37.0,32.0,36.0,41.0,48.0,43.0,39.0,42.0,50.0,38.0,43.0,36.0,45.0,48.0,40.0,49.0,37.0,44.0,39.0,35.0,43.0,52.0,48.0,38.0,42.0,50.0,45.0,43.0,44.0,51.0,39.0,48.0,42.0,43.0,47.0],\"coloraxis\":\"coloraxis\",\"symbol\":\"circle\"},\"mode\":\"markers\",\"name\":\"\",\"orientation\":\"v\",\"showlegend\":false,\"x\":[15.0,5.0,20.0,8.0,12.0,25.0,10.0,15.0,30.0,18.0,22.0,7.0,12.0,28.0,15.0,20.0,15.0,18.0,25.0,8.0,22.0,15.0,30.0,20.0,12.0,15.0,25.0,15.0,22.0,12.0,18.0,15.0,30.0,25.0,15.0,22.0,18.0,15.0,12.0,30.0,25.0,15.0,22.0,18.0,15.0,12.0,28.0,15.0,20.0,15.0,22.0,18.0,20.0,15.0,25.0,18.0,30.0,22.0,15.0,18.0,25.0,20.0,15.0,22.0,18.0,25.0,15.0,22.0,20.0,18.0,15.0,25.0,22.0,20.0,30.0,15.0,20.0,15.0,25.0,18.0,30.0,22.0,15.0,18.0,25.0,20.0,15.0,22.0,18.0,25.0,15.0,22.0,20.0,18.0,15.0,25.0,22.0,20.0,30.0,15.0,22.0,18.0,15.0,15.0,30.0,25.0,22.0,12.0,15.0,20.0,15.0,25.0,18.0,30.0,22.0,15.0,18.0,25.0,20.0,15.0,22.0,18.0,25.0,15.0,30.0,22.0,15.0,18.0,25.0,18.0,25.0,20.0,15.0,22.0,18.0,25.0,20.0,15.0,25.0,18.0,30.0,22.0,15.0,18.0,25.0,20.0,15.0,22.0,18.0,25.0,15.0,30.0,22.0,15.0,18.0,25.0,18.0,25.0,20.0,15.0,22.0,18.0,25.0,5.0,8.0,10.0,12.0,7.0,10.0,8.0,12.0,15.0,8.0,10.0,12.0,7.0,10.0,12.0,15.0,8.0,10.0,12.0,7.0,10.0,15.0,8.0,10.0,12.0,7.0,10.0,12.0,15.0,8.0,10.0,12.0,7.0,15.0,7.0,10.0,8.0,12.0,10.0,12.0,15.0,10.0,12.0,20.0,10.0,15.0,8.0,12.0,10.0,12.0,15.0,18.0,25.0,22.0,9.0,14.0,10.0,13.0,12.0,15.0,18.0,20.0,25.0,9.0,14.0,11.0,13.0,12.0,15.0,18.0,20.0,25.0,22.0,9.0,14.0,10.0,13.0,12.0,15.0,18.0,20.0,25.0,22.0,10.0,15.0,18.0,12.0,25.0,20.0,15.0,18.0,22.0,20.0,15.0,12.0,25.0,13.0,17.0,14.0,19.0,16.0,21.0,23.0,14.0,24.0,18.0,20.0,16.0,22.0,19.0,23.0,15.0,25.0,14.0,17.0,21.0,23.0,14.0,24.0,18.0,20.0,16.0,22.0,19.0,23.0,15.0,25.0,14.0,17.0,21.0,23.0,14.0,24.0,8.0,12.0,15.0,10.0,18.0,14.0,22.0,16.0,25.0,12.0,20.0,14.0,15.0,18.0,13.0,10.0,20.0,16.0,25.0,14.0,20.0,12.0,8.0,15.0,18.0,10.0,18.0,14.0,22.0,16.0,25.0,14.0,20.0,12.0,15.0,18.0,28.0,15.0,22.0,40.0,18.0,25.0,30.0,35.0,20.0,18.0,25.0,18.0,30.0,40.0,22.0,35.0,15.0,28.0,20.0,30.0,25.0,18.0,22.0,40.0,35.0,20.0,28.0,15.0,25.0,30.0,18.0,22.0,35.0,20.0,28.0,15.0,40.0,18.0,25.0,18.0,22.0,35.0,30.0,28.0,20.0,18.0,22.0,35.0,15.0,25.0,40.0,18.0,28.0,30.0,22.0,35.0,20.0,18.0,25.0,18.0,22.0,35.0,30.0,28.0,20.0,18.0,22.0,35.0,15.0,25.0,40.0,18.0,28.0,30.0,22.0,35.0,20.0,18.0,18.0,22.0,28.0,35.0,20.0,25.0,30.0,18.0,22.0,28.0,15.0,18.0,22.0,28.0,22.0,25.0,30.0,18.0,28.0,35.0,20.0,22.0,40.0,18.0,25.0,35.0,18.0,28.0,22.0,20.0,20.0,25.0,18.0,22.0,15.0,28.0,22.0,30.0,25.0,35.0,30.0,18.0,28.0,22.0,20.0,25.0,15.0,22.0,18.0,28.0,30.0,18.0,22.0,25.0,20.0,28.0,18.0,22.0,15.0,30.0,40.0,35.0,25.0,30.0,22.0,28.0,18.0,20.0,25.0,30.0,35.0,40.0,30.0,25.0,22.0,28.0,18.0,22.0,30.0,35.0,28.0,30.0,22.0,35.0,18.0,25.0,22.0,30.0,20.0,28.0,35.0,25.0,22.0,30.0,18.0,28.0,20.0,22.0,25.0,22.0,40.0,35.0,30.0,22.0,18.0,28.0,25.0,22.0,35.0,30.0,40.0,35.0,30.0,22.0,18.0,28.0,25.0,22.0,35.0,30.0,40.0,35.0,30.0,22.0,28.0,18.0,22.0,28.0,35.0,22.0,40.0,35.0,30.0,22.0,28.0,18.0,22.0,28.0,35.0,22.0,40.0,35.0,30.0,22.0,28.0,18.0,22.0,28.0,35.0,22.0,40.0,35.0,30.0,22.0,28.0,18.0,22.0,28.0,35.0,22.0,40.0,35.0,30.0,22.0,28.0,18.0,22.0,28.0,22.0,35.0,15.0,18.0,22.0,20.0,25.0,20.0,28.0,22.0,18.0,30.0,22.0,35.0,20.0,28.0,22.0,25.0,18.0,28.0,22.0,35.0,20.0,30.0,35.0,28.0,22.0,25.0,30.0,18.0,35.0,28.0,22.0,20.0,18.0,25.0,28.0,22.0,35.0,30.0,20.0,18.0,25.0,28.0,30.0,22.0,28.0,35.0,18.0,25.0,22.0,30.0,20.0,28.0,22.0,25.0,35.0,20.0,28.0,30.0,18.0,25.0,22.0,30.0,20.0,25.0,18.0,22.0,30.0,28.0,22.0,30.0,20.0,28.0,22.0,25.0,35.0,20.0,28.0,30.0,18.0,25.0,22.0,30.0,15.0,22.0,28.0,20.0,25.0,18.0,22.0,18.0,26.0,20.0,24.0,21.0,17.0,23.0,19.0,27.0,22.0,20.0,26.0,16.0,23.0,15.0,18.0,20.0,17.0,21.0,19.0,22.0,16.0,14.0,18.0,20.0,23.0,25.0,21.0,19.0,16.0,18.0,21.0,24.0,22.0,20.0,23.0,26.0,19.0,21.0,18.0,22.0,24.0,20.0,25.0,19.0,23.0,20.0,18.0,22.0,27.0,24.0,19.0,21.0,26.0,23.0,22.0,23.0,26.0,20.0,25.0,22.0,21.0,24.0],\"xaxis\":\"x\",\"y\":[30.0,10.0,40.0,15.0,25.0,50.0,20.0,30.0,60.0,35.0,45.0,15.0,25.0,55.0,30.0,40.0,30.0,35.0,50.0,15.0,45.0,30.0,60.0,40.0,25.0,30.0,50.0,30.0,45.0,25.0,35.0,30.0,60.0,50.0,30.0,45.0,35.0,30.0,25.0,60.0,50.0,30.0,45.0,35.0,30.0,25.0,55.0,30.0,40.0,30.0,45.0,35.0,40.0,30.0,50.0,35.0,60.0,45.0,30.0,35.0,50.0,40.0,30.0,45.0,35.0,50.0,30.0,45.0,40.0,35.0,30.0,50.0,45.0,40.0,60.0,30.0,40.0,30.0,50.0,35.0,60.0,45.0,30.0,35.0,50.0,40.0,30.0,45.0,35.0,50.0,30.0,45.0,40.0,35.0,30.0,50.0,45.0,40.0,60.0,30.0,45.0,35.0,30.0,30.0,60.0,50.0,45.0,25.0,30.0,40.0,30.0,50.0,35.0,60.0,45.0,30.0,35.0,50.0,40.0,30.0,45.0,35.0,50.0,30.0,60.0,45.0,30.0,35.0,50.0,35.0,50.0,40.0,30.0,45.0,35.0,50.0,40.0,30.0,50.0,35.0,60.0,45.0,30.0,35.0,50.0,40.0,30.0,45.0,35.0,50.0,30.0,60.0,45.0,30.0,35.0,50.0,35.0,50.0,40.0,30.0,45.0,35.0,50.0,10.0,15.0,20.0,25.0,15.0,20.0,15.0,25.0,30.0,15.0,20.0,25.0,15.0,20.0,25.0,30.0,15.0,20.0,25.0,15.0,20.0,30.0,15.0,20.0,25.0,15.0,20.0,25.0,30.0,15.0,20.0,25.0,15.0,30.0,15.0,20.0,15.0,25.0,20.0,25.0,30.0,20.0,25.0,40.0,20.0,30.0,15.0,25.0,20.0,25.0,30.0,35.0,50.0,45.0,18.0,28.0,20.0,26.0,25.0,30.0,36.0,40.0,50.0,18.0,28.0,22.0,26.0,25.0,30.0,36.0,40.0,50.0,45.0,18.0,28.0,20.0,26.0,25.0,30.0,36.0,40.0,50.0,44.0,20.0,30.0,36.0,24.0,50.0,40.0,30.0,36.0,44.0,40.0,30.0,24.0,50.0,26.0,34.0,28.0,38.0,32.0,42.0,46.0,28.0,48.0,36.0,40.0,32.0,44.0,38.0,46.0,30.0,50.0,28.0,34.0,42.0,46.0,28.0,48.0,36.0,40.0,32.0,44.0,38.0,46.0,30.0,50.0,28.0,34.0,42.0,46.0,28.0,48.0,16.0,24.0,30.0,20.0,36.0,28.0,44.0,32.0,50.0,24.0,40.0,28.0,30.0,36.0,26.0,20.0,40.0,32.0,50.0,28.0,40.0,24.0,16.0,30.0,36.0,20.0,36.0,28.0,44.0,32.0,50.0,28.0,40.0,24.0,30.0,36.0,55.0,30.0,45.0,80.0,35.0,50.0,60.0,70.0,40.0,35.0,50.0,35.0,60.0,80.0,45.0,70.0,30.0,55.0,40.0,60.0,50.0,35.0,45.0,80.0,70.0,40.0,55.0,30.0,50.0,60.0,35.0,45.0,70.0,40.0,55.0,30.0,80.0,35.0,50.0,35.0,45.0,70.0,60.0,55.0,40.0,35.0,45.0,70.0,30.0,50.0,80.0,35.0,55.0,60.0,45.0,70.0,40.0,35.0,50.0,35.0,45.0,70.0,60.0,55.0,40.0,35.0,45.0,70.0,30.0,50.0,80.0,35.0,55.0,60.0,45.0,70.0,40.0,35.0,35.0,45.0,55.0,70.0,40.0,50.0,60.0,35.0,45.0,55.0,30.0,35.0,45.0,55.0,45.0,50.0,60.0,35.0,55.0,70.0,40.0,45.0,80.0,35.0,50.0,70.0,35.0,55.0,45.0,40.0,40.0,50.0,35.0,45.0,30.0,55.0,45.0,60.0,50.0,70.0,60.0,35.0,55.0,45.0,40.0,50.0,30.0,45.0,35.0,55.0,60.0,35.0,45.0,50.0,40.0,55.0,35.0,45.0,30.0,60.0,80.0,70.0,50.0,60.0,45.0,55.0,35.0,40.0,50.0,60.0,70.0,80.0,60.0,50.0,45.0,55.0,35.0,45.0,60.0,70.0,55.0,60.0,45.0,70.0,35.0,50.0,45.0,60.0,40.0,55.0,70.0,50.0,45.0,60.0,35.0,55.0,40.0,45.0,50.0,45.0,80.0,70.0,60.0,45.0,35.0,55.0,50.0,45.0,70.0,60.0,80.0,70.0,60.0,45.0,35.0,55.0,50.0,45.0,70.0,60.0,80.0,70.0,60.0,45.0,55.0,35.0,45.0,55.0,70.0,45.0,80.0,70.0,60.0,45.0,55.0,35.0,45.0,55.0,70.0,45.0,80.0,70.0,60.0,45.0,55.0,35.0,45.0,55.0,70.0,45.0,80.0,70.0,60.0,45.0,55.0,35.0,45.0,55.0,70.0,45.0,80.0,70.0,60.0,45.0,55.0,35.0,45.0,55.0,45.0,70.0,30.0,35.0,45.0,40.0,50.0,40.0,55.0,45.0,35.0,60.0,45.0,70.0,40.0,55.0,45.0,50.0,35.0,55.0,45.0,70.0,40.0,60.0,70.0,55.0,45.0,50.0,60.0,35.0,70.0,55.0,45.0,40.0,35.0,50.0,55.0,45.0,70.0,60.0,40.0,35.0,50.0,55.0,60.0,45.0,55.0,70.0,35.0,50.0,45.0,60.0,40.0,55.0,45.0,50.0,70.0,40.0,55.0,60.0,35.0,50.0,45.0,60.0,40.0,50.0,35.0,45.0,60.0,55.0,45.0,60.0,40.0,55.0,45.0,50.0,70.0,40.0,55.0,60.0,35.0,50.0,45.0,60.0,30.0,40.0,55.0,38.0,50.0,35.0,45.0,36.0,48.0,40.0,42.0,39.0,33.0,44.0,37.0,52.0,43.0,39.0,48.0,32.0,42.0,28.0,36.0,40.0,34.0,41.0,38.0,44.0,31.0,27.0,35.0,39.0,46.0,50.0,42.0,37.0,32.0,36.0,41.0,48.0,43.0,39.0,42.0,50.0,38.0,43.0,36.0,45.0,48.0,40.0,49.0,37.0,44.0,39.0,35.0,43.0,52.0,48.0,38.0,42.0,50.0,45.0,43.0,44.0,51.0,39.0,48.0,42.0,43.0,47.0],\"yaxis\":\"y\",\"type\":\"scatter\"}],                        {\"template\":{\"data\":{\"histogram2dcontour\":[{\"type\":\"histogram2dcontour\",\"colorbar\":{\"outlinewidth\":0,\"ticks\":\"\"},\"colorscale\":[[0.0,\"#0d0887\"],[0.1111111111111111,\"#46039f\"],[0.2222222222222222,\"#7201a8\"],[0.3333333333333333,\"#9c179e\"],[0.4444444444444444,\"#bd3786\"],[0.5555555555555556,\"#d8576b\"],[0.6666666666666666,\"#ed7953\"],[0.7777777777777778,\"#fb9f3a\"],[0.8888888888888888,\"#fdca26\"],[1.0,\"#f0f921\"]]}],\"choropleth\":[{\"type\":\"choropleth\",\"colorbar\":{\"outlinewidth\":0,\"ticks\":\"\"}}],\"histogram2d\":[{\"type\":\"histogram2d\",\"colorbar\":{\"outlinewidth\":0,\"ticks\":\"\"},\"colorscale\":[[0.0,\"#0d0887\"],[0.1111111111111111,\"#46039f\"],[0.2222222222222222,\"#7201a8\"],[0.3333333333333333,\"#9c179e\"],[0.4444444444444444,\"#bd3786\"],[0.5555555555555556,\"#d8576b\"],[0.6666666666666666,\"#ed7953\"],[0.7777777777777778,\"#fb9f3a\"],[0.8888888888888888,\"#fdca26\"],[1.0,\"#f0f921\"]]}],\"heatmap\":[{\"type\":\"heatmap\",\"colorbar\":{\"outlinewidth\":0,\"ticks\":\"\"},\"colorscale\":[[0.0,\"#0d0887\"],[0.1111111111111111,\"#46039f\"],[0.2222222222222222,\"#7201a8\"],[0.3333333333333333,\"#9c179e\"],[0.4444444444444444,\"#bd3786\"],[0.5555555555555556,\"#d8576b\"],[0.6666666666666666,\"#ed7953\"],[0.7777777777777778,\"#fb9f3a\"],[0.8888888888888888,\"#fdca26\"],[1.0,\"#f0f921\"]]}],\"heatmapgl\":[{\"type\":\"heatmapgl\",\"colorbar\":{\"outlinewidth\":0,\"ticks\":\"\"},\"colorscale\":[[0.0,\"#0d0887\"],[0.1111111111111111,\"#46039f\"],[0.2222222222222222,\"#7201a8\"],[0.3333333333333333,\"#9c179e\"],[0.4444444444444444,\"#bd3786\"],[0.5555555555555556,\"#d8576b\"],[0.6666666666666666,\"#ed7953\"],[0.7777777777777778,\"#fb9f3a\"],[0.8888888888888888,\"#fdca26\"],[1.0,\"#f0f921\"]]}],\"contourcarpet\":[{\"type\":\"contourcarpet\",\"colorbar\":{\"outlinewidth\":0,\"ticks\":\"\"}}],\"contour\":[{\"type\":\"contour\",\"colorbar\":{\"outlinewidth\":0,\"ticks\":\"\"},\"colorscale\":[[0.0,\"#0d0887\"],[0.1111111111111111,\"#46039f\"],[0.2222222222222222,\"#7201a8\"],[0.3333333333333333,\"#9c179e\"],[0.4444444444444444,\"#bd3786\"],[0.5555555555555556,\"#d8576b\"],[0.6666666666666666,\"#ed7953\"],[0.7777777777777778,\"#fb9f3a\"],[0.8888888888888888,\"#fdca26\"],[1.0,\"#f0f921\"]]}],\"surface\":[{\"type\":\"surface\",\"colorbar\":{\"outlinewidth\":0,\"ticks\":\"\"},\"colorscale\":[[0.0,\"#0d0887\"],[0.1111111111111111,\"#46039f\"],[0.2222222222222222,\"#7201a8\"],[0.3333333333333333,\"#9c179e\"],[0.4444444444444444,\"#bd3786\"],[0.5555555555555556,\"#d8576b\"],[0.6666666666666666,\"#ed7953\"],[0.7777777777777778,\"#fb9f3a\"],[0.8888888888888888,\"#fdca26\"],[1.0,\"#f0f921\"]]}],\"mesh3d\":[{\"type\":\"mesh3d\",\"colorbar\":{\"outlinewidth\":0,\"ticks\":\"\"}}],\"scatter\":[{\"fillpattern\":{\"fillmode\":\"overlay\",\"size\":10,\"solidity\":0.2},\"type\":\"scatter\"}],\"parcoords\":[{\"type\":\"parcoords\",\"line\":{\"colorbar\":{\"outlinewidth\":0,\"ticks\":\"\"}}}],\"scatterpolargl\":[{\"type\":\"scatterpolargl\",\"marker\":{\"colorbar\":{\"outlinewidth\":0,\"ticks\":\"\"}}}],\"bar\":[{\"error_x\":{\"color\":\"#2a3f5f\"},\"error_y\":{\"color\":\"#2a3f5f\"},\"marker\":{\"line\":{\"color\":\"#E5ECF6\",\"width\":0.5},\"pattern\":{\"fillmode\":\"overlay\",\"size\":10,\"solidity\":0.2}},\"type\":\"bar\"}],\"scattergeo\":[{\"type\":\"scattergeo\",\"marker\":{\"colorbar\":{\"outlinewidth\":0,\"ticks\":\"\"}}}],\"scatterpolar\":[{\"type\":\"scatterpolar\",\"marker\":{\"colorbar\":{\"outlinewidth\":0,\"ticks\":\"\"}}}],\"histogram\":[{\"marker\":{\"pattern\":{\"fillmode\":\"overlay\",\"size\":10,\"solidity\":0.2}},\"type\":\"histogram\"}],\"scattergl\":[{\"type\":\"scattergl\",\"marker\":{\"colorbar\":{\"outlinewidth\":0,\"ticks\":\"\"}}}],\"scatter3d\":[{\"type\":\"scatter3d\",\"line\":{\"colorbar\":{\"outlinewidth\":0,\"ticks\":\"\"}},\"marker\":{\"colorbar\":{\"outlinewidth\":0,\"ticks\":\"\"}}}],\"scattermapbox\":[{\"type\":\"scattermapbox\",\"marker\":{\"colorbar\":{\"outlinewidth\":0,\"ticks\":\"\"}}}],\"scatterternary\":[{\"type\":\"scatterternary\",\"marker\":{\"colorbar\":{\"outlinewidth\":0,\"ticks\":\"\"}}}],\"scattercarpet\":[{\"type\":\"scattercarpet\",\"marker\":{\"colorbar\":{\"outlinewidth\":0,\"ticks\":\"\"}}}],\"carpet\":[{\"aaxis\":{\"endlinecolor\":\"#2a3f5f\",\"gridcolor\":\"white\",\"linecolor\":\"white\",\"minorgridcolor\":\"white\",\"startlinecolor\":\"#2a3f5f\"},\"baxis\":{\"endlinecolor\":\"#2a3f5f\",\"gridcolor\":\"white\",\"linecolor\":\"white\",\"minorgridcolor\":\"white\",\"startlinecolor\":\"#2a3f5f\"},\"type\":\"carpet\"}],\"table\":[{\"cells\":{\"fill\":{\"color\":\"#EBF0F8\"},\"line\":{\"color\":\"white\"}},\"header\":{\"fill\":{\"color\":\"#C8D4E3\"},\"line\":{\"color\":\"white\"}},\"type\":\"table\"}],\"barpolar\":[{\"marker\":{\"line\":{\"color\":\"#E5ECF6\",\"width\":0.5},\"pattern\":{\"fillmode\":\"overlay\",\"size\":10,\"solidity\":0.2}},\"type\":\"barpolar\"}],\"pie\":[{\"automargin\":true,\"type\":\"pie\"}]},\"layout\":{\"autotypenumbers\":\"strict\",\"colorway\":[\"#636efa\",\"#EF553B\",\"#00cc96\",\"#ab63fa\",\"#FFA15A\",\"#19d3f3\",\"#FF6692\",\"#B6E880\",\"#FF97FF\",\"#FECB52\"],\"font\":{\"color\":\"#2a3f5f\"},\"hovermode\":\"closest\",\"hoverlabel\":{\"align\":\"left\"},\"paper_bgcolor\":\"white\",\"plot_bgcolor\":\"#E5ECF6\",\"polar\":{\"bgcolor\":\"#E5ECF6\",\"angularaxis\":{\"gridcolor\":\"white\",\"linecolor\":\"white\",\"ticks\":\"\"},\"radialaxis\":{\"gridcolor\":\"white\",\"linecolor\":\"white\",\"ticks\":\"\"}},\"ternary\":{\"bgcolor\":\"#E5ECF6\",\"aaxis\":{\"gridcolor\":\"white\",\"linecolor\":\"white\",\"ticks\":\"\"},\"baxis\":{\"gridcolor\":\"white\",\"linecolor\":\"white\",\"ticks\":\"\"},\"caxis\":{\"gridcolor\":\"white\",\"linecolor\":\"white\",\"ticks\":\"\"}},\"coloraxis\":{\"colorbar\":{\"outlinewidth\":0,\"ticks\":\"\"}},\"colorscale\":{\"sequential\":[[0.0,\"#0d0887\"],[0.1111111111111111,\"#46039f\"],[0.2222222222222222,\"#7201a8\"],[0.3333333333333333,\"#9c179e\"],[0.4444444444444444,\"#bd3786\"],[0.5555555555555556,\"#d8576b\"],[0.6666666666666666,\"#ed7953\"],[0.7777777777777778,\"#fb9f3a\"],[0.8888888888888888,\"#fdca26\"],[1.0,\"#f0f921\"]],\"sequentialminus\":[[0.0,\"#0d0887\"],[0.1111111111111111,\"#46039f\"],[0.2222222222222222,\"#7201a8\"],[0.3333333333333333,\"#9c179e\"],[0.4444444444444444,\"#bd3786\"],[0.5555555555555556,\"#d8576b\"],[0.6666666666666666,\"#ed7953\"],[0.7777777777777778,\"#fb9f3a\"],[0.8888888888888888,\"#fdca26\"],[1.0,\"#f0f921\"]],\"diverging\":[[0,\"#8e0152\"],[0.1,\"#c51b7d\"],[0.2,\"#de77ae\"],[0.3,\"#f1b6da\"],[0.4,\"#fde0ef\"],[0.5,\"#f7f7f7\"],[0.6,\"#e6f5d0\"],[0.7,\"#b8e186\"],[0.8,\"#7fbc41\"],[0.9,\"#4d9221\"],[1,\"#276419\"]]},\"xaxis\":{\"gridcolor\":\"white\",\"linecolor\":\"white\",\"ticks\":\"\",\"title\":{\"standoff\":15},\"zerolinecolor\":\"white\",\"automargin\":true,\"zerolinewidth\":2},\"yaxis\":{\"gridcolor\":\"white\",\"linecolor\":\"white\",\"ticks\":\"\",\"title\":{\"standoff\":15},\"zerolinecolor\":\"white\",\"automargin\":true,\"zerolinewidth\":2},\"scene\":{\"xaxis\":{\"backgroundcolor\":\"#E5ECF6\",\"gridcolor\":\"white\",\"linecolor\":\"white\",\"showbackground\":true,\"ticks\":\"\",\"zerolinecolor\":\"white\",\"gridwidth\":2},\"yaxis\":{\"backgroundcolor\":\"#E5ECF6\",\"gridcolor\":\"white\",\"linecolor\":\"white\",\"showbackground\":true,\"ticks\":\"\",\"zerolinecolor\":\"white\",\"gridwidth\":2},\"zaxis\":{\"backgroundcolor\":\"#E5ECF6\",\"gridcolor\":\"white\",\"linecolor\":\"white\",\"showbackground\":true,\"ticks\":\"\",\"zerolinecolor\":\"white\",\"gridwidth\":2}},\"shapedefaults\":{\"line\":{\"color\":\"#2a3f5f\"}},\"annotationdefaults\":{\"arrowcolor\":\"#2a3f5f\",\"arrowhead\":0,\"arrowwidth\":1},\"geo\":{\"bgcolor\":\"white\",\"landcolor\":\"#E5ECF6\",\"subunitcolor\":\"white\",\"showland\":true,\"showlakes\":true,\"lakecolor\":\"white\"},\"title\":{\"x\":0.05},\"mapbox\":{\"style\":\"light\"}}},\"xaxis\":{\"anchor\":\"y\",\"domain\":[0.0,1.0],\"title\":{\"text\":\"Retweets\"}},\"yaxis\":{\"anchor\":\"x\",\"domain\":[0.0,1.0],\"title\":{\"text\":\"Likes\"}},\"coloraxis\":{\"colorbar\":{\"title\":{\"text\":\"Likes\"}},\"colorscale\":[[0.0,\"#0d0887\"],[0.1111111111111111,\"#46039f\"],[0.2222222222222222,\"#7201a8\"],[0.3333333333333333,\"#9c179e\"],[0.4444444444444444,\"#bd3786\"],[0.5555555555555556,\"#d8576b\"],[0.6666666666666666,\"#ed7953\"],[0.7777777777777778,\"#fb9f3a\"],[0.8888888888888888,\"#fdca26\"],[1.0,\"#f0f921\"]]},\"legend\":{\"tracegroupgap\":0},\"title\":{\"text\":\"Interactive Correlation Between Retweets and Likes\"}},                        {\"responsive\": true}                    ).then(function(){\n",
       "                            \n",
       "var gd = document.getElementById('4e6fdbba-d9a7-4531-a8e4-6725d7b728a5');\n",
       "var x = new MutationObserver(function (mutations, observer) {{\n",
       "        var display = window.getComputedStyle(gd).display;\n",
       "        if (!display || display === 'none') {{\n",
       "            console.log([gd, 'removed!']);\n",
       "            Plotly.purge(gd);\n",
       "            observer.disconnect();\n",
       "        }}\n",
       "}});\n",
       "\n",
       "// Listen for the removal of the full notebook cells\n",
       "var notebookContainer = gd.closest('#notebook-container');\n",
       "if (notebookContainer) {{\n",
       "    x.observe(notebookContainer, {childList: true});\n",
       "}}\n",
       "\n",
       "// Listen for the clearing of the current output cell\n",
       "var outputEl = gd.closest('.output');\n",
       "if (outputEl) {{\n",
       "    x.observe(outputEl, {childList: true});\n",
       "}}\n",
       "\n",
       "                        })                };                });            </script>        </div>"
      ]
     },
     "metadata": {},
     "output_type": "display_data"
    }
   ],
   "source": [
    "fig = px.scatter(\n",
    "    df,\n",
    "    x=\"Retweets\",\n",
    "    y=\"Likes\",\n",
    "    title=\"Interactive Correlation Between Retweets and Likes\",\n",
    "    color=\"Likes\"\n",
    ")\n",
    "fig.show()\n"
   ]
  },
  {
   "cell_type": "markdown",
   "metadata": {
    "id": "swy_zH9Qtn76"
   },
   "source": [
    "### <font color=red> 5 . Correlation between the number of Retweets and the Likes  With Respect to Year"
   ]
  },
  {
   "cell_type": "code",
   "execution_count": 23,
   "metadata": {
    "execution": {
     "iopub.execute_input": "2024-12-09T07:32:32.182501Z",
     "iopub.status.busy": "2024-12-09T07:32:32.181513Z",
     "iopub.status.idle": "2024-12-09T07:32:32.280206Z",
     "shell.execute_reply": "2024-12-09T07:32:32.279328Z",
     "shell.execute_reply.started": "2024-12-09T07:32:32.182449Z"
    },
    "executionInfo": {
     "elapsed": 31,
     "status": "ok",
     "timestamp": 1733728135989,
     "user": {
      "displayName": "66_Rishij Manna",
      "userId": "01245000441612451756"
     },
     "user_tz": -330
    },
    "id": "EQT8F91dsDr-",
    "outputId": "2417e38d-d219-4c83-ce74-2d61c76ea1a9",
    "trusted": true
   },
   "outputs": [
    {
     "name": "stdout",
     "output_type": "stream",
     "text": [
      "Keep Year as Y and Retweets as X\n"
     ]
    },
    {
     "data": {
      "text/html": [
       "<div>                            <div id=\"517488d4-ff4e-49bd-a2f2-dee2d484d947\" class=\"plotly-graph-div\" style=\"height:525px; width:100%;\"></div>            <script type=\"text/javascript\">                require([\"plotly\"], function(Plotly) {                    window.PLOTLYENV=window.PLOTLYENV || {};                                    if (document.getElementById(\"517488d4-ff4e-49bd-a2f2-dee2d484d947\")) {                    Plotly.newPlot(                        \"517488d4-ff4e-49bd-a2f2-dee2d484d947\",                        [{\"hovertemplate\":\"Retweets=%{marker.size}\\u003cbr\\u003eLikes=%{marker.color}\\u003cbr\\u003eYear=%{z}\\u003cextra\\u003e\\u003c\\u002fextra\\u003e\",\"legendgroup\":\"\",\"marker\":{\"color\":[45.0,50.0,36.0,45.0,70.0,55.0,60.0,70.0,51.0,55.0,35.0,80.0,15.0,32.0,30.0,50.0,45.0,40.0,25.0,30.0,35.0,60.0,30.0,50.0,50.0,45.0,45.0,55.0,60.0,52.0,60.0,38.0,60.0,55.0,50.0,70.0,70.0,35.0,50.0,45.0,40.0,45.0,70.0,50.0,45.0,40.0,20.0,50.0,35.0,60.0],\"coloraxis\":\"coloraxis\",\"size\":[22.0,25.0,18.0,22.0,35.0,28.0,30.0,35.0,26.0,28.0,18.0,40.0,8.0,16.0,15.0,25.0,22.0,20.0,12.0,15.0,18.0,30.0,15.0,25.0,25.0,22.0,22.0,28.0,30.0,27.0,30.0,19.0,30.0,28.0,26.0,35.0,35.0,18.0,25.0,22.0,20.0,22.0,35.0,25.0,22.0,20.0,10.0,25.0,18.0,30.0],\"sizemode\":\"area\",\"sizeref\":0.1,\"symbol\":\"circle\"},\"mode\":\"markers\",\"name\":\"\",\"scene\":\"scene\",\"showlegend\":false,\"x\":[22.0,25.0,18.0,22.0,35.0,28.0,30.0,35.0,26.0,28.0,18.0,40.0,8.0,16.0,15.0,25.0,22.0,20.0,12.0,15.0,18.0,30.0,15.0,25.0,25.0,22.0,22.0,28.0,30.0,27.0,30.0,19.0,30.0,28.0,26.0,35.0,35.0,18.0,25.0,22.0,20.0,22.0,35.0,25.0,22.0,20.0,10.0,25.0,18.0,30.0],\"y\":[45.0,50.0,36.0,45.0,70.0,55.0,60.0,70.0,51.0,55.0,35.0,80.0,15.0,32.0,30.0,50.0,45.0,40.0,25.0,30.0,35.0,60.0,30.0,50.0,50.0,45.0,45.0,55.0,60.0,52.0,60.0,38.0,60.0,55.0,50.0,70.0,70.0,35.0,50.0,45.0,40.0,45.0,70.0,50.0,45.0,40.0,20.0,50.0,35.0,60.0],\"z\":[2023,2023,2022,2019,2023,2015,2023,2019,2016,2017,2018,2022,2022,2023,2023,2023,2023,2022,2017,2015,2023,2018,2022,2023,2023,2022,2023,2017,2020,2023,2020,2022,2019,2023,2023,2020,2023,2016,2022,2023,2010,2016,2019,2014,2020,2020,2020,2016,2020,2022],\"type\":\"scatter3d\"}],                        {\"template\":{\"data\":{\"histogram2dcontour\":[{\"type\":\"histogram2dcontour\",\"colorbar\":{\"outlinewidth\":0,\"ticks\":\"\"},\"colorscale\":[[0.0,\"#0d0887\"],[0.1111111111111111,\"#46039f\"],[0.2222222222222222,\"#7201a8\"],[0.3333333333333333,\"#9c179e\"],[0.4444444444444444,\"#bd3786\"],[0.5555555555555556,\"#d8576b\"],[0.6666666666666666,\"#ed7953\"],[0.7777777777777778,\"#fb9f3a\"],[0.8888888888888888,\"#fdca26\"],[1.0,\"#f0f921\"]]}],\"choropleth\":[{\"type\":\"choropleth\",\"colorbar\":{\"outlinewidth\":0,\"ticks\":\"\"}}],\"histogram2d\":[{\"type\":\"histogram2d\",\"colorbar\":{\"outlinewidth\":0,\"ticks\":\"\"},\"colorscale\":[[0.0,\"#0d0887\"],[0.1111111111111111,\"#46039f\"],[0.2222222222222222,\"#7201a8\"],[0.3333333333333333,\"#9c179e\"],[0.4444444444444444,\"#bd3786\"],[0.5555555555555556,\"#d8576b\"],[0.6666666666666666,\"#ed7953\"],[0.7777777777777778,\"#fb9f3a\"],[0.8888888888888888,\"#fdca26\"],[1.0,\"#f0f921\"]]}],\"heatmap\":[{\"type\":\"heatmap\",\"colorbar\":{\"outlinewidth\":0,\"ticks\":\"\"},\"colorscale\":[[0.0,\"#0d0887\"],[0.1111111111111111,\"#46039f\"],[0.2222222222222222,\"#7201a8\"],[0.3333333333333333,\"#9c179e\"],[0.4444444444444444,\"#bd3786\"],[0.5555555555555556,\"#d8576b\"],[0.6666666666666666,\"#ed7953\"],[0.7777777777777778,\"#fb9f3a\"],[0.8888888888888888,\"#fdca26\"],[1.0,\"#f0f921\"]]}],\"heatmapgl\":[{\"type\":\"heatmapgl\",\"colorbar\":{\"outlinewidth\":0,\"ticks\":\"\"},\"colorscale\":[[0.0,\"#0d0887\"],[0.1111111111111111,\"#46039f\"],[0.2222222222222222,\"#7201a8\"],[0.3333333333333333,\"#9c179e\"],[0.4444444444444444,\"#bd3786\"],[0.5555555555555556,\"#d8576b\"],[0.6666666666666666,\"#ed7953\"],[0.7777777777777778,\"#fb9f3a\"],[0.8888888888888888,\"#fdca26\"],[1.0,\"#f0f921\"]]}],\"contourcarpet\":[{\"type\":\"contourcarpet\",\"colorbar\":{\"outlinewidth\":0,\"ticks\":\"\"}}],\"contour\":[{\"type\":\"contour\",\"colorbar\":{\"outlinewidth\":0,\"ticks\":\"\"},\"colorscale\":[[0.0,\"#0d0887\"],[0.1111111111111111,\"#46039f\"],[0.2222222222222222,\"#7201a8\"],[0.3333333333333333,\"#9c179e\"],[0.4444444444444444,\"#bd3786\"],[0.5555555555555556,\"#d8576b\"],[0.6666666666666666,\"#ed7953\"],[0.7777777777777778,\"#fb9f3a\"],[0.8888888888888888,\"#fdca26\"],[1.0,\"#f0f921\"]]}],\"surface\":[{\"type\":\"surface\",\"colorbar\":{\"outlinewidth\":0,\"ticks\":\"\"},\"colorscale\":[[0.0,\"#0d0887\"],[0.1111111111111111,\"#46039f\"],[0.2222222222222222,\"#7201a8\"],[0.3333333333333333,\"#9c179e\"],[0.4444444444444444,\"#bd3786\"],[0.5555555555555556,\"#d8576b\"],[0.6666666666666666,\"#ed7953\"],[0.7777777777777778,\"#fb9f3a\"],[0.8888888888888888,\"#fdca26\"],[1.0,\"#f0f921\"]]}],\"mesh3d\":[{\"type\":\"mesh3d\",\"colorbar\":{\"outlinewidth\":0,\"ticks\":\"\"}}],\"scatter\":[{\"fillpattern\":{\"fillmode\":\"overlay\",\"size\":10,\"solidity\":0.2},\"type\":\"scatter\"}],\"parcoords\":[{\"type\":\"parcoords\",\"line\":{\"colorbar\":{\"outlinewidth\":0,\"ticks\":\"\"}}}],\"scatterpolargl\":[{\"type\":\"scatterpolargl\",\"marker\":{\"colorbar\":{\"outlinewidth\":0,\"ticks\":\"\"}}}],\"bar\":[{\"error_x\":{\"color\":\"#2a3f5f\"},\"error_y\":{\"color\":\"#2a3f5f\"},\"marker\":{\"line\":{\"color\":\"#E5ECF6\",\"width\":0.5},\"pattern\":{\"fillmode\":\"overlay\",\"size\":10,\"solidity\":0.2}},\"type\":\"bar\"}],\"scattergeo\":[{\"type\":\"scattergeo\",\"marker\":{\"colorbar\":{\"outlinewidth\":0,\"ticks\":\"\"}}}],\"scatterpolar\":[{\"type\":\"scatterpolar\",\"marker\":{\"colorbar\":{\"outlinewidth\":0,\"ticks\":\"\"}}}],\"histogram\":[{\"marker\":{\"pattern\":{\"fillmode\":\"overlay\",\"size\":10,\"solidity\":0.2}},\"type\":\"histogram\"}],\"scattergl\":[{\"type\":\"scattergl\",\"marker\":{\"colorbar\":{\"outlinewidth\":0,\"ticks\":\"\"}}}],\"scatter3d\":[{\"type\":\"scatter3d\",\"line\":{\"colorbar\":{\"outlinewidth\":0,\"ticks\":\"\"}},\"marker\":{\"colorbar\":{\"outlinewidth\":0,\"ticks\":\"\"}}}],\"scattermapbox\":[{\"type\":\"scattermapbox\",\"marker\":{\"colorbar\":{\"outlinewidth\":0,\"ticks\":\"\"}}}],\"scatterternary\":[{\"type\":\"scatterternary\",\"marker\":{\"colorbar\":{\"outlinewidth\":0,\"ticks\":\"\"}}}],\"scattercarpet\":[{\"type\":\"scattercarpet\",\"marker\":{\"colorbar\":{\"outlinewidth\":0,\"ticks\":\"\"}}}],\"carpet\":[{\"aaxis\":{\"endlinecolor\":\"#2a3f5f\",\"gridcolor\":\"white\",\"linecolor\":\"white\",\"minorgridcolor\":\"white\",\"startlinecolor\":\"#2a3f5f\"},\"baxis\":{\"endlinecolor\":\"#2a3f5f\",\"gridcolor\":\"white\",\"linecolor\":\"white\",\"minorgridcolor\":\"white\",\"startlinecolor\":\"#2a3f5f\"},\"type\":\"carpet\"}],\"table\":[{\"cells\":{\"fill\":{\"color\":\"#EBF0F8\"},\"line\":{\"color\":\"white\"}},\"header\":{\"fill\":{\"color\":\"#C8D4E3\"},\"line\":{\"color\":\"white\"}},\"type\":\"table\"}],\"barpolar\":[{\"marker\":{\"line\":{\"color\":\"#E5ECF6\",\"width\":0.5},\"pattern\":{\"fillmode\":\"overlay\",\"size\":10,\"solidity\":0.2}},\"type\":\"barpolar\"}],\"pie\":[{\"automargin\":true,\"type\":\"pie\"}]},\"layout\":{\"autotypenumbers\":\"strict\",\"colorway\":[\"#636efa\",\"#EF553B\",\"#00cc96\",\"#ab63fa\",\"#FFA15A\",\"#19d3f3\",\"#FF6692\",\"#B6E880\",\"#FF97FF\",\"#FECB52\"],\"font\":{\"color\":\"#2a3f5f\"},\"hovermode\":\"closest\",\"hoverlabel\":{\"align\":\"left\"},\"paper_bgcolor\":\"white\",\"plot_bgcolor\":\"#E5ECF6\",\"polar\":{\"bgcolor\":\"#E5ECF6\",\"angularaxis\":{\"gridcolor\":\"white\",\"linecolor\":\"white\",\"ticks\":\"\"},\"radialaxis\":{\"gridcolor\":\"white\",\"linecolor\":\"white\",\"ticks\":\"\"}},\"ternary\":{\"bgcolor\":\"#E5ECF6\",\"aaxis\":{\"gridcolor\":\"white\",\"linecolor\":\"white\",\"ticks\":\"\"},\"baxis\":{\"gridcolor\":\"white\",\"linecolor\":\"white\",\"ticks\":\"\"},\"caxis\":{\"gridcolor\":\"white\",\"linecolor\":\"white\",\"ticks\":\"\"}},\"coloraxis\":{\"colorbar\":{\"outlinewidth\":0,\"ticks\":\"\"}},\"colorscale\":{\"sequential\":[[0.0,\"#0d0887\"],[0.1111111111111111,\"#46039f\"],[0.2222222222222222,\"#7201a8\"],[0.3333333333333333,\"#9c179e\"],[0.4444444444444444,\"#bd3786\"],[0.5555555555555556,\"#d8576b\"],[0.6666666666666666,\"#ed7953\"],[0.7777777777777778,\"#fb9f3a\"],[0.8888888888888888,\"#fdca26\"],[1.0,\"#f0f921\"]],\"sequentialminus\":[[0.0,\"#0d0887\"],[0.1111111111111111,\"#46039f\"],[0.2222222222222222,\"#7201a8\"],[0.3333333333333333,\"#9c179e\"],[0.4444444444444444,\"#bd3786\"],[0.5555555555555556,\"#d8576b\"],[0.6666666666666666,\"#ed7953\"],[0.7777777777777778,\"#fb9f3a\"],[0.8888888888888888,\"#fdca26\"],[1.0,\"#f0f921\"]],\"diverging\":[[0,\"#8e0152\"],[0.1,\"#c51b7d\"],[0.2,\"#de77ae\"],[0.3,\"#f1b6da\"],[0.4,\"#fde0ef\"],[0.5,\"#f7f7f7\"],[0.6,\"#e6f5d0\"],[0.7,\"#b8e186\"],[0.8,\"#7fbc41\"],[0.9,\"#4d9221\"],[1,\"#276419\"]]},\"xaxis\":{\"gridcolor\":\"white\",\"linecolor\":\"white\",\"ticks\":\"\",\"title\":{\"standoff\":15},\"zerolinecolor\":\"white\",\"automargin\":true,\"zerolinewidth\":2},\"yaxis\":{\"gridcolor\":\"white\",\"linecolor\":\"white\",\"ticks\":\"\",\"title\":{\"standoff\":15},\"zerolinecolor\":\"white\",\"automargin\":true,\"zerolinewidth\":2},\"scene\":{\"xaxis\":{\"backgroundcolor\":\"#E5ECF6\",\"gridcolor\":\"white\",\"linecolor\":\"white\",\"showbackground\":true,\"ticks\":\"\",\"zerolinecolor\":\"white\",\"gridwidth\":2},\"yaxis\":{\"backgroundcolor\":\"#E5ECF6\",\"gridcolor\":\"white\",\"linecolor\":\"white\",\"showbackground\":true,\"ticks\":\"\",\"zerolinecolor\":\"white\",\"gridwidth\":2},\"zaxis\":{\"backgroundcolor\":\"#E5ECF6\",\"gridcolor\":\"white\",\"linecolor\":\"white\",\"showbackground\":true,\"ticks\":\"\",\"zerolinecolor\":\"white\",\"gridwidth\":2}},\"shapedefaults\":{\"line\":{\"color\":\"#2a3f5f\"}},\"annotationdefaults\":{\"arrowcolor\":\"#2a3f5f\",\"arrowhead\":0,\"arrowwidth\":1},\"geo\":{\"bgcolor\":\"white\",\"landcolor\":\"#E5ECF6\",\"subunitcolor\":\"white\",\"showland\":true,\"showlakes\":true,\"lakecolor\":\"white\"},\"title\":{\"x\":0.05},\"mapbox\":{\"style\":\"light\"}}},\"scene\":{\"domain\":{\"x\":[0.0,1.0],\"y\":[0.0,1.0]},\"xaxis\":{\"title\":{\"text\":\"Retweets\"}},\"yaxis\":{\"title\":{\"text\":\"Likes\"}},\"zaxis\":{\"title\":{\"text\":\"Year\"}}},\"coloraxis\":{\"colorbar\":{\"title\":{\"text\":\"Likes\"}},\"colorscale\":[[0.0,\"#0d0887\"],[0.1111111111111111,\"#46039f\"],[0.2222222222222222,\"#7201a8\"],[0.3333333333333333,\"#9c179e\"],[0.4444444444444444,\"#bd3786\"],[0.5555555555555556,\"#d8576b\"],[0.6666666666666666,\"#ed7953\"],[0.7777777777777778,\"#fb9f3a\"],[0.8888888888888888,\"#fdca26\"],[1.0,\"#f0f921\"]]},\"legend\":{\"tracegroupgap\":0,\"itemsizing\":\"constant\"},\"title\":{\"text\":\"3D Scatter: Retweets, Likes, and Followers\"}},                        {\"responsive\": true}                    ).then(function(){\n",
       "                            \n",
       "var gd = document.getElementById('517488d4-ff4e-49bd-a2f2-dee2d484d947');\n",
       "var x = new MutationObserver(function (mutations, observer) {{\n",
       "        var display = window.getComputedStyle(gd).display;\n",
       "        if (!display || display === 'none') {{\n",
       "            console.log([gd, 'removed!']);\n",
       "            Plotly.purge(gd);\n",
       "            observer.disconnect();\n",
       "        }}\n",
       "}});\n",
       "\n",
       "// Listen for the removal of the full notebook cells\n",
       "var notebookContainer = gd.closest('#notebook-container');\n",
       "if (notebookContainer) {{\n",
       "    x.observe(notebookContainer, {childList: true});\n",
       "}}\n",
       "\n",
       "// Listen for the clearing of the current output cell\n",
       "var outputEl = gd.closest('.output');\n",
       "if (outputEl) {{\n",
       "    x.observe(outputEl, {childList: true});\n",
       "}}\n",
       "\n",
       "                        })                };                });            </script>        </div>"
      ]
     },
     "metadata": {},
     "output_type": "display_data"
    }
   ],
   "source": [
    "sampled_df = df.sample(n=50, random_state=42)  # Adjust 'n' for desired number of points\n",
    "fig = px.scatter_3d(\n",
    "    sampled_df,\n",
    "    x=\"Retweets\",\n",
    "    y=\"Likes\",\n",
    "    z=\"Year\",\n",
    "    color=\"Likes\",\n",
    "    size=\"Retweets\",\n",
    "    title=\"3D Scatter: Retweets, Likes, and Followers\"\n",
    ")\n",
    "print(\"Keep Year as Y and Retweets as X\")\n",
    "fig.show()\n"
   ]
  },
  {
   "cell_type": "markdown",
   "metadata": {
    "id": "EuxSJV6-Qz7a"
   },
   "source": [
    "### <font color=red>6.Variation of sentiments with Months"
   ]
  },
  {
   "cell_type": "code",
   "execution_count": 24,
   "metadata": {
    "execution": {
     "iopub.execute_input": "2024-12-09T07:32:36.312474Z",
     "iopub.status.busy": "2024-12-09T07:32:36.312108Z",
     "iopub.status.idle": "2024-12-09T07:32:41.829818Z",
     "shell.execute_reply": "2024-12-09T07:32:41.828888Z",
     "shell.execute_reply.started": "2024-12-09T07:32:36.312442Z"
    },
    "executionInfo": {
     "elapsed": 6630,
     "status": "ok",
     "timestamp": 1733728142591,
     "user": {
      "displayName": "66_Rishij Manna",
      "userId": "01245000441612451756"
     },
     "user_tz": -330
    },
    "id": "YVBBYDzcRdj7",
    "outputId": "5439bd33-9623-473f-e2cf-f15bb118e3e0",
    "trusted": true
   },
   "outputs": [
    {
     "name": "stdout",
     "output_type": "stream",
     "text": [
      "Enter the start value:  1\n",
      "Enter the end value:  15\n"
     ]
    },
    {
     "data": {
      "text/html": [
       "<div>                            <div id=\"2947787a-ad55-4222-9b6f-192f3b848d9a\" class=\"plotly-graph-div\" style=\"height:525px; width:100%;\"></div>            <script type=\"text/javascript\">                require([\"plotly\"], function(Plotly) {                    window.PLOTLYENV=window.PLOTLYENV || {};                                    if (document.getElementById(\"2947787a-ad55-4222-9b6f-192f3b848d9a\")) {                    Plotly.newPlot(                        \"2947787a-ad55-4222-9b6f-192f3b848d9a\",                        [{\"alignmentgroup\":\"True\",\"hovertemplate\":\"Sentiment=Nostalgia\\u003cbr\\u003eMonth=%{x}\\u003cbr\\u003eNumber of Occurrences=%{y}\\u003cextra\\u003e\\u003c\\u002fextra\\u003e\",\"legendgroup\":\"Nostalgia\",\"marker\":{\"color\":\"#636efa\",\"pattern\":{\"shape\":\"\"}},\"name\":\"Nostalgia\",\"offsetgroup\":\"Nostalgia\",\"orientation\":\"v\",\"showlegend\":true,\"textposition\":\"auto\",\"x\":[\"Jan\",\"Feb\",\"May\",\"Jun\",\"Jul\",\"Aug\",\"Dec\"],\"xaxis\":\"x\",\"y\":[1,1,2,3,1,1,2],\"yaxis\":\"y\",\"type\":\"bar\"},{\"alignmentgroup\":\"True\",\"hovertemplate\":\"Sentiment=Grief\\u003cbr\\u003eMonth=%{x}\\u003cbr\\u003eNumber of Occurrences=%{y}\\u003cextra\\u003e\\u003c\\u002fextra\\u003e\",\"legendgroup\":\"Grief\",\"marker\":{\"color\":\"#EF553B\",\"pattern\":{\"shape\":\"\"}},\"name\":\"Grief\",\"offsetgroup\":\"Grief\",\"orientation\":\"v\",\"showlegend\":true,\"textposition\":\"auto\",\"x\":[\"Jan\",\"Feb\",\"Jun\",\"Jul\",\"Oct\",\"Nov\",\"Dec\"],\"xaxis\":\"x\",\"y\":[1,1,1,1,1,2,2],\"yaxis\":\"y\",\"type\":\"bar\"},{\"alignmentgroup\":\"True\",\"hovertemplate\":\"Sentiment=Excitement\\u003cbr\\u003eMonth=%{x}\\u003cbr\\u003eNumber of Occurrences=%{y}\\u003cextra\\u003e\\u003c\\u002fextra\\u003e\",\"legendgroup\":\"Excitement\",\"marker\":{\"color\":\"#00cc96\",\"pattern\":{\"shape\":\"\"}},\"name\":\"Excitement\",\"offsetgroup\":\"Excitement\",\"orientation\":\"v\",\"showlegend\":true,\"textposition\":\"auto\",\"x\":[\"Jan\",\"Feb\",\"Mar\",\"Apr\",\"May\",\"Jun\",\"Jul\",\"Aug\",\"Sept\",\"Oct\",\"Nov\",\"Dec\"],\"xaxis\":\"x\",\"y\":[1,2,3,1,2,4,5,12,4,1,1,1],\"yaxis\":\"y\",\"type\":\"bar\"},{\"alignmentgroup\":\"True\",\"hovertemplate\":\"Sentiment=Contentment\\u003cbr\\u003eMonth=%{x}\\u003cbr\\u003eNumber of Occurrences=%{y}\\u003cextra\\u003e\\u003c\\u002fextra\\u003e\",\"legendgroup\":\"Contentment\",\"marker\":{\"color\":\"#ab63fa\",\"pattern\":{\"shape\":\"\"}},\"name\":\"Contentment\",\"offsetgroup\":\"Contentment\",\"orientation\":\"v\",\"showlegend\":true,\"textposition\":\"auto\",\"x\":[\"Jan\",\"Feb\",\"Apr\",\"Jun\",\"Jul\",\"Aug\",\"Sept\",\"Nov\"],\"xaxis\":\"x\",\"y\":[1,1,2,9,2,1,2,1],\"yaxis\":\"y\",\"type\":\"bar\"},{\"alignmentgroup\":\"True\",\"hovertemplate\":\"Sentiment=Positive\\u003cbr\\u003eMonth=%{x}\\u003cbr\\u003eNumber of Occurrences=%{y}\\u003cextra\\u003e\\u003c\\u002fextra\\u003e\",\"legendgroup\":\"Positive\",\"marker\":{\"color\":\"#FFA15A\",\"pattern\":{\"shape\":\"\"}},\"name\":\"Positive\",\"offsetgroup\":\"Positive\",\"orientation\":\"v\",\"showlegend\":true,\"textposition\":\"auto\",\"x\":[\"Jan\",\"Feb\",\"Aug\"],\"xaxis\":\"x\",\"y\":[42,2,1],\"yaxis\":\"y\",\"type\":\"bar\"},{\"alignmentgroup\":\"True\",\"hovertemplate\":\"Sentiment=Neutral\\u003cbr\\u003eMonth=%{x}\\u003cbr\\u003eNumber of Occurrences=%{y}\\u003cextra\\u003e\\u003c\\u002fextra\\u003e\",\"legendgroup\":\"Neutral\",\"marker\":{\"color\":\"#19d3f3\",\"pattern\":{\"shape\":\"\"}},\"name\":\"Neutral\",\"offsetgroup\":\"Neutral\",\"orientation\":\"v\",\"showlegend\":true,\"textposition\":\"auto\",\"x\":[\"Jan\",\"Oct\"],\"xaxis\":\"x\",\"y\":[4,14],\"yaxis\":\"y\",\"type\":\"bar\"},{\"alignmentgroup\":\"True\",\"hovertemplate\":\"Sentiment=Awe\\u003cbr\\u003eMonth=%{x}\\u003cbr\\u003eNumber of Occurrences=%{y}\\u003cextra\\u003e\\u003c\\u002fextra\\u003e\",\"legendgroup\":\"Awe\",\"marker\":{\"color\":\"#FF6692\",\"pattern\":{\"shape\":\"\"}},\"name\":\"Awe\",\"offsetgroup\":\"Awe\",\"orientation\":\"v\",\"showlegend\":true,\"textposition\":\"auto\",\"x\":[\"Feb\",\"Apr\",\"Jun\",\"Aug\",\"Nov\"],\"xaxis\":\"x\",\"y\":[2,2,1,3,1],\"yaxis\":\"y\",\"type\":\"bar\"},{\"alignmentgroup\":\"True\",\"hovertemplate\":\"Sentiment=Despair\\u003cbr\\u003eMonth=%{x}\\u003cbr\\u003eNumber of Occurrences=%{y}\\u003cextra\\u003e\\u003c\\u002fextra\\u003e\",\"legendgroup\":\"Despair\",\"marker\":{\"color\":\"#B6E880\",\"pattern\":{\"shape\":\"\"}},\"name\":\"Despair\",\"offsetgroup\":\"Despair\",\"orientation\":\"v\",\"showlegend\":true,\"textposition\":\"auto\",\"x\":[\"Feb\",\"Mar\",\"Apr\",\"May\",\"Aug\",\"Sept\",\"Oct\",\"Dec\"],\"xaxis\":\"x\",\"y\":[1,2,1,1,3,1,1,1],\"yaxis\":\"y\",\"type\":\"bar\"},{\"alignmentgroup\":\"True\",\"hovertemplate\":\"Sentiment=Happy\\u003cbr\\u003eMonth=%{x}\\u003cbr\\u003eNumber of Occurrences=%{y}\\u003cextra\\u003e\\u003c\\u002fextra\\u003e\",\"legendgroup\":\"Happy\",\"marker\":{\"color\":\"#FF97FF\",\"pattern\":{\"shape\":\"\"}},\"name\":\"Happy\",\"offsetgroup\":\"Happy\",\"orientation\":\"v\",\"showlegend\":true,\"textposition\":\"auto\",\"x\":[\"Feb\",\"Apr\",\"Jun\",\"Aug\",\"Sept\",\"Oct\",\"Nov\"],\"xaxis\":\"x\",\"y\":[1,1,1,1,1,7,2],\"yaxis\":\"y\",\"type\":\"bar\"},{\"alignmentgroup\":\"True\",\"hovertemplate\":\"Sentiment=Joy\\u003cbr\\u003eMonth=%{x}\\u003cbr\\u003eNumber of Occurrences=%{y}\\u003cextra\\u003e\\u003c\\u002fextra\\u003e\",\"legendgroup\":\"Joy\",\"marker\":{\"color\":\"#FECB52\",\"pattern\":{\"shape\":\"\"}},\"name\":\"Joy\",\"offsetgroup\":\"Joy\",\"orientation\":\"v\",\"showlegend\":true,\"textposition\":\"auto\",\"x\":[\"Feb\",\"Mar\",\"Apr\",\"May\",\"Jun\",\"Jul\",\"Aug\",\"Sept\"],\"xaxis\":\"x\",\"y\":[2,2,1,3,10,12,10,4],\"yaxis\":\"y\",\"type\":\"bar\"},{\"alignmentgroup\":\"True\",\"hovertemplate\":\"Sentiment=Serenity\\u003cbr\\u003eMonth=%{x}\\u003cbr\\u003eNumber of Occurrences=%{y}\\u003cextra\\u003e\\u003c\\u002fextra\\u003e\",\"legendgroup\":\"Serenity\",\"marker\":{\"color\":\"#636efa\",\"pattern\":{\"shape\":\"\"}},\"name\":\"Serenity\",\"offsetgroup\":\"Serenity\",\"orientation\":\"v\",\"showlegend\":true,\"textposition\":\"auto\",\"x\":[\"Feb\",\"Apr\",\"May\",\"Jul\",\"Aug\",\"Sept\",\"Oct\",\"Nov\"],\"xaxis\":\"x\",\"y\":[2,2,3,3,1,2,1,1],\"yaxis\":\"y\",\"type\":\"bar\"},{\"alignmentgroup\":\"True\",\"hovertemplate\":\"Sentiment=Gratitude\\u003cbr\\u003eMonth=%{x}\\u003cbr\\u003eNumber of Occurrences=%{y}\\u003cextra\\u003e\\u003c\\u002fextra\\u003e\",\"legendgroup\":\"Gratitude\",\"marker\":{\"color\":\"#EF553B\",\"pattern\":{\"shape\":\"\"}},\"name\":\"Gratitude\",\"offsetgroup\":\"Gratitude\",\"orientation\":\"v\",\"showlegend\":true,\"textposition\":\"auto\",\"x\":[\"Feb\",\"Mar\",\"Apr\",\"Jun\",\"Jul\",\"Nov\",\"Dec\"],\"xaxis\":\"x\",\"y\":[2,2,2,3,3,1,5],\"yaxis\":\"y\",\"type\":\"bar\"},{\"alignmentgroup\":\"True\",\"hovertemplate\":\"Sentiment=Curiosity\\u003cbr\\u003eMonth=%{x}\\u003cbr\\u003eNumber of Occurrences=%{y}\\u003cextra\\u003e\\u003c\\u002fextra\\u003e\",\"legendgroup\":\"Curiosity\",\"marker\":{\"color\":\"#00cc96\",\"pattern\":{\"shape\":\"\"}},\"name\":\"Curiosity\",\"offsetgroup\":\"Curiosity\",\"orientation\":\"v\",\"showlegend\":true,\"textposition\":\"auto\",\"x\":[\"Apr\",\"May\",\"Jun\",\"Jul\",\"Aug\",\"Sept\",\"Oct\",\"Nov\",\"Dec\"],\"xaxis\":\"x\",\"y\":[2,1,5,1,1,1,1,3,1],\"yaxis\":\"y\",\"type\":\"bar\"},{\"alignmentgroup\":\"True\",\"hovertemplate\":\"Sentiment=Hopeful\\u003cbr\\u003eMonth=%{x}\\u003cbr\\u003eNumber of Occurrences=%{y}\\u003cextra\\u003e\\u003c\\u002fextra\\u003e\",\"legendgroup\":\"Hopeful\",\"marker\":{\"color\":\"#ab63fa\",\"pattern\":{\"shape\":\"\"}},\"name\":\"Hopeful\",\"offsetgroup\":\"Hopeful\",\"orientation\":\"v\",\"showlegend\":true,\"textposition\":\"auto\",\"x\":[\"Apr\",\"May\",\"Jul\",\"Oct\"],\"xaxis\":\"x\",\"y\":[1,2,3,3],\"yaxis\":\"y\",\"type\":\"bar\"},{\"alignmentgroup\":\"True\",\"hovertemplate\":\"Sentiment=Sad\\u003cbr\\u003eMonth=%{x}\\u003cbr\\u003eNumber of Occurrences=%{y}\\u003cextra\\u003e\\u003c\\u002fextra\\u003e\",\"legendgroup\":\"Sad\",\"marker\":{\"color\":\"#FFA15A\",\"pattern\":{\"shape\":\"\"}},\"name\":\"Sad\",\"offsetgroup\":\"Sad\",\"orientation\":\"v\",\"showlegend\":true,\"textposition\":\"auto\",\"x\":[\"Sept\",\"Oct\"],\"xaxis\":\"x\",\"y\":[8,1],\"yaxis\":\"y\",\"type\":\"bar\"}],                        {\"template\":{\"data\":{\"histogram2dcontour\":[{\"type\":\"histogram2dcontour\",\"colorbar\":{\"outlinewidth\":0,\"ticks\":\"\"},\"colorscale\":[[0.0,\"#0d0887\"],[0.1111111111111111,\"#46039f\"],[0.2222222222222222,\"#7201a8\"],[0.3333333333333333,\"#9c179e\"],[0.4444444444444444,\"#bd3786\"],[0.5555555555555556,\"#d8576b\"],[0.6666666666666666,\"#ed7953\"],[0.7777777777777778,\"#fb9f3a\"],[0.8888888888888888,\"#fdca26\"],[1.0,\"#f0f921\"]]}],\"choropleth\":[{\"type\":\"choropleth\",\"colorbar\":{\"outlinewidth\":0,\"ticks\":\"\"}}],\"histogram2d\":[{\"type\":\"histogram2d\",\"colorbar\":{\"outlinewidth\":0,\"ticks\":\"\"},\"colorscale\":[[0.0,\"#0d0887\"],[0.1111111111111111,\"#46039f\"],[0.2222222222222222,\"#7201a8\"],[0.3333333333333333,\"#9c179e\"],[0.4444444444444444,\"#bd3786\"],[0.5555555555555556,\"#d8576b\"],[0.6666666666666666,\"#ed7953\"],[0.7777777777777778,\"#fb9f3a\"],[0.8888888888888888,\"#fdca26\"],[1.0,\"#f0f921\"]]}],\"heatmap\":[{\"type\":\"heatmap\",\"colorbar\":{\"outlinewidth\":0,\"ticks\":\"\"},\"colorscale\":[[0.0,\"#0d0887\"],[0.1111111111111111,\"#46039f\"],[0.2222222222222222,\"#7201a8\"],[0.3333333333333333,\"#9c179e\"],[0.4444444444444444,\"#bd3786\"],[0.5555555555555556,\"#d8576b\"],[0.6666666666666666,\"#ed7953\"],[0.7777777777777778,\"#fb9f3a\"],[0.8888888888888888,\"#fdca26\"],[1.0,\"#f0f921\"]]}],\"heatmapgl\":[{\"type\":\"heatmapgl\",\"colorbar\":{\"outlinewidth\":0,\"ticks\":\"\"},\"colorscale\":[[0.0,\"#0d0887\"],[0.1111111111111111,\"#46039f\"],[0.2222222222222222,\"#7201a8\"],[0.3333333333333333,\"#9c179e\"],[0.4444444444444444,\"#bd3786\"],[0.5555555555555556,\"#d8576b\"],[0.6666666666666666,\"#ed7953\"],[0.7777777777777778,\"#fb9f3a\"],[0.8888888888888888,\"#fdca26\"],[1.0,\"#f0f921\"]]}],\"contourcarpet\":[{\"type\":\"contourcarpet\",\"colorbar\":{\"outlinewidth\":0,\"ticks\":\"\"}}],\"contour\":[{\"type\":\"contour\",\"colorbar\":{\"outlinewidth\":0,\"ticks\":\"\"},\"colorscale\":[[0.0,\"#0d0887\"],[0.1111111111111111,\"#46039f\"],[0.2222222222222222,\"#7201a8\"],[0.3333333333333333,\"#9c179e\"],[0.4444444444444444,\"#bd3786\"],[0.5555555555555556,\"#d8576b\"],[0.6666666666666666,\"#ed7953\"],[0.7777777777777778,\"#fb9f3a\"],[0.8888888888888888,\"#fdca26\"],[1.0,\"#f0f921\"]]}],\"surface\":[{\"type\":\"surface\",\"colorbar\":{\"outlinewidth\":0,\"ticks\":\"\"},\"colorscale\":[[0.0,\"#0d0887\"],[0.1111111111111111,\"#46039f\"],[0.2222222222222222,\"#7201a8\"],[0.3333333333333333,\"#9c179e\"],[0.4444444444444444,\"#bd3786\"],[0.5555555555555556,\"#d8576b\"],[0.6666666666666666,\"#ed7953\"],[0.7777777777777778,\"#fb9f3a\"],[0.8888888888888888,\"#fdca26\"],[1.0,\"#f0f921\"]]}],\"mesh3d\":[{\"type\":\"mesh3d\",\"colorbar\":{\"outlinewidth\":0,\"ticks\":\"\"}}],\"scatter\":[{\"fillpattern\":{\"fillmode\":\"overlay\",\"size\":10,\"solidity\":0.2},\"type\":\"scatter\"}],\"parcoords\":[{\"type\":\"parcoords\",\"line\":{\"colorbar\":{\"outlinewidth\":0,\"ticks\":\"\"}}}],\"scatterpolargl\":[{\"type\":\"scatterpolargl\",\"marker\":{\"colorbar\":{\"outlinewidth\":0,\"ticks\":\"\"}}}],\"bar\":[{\"error_x\":{\"color\":\"#2a3f5f\"},\"error_y\":{\"color\":\"#2a3f5f\"},\"marker\":{\"line\":{\"color\":\"#E5ECF6\",\"width\":0.5},\"pattern\":{\"fillmode\":\"overlay\",\"size\":10,\"solidity\":0.2}},\"type\":\"bar\"}],\"scattergeo\":[{\"type\":\"scattergeo\",\"marker\":{\"colorbar\":{\"outlinewidth\":0,\"ticks\":\"\"}}}],\"scatterpolar\":[{\"type\":\"scatterpolar\",\"marker\":{\"colorbar\":{\"outlinewidth\":0,\"ticks\":\"\"}}}],\"histogram\":[{\"marker\":{\"pattern\":{\"fillmode\":\"overlay\",\"size\":10,\"solidity\":0.2}},\"type\":\"histogram\"}],\"scattergl\":[{\"type\":\"scattergl\",\"marker\":{\"colorbar\":{\"outlinewidth\":0,\"ticks\":\"\"}}}],\"scatter3d\":[{\"type\":\"scatter3d\",\"line\":{\"colorbar\":{\"outlinewidth\":0,\"ticks\":\"\"}},\"marker\":{\"colorbar\":{\"outlinewidth\":0,\"ticks\":\"\"}}}],\"scattermapbox\":[{\"type\":\"scattermapbox\",\"marker\":{\"colorbar\":{\"outlinewidth\":0,\"ticks\":\"\"}}}],\"scatterternary\":[{\"type\":\"scatterternary\",\"marker\":{\"colorbar\":{\"outlinewidth\":0,\"ticks\":\"\"}}}],\"scattercarpet\":[{\"type\":\"scattercarpet\",\"marker\":{\"colorbar\":{\"outlinewidth\":0,\"ticks\":\"\"}}}],\"carpet\":[{\"aaxis\":{\"endlinecolor\":\"#2a3f5f\",\"gridcolor\":\"white\",\"linecolor\":\"white\",\"minorgridcolor\":\"white\",\"startlinecolor\":\"#2a3f5f\"},\"baxis\":{\"endlinecolor\":\"#2a3f5f\",\"gridcolor\":\"white\",\"linecolor\":\"white\",\"minorgridcolor\":\"white\",\"startlinecolor\":\"#2a3f5f\"},\"type\":\"carpet\"}],\"table\":[{\"cells\":{\"fill\":{\"color\":\"#EBF0F8\"},\"line\":{\"color\":\"white\"}},\"header\":{\"fill\":{\"color\":\"#C8D4E3\"},\"line\":{\"color\":\"white\"}},\"type\":\"table\"}],\"barpolar\":[{\"marker\":{\"line\":{\"color\":\"#E5ECF6\",\"width\":0.5},\"pattern\":{\"fillmode\":\"overlay\",\"size\":10,\"solidity\":0.2}},\"type\":\"barpolar\"}],\"pie\":[{\"automargin\":true,\"type\":\"pie\"}]},\"layout\":{\"autotypenumbers\":\"strict\",\"colorway\":[\"#636efa\",\"#EF553B\",\"#00cc96\",\"#ab63fa\",\"#FFA15A\",\"#19d3f3\",\"#FF6692\",\"#B6E880\",\"#FF97FF\",\"#FECB52\"],\"font\":{\"color\":\"#2a3f5f\"},\"hovermode\":\"closest\",\"hoverlabel\":{\"align\":\"left\"},\"paper_bgcolor\":\"white\",\"plot_bgcolor\":\"#E5ECF6\",\"polar\":{\"bgcolor\":\"#E5ECF6\",\"angularaxis\":{\"gridcolor\":\"white\",\"linecolor\":\"white\",\"ticks\":\"\"},\"radialaxis\":{\"gridcolor\":\"white\",\"linecolor\":\"white\",\"ticks\":\"\"}},\"ternary\":{\"bgcolor\":\"#E5ECF6\",\"aaxis\":{\"gridcolor\":\"white\",\"linecolor\":\"white\",\"ticks\":\"\"},\"baxis\":{\"gridcolor\":\"white\",\"linecolor\":\"white\",\"ticks\":\"\"},\"caxis\":{\"gridcolor\":\"white\",\"linecolor\":\"white\",\"ticks\":\"\"}},\"coloraxis\":{\"colorbar\":{\"outlinewidth\":0,\"ticks\":\"\"}},\"colorscale\":{\"sequential\":[[0.0,\"#0d0887\"],[0.1111111111111111,\"#46039f\"],[0.2222222222222222,\"#7201a8\"],[0.3333333333333333,\"#9c179e\"],[0.4444444444444444,\"#bd3786\"],[0.5555555555555556,\"#d8576b\"],[0.6666666666666666,\"#ed7953\"],[0.7777777777777778,\"#fb9f3a\"],[0.8888888888888888,\"#fdca26\"],[1.0,\"#f0f921\"]],\"sequentialminus\":[[0.0,\"#0d0887\"],[0.1111111111111111,\"#46039f\"],[0.2222222222222222,\"#7201a8\"],[0.3333333333333333,\"#9c179e\"],[0.4444444444444444,\"#bd3786\"],[0.5555555555555556,\"#d8576b\"],[0.6666666666666666,\"#ed7953\"],[0.7777777777777778,\"#fb9f3a\"],[0.8888888888888888,\"#fdca26\"],[1.0,\"#f0f921\"]],\"diverging\":[[0,\"#8e0152\"],[0.1,\"#c51b7d\"],[0.2,\"#de77ae\"],[0.3,\"#f1b6da\"],[0.4,\"#fde0ef\"],[0.5,\"#f7f7f7\"],[0.6,\"#e6f5d0\"],[0.7,\"#b8e186\"],[0.8,\"#7fbc41\"],[0.9,\"#4d9221\"],[1,\"#276419\"]]},\"xaxis\":{\"gridcolor\":\"white\",\"linecolor\":\"white\",\"ticks\":\"\",\"title\":{\"standoff\":15},\"zerolinecolor\":\"white\",\"automargin\":true,\"zerolinewidth\":2},\"yaxis\":{\"gridcolor\":\"white\",\"linecolor\":\"white\",\"ticks\":\"\",\"title\":{\"standoff\":15},\"zerolinecolor\":\"white\",\"automargin\":true,\"zerolinewidth\":2},\"scene\":{\"xaxis\":{\"backgroundcolor\":\"#E5ECF6\",\"gridcolor\":\"white\",\"linecolor\":\"white\",\"showbackground\":true,\"ticks\":\"\",\"zerolinecolor\":\"white\",\"gridwidth\":2},\"yaxis\":{\"backgroundcolor\":\"#E5ECF6\",\"gridcolor\":\"white\",\"linecolor\":\"white\",\"showbackground\":true,\"ticks\":\"\",\"zerolinecolor\":\"white\",\"gridwidth\":2},\"zaxis\":{\"backgroundcolor\":\"#E5ECF6\",\"gridcolor\":\"white\",\"linecolor\":\"white\",\"showbackground\":true,\"ticks\":\"\",\"zerolinecolor\":\"white\",\"gridwidth\":2}},\"shapedefaults\":{\"line\":{\"color\":\"#2a3f5f\"}},\"annotationdefaults\":{\"arrowcolor\":\"#2a3f5f\",\"arrowhead\":0,\"arrowwidth\":1},\"geo\":{\"bgcolor\":\"white\",\"landcolor\":\"#E5ECF6\",\"subunitcolor\":\"white\",\"showland\":true,\"showlakes\":true,\"lakecolor\":\"white\"},\"title\":{\"x\":0.05},\"mapbox\":{\"style\":\"light\"}}},\"xaxis\":{\"anchor\":\"y\",\"domain\":[0.0,1.0],\"title\":{\"text\":\"Month\"}},\"yaxis\":{\"anchor\":\"x\",\"domain\":[0.0,1.0],\"title\":{\"text\":\"Number of Occurrences\"}},\"legend\":{\"title\":{\"text\":\"Sentiment\"},\"tracegroupgap\":0},\"title\":{\"text\":\"Top Sentiments Value Counts vs Month\"},\"barmode\":\"relative\"},                        {\"responsive\": true}                    ).then(function(){\n",
       "                            \n",
       "var gd = document.getElementById('2947787a-ad55-4222-9b6f-192f3b848d9a');\n",
       "var x = new MutationObserver(function (mutations, observer) {{\n",
       "        var display = window.getComputedStyle(gd).display;\n",
       "        if (!display || display === 'none') {{\n",
       "            console.log([gd, 'removed!']);\n",
       "            Plotly.purge(gd);\n",
       "            observer.disconnect();\n",
       "        }}\n",
       "}});\n",
       "\n",
       "// Listen for the removal of the full notebook cells\n",
       "var notebookContainer = gd.closest('#notebook-container');\n",
       "if (notebookContainer) {{\n",
       "    x.observe(notebookContainer, {childList: true});\n",
       "}}\n",
       "\n",
       "// Listen for the clearing of the current output cell\n",
       "var outputEl = gd.closest('.output');\n",
       "if (outputEl) {{\n",
       "    x.observe(outputEl, {childList: true});\n",
       "}}\n",
       "\n",
       "                        })                };                });            </script>        </div>"
      ]
     },
     "metadata": {},
     "output_type": "display_data"
    }
   ],
   "source": [
    "start = int(input(\"Enter the start value: \"))\n",
    "end = int(input(\"Enter the end value: \"))\n",
    "\n",
    "# Get the top sentiments within the specified range\n",
    "top_sentiments = df['Sentiment'].value_counts().head(end).tail(end - start+1 ).index\n",
    "\n",
    "# Filter the DataFrame for the top sentiments\n",
    "filtered_df = df[df['Sentiment'].isin(top_sentiments)]\n",
    "\n",
    "# Group by month and sentiment, then count occurrences\n",
    "month_order = ['Jan', 'Feb', 'Mar', 'Apr', 'May', 'Jun', 'Jul', 'Aug', 'Sept', 'Oct', 'Nov', 'Dec']\n",
    "sentiment_counts = filtered_df.groupby(['Month', 'Sentiment']).size().reset_index(name='Count')\n",
    "\n",
    "# Convert 'Month' column to categorical with the desired order\n",
    "sentiment_counts['Month'] = pd.Categorical(sentiment_counts['Month'], categories=month_order, ordered=True)\n",
    "\n",
    "# Sort the DataFrame by the new categorical 'Month' column\n",
    "sentiment_counts = sentiment_counts.sort_values('Month')\n",
    "\n",
    "# Create the bar chart\n",
    "fig = px.bar(sentiment_counts, x='Month', y='Count', color='Sentiment',\n",
    "             title='Top Sentiments Value Counts vs Month',\n",
    "             labels={'Count': 'Number of Occurrences'})\n",
    "fig.show()"
   ]
  },
  {
   "cell_type": "markdown",
   "metadata": {
    "id": "kFlDuSyHdxWu"
   },
   "source": [
    "### <font color=red>7.Variation of sentiments with Months with flow of year"
   ]
  },
  {
   "cell_type": "code",
   "execution_count": 25,
   "metadata": {
    "execution": {
     "iopub.execute_input": "2024-12-09T07:32:47.110121Z",
     "iopub.status.busy": "2024-12-09T07:32:47.109248Z",
     "iopub.status.idle": "2024-12-09T07:32:51.698838Z",
     "shell.execute_reply": "2024-12-09T07:32:51.697454Z",
     "shell.execute_reply.started": "2024-12-09T07:32:47.110083Z"
    },
    "executionInfo": {
     "elapsed": 5951,
     "status": "ok",
     "timestamp": 1733728148525,
     "user": {
      "displayName": "66_Rishij Manna",
      "userId": "01245000441612451756"
     },
     "user_tz": -330
    },
    "id": "9ikrpVMNdqdO",
    "outputId": "e51bbde7-bb39-4ccc-bf39-267403204280",
    "trusted": true
   },
   "outputs": [
    {
     "name": "stdout",
     "output_type": "stream",
     "text": [
      "Enter the start value:  1\n",
      "Enter the end value:  15\n"
     ]
    },
    {
     "data": {
      "text/html": [
       "<div>                            <div id=\"573f2390-bbc6-476b-bc37-9785455f3ede\" class=\"plotly-graph-div\" style=\"height:525px; width:100%;\"></div>            <script type=\"text/javascript\">                require([\"plotly\"], function(Plotly) {                    window.PLOTLYENV=window.PLOTLYENV || {};                                    if (document.getElementById(\"573f2390-bbc6-476b-bc37-9785455f3ede\")) {                    Plotly.newPlot(                        \"573f2390-bbc6-476b-bc37-9785455f3ede\",                        [{\"alignmentgroup\":\"True\",\"hovertemplate\":\"Sentiment=Grief\\u003cbr\\u003eYear=2023\\u003cbr\\u003eMonth=%{x}\\u003cbr\\u003eNumber of Occurrences=%{y}\\u003cextra\\u003e\\u003c\\u002fextra\\u003e\",\"legendgroup\":\"Grief\",\"marker\":{\"color\":\"#636efa\",\"pattern\":{\"shape\":\"\"}},\"name\":\"Grief\",\"offsetgroup\":\"Grief\",\"orientation\":\"v\",\"showlegend\":true,\"textposition\":\"auto\",\"x\":[\"Jan\"],\"xaxis\":\"x\",\"y\":[1],\"yaxis\":\"y\",\"type\":\"bar\"},{\"alignmentgroup\":\"True\",\"hovertemplate\":\"Sentiment=Contentment\\u003cbr\\u003eYear=2023\\u003cbr\\u003eMonth=%{x}\\u003cbr\\u003eNumber of Occurrences=%{y}\\u003cextra\\u003e\\u003c\\u002fextra\\u003e\",\"legendgroup\":\"Contentment\",\"marker\":{\"color\":\"#EF553B\",\"pattern\":{\"shape\":\"\"}},\"name\":\"Contentment\",\"offsetgroup\":\"Contentment\",\"orientation\":\"v\",\"showlegend\":true,\"textposition\":\"auto\",\"x\":[\"Jan\",\"Jun\",\"Jul\"],\"xaxis\":\"x\",\"y\":[1,7,2],\"yaxis\":\"y\",\"type\":\"bar\"},{\"alignmentgroup\":\"True\",\"hovertemplate\":\"Sentiment=Excitement\\u003cbr\\u003eYear=2023\\u003cbr\\u003eMonth=%{x}\\u003cbr\\u003eNumber of Occurrences=%{y}\\u003cextra\\u003e\\u003c\\u002fextra\\u003e\",\"legendgroup\":\"Excitement\",\"marker\":{\"color\":\"#00cc96\",\"pattern\":{\"shape\":\"\"}},\"name\":\"Excitement\",\"offsetgroup\":\"Excitement\",\"orientation\":\"v\",\"showlegend\":true,\"textposition\":\"auto\",\"x\":[\"Jan\",\"Feb\",\"Mar\",\"May\",\"Jun\",\"Jul\",\"Aug\",\"Sept\"],\"xaxis\":\"x\",\"y\":[1,2,3,2,3,4,12,4],\"yaxis\":\"y\",\"type\":\"bar\"},{\"alignmentgroup\":\"True\",\"hovertemplate\":\"Sentiment=Positive\\u003cbr\\u003eYear=2023\\u003cbr\\u003eMonth=%{x}\\u003cbr\\u003eNumber of Occurrences=%{y}\\u003cextra\\u003e\\u003c\\u002fextra\\u003e\",\"legendgroup\":\"Positive\",\"marker\":{\"color\":\"#ab63fa\",\"pattern\":{\"shape\":\"\"}},\"name\":\"Positive\",\"offsetgroup\":\"Positive\",\"orientation\":\"v\",\"showlegend\":true,\"textposition\":\"auto\",\"x\":[\"Jan\",\"Feb\",\"Aug\"],\"xaxis\":\"x\",\"y\":[42,2,1],\"yaxis\":\"y\",\"type\":\"bar\"},{\"alignmentgroup\":\"True\",\"hovertemplate\":\"Sentiment=Neutral\\u003cbr\\u003eYear=2023\\u003cbr\\u003eMonth=%{x}\\u003cbr\\u003eNumber of Occurrences=%{y}\\u003cextra\\u003e\\u003c\\u002fextra\\u003e\",\"legendgroup\":\"Neutral\",\"marker\":{\"color\":\"#19d3f3\",\"pattern\":{\"shape\":\"\"}},\"name\":\"Neutral\",\"offsetgroup\":\"Neutral\",\"orientation\":\"v\",\"showlegend\":true,\"textposition\":\"auto\",\"x\":[\"Jan\",\"Oct\"],\"xaxis\":\"x\",\"y\":[4,14],\"yaxis\":\"y\",\"type\":\"bar\"},{\"alignmentgroup\":\"True\",\"hovertemplate\":\"Sentiment=Awe\\u003cbr\\u003eYear=2023\\u003cbr\\u003eMonth=%{x}\\u003cbr\\u003eNumber of Occurrences=%{y}\\u003cextra\\u003e\\u003c\\u002fextra\\u003e\",\"legendgroup\":\"Awe\",\"marker\":{\"color\":\"#FF6692\",\"pattern\":{\"shape\":\"\"}},\"name\":\"Awe\",\"offsetgroup\":\"Awe\",\"orientation\":\"v\",\"showlegend\":true,\"textposition\":\"auto\",\"x\":[\"Feb\"],\"xaxis\":\"x\",\"y\":[2],\"yaxis\":\"y\",\"type\":\"bar\"},{\"alignmentgroup\":\"True\",\"hovertemplate\":\"Sentiment=Gratitude\\u003cbr\\u003eYear=2023\\u003cbr\\u003eMonth=%{x}\\u003cbr\\u003eNumber of Occurrences=%{y}\\u003cextra\\u003e\\u003c\\u002fextra\\u003e\",\"legendgroup\":\"Gratitude\",\"marker\":{\"color\":\"#FF97FF\",\"pattern\":{\"shape\":\"\"}},\"name\":\"Gratitude\",\"offsetgroup\":\"Gratitude\",\"orientation\":\"v\",\"showlegend\":true,\"textposition\":\"auto\",\"x\":[\"Feb\",\"Jun\",\"Jul\"],\"xaxis\":\"x\",\"y\":[1,3,3],\"yaxis\":\"y\",\"type\":\"bar\"},{\"alignmentgroup\":\"True\",\"hovertemplate\":\"Sentiment=Happy\\u003cbr\\u003eYear=2023\\u003cbr\\u003eMonth=%{x}\\u003cbr\\u003eNumber of Occurrences=%{y}\\u003cextra\\u003e\\u003c\\u002fextra\\u003e\",\"legendgroup\":\"Happy\",\"marker\":{\"color\":\"#FECB52\",\"pattern\":{\"shape\":\"\"}},\"name\":\"Happy\",\"offsetgroup\":\"Happy\",\"orientation\":\"v\",\"showlegend\":true,\"textposition\":\"auto\",\"x\":[\"Oct\"],\"xaxis\":\"x\",\"y\":[7],\"yaxis\":\"y\",\"type\":\"bar\"},{\"alignmentgroup\":\"True\",\"hovertemplate\":\"Sentiment=Joy\\u003cbr\\u003eYear=2023\\u003cbr\\u003eMonth=%{x}\\u003cbr\\u003eNumber of Occurrences=%{y}\\u003cextra\\u003e\\u003c\\u002fextra\\u003e\",\"legendgroup\":\"Joy\",\"marker\":{\"color\":\"#636efa\",\"pattern\":{\"shape\":\"\"}},\"name\":\"Joy\",\"offsetgroup\":\"Joy\",\"orientation\":\"v\",\"showlegend\":true,\"textposition\":\"auto\",\"x\":[\"Feb\",\"Mar\",\"May\",\"Jun\",\"Jul\",\"Aug\",\"Sept\"],\"xaxis\":\"x\",\"y\":[2,1,3,10,10,9,4],\"yaxis\":\"y\",\"type\":\"bar\"},{\"alignmentgroup\":\"True\",\"hovertemplate\":\"Sentiment=Curiosity\\u003cbr\\u003eYear=2023\\u003cbr\\u003eMonth=%{x}\\u003cbr\\u003eNumber of Occurrences=%{y}\\u003cextra\\u003e\\u003c\\u002fextra\\u003e\",\"legendgroup\":\"Curiosity\",\"marker\":{\"color\":\"#00cc96\",\"pattern\":{\"shape\":\"\"}},\"name\":\"Curiosity\",\"offsetgroup\":\"Curiosity\",\"orientation\":\"v\",\"showlegend\":true,\"textposition\":\"auto\",\"x\":[\"Apr\",\"Jun\",\"Jul\"],\"xaxis\":\"x\",\"y\":[1,5,1],\"yaxis\":\"y\",\"type\":\"bar\"},{\"alignmentgroup\":\"True\",\"hovertemplate\":\"Sentiment=Hopeful\\u003cbr\\u003eYear=2023\\u003cbr\\u003eMonth=%{x}\\u003cbr\\u003eNumber of Occurrences=%{y}\\u003cextra\\u003e\\u003c\\u002fextra\\u003e\",\"legendgroup\":\"Hopeful\",\"marker\":{\"color\":\"#ab63fa\",\"pattern\":{\"shape\":\"\"}},\"name\":\"Hopeful\",\"offsetgroup\":\"Hopeful\",\"orientation\":\"v\",\"showlegend\":true,\"textposition\":\"auto\",\"x\":[\"May\",\"Oct\"],\"xaxis\":\"x\",\"y\":[2,1],\"yaxis\":\"y\",\"type\":\"bar\"},{\"alignmentgroup\":\"True\",\"hovertemplate\":\"Sentiment=Sad\\u003cbr\\u003eYear=2023\\u003cbr\\u003eMonth=%{x}\\u003cbr\\u003eNumber of Occurrences=%{y}\\u003cextra\\u003e\\u003c\\u002fextra\\u003e\",\"legendgroup\":\"Sad\",\"marker\":{\"color\":\"#FFA15A\",\"pattern\":{\"shape\":\"\"}},\"name\":\"Sad\",\"offsetgroup\":\"Sad\",\"orientation\":\"v\",\"showlegend\":true,\"textposition\":\"auto\",\"x\":[\"Sept\",\"Oct\"],\"xaxis\":\"x\",\"y\":[8,1],\"yaxis\":\"y\",\"type\":\"bar\"}],                        {\"template\":{\"data\":{\"histogram2dcontour\":[{\"type\":\"histogram2dcontour\",\"colorbar\":{\"outlinewidth\":0,\"ticks\":\"\"},\"colorscale\":[[0.0,\"#0d0887\"],[0.1111111111111111,\"#46039f\"],[0.2222222222222222,\"#7201a8\"],[0.3333333333333333,\"#9c179e\"],[0.4444444444444444,\"#bd3786\"],[0.5555555555555556,\"#d8576b\"],[0.6666666666666666,\"#ed7953\"],[0.7777777777777778,\"#fb9f3a\"],[0.8888888888888888,\"#fdca26\"],[1.0,\"#f0f921\"]]}],\"choropleth\":[{\"type\":\"choropleth\",\"colorbar\":{\"outlinewidth\":0,\"ticks\":\"\"}}],\"histogram2d\":[{\"type\":\"histogram2d\",\"colorbar\":{\"outlinewidth\":0,\"ticks\":\"\"},\"colorscale\":[[0.0,\"#0d0887\"],[0.1111111111111111,\"#46039f\"],[0.2222222222222222,\"#7201a8\"],[0.3333333333333333,\"#9c179e\"],[0.4444444444444444,\"#bd3786\"],[0.5555555555555556,\"#d8576b\"],[0.6666666666666666,\"#ed7953\"],[0.7777777777777778,\"#fb9f3a\"],[0.8888888888888888,\"#fdca26\"],[1.0,\"#f0f921\"]]}],\"heatmap\":[{\"type\":\"heatmap\",\"colorbar\":{\"outlinewidth\":0,\"ticks\":\"\"},\"colorscale\":[[0.0,\"#0d0887\"],[0.1111111111111111,\"#46039f\"],[0.2222222222222222,\"#7201a8\"],[0.3333333333333333,\"#9c179e\"],[0.4444444444444444,\"#bd3786\"],[0.5555555555555556,\"#d8576b\"],[0.6666666666666666,\"#ed7953\"],[0.7777777777777778,\"#fb9f3a\"],[0.8888888888888888,\"#fdca26\"],[1.0,\"#f0f921\"]]}],\"heatmapgl\":[{\"type\":\"heatmapgl\",\"colorbar\":{\"outlinewidth\":0,\"ticks\":\"\"},\"colorscale\":[[0.0,\"#0d0887\"],[0.1111111111111111,\"#46039f\"],[0.2222222222222222,\"#7201a8\"],[0.3333333333333333,\"#9c179e\"],[0.4444444444444444,\"#bd3786\"],[0.5555555555555556,\"#d8576b\"],[0.6666666666666666,\"#ed7953\"],[0.7777777777777778,\"#fb9f3a\"],[0.8888888888888888,\"#fdca26\"],[1.0,\"#f0f921\"]]}],\"contourcarpet\":[{\"type\":\"contourcarpet\",\"colorbar\":{\"outlinewidth\":0,\"ticks\":\"\"}}],\"contour\":[{\"type\":\"contour\",\"colorbar\":{\"outlinewidth\":0,\"ticks\":\"\"},\"colorscale\":[[0.0,\"#0d0887\"],[0.1111111111111111,\"#46039f\"],[0.2222222222222222,\"#7201a8\"],[0.3333333333333333,\"#9c179e\"],[0.4444444444444444,\"#bd3786\"],[0.5555555555555556,\"#d8576b\"],[0.6666666666666666,\"#ed7953\"],[0.7777777777777778,\"#fb9f3a\"],[0.8888888888888888,\"#fdca26\"],[1.0,\"#f0f921\"]]}],\"surface\":[{\"type\":\"surface\",\"colorbar\":{\"outlinewidth\":0,\"ticks\":\"\"},\"colorscale\":[[0.0,\"#0d0887\"],[0.1111111111111111,\"#46039f\"],[0.2222222222222222,\"#7201a8\"],[0.3333333333333333,\"#9c179e\"],[0.4444444444444444,\"#bd3786\"],[0.5555555555555556,\"#d8576b\"],[0.6666666666666666,\"#ed7953\"],[0.7777777777777778,\"#fb9f3a\"],[0.8888888888888888,\"#fdca26\"],[1.0,\"#f0f921\"]]}],\"mesh3d\":[{\"type\":\"mesh3d\",\"colorbar\":{\"outlinewidth\":0,\"ticks\":\"\"}}],\"scatter\":[{\"fillpattern\":{\"fillmode\":\"overlay\",\"size\":10,\"solidity\":0.2},\"type\":\"scatter\"}],\"parcoords\":[{\"type\":\"parcoords\",\"line\":{\"colorbar\":{\"outlinewidth\":0,\"ticks\":\"\"}}}],\"scatterpolargl\":[{\"type\":\"scatterpolargl\",\"marker\":{\"colorbar\":{\"outlinewidth\":0,\"ticks\":\"\"}}}],\"bar\":[{\"error_x\":{\"color\":\"#2a3f5f\"},\"error_y\":{\"color\":\"#2a3f5f\"},\"marker\":{\"line\":{\"color\":\"#E5ECF6\",\"width\":0.5},\"pattern\":{\"fillmode\":\"overlay\",\"size\":10,\"solidity\":0.2}},\"type\":\"bar\"}],\"scattergeo\":[{\"type\":\"scattergeo\",\"marker\":{\"colorbar\":{\"outlinewidth\":0,\"ticks\":\"\"}}}],\"scatterpolar\":[{\"type\":\"scatterpolar\",\"marker\":{\"colorbar\":{\"outlinewidth\":0,\"ticks\":\"\"}}}],\"histogram\":[{\"marker\":{\"pattern\":{\"fillmode\":\"overlay\",\"size\":10,\"solidity\":0.2}},\"type\":\"histogram\"}],\"scattergl\":[{\"type\":\"scattergl\",\"marker\":{\"colorbar\":{\"outlinewidth\":0,\"ticks\":\"\"}}}],\"scatter3d\":[{\"type\":\"scatter3d\",\"line\":{\"colorbar\":{\"outlinewidth\":0,\"ticks\":\"\"}},\"marker\":{\"colorbar\":{\"outlinewidth\":0,\"ticks\":\"\"}}}],\"scattermapbox\":[{\"type\":\"scattermapbox\",\"marker\":{\"colorbar\":{\"outlinewidth\":0,\"ticks\":\"\"}}}],\"scatterternary\":[{\"type\":\"scatterternary\",\"marker\":{\"colorbar\":{\"outlinewidth\":0,\"ticks\":\"\"}}}],\"scattercarpet\":[{\"type\":\"scattercarpet\",\"marker\":{\"colorbar\":{\"outlinewidth\":0,\"ticks\":\"\"}}}],\"carpet\":[{\"aaxis\":{\"endlinecolor\":\"#2a3f5f\",\"gridcolor\":\"white\",\"linecolor\":\"white\",\"minorgridcolor\":\"white\",\"startlinecolor\":\"#2a3f5f\"},\"baxis\":{\"endlinecolor\":\"#2a3f5f\",\"gridcolor\":\"white\",\"linecolor\":\"white\",\"minorgridcolor\":\"white\",\"startlinecolor\":\"#2a3f5f\"},\"type\":\"carpet\"}],\"table\":[{\"cells\":{\"fill\":{\"color\":\"#EBF0F8\"},\"line\":{\"color\":\"white\"}},\"header\":{\"fill\":{\"color\":\"#C8D4E3\"},\"line\":{\"color\":\"white\"}},\"type\":\"table\"}],\"barpolar\":[{\"marker\":{\"line\":{\"color\":\"#E5ECF6\",\"width\":0.5},\"pattern\":{\"fillmode\":\"overlay\",\"size\":10,\"solidity\":0.2}},\"type\":\"barpolar\"}],\"pie\":[{\"automargin\":true,\"type\":\"pie\"}]},\"layout\":{\"autotypenumbers\":\"strict\",\"colorway\":[\"#636efa\",\"#EF553B\",\"#00cc96\",\"#ab63fa\",\"#FFA15A\",\"#19d3f3\",\"#FF6692\",\"#B6E880\",\"#FF97FF\",\"#FECB52\"],\"font\":{\"color\":\"#2a3f5f\"},\"hovermode\":\"closest\",\"hoverlabel\":{\"align\":\"left\"},\"paper_bgcolor\":\"white\",\"plot_bgcolor\":\"#E5ECF6\",\"polar\":{\"bgcolor\":\"#E5ECF6\",\"angularaxis\":{\"gridcolor\":\"white\",\"linecolor\":\"white\",\"ticks\":\"\"},\"radialaxis\":{\"gridcolor\":\"white\",\"linecolor\":\"white\",\"ticks\":\"\"}},\"ternary\":{\"bgcolor\":\"#E5ECF6\",\"aaxis\":{\"gridcolor\":\"white\",\"linecolor\":\"white\",\"ticks\":\"\"},\"baxis\":{\"gridcolor\":\"white\",\"linecolor\":\"white\",\"ticks\":\"\"},\"caxis\":{\"gridcolor\":\"white\",\"linecolor\":\"white\",\"ticks\":\"\"}},\"coloraxis\":{\"colorbar\":{\"outlinewidth\":0,\"ticks\":\"\"}},\"colorscale\":{\"sequential\":[[0.0,\"#0d0887\"],[0.1111111111111111,\"#46039f\"],[0.2222222222222222,\"#7201a8\"],[0.3333333333333333,\"#9c179e\"],[0.4444444444444444,\"#bd3786\"],[0.5555555555555556,\"#d8576b\"],[0.6666666666666666,\"#ed7953\"],[0.7777777777777778,\"#fb9f3a\"],[0.8888888888888888,\"#fdca26\"],[1.0,\"#f0f921\"]],\"sequentialminus\":[[0.0,\"#0d0887\"],[0.1111111111111111,\"#46039f\"],[0.2222222222222222,\"#7201a8\"],[0.3333333333333333,\"#9c179e\"],[0.4444444444444444,\"#bd3786\"],[0.5555555555555556,\"#d8576b\"],[0.6666666666666666,\"#ed7953\"],[0.7777777777777778,\"#fb9f3a\"],[0.8888888888888888,\"#fdca26\"],[1.0,\"#f0f921\"]],\"diverging\":[[0,\"#8e0152\"],[0.1,\"#c51b7d\"],[0.2,\"#de77ae\"],[0.3,\"#f1b6da\"],[0.4,\"#fde0ef\"],[0.5,\"#f7f7f7\"],[0.6,\"#e6f5d0\"],[0.7,\"#b8e186\"],[0.8,\"#7fbc41\"],[0.9,\"#4d9221\"],[1,\"#276419\"]]},\"xaxis\":{\"gridcolor\":\"white\",\"linecolor\":\"white\",\"ticks\":\"\",\"title\":{\"standoff\":15},\"zerolinecolor\":\"white\",\"automargin\":true,\"zerolinewidth\":2},\"yaxis\":{\"gridcolor\":\"white\",\"linecolor\":\"white\",\"ticks\":\"\",\"title\":{\"standoff\":15},\"zerolinecolor\":\"white\",\"automargin\":true,\"zerolinewidth\":2},\"scene\":{\"xaxis\":{\"backgroundcolor\":\"#E5ECF6\",\"gridcolor\":\"white\",\"linecolor\":\"white\",\"showbackground\":true,\"ticks\":\"\",\"zerolinecolor\":\"white\",\"gridwidth\":2},\"yaxis\":{\"backgroundcolor\":\"#E5ECF6\",\"gridcolor\":\"white\",\"linecolor\":\"white\",\"showbackground\":true,\"ticks\":\"\",\"zerolinecolor\":\"white\",\"gridwidth\":2},\"zaxis\":{\"backgroundcolor\":\"#E5ECF6\",\"gridcolor\":\"white\",\"linecolor\":\"white\",\"showbackground\":true,\"ticks\":\"\",\"zerolinecolor\":\"white\",\"gridwidth\":2}},\"shapedefaults\":{\"line\":{\"color\":\"#2a3f5f\"}},\"annotationdefaults\":{\"arrowcolor\":\"#2a3f5f\",\"arrowhead\":0,\"arrowwidth\":1},\"geo\":{\"bgcolor\":\"white\",\"landcolor\":\"#E5ECF6\",\"subunitcolor\":\"white\",\"showland\":true,\"showlakes\":true,\"lakecolor\":\"white\"},\"title\":{\"x\":0.05},\"mapbox\":{\"style\":\"light\"}}},\"xaxis\":{\"anchor\":\"y\",\"domain\":[0.0,1.0],\"title\":{\"text\":\"Month\"}},\"yaxis\":{\"anchor\":\"x\",\"domain\":[0.0,1.0],\"title\":{\"text\":\"Number of Occurrences\"}},\"legend\":{\"title\":{\"text\":\"Sentiment\"},\"tracegroupgap\":0},\"title\":{\"text\":\"Top 10 Sentiments Value Counts vs Month\"},\"barmode\":\"relative\",\"updatemenus\":[{\"buttons\":[{\"args\":[null],\"label\":\"Play\",\"method\":\"animate\"},{\"args\":[[null],{\"frame\":{\"duration\":0,\"redraw\":false},\"mode\":\"immediate\",\"transition\":{\"duration\":0}}],\"label\":\"Pause\",\"method\":\"animate\"}],\"direction\":\"left\",\"pad\":{\"r\":10,\"t\":70},\"showactive\":false,\"type\":\"buttons\",\"x\":0.1,\"xanchor\":\"right\",\"y\":0,\"yanchor\":\"top\"}],\"sliders\":[{\"active\":0,\"currentvalue\":{\"prefix\":\"Year=\"},\"len\":0.9,\"pad\":{\"b\":10,\"t\":60},\"steps\":[{\"args\":[[\"2023\"],{\"frame\":{\"duration\":0,\"redraw\":true},\"mode\":\"immediate\",\"fromcurrent\":true,\"transition\":{\"duration\":0,\"easing\":\"linear\"}}],\"label\":\"2023\",\"method\":\"animate\"},{\"args\":[[\"2017\"],{\"frame\":{\"duration\":0,\"redraw\":true},\"mode\":\"immediate\",\"fromcurrent\":true,\"transition\":{\"duration\":0,\"easing\":\"linear\"}}],\"label\":\"2017\",\"method\":\"animate\"},{\"args\":[[\"2022\"],{\"frame\":{\"duration\":0,\"redraw\":true},\"mode\":\"immediate\",\"fromcurrent\":true,\"transition\":{\"duration\":0,\"easing\":\"linear\"}}],\"label\":\"2022\",\"method\":\"animate\"},{\"args\":[[\"2016\"],{\"frame\":{\"duration\":0,\"redraw\":true},\"mode\":\"immediate\",\"fromcurrent\":true,\"transition\":{\"duration\":0,\"easing\":\"linear\"}}],\"label\":\"2016\",\"method\":\"animate\"},{\"args\":[[\"2021\"],{\"frame\":{\"duration\":0,\"redraw\":true},\"mode\":\"immediate\",\"fromcurrent\":true,\"transition\":{\"duration\":0,\"easing\":\"linear\"}}],\"label\":\"2021\",\"method\":\"animate\"},{\"args\":[[\"2020\"],{\"frame\":{\"duration\":0,\"redraw\":true},\"mode\":\"immediate\",\"fromcurrent\":true,\"transition\":{\"duration\":0,\"easing\":\"linear\"}}],\"label\":\"2020\",\"method\":\"animate\"},{\"args\":[[\"2018\"],{\"frame\":{\"duration\":0,\"redraw\":true},\"mode\":\"immediate\",\"fromcurrent\":true,\"transition\":{\"duration\":0,\"easing\":\"linear\"}}],\"label\":\"2018\",\"method\":\"animate\"},{\"args\":[[\"2012\"],{\"frame\":{\"duration\":0,\"redraw\":true},\"mode\":\"immediate\",\"fromcurrent\":true,\"transition\":{\"duration\":0,\"easing\":\"linear\"}}],\"label\":\"2012\",\"method\":\"animate\"},{\"args\":[[\"2019\"],{\"frame\":{\"duration\":0,\"redraw\":true},\"mode\":\"immediate\",\"fromcurrent\":true,\"transition\":{\"duration\":0,\"easing\":\"linear\"}}],\"label\":\"2019\",\"method\":\"animate\"},{\"args\":[[\"2013\"],{\"frame\":{\"duration\":0,\"redraw\":true},\"mode\":\"immediate\",\"fromcurrent\":true,\"transition\":{\"duration\":0,\"easing\":\"linear\"}}],\"label\":\"2013\",\"method\":\"animate\"},{\"args\":[[\"2011\"],{\"frame\":{\"duration\":0,\"redraw\":true},\"mode\":\"immediate\",\"fromcurrent\":true,\"transition\":{\"duration\":0,\"easing\":\"linear\"}}],\"label\":\"2011\",\"method\":\"animate\"},{\"args\":[[\"2015\"],{\"frame\":{\"duration\":0,\"redraw\":true},\"mode\":\"immediate\",\"fromcurrent\":true,\"transition\":{\"duration\":0,\"easing\":\"linear\"}}],\"label\":\"2015\",\"method\":\"animate\"},{\"args\":[[\"2010\"],{\"frame\":{\"duration\":0,\"redraw\":true},\"mode\":\"immediate\",\"fromcurrent\":true,\"transition\":{\"duration\":0,\"easing\":\"linear\"}}],\"label\":\"2010\",\"method\":\"animate\"}],\"x\":0.1,\"xanchor\":\"left\",\"y\":0,\"yanchor\":\"top\"}]},                        {\"responsive\": true}                    ).then(function(){\n",
       "                            Plotly.addFrames('573f2390-bbc6-476b-bc37-9785455f3ede', [{\"data\":[{\"alignmentgroup\":\"True\",\"hovertemplate\":\"Sentiment=Grief\\u003cbr\\u003eYear=2023\\u003cbr\\u003eMonth=%{x}\\u003cbr\\u003eNumber of Occurrences=%{y}\\u003cextra\\u003e\\u003c\\u002fextra\\u003e\",\"legendgroup\":\"Grief\",\"marker\":{\"color\":\"#636efa\",\"pattern\":{\"shape\":\"\"}},\"name\":\"Grief\",\"offsetgroup\":\"Grief\",\"orientation\":\"v\",\"showlegend\":true,\"textposition\":\"auto\",\"x\":[\"Jan\"],\"xaxis\":\"x\",\"y\":[1],\"yaxis\":\"y\",\"type\":\"bar\"},{\"alignmentgroup\":\"True\",\"hovertemplate\":\"Sentiment=Contentment\\u003cbr\\u003eYear=2023\\u003cbr\\u003eMonth=%{x}\\u003cbr\\u003eNumber of Occurrences=%{y}\\u003cextra\\u003e\\u003c\\u002fextra\\u003e\",\"legendgroup\":\"Contentment\",\"marker\":{\"color\":\"#EF553B\",\"pattern\":{\"shape\":\"\"}},\"name\":\"Contentment\",\"offsetgroup\":\"Contentment\",\"orientation\":\"v\",\"showlegend\":true,\"textposition\":\"auto\",\"x\":[\"Jan\",\"Jun\",\"Jul\"],\"xaxis\":\"x\",\"y\":[1,7,2],\"yaxis\":\"y\",\"type\":\"bar\"},{\"alignmentgroup\":\"True\",\"hovertemplate\":\"Sentiment=Excitement\\u003cbr\\u003eYear=2023\\u003cbr\\u003eMonth=%{x}\\u003cbr\\u003eNumber of Occurrences=%{y}\\u003cextra\\u003e\\u003c\\u002fextra\\u003e\",\"legendgroup\":\"Excitement\",\"marker\":{\"color\":\"#00cc96\",\"pattern\":{\"shape\":\"\"}},\"name\":\"Excitement\",\"offsetgroup\":\"Excitement\",\"orientation\":\"v\",\"showlegend\":true,\"textposition\":\"auto\",\"x\":[\"Jan\",\"Feb\",\"Mar\",\"May\",\"Jun\",\"Jul\",\"Aug\",\"Sept\"],\"xaxis\":\"x\",\"y\":[1,2,3,2,3,4,12,4],\"yaxis\":\"y\",\"type\":\"bar\"},{\"alignmentgroup\":\"True\",\"hovertemplate\":\"Sentiment=Positive\\u003cbr\\u003eYear=2023\\u003cbr\\u003eMonth=%{x}\\u003cbr\\u003eNumber of Occurrences=%{y}\\u003cextra\\u003e\\u003c\\u002fextra\\u003e\",\"legendgroup\":\"Positive\",\"marker\":{\"color\":\"#ab63fa\",\"pattern\":{\"shape\":\"\"}},\"name\":\"Positive\",\"offsetgroup\":\"Positive\",\"orientation\":\"v\",\"showlegend\":true,\"textposition\":\"auto\",\"x\":[\"Jan\",\"Feb\",\"Aug\"],\"xaxis\":\"x\",\"y\":[42,2,1],\"yaxis\":\"y\",\"type\":\"bar\"},{\"alignmentgroup\":\"True\",\"hovertemplate\":\"Sentiment=Neutral\\u003cbr\\u003eYear=2023\\u003cbr\\u003eMonth=%{x}\\u003cbr\\u003eNumber of Occurrences=%{y}\\u003cextra\\u003e\\u003c\\u002fextra\\u003e\",\"legendgroup\":\"Neutral\",\"marker\":{\"color\":\"#19d3f3\",\"pattern\":{\"shape\":\"\"}},\"name\":\"Neutral\",\"offsetgroup\":\"Neutral\",\"orientation\":\"v\",\"showlegend\":true,\"textposition\":\"auto\",\"x\":[\"Jan\",\"Oct\"],\"xaxis\":\"x\",\"y\":[4,14],\"yaxis\":\"y\",\"type\":\"bar\"},{\"alignmentgroup\":\"True\",\"hovertemplate\":\"Sentiment=Awe\\u003cbr\\u003eYear=2023\\u003cbr\\u003eMonth=%{x}\\u003cbr\\u003eNumber of Occurrences=%{y}\\u003cextra\\u003e\\u003c\\u002fextra\\u003e\",\"legendgroup\":\"Awe\",\"marker\":{\"color\":\"#FF6692\",\"pattern\":{\"shape\":\"\"}},\"name\":\"Awe\",\"offsetgroup\":\"Awe\",\"orientation\":\"v\",\"showlegend\":true,\"textposition\":\"auto\",\"x\":[\"Feb\"],\"xaxis\":\"x\",\"y\":[2],\"yaxis\":\"y\",\"type\":\"bar\"},{\"alignmentgroup\":\"True\",\"hovertemplate\":\"Sentiment=Gratitude\\u003cbr\\u003eYear=2023\\u003cbr\\u003eMonth=%{x}\\u003cbr\\u003eNumber of Occurrences=%{y}\\u003cextra\\u003e\\u003c\\u002fextra\\u003e\",\"legendgroup\":\"Gratitude\",\"marker\":{\"color\":\"#FF97FF\",\"pattern\":{\"shape\":\"\"}},\"name\":\"Gratitude\",\"offsetgroup\":\"Gratitude\",\"orientation\":\"v\",\"showlegend\":true,\"textposition\":\"auto\",\"x\":[\"Feb\",\"Jun\",\"Jul\"],\"xaxis\":\"x\",\"y\":[1,3,3],\"yaxis\":\"y\",\"type\":\"bar\"},{\"alignmentgroup\":\"True\",\"hovertemplate\":\"Sentiment=Happy\\u003cbr\\u003eYear=2023\\u003cbr\\u003eMonth=%{x}\\u003cbr\\u003eNumber of Occurrences=%{y}\\u003cextra\\u003e\\u003c\\u002fextra\\u003e\",\"legendgroup\":\"Happy\",\"marker\":{\"color\":\"#FECB52\",\"pattern\":{\"shape\":\"\"}},\"name\":\"Happy\",\"offsetgroup\":\"Happy\",\"orientation\":\"v\",\"showlegend\":true,\"textposition\":\"auto\",\"x\":[\"Oct\"],\"xaxis\":\"x\",\"y\":[7],\"yaxis\":\"y\",\"type\":\"bar\"},{\"alignmentgroup\":\"True\",\"hovertemplate\":\"Sentiment=Joy\\u003cbr\\u003eYear=2023\\u003cbr\\u003eMonth=%{x}\\u003cbr\\u003eNumber of Occurrences=%{y}\\u003cextra\\u003e\\u003c\\u002fextra\\u003e\",\"legendgroup\":\"Joy\",\"marker\":{\"color\":\"#636efa\",\"pattern\":{\"shape\":\"\"}},\"name\":\"Joy\",\"offsetgroup\":\"Joy\",\"orientation\":\"v\",\"showlegend\":true,\"textposition\":\"auto\",\"x\":[\"Feb\",\"Mar\",\"May\",\"Jun\",\"Jul\",\"Aug\",\"Sept\"],\"xaxis\":\"x\",\"y\":[2,1,3,10,10,9,4],\"yaxis\":\"y\",\"type\":\"bar\"},{\"alignmentgroup\":\"True\",\"hovertemplate\":\"Sentiment=Curiosity\\u003cbr\\u003eYear=2023\\u003cbr\\u003eMonth=%{x}\\u003cbr\\u003eNumber of Occurrences=%{y}\\u003cextra\\u003e\\u003c\\u002fextra\\u003e\",\"legendgroup\":\"Curiosity\",\"marker\":{\"color\":\"#00cc96\",\"pattern\":{\"shape\":\"\"}},\"name\":\"Curiosity\",\"offsetgroup\":\"Curiosity\",\"orientation\":\"v\",\"showlegend\":true,\"textposition\":\"auto\",\"x\":[\"Apr\",\"Jun\",\"Jul\"],\"xaxis\":\"x\",\"y\":[1,5,1],\"yaxis\":\"y\",\"type\":\"bar\"},{\"alignmentgroup\":\"True\",\"hovertemplate\":\"Sentiment=Hopeful\\u003cbr\\u003eYear=2023\\u003cbr\\u003eMonth=%{x}\\u003cbr\\u003eNumber of Occurrences=%{y}\\u003cextra\\u003e\\u003c\\u002fextra\\u003e\",\"legendgroup\":\"Hopeful\",\"marker\":{\"color\":\"#ab63fa\",\"pattern\":{\"shape\":\"\"}},\"name\":\"Hopeful\",\"offsetgroup\":\"Hopeful\",\"orientation\":\"v\",\"showlegend\":true,\"textposition\":\"auto\",\"x\":[\"May\",\"Oct\"],\"xaxis\":\"x\",\"y\":[2,1],\"yaxis\":\"y\",\"type\":\"bar\"},{\"alignmentgroup\":\"True\",\"hovertemplate\":\"Sentiment=Sad\\u003cbr\\u003eYear=2023\\u003cbr\\u003eMonth=%{x}\\u003cbr\\u003eNumber of Occurrences=%{y}\\u003cextra\\u003e\\u003c\\u002fextra\\u003e\",\"legendgroup\":\"Sad\",\"marker\":{\"color\":\"#FFA15A\",\"pattern\":{\"shape\":\"\"}},\"name\":\"Sad\",\"offsetgroup\":\"Sad\",\"orientation\":\"v\",\"showlegend\":true,\"textposition\":\"auto\",\"x\":[\"Sept\",\"Oct\"],\"xaxis\":\"x\",\"y\":[8,1],\"yaxis\":\"y\",\"type\":\"bar\"}],\"name\":\"2023\"},{\"data\":[{\"alignmentgroup\":\"True\",\"hovertemplate\":\"Sentiment=Contentment\\u003cbr\\u003eYear=2017\\u003cbr\\u003eMonth=%{x}\\u003cbr\\u003eNumber of Occurrences=%{y}\\u003cextra\\u003e\\u003c\\u002fextra\\u003e\",\"legendgroup\":\"Contentment\",\"marker\":{\"color\":\"#EF553B\",\"pattern\":{\"shape\":\"\"}},\"name\":\"Contentment\",\"offsetgroup\":\"Contentment\",\"orientation\":\"v\",\"showlegend\":true,\"textposition\":\"auto\",\"x\":[\"Jun\"],\"xaxis\":\"x\",\"y\":[1],\"yaxis\":\"y\",\"type\":\"bar\"},{\"alignmentgroup\":\"True\",\"hovertemplate\":\"Sentiment=Nostalgia\\u003cbr\\u003eYear=2017\\u003cbr\\u003eMonth=%{x}\\u003cbr\\u003eNumber of Occurrences=%{y}\\u003cextra\\u003e\\u003c\\u002fextra\\u003e\",\"legendgroup\":\"Nostalgia\",\"marker\":{\"color\":\"#FFA15A\",\"pattern\":{\"shape\":\"\"}},\"name\":\"Nostalgia\",\"offsetgroup\":\"Nostalgia\",\"orientation\":\"v\",\"showlegend\":true,\"textposition\":\"auto\",\"x\":[\"Jan\",\"May\",\"Jun\"],\"xaxis\":\"x\",\"y\":[1,1,1],\"yaxis\":\"y\",\"type\":\"bar\"},{\"alignmentgroup\":\"True\",\"hovertemplate\":\"Sentiment=Awe\\u003cbr\\u003eYear=2017\\u003cbr\\u003eMonth=%{x}\\u003cbr\\u003eNumber of Occurrences=%{y}\\u003cextra\\u003e\\u003c\\u002fextra\\u003e\",\"legendgroup\":\"Awe\",\"marker\":{\"color\":\"#FF6692\",\"pattern\":{\"shape\":\"\"}},\"name\":\"Awe\",\"offsetgroup\":\"Awe\",\"orientation\":\"v\",\"showlegend\":true,\"textposition\":\"auto\",\"x\":[\"Aug\",\"Nov\"],\"xaxis\":\"x\",\"y\":[1,1],\"yaxis\":\"y\",\"type\":\"bar\"},{\"alignmentgroup\":\"True\",\"hovertemplate\":\"Sentiment=Despair\\u003cbr\\u003eYear=2017\\u003cbr\\u003eMonth=%{x}\\u003cbr\\u003eNumber of Occurrences=%{y}\\u003cextra\\u003e\\u003c\\u002fextra\\u003e\",\"legendgroup\":\"Despair\",\"marker\":{\"color\":\"#B6E880\",\"pattern\":{\"shape\":\"\"}},\"name\":\"Despair\",\"offsetgroup\":\"Despair\",\"orientation\":\"v\",\"showlegend\":true,\"textposition\":\"auto\",\"x\":[\"Mar\",\"Aug\"],\"xaxis\":\"x\",\"y\":[1,1],\"yaxis\":\"y\",\"type\":\"bar\"},{\"alignmentgroup\":\"True\",\"hovertemplate\":\"Sentiment=Gratitude\\u003cbr\\u003eYear=2017\\u003cbr\\u003eMonth=%{x}\\u003cbr\\u003eNumber of Occurrences=%{y}\\u003cextra\\u003e\\u003c\\u002fextra\\u003e\",\"legendgroup\":\"Gratitude\",\"marker\":{\"color\":\"#FF97FF\",\"pattern\":{\"shape\":\"\"}},\"name\":\"Gratitude\",\"offsetgroup\":\"Gratitude\",\"orientation\":\"v\",\"showlegend\":true,\"textposition\":\"auto\",\"x\":[\"Apr\",\"Dec\"],\"xaxis\":\"x\",\"y\":[1,3],\"yaxis\":\"y\",\"type\":\"bar\"},{\"alignmentgroup\":\"True\",\"hovertemplate\":\"Sentiment=Happy\\u003cbr\\u003eYear=2017\\u003cbr\\u003eMonth=%{x}\\u003cbr\\u003eNumber of Occurrences=%{y}\\u003cextra\\u003e\\u003c\\u002fextra\\u003e\",\"legendgroup\":\"Happy\",\"marker\":{\"color\":\"#FECB52\",\"pattern\":{\"shape\":\"\"}},\"name\":\"Happy\",\"offsetgroup\":\"Happy\",\"orientation\":\"v\",\"showlegend\":true,\"textposition\":\"auto\",\"x\":[\"Aug\"],\"xaxis\":\"x\",\"y\":[1],\"yaxis\":\"y\",\"type\":\"bar\"},{\"alignmentgroup\":\"True\",\"hovertemplate\":\"Sentiment=Joy\\u003cbr\\u003eYear=2017\\u003cbr\\u003eMonth=%{x}\\u003cbr\\u003eNumber of Occurrences=%{y}\\u003cextra\\u003e\\u003c\\u002fextra\\u003e\",\"legendgroup\":\"Joy\",\"marker\":{\"color\":\"#636efa\",\"pattern\":{\"shape\":\"\"}},\"name\":\"Joy\",\"offsetgroup\":\"Joy\",\"orientation\":\"v\",\"showlegend\":true,\"textposition\":\"auto\",\"x\":[\"Mar\"],\"xaxis\":\"x\",\"y\":[1],\"yaxis\":\"y\",\"type\":\"bar\"}],\"name\":\"2017\"},{\"data\":[{\"alignmentgroup\":\"True\",\"hovertemplate\":\"Sentiment=Grief\\u003cbr\\u003eYear=2022\\u003cbr\\u003eMonth=%{x}\\u003cbr\\u003eNumber of Occurrences=%{y}\\u003cextra\\u003e\\u003c\\u002fextra\\u003e\",\"legendgroup\":\"Grief\",\"marker\":{\"color\":\"#636efa\",\"pattern\":{\"shape\":\"\"}},\"name\":\"Grief\",\"offsetgroup\":\"Grief\",\"orientation\":\"v\",\"showlegend\":true,\"textposition\":\"auto\",\"x\":[\"Jul\"],\"xaxis\":\"x\",\"y\":[1],\"yaxis\":\"y\",\"type\":\"bar\"},{\"alignmentgroup\":\"True\",\"hovertemplate\":\"Sentiment=Contentment\\u003cbr\\u003eYear=2022\\u003cbr\\u003eMonth=%{x}\\u003cbr\\u003eNumber of Occurrences=%{y}\\u003cextra\\u003e\\u003c\\u002fextra\\u003e\",\"legendgroup\":\"Contentment\",\"marker\":{\"color\":\"#EF553B\",\"pattern\":{\"shape\":\"\"}},\"name\":\"Contentment\",\"offsetgroup\":\"Contentment\",\"orientation\":\"v\",\"showlegend\":true,\"textposition\":\"auto\",\"x\":[\"Feb\"],\"xaxis\":\"x\",\"y\":[1],\"yaxis\":\"y\",\"type\":\"bar\"},{\"alignmentgroup\":\"True\",\"hovertemplate\":\"Sentiment=Excitement\\u003cbr\\u003eYear=2022\\u003cbr\\u003eMonth=%{x}\\u003cbr\\u003eNumber of Occurrences=%{y}\\u003cextra\\u003e\\u003c\\u002fextra\\u003e\",\"legendgroup\":\"Excitement\",\"marker\":{\"color\":\"#00cc96\",\"pattern\":{\"shape\":\"\"}},\"name\":\"Excitement\",\"offsetgroup\":\"Excitement\",\"orientation\":\"v\",\"showlegend\":true,\"textposition\":\"auto\",\"x\":[\"Jul\"],\"xaxis\":\"x\",\"y\":[1],\"yaxis\":\"y\",\"type\":\"bar\"},{\"alignmentgroup\":\"True\",\"hovertemplate\":\"Sentiment=Awe\\u003cbr\\u003eYear=2022\\u003cbr\\u003eMonth=%{x}\\u003cbr\\u003eNumber of Occurrences=%{y}\\u003cextra\\u003e\\u003c\\u002fextra\\u003e\",\"legendgroup\":\"Awe\",\"marker\":{\"color\":\"#FF6692\",\"pattern\":{\"shape\":\"\"}},\"name\":\"Awe\",\"offsetgroup\":\"Awe\",\"orientation\":\"v\",\"showlegend\":true,\"textposition\":\"auto\",\"x\":[\"Apr\"],\"xaxis\":\"x\",\"y\":[1],\"yaxis\":\"y\",\"type\":\"bar\"},{\"alignmentgroup\":\"True\",\"hovertemplate\":\"Sentiment=Despair\\u003cbr\\u003eYear=2022\\u003cbr\\u003eMonth=%{x}\\u003cbr\\u003eNumber of Occurrences=%{y}\\u003cextra\\u003e\\u003c\\u002fextra\\u003e\",\"legendgroup\":\"Despair\",\"marker\":{\"color\":\"#B6E880\",\"pattern\":{\"shape\":\"\"}},\"name\":\"Despair\",\"offsetgroup\":\"Despair\",\"orientation\":\"v\",\"showlegend\":true,\"textposition\":\"auto\",\"x\":[\"Feb\",\"Aug\"],\"xaxis\":\"x\",\"y\":[1,1],\"yaxis\":\"y\",\"type\":\"bar\"},{\"alignmentgroup\":\"True\",\"hovertemplate\":\"Sentiment=Serenity\\u003cbr\\u003eYear=2022\\u003cbr\\u003eMonth=%{x}\\u003cbr\\u003eNumber of Occurrences=%{y}\\u003cextra\\u003e\\u003c\\u002fextra\\u003e\",\"legendgroup\":\"Serenity\",\"marker\":{\"color\":\"#EF553B\",\"pattern\":{\"shape\":\"\"}},\"name\":\"Serenity\",\"offsetgroup\":\"Serenity\",\"orientation\":\"v\",\"showlegend\":true,\"textposition\":\"auto\",\"x\":[\"Feb\"],\"xaxis\":\"x\",\"y\":[1],\"yaxis\":\"y\",\"type\":\"bar\"},{\"alignmentgroup\":\"True\",\"hovertemplate\":\"Sentiment=Curiosity\\u003cbr\\u003eYear=2022\\u003cbr\\u003eMonth=%{x}\\u003cbr\\u003eNumber of Occurrences=%{y}\\u003cextra\\u003e\\u003c\\u002fextra\\u003e\",\"legendgroup\":\"Curiosity\",\"marker\":{\"color\":\"#00cc96\",\"pattern\":{\"shape\":\"\"}},\"name\":\"Curiosity\",\"offsetgroup\":\"Curiosity\",\"orientation\":\"v\",\"showlegend\":true,\"textposition\":\"auto\",\"x\":[\"Apr\",\"May\",\"Oct\",\"Dec\"],\"xaxis\":\"x\",\"y\":[1,1,1,1],\"yaxis\":\"y\",\"type\":\"bar\"},{\"alignmentgroup\":\"True\",\"hovertemplate\":\"Sentiment=Hopeful\\u003cbr\\u003eYear=2022\\u003cbr\\u003eMonth=%{x}\\u003cbr\\u003eNumber of Occurrences=%{y}\\u003cextra\\u003e\\u003c\\u002fextra\\u003e\",\"legendgroup\":\"Hopeful\",\"marker\":{\"color\":\"#ab63fa\",\"pattern\":{\"shape\":\"\"}},\"name\":\"Hopeful\",\"offsetgroup\":\"Hopeful\",\"orientation\":\"v\",\"showlegend\":true,\"textposition\":\"auto\",\"x\":[\"Apr\",\"Jul\",\"Oct\"],\"xaxis\":\"x\",\"y\":[1,3,2],\"yaxis\":\"y\",\"type\":\"bar\"}],\"name\":\"2022\"},{\"data\":[{\"alignmentgroup\":\"True\",\"hovertemplate\":\"Sentiment=Grief\\u003cbr\\u003eYear=2016\\u003cbr\\u003eMonth=%{x}\\u003cbr\\u003eNumber of Occurrences=%{y}\\u003cextra\\u003e\\u003c\\u002fextra\\u003e\",\"legendgroup\":\"Grief\",\"marker\":{\"color\":\"#636efa\",\"pattern\":{\"shape\":\"\"}},\"name\":\"Grief\",\"offsetgroup\":\"Grief\",\"orientation\":\"v\",\"showlegend\":true,\"textposition\":\"auto\",\"x\":[\"Dec\"],\"xaxis\":\"x\",\"y\":[1],\"yaxis\":\"y\",\"type\":\"bar\"},{\"alignmentgroup\":\"True\",\"hovertemplate\":\"Sentiment=Nostalgia\\u003cbr\\u003eYear=2016\\u003cbr\\u003eMonth=%{x}\\u003cbr\\u003eNumber of Occurrences=%{y}\\u003cextra\\u003e\\u003c\\u002fextra\\u003e\",\"legendgroup\":\"Nostalgia\",\"marker\":{\"color\":\"#FFA15A\",\"pattern\":{\"shape\":\"\"}},\"name\":\"Nostalgia\",\"offsetgroup\":\"Nostalgia\",\"orientation\":\"v\",\"showlegend\":true,\"textposition\":\"auto\",\"x\":[\"Dec\"],\"xaxis\":\"x\",\"y\":[1],\"yaxis\":\"y\",\"type\":\"bar\"},{\"alignmentgroup\":\"True\",\"hovertemplate\":\"Sentiment=Awe\\u003cbr\\u003eYear=2016\\u003cbr\\u003eMonth=%{x}\\u003cbr\\u003eNumber of Occurrences=%{y}\\u003cextra\\u003e\\u003c\\u002fextra\\u003e\",\"legendgroup\":\"Awe\",\"marker\":{\"color\":\"#FF6692\",\"pattern\":{\"shape\":\"\"}},\"name\":\"Awe\",\"offsetgroup\":\"Awe\",\"orientation\":\"v\",\"showlegend\":true,\"textposition\":\"auto\",\"x\":[\"Apr\"],\"xaxis\":\"x\",\"y\":[1],\"yaxis\":\"y\",\"type\":\"bar\"},{\"alignmentgroup\":\"True\",\"hovertemplate\":\"Sentiment=Despair\\u003cbr\\u003eYear=2016\\u003cbr\\u003eMonth=%{x}\\u003cbr\\u003eNumber of Occurrences=%{y}\\u003cextra\\u003e\\u003c\\u002fextra\\u003e\",\"legendgroup\":\"Despair\",\"marker\":{\"color\":\"#B6E880\",\"pattern\":{\"shape\":\"\"}},\"name\":\"Despair\",\"offsetgroup\":\"Despair\",\"orientation\":\"v\",\"showlegend\":true,\"textposition\":\"auto\",\"x\":[\"Apr\",\"May\",\"Oct\"],\"xaxis\":\"x\",\"y\":[1,1,1],\"yaxis\":\"y\",\"type\":\"bar\"},{\"alignmentgroup\":\"True\",\"hovertemplate\":\"Sentiment=Gratitude\\u003cbr\\u003eYear=2016\\u003cbr\\u003eMonth=%{x}\\u003cbr\\u003eNumber of Occurrences=%{y}\\u003cextra\\u003e\\u003c\\u002fextra\\u003e\",\"legendgroup\":\"Gratitude\",\"marker\":{\"color\":\"#FF97FF\",\"pattern\":{\"shape\":\"\"}},\"name\":\"Gratitude\",\"offsetgroup\":\"Gratitude\",\"orientation\":\"v\",\"showlegend\":true,\"textposition\":\"auto\",\"x\":[\"Feb\",\"Dec\"],\"xaxis\":\"x\",\"y\":[1,1],\"yaxis\":\"y\",\"type\":\"bar\"},{\"alignmentgroup\":\"True\",\"hovertemplate\":\"Sentiment=Happy\\u003cbr\\u003eYear=2016\\u003cbr\\u003eMonth=%{x}\\u003cbr\\u003eNumber of Occurrences=%{y}\\u003cextra\\u003e\\u003c\\u002fextra\\u003e\",\"legendgroup\":\"Happy\",\"marker\":{\"color\":\"#FECB52\",\"pattern\":{\"shape\":\"\"}},\"name\":\"Happy\",\"offsetgroup\":\"Happy\",\"orientation\":\"v\",\"showlegend\":true,\"textposition\":\"auto\",\"x\":[\"Sept\"],\"xaxis\":\"x\",\"y\":[1],\"yaxis\":\"y\",\"type\":\"bar\"},{\"alignmentgroup\":\"True\",\"hovertemplate\":\"Sentiment=Serenity\\u003cbr\\u003eYear=2016\\u003cbr\\u003eMonth=%{x}\\u003cbr\\u003eNumber of Occurrences=%{y}\\u003cextra\\u003e\\u003c\\u002fextra\\u003e\",\"legendgroup\":\"Serenity\",\"marker\":{\"color\":\"#EF553B\",\"pattern\":{\"shape\":\"\"}},\"name\":\"Serenity\",\"offsetgroup\":\"Serenity\",\"orientation\":\"v\",\"showlegend\":true,\"textposition\":\"auto\",\"x\":[\"Jul\",\"Sept\"],\"xaxis\":\"x\",\"y\":[1,1],\"yaxis\":\"y\",\"type\":\"bar\"},{\"alignmentgroup\":\"True\",\"hovertemplate\":\"Sentiment=Curiosity\\u003cbr\\u003eYear=2016\\u003cbr\\u003eMonth=%{x}\\u003cbr\\u003eNumber of Occurrences=%{y}\\u003cextra\\u003e\\u003c\\u002fextra\\u003e\",\"legendgroup\":\"Curiosity\",\"marker\":{\"color\":\"#00cc96\",\"pattern\":{\"shape\":\"\"}},\"name\":\"Curiosity\",\"offsetgroup\":\"Curiosity\",\"orientation\":\"v\",\"showlegend\":true,\"textposition\":\"auto\",\"x\":[\"Aug\"],\"xaxis\":\"x\",\"y\":[1],\"yaxis\":\"y\",\"type\":\"bar\"}],\"name\":\"2016\"},{\"data\":[{\"alignmentgroup\":\"True\",\"hovertemplate\":\"Sentiment=Grief\\u003cbr\\u003eYear=2021\\u003cbr\\u003eMonth=%{x}\\u003cbr\\u003eNumber of Occurrences=%{y}\\u003cextra\\u003e\\u003c\\u002fextra\\u003e\",\"legendgroup\":\"Grief\",\"marker\":{\"color\":\"#636efa\",\"pattern\":{\"shape\":\"\"}},\"name\":\"Grief\",\"offsetgroup\":\"Grief\",\"orientation\":\"v\",\"showlegend\":true,\"textposition\":\"auto\",\"x\":[\"Feb\"],\"xaxis\":\"x\",\"y\":[1],\"yaxis\":\"y\",\"type\":\"bar\"},{\"alignmentgroup\":\"True\",\"hovertemplate\":\"Sentiment=Excitement\\u003cbr\\u003eYear=2021\\u003cbr\\u003eMonth=%{x}\\u003cbr\\u003eNumber of Occurrences=%{y}\\u003cextra\\u003e\\u003c\\u002fextra\\u003e\",\"legendgroup\":\"Excitement\",\"marker\":{\"color\":\"#00cc96\",\"pattern\":{\"shape\":\"\"}},\"name\":\"Excitement\",\"offsetgroup\":\"Excitement\",\"orientation\":\"v\",\"showlegend\":true,\"textposition\":\"auto\",\"x\":[\"Apr\"],\"xaxis\":\"x\",\"y\":[1],\"yaxis\":\"y\",\"type\":\"bar\"},{\"alignmentgroup\":\"True\",\"hovertemplate\":\"Sentiment=Despair\\u003cbr\\u003eYear=2021\\u003cbr\\u003eMonth=%{x}\\u003cbr\\u003eNumber of Occurrences=%{y}\\u003cextra\\u003e\\u003c\\u002fextra\\u003e\",\"legendgroup\":\"Despair\",\"marker\":{\"color\":\"#B6E880\",\"pattern\":{\"shape\":\"\"}},\"name\":\"Despair\",\"offsetgroup\":\"Despair\",\"orientation\":\"v\",\"showlegend\":true,\"textposition\":\"auto\",\"x\":[\"Mar\",\"Sept\"],\"xaxis\":\"x\",\"y\":[1,1],\"yaxis\":\"y\",\"type\":\"bar\"},{\"alignmentgroup\":\"True\",\"hovertemplate\":\"Sentiment=Joy\\u003cbr\\u003eYear=2021\\u003cbr\\u003eMonth=%{x}\\u003cbr\\u003eNumber of Occurrences=%{y}\\u003cextra\\u003e\\u003c\\u002fextra\\u003e\",\"legendgroup\":\"Joy\",\"marker\":{\"color\":\"#636efa\",\"pattern\":{\"shape\":\"\"}},\"name\":\"Joy\",\"offsetgroup\":\"Joy\",\"orientation\":\"v\",\"showlegend\":true,\"textposition\":\"auto\",\"x\":[\"Apr\",\"Aug\"],\"xaxis\":\"x\",\"y\":[1,1],\"yaxis\":\"y\",\"type\":\"bar\"},{\"alignmentgroup\":\"True\",\"hovertemplate\":\"Sentiment=Serenity\\u003cbr\\u003eYear=2021\\u003cbr\\u003eMonth=%{x}\\u003cbr\\u003eNumber of Occurrences=%{y}\\u003cextra\\u003e\\u003c\\u002fextra\\u003e\",\"legendgroup\":\"Serenity\",\"marker\":{\"color\":\"#EF553B\",\"pattern\":{\"shape\":\"\"}},\"name\":\"Serenity\",\"offsetgroup\":\"Serenity\",\"orientation\":\"v\",\"showlegend\":true,\"textposition\":\"auto\",\"x\":[\"May\",\"Jul\"],\"xaxis\":\"x\",\"y\":[1,1],\"yaxis\":\"y\",\"type\":\"bar\"}],\"name\":\"2021\"},{\"data\":[{\"alignmentgroup\":\"True\",\"hovertemplate\":\"Sentiment=Grief\\u003cbr\\u003eYear=2020\\u003cbr\\u003eMonth=%{x}\\u003cbr\\u003eNumber of Occurrences=%{y}\\u003cextra\\u003e\\u003c\\u002fextra\\u003e\",\"legendgroup\":\"Grief\",\"marker\":{\"color\":\"#636efa\",\"pattern\":{\"shape\":\"\"}},\"name\":\"Grief\",\"offsetgroup\":\"Grief\",\"orientation\":\"v\",\"showlegend\":true,\"textposition\":\"auto\",\"x\":[\"Nov\"],\"xaxis\":\"x\",\"y\":[1],\"yaxis\":\"y\",\"type\":\"bar\"},{\"alignmentgroup\":\"True\",\"hovertemplate\":\"Sentiment=Contentment\\u003cbr\\u003eYear=2020\\u003cbr\\u003eMonth=%{x}\\u003cbr\\u003eNumber of Occurrences=%{y}\\u003cextra\\u003e\\u003c\\u002fextra\\u003e\",\"legendgroup\":\"Contentment\",\"marker\":{\"color\":\"#EF553B\",\"pattern\":{\"shape\":\"\"}},\"name\":\"Contentment\",\"offsetgroup\":\"Contentment\",\"orientation\":\"v\",\"showlegend\":true,\"textposition\":\"auto\",\"x\":[\"Sept\"],\"xaxis\":\"x\",\"y\":[1],\"yaxis\":\"y\",\"type\":\"bar\"},{\"alignmentgroup\":\"True\",\"hovertemplate\":\"Sentiment=Excitement\\u003cbr\\u003eYear=2020\\u003cbr\\u003eMonth=%{x}\\u003cbr\\u003eNumber of Occurrences=%{y}\\u003cextra\\u003e\\u003c\\u002fextra\\u003e\",\"legendgroup\":\"Excitement\",\"marker\":{\"color\":\"#00cc96\",\"pattern\":{\"shape\":\"\"}},\"name\":\"Excitement\",\"offsetgroup\":\"Excitement\",\"orientation\":\"v\",\"showlegend\":true,\"textposition\":\"auto\",\"x\":[\"Dec\"],\"xaxis\":\"x\",\"y\":[1],\"yaxis\":\"y\",\"type\":\"bar\"},{\"alignmentgroup\":\"True\",\"hovertemplate\":\"Sentiment=Awe\\u003cbr\\u003eYear=2020\\u003cbr\\u003eMonth=%{x}\\u003cbr\\u003eNumber of Occurrences=%{y}\\u003cextra\\u003e\\u003c\\u002fextra\\u003e\",\"legendgroup\":\"Awe\",\"marker\":{\"color\":\"#FF6692\",\"pattern\":{\"shape\":\"\"}},\"name\":\"Awe\",\"offsetgroup\":\"Awe\",\"orientation\":\"v\",\"showlegend\":true,\"textposition\":\"auto\",\"x\":[\"Jun\"],\"xaxis\":\"x\",\"y\":[1],\"yaxis\":\"y\",\"type\":\"bar\"},{\"alignmentgroup\":\"True\",\"hovertemplate\":\"Sentiment=Despair\\u003cbr\\u003eYear=2020\\u003cbr\\u003eMonth=%{x}\\u003cbr\\u003eNumber of Occurrences=%{y}\\u003cextra\\u003e\\u003c\\u002fextra\\u003e\",\"legendgroup\":\"Despair\",\"marker\":{\"color\":\"#B6E880\",\"pattern\":{\"shape\":\"\"}},\"name\":\"Despair\",\"offsetgroup\":\"Despair\",\"orientation\":\"v\",\"showlegend\":true,\"textposition\":\"auto\",\"x\":[\"Aug\"],\"xaxis\":\"x\",\"y\":[1],\"yaxis\":\"y\",\"type\":\"bar\"},{\"alignmentgroup\":\"True\",\"hovertemplate\":\"Sentiment=Happy\\u003cbr\\u003eYear=2020\\u003cbr\\u003eMonth=%{x}\\u003cbr\\u003eNumber of Occurrences=%{y}\\u003cextra\\u003e\\u003c\\u002fextra\\u003e\",\"legendgroup\":\"Happy\",\"marker\":{\"color\":\"#FECB52\",\"pattern\":{\"shape\":\"\"}},\"name\":\"Happy\",\"offsetgroup\":\"Happy\",\"orientation\":\"v\",\"showlegend\":true,\"textposition\":\"auto\",\"x\":[\"Feb\",\"Nov\"],\"xaxis\":\"x\",\"y\":[1,1],\"yaxis\":\"y\",\"type\":\"bar\"},{\"alignmentgroup\":\"True\",\"hovertemplate\":\"Sentiment=Serenity\\u003cbr\\u003eYear=2020\\u003cbr\\u003eMonth=%{x}\\u003cbr\\u003eNumber of Occurrences=%{y}\\u003cextra\\u003e\\u003c\\u002fextra\\u003e\",\"legendgroup\":\"Serenity\",\"marker\":{\"color\":\"#EF553B\",\"pattern\":{\"shape\":\"\"}},\"name\":\"Serenity\",\"offsetgroup\":\"Serenity\",\"orientation\":\"v\",\"showlegend\":true,\"textposition\":\"auto\",\"x\":[\"Feb\",\"Apr\",\"May\",\"Aug\",\"Nov\"],\"xaxis\":\"x\",\"y\":[1,2,1,1,1],\"yaxis\":\"y\",\"type\":\"bar\"},{\"alignmentgroup\":\"True\",\"hovertemplate\":\"Sentiment=Curiosity\\u003cbr\\u003eYear=2020\\u003cbr\\u003eMonth=%{x}\\u003cbr\\u003eNumber of Occurrences=%{y}\\u003cextra\\u003e\\u003c\\u002fextra\\u003e\",\"legendgroup\":\"Curiosity\",\"marker\":{\"color\":\"#00cc96\",\"pattern\":{\"shape\":\"\"}},\"name\":\"Curiosity\",\"offsetgroup\":\"Curiosity\",\"orientation\":\"v\",\"showlegend\":true,\"textposition\":\"auto\",\"x\":[\"Nov\"],\"xaxis\":\"x\",\"y\":[1],\"yaxis\":\"y\",\"type\":\"bar\"}],\"name\":\"2020\"},{\"data\":[{\"alignmentgroup\":\"True\",\"hovertemplate\":\"Sentiment=Grief\\u003cbr\\u003eYear=2018\\u003cbr\\u003eMonth=%{x}\\u003cbr\\u003eNumber of Occurrences=%{y}\\u003cextra\\u003e\\u003c\\u002fextra\\u003e\",\"legendgroup\":\"Grief\",\"marker\":{\"color\":\"#636efa\",\"pattern\":{\"shape\":\"\"}},\"name\":\"Grief\",\"offsetgroup\":\"Grief\",\"orientation\":\"v\",\"showlegend\":true,\"textposition\":\"auto\",\"x\":[\"Nov\",\"Dec\"],\"xaxis\":\"x\",\"y\":[1,1],\"yaxis\":\"y\",\"type\":\"bar\"},{\"alignmentgroup\":\"True\",\"hovertemplate\":\"Sentiment=Excitement\\u003cbr\\u003eYear=2018\\u003cbr\\u003eMonth=%{x}\\u003cbr\\u003eNumber of Occurrences=%{y}\\u003cextra\\u003e\\u003c\\u002fextra\\u003e\",\"legendgroup\":\"Excitement\",\"marker\":{\"color\":\"#00cc96\",\"pattern\":{\"shape\":\"\"}},\"name\":\"Excitement\",\"offsetgroup\":\"Excitement\",\"orientation\":\"v\",\"showlegend\":true,\"textposition\":\"auto\",\"x\":[\"Oct\"],\"xaxis\":\"x\",\"y\":[1],\"yaxis\":\"y\",\"type\":\"bar\"},{\"alignmentgroup\":\"True\",\"hovertemplate\":\"Sentiment=Nostalgia\\u003cbr\\u003eYear=2018\\u003cbr\\u003eMonth=%{x}\\u003cbr\\u003eNumber of Occurrences=%{y}\\u003cextra\\u003e\\u003c\\u002fextra\\u003e\",\"legendgroup\":\"Nostalgia\",\"marker\":{\"color\":\"#FFA15A\",\"pattern\":{\"shape\":\"\"}},\"name\":\"Nostalgia\",\"offsetgroup\":\"Nostalgia\",\"orientation\":\"v\",\"showlegend\":true,\"textposition\":\"auto\",\"x\":[\"Feb\",\"Jul\",\"Aug\",\"Dec\"],\"xaxis\":\"x\",\"y\":[1,1,1,1],\"yaxis\":\"y\",\"type\":\"bar\"},{\"alignmentgroup\":\"True\",\"hovertemplate\":\"Sentiment=Awe\\u003cbr\\u003eYear=2018\\u003cbr\\u003eMonth=%{x}\\u003cbr\\u003eNumber of Occurrences=%{y}\\u003cextra\\u003e\\u003c\\u002fextra\\u003e\",\"legendgroup\":\"Awe\",\"marker\":{\"color\":\"#FF6692\",\"pattern\":{\"shape\":\"\"}},\"name\":\"Awe\",\"offsetgroup\":\"Awe\",\"orientation\":\"v\",\"showlegend\":true,\"textposition\":\"auto\",\"x\":[\"Aug\"],\"xaxis\":\"x\",\"y\":[2],\"yaxis\":\"y\",\"type\":\"bar\"},{\"alignmentgroup\":\"True\",\"hovertemplate\":\"Sentiment=Despair\\u003cbr\\u003eYear=2018\\u003cbr\\u003eMonth=%{x}\\u003cbr\\u003eNumber of Occurrences=%{y}\\u003cextra\\u003e\\u003c\\u002fextra\\u003e\",\"legendgroup\":\"Despair\",\"marker\":{\"color\":\"#B6E880\",\"pattern\":{\"shape\":\"\"}},\"name\":\"Despair\",\"offsetgroup\":\"Despair\",\"orientation\":\"v\",\"showlegend\":true,\"textposition\":\"auto\",\"x\":[\"Dec\"],\"xaxis\":\"x\",\"y\":[1],\"yaxis\":\"y\",\"type\":\"bar\"},{\"alignmentgroup\":\"True\",\"hovertemplate\":\"Sentiment=Gratitude\\u003cbr\\u003eYear=2018\\u003cbr\\u003eMonth=%{x}\\u003cbr\\u003eNumber of Occurrences=%{y}\\u003cextra\\u003e\\u003c\\u002fextra\\u003e\",\"legendgroup\":\"Gratitude\",\"marker\":{\"color\":\"#FF97FF\",\"pattern\":{\"shape\":\"\"}},\"name\":\"Gratitude\",\"offsetgroup\":\"Gratitude\",\"orientation\":\"v\",\"showlegend\":true,\"textposition\":\"auto\",\"x\":[\"Dec\"],\"xaxis\":\"x\",\"y\":[1],\"yaxis\":\"y\",\"type\":\"bar\"},{\"alignmentgroup\":\"True\",\"hovertemplate\":\"Sentiment=Happy\\u003cbr\\u003eYear=2018\\u003cbr\\u003eMonth=%{x}\\u003cbr\\u003eNumber of Occurrences=%{y}\\u003cextra\\u003e\\u003c\\u002fextra\\u003e\",\"legendgroup\":\"Happy\",\"marker\":{\"color\":\"#FECB52\",\"pattern\":{\"shape\":\"\"}},\"name\":\"Happy\",\"offsetgroup\":\"Happy\",\"orientation\":\"v\",\"showlegend\":true,\"textposition\":\"auto\",\"x\":[\"Jun\"],\"xaxis\":\"x\",\"y\":[1],\"yaxis\":\"y\",\"type\":\"bar\"},{\"alignmentgroup\":\"True\",\"hovertemplate\":\"Sentiment=Joy\\u003cbr\\u003eYear=2018\\u003cbr\\u003eMonth=%{x}\\u003cbr\\u003eNumber of Occurrences=%{y}\\u003cextra\\u003e\\u003c\\u002fextra\\u003e\",\"legendgroup\":\"Joy\",\"marker\":{\"color\":\"#636efa\",\"pattern\":{\"shape\":\"\"}},\"name\":\"Joy\",\"offsetgroup\":\"Joy\",\"orientation\":\"v\",\"showlegend\":true,\"textposition\":\"auto\",\"x\":[\"Jul\"],\"xaxis\":\"x\",\"y\":[1],\"yaxis\":\"y\",\"type\":\"bar\"},{\"alignmentgroup\":\"True\",\"hovertemplate\":\"Sentiment=Serenity\\u003cbr\\u003eYear=2018\\u003cbr\\u003eMonth=%{x}\\u003cbr\\u003eNumber of Occurrences=%{y}\\u003cextra\\u003e\\u003c\\u002fextra\\u003e\",\"legendgroup\":\"Serenity\",\"marker\":{\"color\":\"#EF553B\",\"pattern\":{\"shape\":\"\"}},\"name\":\"Serenity\",\"offsetgroup\":\"Serenity\",\"orientation\":\"v\",\"showlegend\":true,\"textposition\":\"auto\",\"x\":[\"May\"],\"xaxis\":\"x\",\"y\":[1],\"yaxis\":\"y\",\"type\":\"bar\"},{\"alignmentgroup\":\"True\",\"hovertemplate\":\"Sentiment=Curiosity\\u003cbr\\u003eYear=2018\\u003cbr\\u003eMonth=%{x}\\u003cbr\\u003eNumber of Occurrences=%{y}\\u003cextra\\u003e\\u003c\\u002fextra\\u003e\",\"legendgroup\":\"Curiosity\",\"marker\":{\"color\":\"#00cc96\",\"pattern\":{\"shape\":\"\"}},\"name\":\"Curiosity\",\"offsetgroup\":\"Curiosity\",\"orientation\":\"v\",\"showlegend\":true,\"textposition\":\"auto\",\"x\":[\"Sept\"],\"xaxis\":\"x\",\"y\":[1],\"yaxis\":\"y\",\"type\":\"bar\"}],\"name\":\"2018\"},{\"data\":[{\"alignmentgroup\":\"True\",\"hovertemplate\":\"Sentiment=Gratitude\\u003cbr\\u003eYear=2012\\u003cbr\\u003eMonth=%{x}\\u003cbr\\u003eNumber of Occurrences=%{y}\\u003cextra\\u003e\\u003c\\u002fextra\\u003e\",\"legendgroup\":\"Gratitude\",\"marker\":{\"color\":\"#FF97FF\",\"pattern\":{\"shape\":\"\"}},\"name\":\"Gratitude\",\"offsetgroup\":\"Gratitude\",\"orientation\":\"v\",\"showlegend\":true,\"textposition\":\"auto\",\"x\":[\"Mar\",\"Nov\"],\"xaxis\":\"x\",\"y\":[2,1],\"yaxis\":\"y\",\"type\":\"bar\"}],\"name\":\"2012\"},{\"data\":[{\"alignmentgroup\":\"True\",\"hovertemplate\":\"Sentiment=Contentment\\u003cbr\\u003eYear=2019\\u003cbr\\u003eMonth=%{x}\\u003cbr\\u003eNumber of Occurrences=%{y}\\u003cextra\\u003e\\u003c\\u002fextra\\u003e\",\"legendgroup\":\"Contentment\",\"marker\":{\"color\":\"#EF553B\",\"pattern\":{\"shape\":\"\"}},\"name\":\"Contentment\",\"offsetgroup\":\"Contentment\",\"orientation\":\"v\",\"showlegend\":true,\"textposition\":\"auto\",\"x\":[\"Apr\"],\"xaxis\":\"x\",\"y\":[2],\"yaxis\":\"y\",\"type\":\"bar\"},{\"alignmentgroup\":\"True\",\"hovertemplate\":\"Sentiment=Excitement\\u003cbr\\u003eYear=2019\\u003cbr\\u003eMonth=%{x}\\u003cbr\\u003eNumber of Occurrences=%{y}\\u003cextra\\u003e\\u003c\\u002fextra\\u003e\",\"legendgroup\":\"Excitement\",\"marker\":{\"color\":\"#00cc96\",\"pattern\":{\"shape\":\"\"}},\"name\":\"Excitement\",\"offsetgroup\":\"Excitement\",\"orientation\":\"v\",\"showlegend\":true,\"textposition\":\"auto\",\"x\":[\"Jun\",\"Nov\"],\"xaxis\":\"x\",\"y\":[1,1],\"yaxis\":\"y\",\"type\":\"bar\"},{\"alignmentgroup\":\"True\",\"hovertemplate\":\"Sentiment=Nostalgia\\u003cbr\\u003eYear=2019\\u003cbr\\u003eMonth=%{x}\\u003cbr\\u003eNumber of Occurrences=%{y}\\u003cextra\\u003e\\u003c\\u002fextra\\u003e\",\"legendgroup\":\"Nostalgia\",\"marker\":{\"color\":\"#FFA15A\",\"pattern\":{\"shape\":\"\"}},\"name\":\"Nostalgia\",\"offsetgroup\":\"Nostalgia\",\"orientation\":\"v\",\"showlegend\":true,\"textposition\":\"auto\",\"x\":[\"May\",\"Jun\"],\"xaxis\":\"x\",\"y\":[1,2],\"yaxis\":\"y\",\"type\":\"bar\"},{\"alignmentgroup\":\"True\",\"hovertemplate\":\"Sentiment=Happy\\u003cbr\\u003eYear=2019\\u003cbr\\u003eMonth=%{x}\\u003cbr\\u003eNumber of Occurrences=%{y}\\u003cextra\\u003e\\u003c\\u002fextra\\u003e\",\"legendgroup\":\"Happy\",\"marker\":{\"color\":\"#FECB52\",\"pattern\":{\"shape\":\"\"}},\"name\":\"Happy\",\"offsetgroup\":\"Happy\",\"orientation\":\"v\",\"showlegend\":true,\"textposition\":\"auto\",\"x\":[\"Apr\"],\"xaxis\":\"x\",\"y\":[1],\"yaxis\":\"y\",\"type\":\"bar\"},{\"alignmentgroup\":\"True\",\"hovertemplate\":\"Sentiment=Joy\\u003cbr\\u003eYear=2019\\u003cbr\\u003eMonth=%{x}\\u003cbr\\u003eNumber of Occurrences=%{y}\\u003cextra\\u003e\\u003c\\u002fextra\\u003e\",\"legendgroup\":\"Joy\",\"marker\":{\"color\":\"#636efa\",\"pattern\":{\"shape\":\"\"}},\"name\":\"Joy\",\"offsetgroup\":\"Joy\",\"orientation\":\"v\",\"showlegend\":true,\"textposition\":\"auto\",\"x\":[\"Jul\"],\"xaxis\":\"x\",\"y\":[1],\"yaxis\":\"y\",\"type\":\"bar\"},{\"alignmentgroup\":\"True\",\"hovertemplate\":\"Sentiment=Serenity\\u003cbr\\u003eYear=2019\\u003cbr\\u003eMonth=%{x}\\u003cbr\\u003eNumber of Occurrences=%{y}\\u003cextra\\u003e\\u003c\\u002fextra\\u003e\",\"legendgroup\":\"Serenity\",\"marker\":{\"color\":\"#EF553B\",\"pattern\":{\"shape\":\"\"}},\"name\":\"Serenity\",\"offsetgroup\":\"Serenity\",\"orientation\":\"v\",\"showlegend\":true,\"textposition\":\"auto\",\"x\":[\"Oct\"],\"xaxis\":\"x\",\"y\":[1],\"yaxis\":\"y\",\"type\":\"bar\"}],\"name\":\"2019\"},{\"data\":[{\"alignmentgroup\":\"True\",\"hovertemplate\":\"Sentiment=Gratitude\\u003cbr\\u003eYear=2013\\u003cbr\\u003eMonth=%{x}\\u003cbr\\u003eNumber of Occurrences=%{y}\\u003cextra\\u003e\\u003c\\u002fextra\\u003e\",\"legendgroup\":\"Gratitude\",\"marker\":{\"color\":\"#FF97FF\",\"pattern\":{\"shape\":\"\"}},\"name\":\"Gratitude\",\"offsetgroup\":\"Gratitude\",\"orientation\":\"v\",\"showlegend\":true,\"textposition\":\"auto\",\"x\":[\"Apr\"],\"xaxis\":\"x\",\"y\":[1],\"yaxis\":\"y\",\"type\":\"bar\"}],\"name\":\"2013\"},{\"data\":[{\"alignmentgroup\":\"True\",\"hovertemplate\":\"Sentiment=Contentment\\u003cbr\\u003eYear=2011\\u003cbr\\u003eMonth=%{x}\\u003cbr\\u003eNumber of Occurrences=%{y}\\u003cextra\\u003e\\u003c\\u002fextra\\u003e\",\"legendgroup\":\"Contentment\",\"marker\":{\"color\":\"#EF553B\",\"pattern\":{\"shape\":\"\"}},\"name\":\"Contentment\",\"offsetgroup\":\"Contentment\",\"orientation\":\"v\",\"showlegend\":true,\"textposition\":\"auto\",\"x\":[\"Jun\"],\"xaxis\":\"x\",\"y\":[1],\"yaxis\":\"y\",\"type\":\"bar\"},{\"alignmentgroup\":\"True\",\"hovertemplate\":\"Sentiment=Serenity\\u003cbr\\u003eYear=2011\\u003cbr\\u003eMonth=%{x}\\u003cbr\\u003eNumber of Occurrences=%{y}\\u003cextra\\u003e\\u003c\\u002fextra\\u003e\",\"legendgroup\":\"Serenity\",\"marker\":{\"color\":\"#EF553B\",\"pattern\":{\"shape\":\"\"}},\"name\":\"Serenity\",\"offsetgroup\":\"Serenity\",\"orientation\":\"v\",\"showlegend\":true,\"textposition\":\"auto\",\"x\":[\"Jul\",\"Sept\"],\"xaxis\":\"x\",\"y\":[1,1],\"yaxis\":\"y\",\"type\":\"bar\"}],\"name\":\"2011\"},{\"data\":[{\"alignmentgroup\":\"True\",\"hovertemplate\":\"Sentiment=Grief\\u003cbr\\u003eYear=2015\\u003cbr\\u003eMonth=%{x}\\u003cbr\\u003eNumber of Occurrences=%{y}\\u003cextra\\u003e\\u003c\\u002fextra\\u003e\",\"legendgroup\":\"Grief\",\"marker\":{\"color\":\"#636efa\",\"pattern\":{\"shape\":\"\"}},\"name\":\"Grief\",\"offsetgroup\":\"Grief\",\"orientation\":\"v\",\"showlegend\":true,\"textposition\":\"auto\",\"x\":[\"Jun\",\"Oct\"],\"xaxis\":\"x\",\"y\":[1,1],\"yaxis\":\"y\",\"type\":\"bar\"},{\"alignmentgroup\":\"True\",\"hovertemplate\":\"Sentiment=Contentment\\u003cbr\\u003eYear=2015\\u003cbr\\u003eMonth=%{x}\\u003cbr\\u003eNumber of Occurrences=%{y}\\u003cextra\\u003e\\u003c\\u002fextra\\u003e\",\"legendgroup\":\"Contentment\",\"marker\":{\"color\":\"#EF553B\",\"pattern\":{\"shape\":\"\"}},\"name\":\"Contentment\",\"offsetgroup\":\"Contentment\",\"orientation\":\"v\",\"showlegend\":true,\"textposition\":\"auto\",\"x\":[\"Sept\"],\"xaxis\":\"x\",\"y\":[1],\"yaxis\":\"y\",\"type\":\"bar\"},{\"alignmentgroup\":\"True\",\"hovertemplate\":\"Sentiment=Happy\\u003cbr\\u003eYear=2015\\u003cbr\\u003eMonth=%{x}\\u003cbr\\u003eNumber of Occurrences=%{y}\\u003cextra\\u003e\\u003c\\u002fextra\\u003e\",\"legendgroup\":\"Happy\",\"marker\":{\"color\":\"#FECB52\",\"pattern\":{\"shape\":\"\"}},\"name\":\"Happy\",\"offsetgroup\":\"Happy\",\"orientation\":\"v\",\"showlegend\":true,\"textposition\":\"auto\",\"x\":[\"Nov\"],\"xaxis\":\"x\",\"y\":[1],\"yaxis\":\"y\",\"type\":\"bar\"},{\"alignmentgroup\":\"True\",\"hovertemplate\":\"Sentiment=Curiosity\\u003cbr\\u003eYear=2015\\u003cbr\\u003eMonth=%{x}\\u003cbr\\u003eNumber of Occurrences=%{y}\\u003cextra\\u003e\\u003c\\u002fextra\\u003e\",\"legendgroup\":\"Curiosity\",\"marker\":{\"color\":\"#00cc96\",\"pattern\":{\"shape\":\"\"}},\"name\":\"Curiosity\",\"offsetgroup\":\"Curiosity\",\"orientation\":\"v\",\"showlegend\":true,\"textposition\":\"auto\",\"x\":[\"Nov\"],\"xaxis\":\"x\",\"y\":[2],\"yaxis\":\"y\",\"type\":\"bar\"}],\"name\":\"2015\"},{\"data\":[{\"alignmentgroup\":\"True\",\"hovertemplate\":\"Sentiment=Contentment\\u003cbr\\u003eYear=2010\\u003cbr\\u003eMonth=%{x}\\u003cbr\\u003eNumber of Occurrences=%{y}\\u003cextra\\u003e\\u003c\\u002fextra\\u003e\",\"legendgroup\":\"Contentment\",\"marker\":{\"color\":\"#EF553B\",\"pattern\":{\"shape\":\"\"}},\"name\":\"Contentment\",\"offsetgroup\":\"Contentment\",\"orientation\":\"v\",\"showlegend\":true,\"textposition\":\"auto\",\"x\":[\"Aug\",\"Nov\"],\"xaxis\":\"x\",\"y\":[1,1],\"yaxis\":\"y\",\"type\":\"bar\"}],\"name\":\"2010\"}]);\n",
       "                        }).then(function(){\n",
       "                            \n",
       "var gd = document.getElementById('573f2390-bbc6-476b-bc37-9785455f3ede');\n",
       "var x = new MutationObserver(function (mutations, observer) {{\n",
       "        var display = window.getComputedStyle(gd).display;\n",
       "        if (!display || display === 'none') {{\n",
       "            console.log([gd, 'removed!']);\n",
       "            Plotly.purge(gd);\n",
       "            observer.disconnect();\n",
       "        }}\n",
       "}});\n",
       "\n",
       "// Listen for the removal of the full notebook cells\n",
       "var notebookContainer = gd.closest('#notebook-container');\n",
       "if (notebookContainer) {{\n",
       "    x.observe(notebookContainer, {childList: true});\n",
       "}}\n",
       "\n",
       "// Listen for the clearing of the current output cell\n",
       "var outputEl = gd.closest('.output');\n",
       "if (outputEl) {{\n",
       "    x.observe(outputEl, {childList: true});\n",
       "}}\n",
       "\n",
       "                        })                };                });            </script>        </div>"
      ]
     },
     "metadata": {},
     "output_type": "display_data"
    }
   ],
   "source": [
    "start = int(input(\"Enter the start value: \"))\n",
    "end = int(input(\"Enter the end value: \"))\n",
    "\n",
    "# Get the top sentiments within the specified range\n",
    "top_sentiments = df['Sentiment'].value_counts().head(end).tail(end - start+1 ).index\n",
    "\n",
    "# Filter the DataFrame for the top sentiments\n",
    "filtered_df = df[df['Sentiment'].isin(top_sentiments)]\n",
    "\n",
    "# Group by month, sentiment, and Year, then count occurrences\n",
    "month_order = ['Jan', 'Feb', 'Mar', 'Apr', 'May', 'Jun', 'Jul', 'Aug', 'Sept', 'Oct', 'Nov', 'Dec']\n",
    "sentiment_counts = filtered_df.groupby(['Month', 'Sentiment', 'Year']).size().reset_index(name='Count')\n",
    "\n",
    "# Convert 'Month' column to categorical with the desired order\n",
    "sentiment_counts['Month'] = pd.Categorical(sentiment_counts['Month'], categories=month_order, ordered=True)\n",
    "\n",
    "# Sort the DataFrame by the new categorical 'Month' column\n",
    "sentiment_counts = sentiment_counts.sort_values('Month')\n",
    "\n",
    "# Create the bar chart (rest of the code remains the same)\n",
    "fig = px.bar(sentiment_counts,\n",
    "             x='Month',\n",
    "             y='Count',\n",
    "             color='Sentiment',\n",
    "             title='Top 10 Sentiments Value Counts vs Month',\n",
    "             labels={'Count': 'Number of Occurrences'},\n",
    "             animation_frame='Year')  # Add animation_frame\n",
    "\n",
    "# Customize the slider appearance (optional)\n",
    "fig.update_layout(\n",
    "    updatemenus=[\n",
    "        dict(\n",
    "            type=\"buttons\",\n",
    "            buttons=[dict(label=\"Play\", method=\"animate\", args=[None]),\n",
    "                     dict(label=\"Pause\", method=\"animate\", args=[[None], {\"frame\": {\"duration\": 0, \"redraw\": False},\n",
    "                                                                 \"mode\": \"immediate\",\n",
    "                                                                 \"transition\": {\"duration\": 0}}])],\n",
    "\n",
    "        )\n",
    "    ]\n",
    ")\n",
    "\n",
    "fig.show()"
   ]
  },
  {
   "cell_type": "markdown",
   "metadata": {
    "id": "CSz-3oK3eRJj"
   },
   "source": [
    "### <font color=red>8.Variation of Sentiments with Country"
   ]
  },
  {
   "cell_type": "code",
   "execution_count": 26,
   "metadata": {
    "execution": {
     "iopub.execute_input": "2024-12-09T07:32:55.382455Z",
     "iopub.status.busy": "2024-12-09T07:32:55.381567Z",
     "iopub.status.idle": "2024-12-09T07:33:00.833393Z",
     "shell.execute_reply": "2024-12-09T07:33:00.832522Z",
     "shell.execute_reply.started": "2024-12-09T07:32:55.382419Z"
    },
    "executionInfo": {
     "elapsed": 4449,
     "status": "ok",
     "timestamp": 1733728152954,
     "user": {
      "displayName": "66_Rishij Manna",
      "userId": "01245000441612451756"
     },
     "user_tz": -330
    },
    "id": "5bniYArqhxUY",
    "outputId": "3089afdd-b8ad-4cdd-9cfb-bb93a0f540f0",
    "trusted": true
   },
   "outputs": [
    {
     "name": "stdout",
     "output_type": "stream",
     "text": [
      "Enter the start value:  1\n",
      "Enter the end value:  15\n"
     ]
    },
    {
     "data": {
      "text/html": [
       "<div>                            <div id=\"4d41d33e-66cf-4704-8cb6-62587e52976c\" class=\"plotly-graph-div\" style=\"height:525px; width:100%;\"></div>            <script type=\"text/javascript\">                require([\"plotly\"], function(Plotly) {                    window.PLOTLYENV=window.PLOTLYENV || {};                                    if (document.getElementById(\"4d41d33e-66cf-4704-8cb6-62587e52976c\")) {                    Plotly.newPlot(                        \"4d41d33e-66cf-4704-8cb6-62587e52976c\",                        [{\"coloraxis\":\"coloraxis\",\"geo\":\"geo\",\"hovertemplate\":\"\\u003cb\\u003e%{hovertext}\\u003c\\u002fb\\u003e\\u003cbr\\u003e\\u003cbr\\u003eSentiment=Awe\\u003cbr\\u003eCountry=%{location}\\u003cbr\\u003eCount=%{z}\\u003cextra\\u003e\\u003c\\u002fextra\\u003e\",\"hovertext\":[\"USA\",\"UK\",\"Canada\",\"Australia\",\"India\",\"Brazil\",\"France\",\"Japan\",\"Germany\",\"Italy\",\"Spain\",\"South Africa\",\"Greece\",\"Netherlands\",\"Switzerland\",\"Portugal\",\"Denmark\",\"Austria\",\"Czech Republic\",\"Belgium\",\"Sweden\",\"Cambodia\",\"Thailand\",\"Scotland\",\"Jordan\",\"Peru\",\"Norway\",\"Maldives\",\"Kenya\",\"Ireland\",\"Colombia\",\"China\",\"Jamaica\"],\"locationmode\":\"country names\",\"locations\":[\"USA\",\"UK\",\"Canada\",\"Australia\",\"India\",\"Brazil\",\"France\",\"Japan\",\"Germany\",\"Italy\",\"Spain\",\"South Africa\",\"Greece\",\"Netherlands\",\"Switzerland\",\"Portugal\",\"Denmark\",\"Austria\",\"Czech Republic\",\"Belgium\",\"Sweden\",\"Cambodia\",\"Thailand\",\"Scotland\",\"Jordan\",\"Peru\",\"Norway\",\"Maldives\",\"Kenya\",\"Ireland\",\"Colombia\",\"China\",\"Jamaica\"],\"name\":\"\",\"z\":[2,0,0,2,0,0,0,0,0,0,0,0,0,0,0,0,0,0,2,0,0,0,0,1,0,1,0,0,0,0,0,1,0],\"type\":\"choropleth\"}],                        {\"template\":{\"data\":{\"histogram2dcontour\":[{\"type\":\"histogram2dcontour\",\"colorbar\":{\"outlinewidth\":0,\"ticks\":\"\"},\"colorscale\":[[0.0,\"#0d0887\"],[0.1111111111111111,\"#46039f\"],[0.2222222222222222,\"#7201a8\"],[0.3333333333333333,\"#9c179e\"],[0.4444444444444444,\"#bd3786\"],[0.5555555555555556,\"#d8576b\"],[0.6666666666666666,\"#ed7953\"],[0.7777777777777778,\"#fb9f3a\"],[0.8888888888888888,\"#fdca26\"],[1.0,\"#f0f921\"]]}],\"choropleth\":[{\"type\":\"choropleth\",\"colorbar\":{\"outlinewidth\":0,\"ticks\":\"\"}}],\"histogram2d\":[{\"type\":\"histogram2d\",\"colorbar\":{\"outlinewidth\":0,\"ticks\":\"\"},\"colorscale\":[[0.0,\"#0d0887\"],[0.1111111111111111,\"#46039f\"],[0.2222222222222222,\"#7201a8\"],[0.3333333333333333,\"#9c179e\"],[0.4444444444444444,\"#bd3786\"],[0.5555555555555556,\"#d8576b\"],[0.6666666666666666,\"#ed7953\"],[0.7777777777777778,\"#fb9f3a\"],[0.8888888888888888,\"#fdca26\"],[1.0,\"#f0f921\"]]}],\"heatmap\":[{\"type\":\"heatmap\",\"colorbar\":{\"outlinewidth\":0,\"ticks\":\"\"},\"colorscale\":[[0.0,\"#0d0887\"],[0.1111111111111111,\"#46039f\"],[0.2222222222222222,\"#7201a8\"],[0.3333333333333333,\"#9c179e\"],[0.4444444444444444,\"#bd3786\"],[0.5555555555555556,\"#d8576b\"],[0.6666666666666666,\"#ed7953\"],[0.7777777777777778,\"#fb9f3a\"],[0.8888888888888888,\"#fdca26\"],[1.0,\"#f0f921\"]]}],\"heatmapgl\":[{\"type\":\"heatmapgl\",\"colorbar\":{\"outlinewidth\":0,\"ticks\":\"\"},\"colorscale\":[[0.0,\"#0d0887\"],[0.1111111111111111,\"#46039f\"],[0.2222222222222222,\"#7201a8\"],[0.3333333333333333,\"#9c179e\"],[0.4444444444444444,\"#bd3786\"],[0.5555555555555556,\"#d8576b\"],[0.6666666666666666,\"#ed7953\"],[0.7777777777777778,\"#fb9f3a\"],[0.8888888888888888,\"#fdca26\"],[1.0,\"#f0f921\"]]}],\"contourcarpet\":[{\"type\":\"contourcarpet\",\"colorbar\":{\"outlinewidth\":0,\"ticks\":\"\"}}],\"contour\":[{\"type\":\"contour\",\"colorbar\":{\"outlinewidth\":0,\"ticks\":\"\"},\"colorscale\":[[0.0,\"#0d0887\"],[0.1111111111111111,\"#46039f\"],[0.2222222222222222,\"#7201a8\"],[0.3333333333333333,\"#9c179e\"],[0.4444444444444444,\"#bd3786\"],[0.5555555555555556,\"#d8576b\"],[0.6666666666666666,\"#ed7953\"],[0.7777777777777778,\"#fb9f3a\"],[0.8888888888888888,\"#fdca26\"],[1.0,\"#f0f921\"]]}],\"surface\":[{\"type\":\"surface\",\"colorbar\":{\"outlinewidth\":0,\"ticks\":\"\"},\"colorscale\":[[0.0,\"#0d0887\"],[0.1111111111111111,\"#46039f\"],[0.2222222222222222,\"#7201a8\"],[0.3333333333333333,\"#9c179e\"],[0.4444444444444444,\"#bd3786\"],[0.5555555555555556,\"#d8576b\"],[0.6666666666666666,\"#ed7953\"],[0.7777777777777778,\"#fb9f3a\"],[0.8888888888888888,\"#fdca26\"],[1.0,\"#f0f921\"]]}],\"mesh3d\":[{\"type\":\"mesh3d\",\"colorbar\":{\"outlinewidth\":0,\"ticks\":\"\"}}],\"scatter\":[{\"fillpattern\":{\"fillmode\":\"overlay\",\"size\":10,\"solidity\":0.2},\"type\":\"scatter\"}],\"parcoords\":[{\"type\":\"parcoords\",\"line\":{\"colorbar\":{\"outlinewidth\":0,\"ticks\":\"\"}}}],\"scatterpolargl\":[{\"type\":\"scatterpolargl\",\"marker\":{\"colorbar\":{\"outlinewidth\":0,\"ticks\":\"\"}}}],\"bar\":[{\"error_x\":{\"color\":\"#2a3f5f\"},\"error_y\":{\"color\":\"#2a3f5f\"},\"marker\":{\"line\":{\"color\":\"#E5ECF6\",\"width\":0.5},\"pattern\":{\"fillmode\":\"overlay\",\"size\":10,\"solidity\":0.2}},\"type\":\"bar\"}],\"scattergeo\":[{\"type\":\"scattergeo\",\"marker\":{\"colorbar\":{\"outlinewidth\":0,\"ticks\":\"\"}}}],\"scatterpolar\":[{\"type\":\"scatterpolar\",\"marker\":{\"colorbar\":{\"outlinewidth\":0,\"ticks\":\"\"}}}],\"histogram\":[{\"marker\":{\"pattern\":{\"fillmode\":\"overlay\",\"size\":10,\"solidity\":0.2}},\"type\":\"histogram\"}],\"scattergl\":[{\"type\":\"scattergl\",\"marker\":{\"colorbar\":{\"outlinewidth\":0,\"ticks\":\"\"}}}],\"scatter3d\":[{\"type\":\"scatter3d\",\"line\":{\"colorbar\":{\"outlinewidth\":0,\"ticks\":\"\"}},\"marker\":{\"colorbar\":{\"outlinewidth\":0,\"ticks\":\"\"}}}],\"scattermapbox\":[{\"type\":\"scattermapbox\",\"marker\":{\"colorbar\":{\"outlinewidth\":0,\"ticks\":\"\"}}}],\"scatterternary\":[{\"type\":\"scatterternary\",\"marker\":{\"colorbar\":{\"outlinewidth\":0,\"ticks\":\"\"}}}],\"scattercarpet\":[{\"type\":\"scattercarpet\",\"marker\":{\"colorbar\":{\"outlinewidth\":0,\"ticks\":\"\"}}}],\"carpet\":[{\"aaxis\":{\"endlinecolor\":\"#2a3f5f\",\"gridcolor\":\"white\",\"linecolor\":\"white\",\"minorgridcolor\":\"white\",\"startlinecolor\":\"#2a3f5f\"},\"baxis\":{\"endlinecolor\":\"#2a3f5f\",\"gridcolor\":\"white\",\"linecolor\":\"white\",\"minorgridcolor\":\"white\",\"startlinecolor\":\"#2a3f5f\"},\"type\":\"carpet\"}],\"table\":[{\"cells\":{\"fill\":{\"color\":\"#EBF0F8\"},\"line\":{\"color\":\"white\"}},\"header\":{\"fill\":{\"color\":\"#C8D4E3\"},\"line\":{\"color\":\"white\"}},\"type\":\"table\"}],\"barpolar\":[{\"marker\":{\"line\":{\"color\":\"#E5ECF6\",\"width\":0.5},\"pattern\":{\"fillmode\":\"overlay\",\"size\":10,\"solidity\":0.2}},\"type\":\"barpolar\"}],\"pie\":[{\"automargin\":true,\"type\":\"pie\"}]},\"layout\":{\"autotypenumbers\":\"strict\",\"colorway\":[\"#636efa\",\"#EF553B\",\"#00cc96\",\"#ab63fa\",\"#FFA15A\",\"#19d3f3\",\"#FF6692\",\"#B6E880\",\"#FF97FF\",\"#FECB52\"],\"font\":{\"color\":\"#2a3f5f\"},\"hovermode\":\"closest\",\"hoverlabel\":{\"align\":\"left\"},\"paper_bgcolor\":\"white\",\"plot_bgcolor\":\"#E5ECF6\",\"polar\":{\"bgcolor\":\"#E5ECF6\",\"angularaxis\":{\"gridcolor\":\"white\",\"linecolor\":\"white\",\"ticks\":\"\"},\"radialaxis\":{\"gridcolor\":\"white\",\"linecolor\":\"white\",\"ticks\":\"\"}},\"ternary\":{\"bgcolor\":\"#E5ECF6\",\"aaxis\":{\"gridcolor\":\"white\",\"linecolor\":\"white\",\"ticks\":\"\"},\"baxis\":{\"gridcolor\":\"white\",\"linecolor\":\"white\",\"ticks\":\"\"},\"caxis\":{\"gridcolor\":\"white\",\"linecolor\":\"white\",\"ticks\":\"\"}},\"coloraxis\":{\"colorbar\":{\"outlinewidth\":0,\"ticks\":\"\"}},\"colorscale\":{\"sequential\":[[0.0,\"#0d0887\"],[0.1111111111111111,\"#46039f\"],[0.2222222222222222,\"#7201a8\"],[0.3333333333333333,\"#9c179e\"],[0.4444444444444444,\"#bd3786\"],[0.5555555555555556,\"#d8576b\"],[0.6666666666666666,\"#ed7953\"],[0.7777777777777778,\"#fb9f3a\"],[0.8888888888888888,\"#fdca26\"],[1.0,\"#f0f921\"]],\"sequentialminus\":[[0.0,\"#0d0887\"],[0.1111111111111111,\"#46039f\"],[0.2222222222222222,\"#7201a8\"],[0.3333333333333333,\"#9c179e\"],[0.4444444444444444,\"#bd3786\"],[0.5555555555555556,\"#d8576b\"],[0.6666666666666666,\"#ed7953\"],[0.7777777777777778,\"#fb9f3a\"],[0.8888888888888888,\"#fdca26\"],[1.0,\"#f0f921\"]],\"diverging\":[[0,\"#8e0152\"],[0.1,\"#c51b7d\"],[0.2,\"#de77ae\"],[0.3,\"#f1b6da\"],[0.4,\"#fde0ef\"],[0.5,\"#f7f7f7\"],[0.6,\"#e6f5d0\"],[0.7,\"#b8e186\"],[0.8,\"#7fbc41\"],[0.9,\"#4d9221\"],[1,\"#276419\"]]},\"xaxis\":{\"gridcolor\":\"white\",\"linecolor\":\"white\",\"ticks\":\"\",\"title\":{\"standoff\":15},\"zerolinecolor\":\"white\",\"automargin\":true,\"zerolinewidth\":2},\"yaxis\":{\"gridcolor\":\"white\",\"linecolor\":\"white\",\"ticks\":\"\",\"title\":{\"standoff\":15},\"zerolinecolor\":\"white\",\"automargin\":true,\"zerolinewidth\":2},\"scene\":{\"xaxis\":{\"backgroundcolor\":\"#E5ECF6\",\"gridcolor\":\"white\",\"linecolor\":\"white\",\"showbackground\":true,\"ticks\":\"\",\"zerolinecolor\":\"white\",\"gridwidth\":2},\"yaxis\":{\"backgroundcolor\":\"#E5ECF6\",\"gridcolor\":\"white\",\"linecolor\":\"white\",\"showbackground\":true,\"ticks\":\"\",\"zerolinecolor\":\"white\",\"gridwidth\":2},\"zaxis\":{\"backgroundcolor\":\"#E5ECF6\",\"gridcolor\":\"white\",\"linecolor\":\"white\",\"showbackground\":true,\"ticks\":\"\",\"zerolinecolor\":\"white\",\"gridwidth\":2}},\"shapedefaults\":{\"line\":{\"color\":\"#2a3f5f\"}},\"annotationdefaults\":{\"arrowcolor\":\"#2a3f5f\",\"arrowhead\":0,\"arrowwidth\":1},\"geo\":{\"bgcolor\":\"white\",\"landcolor\":\"#E5ECF6\",\"subunitcolor\":\"white\",\"showland\":true,\"showlakes\":true,\"lakecolor\":\"white\"},\"title\":{\"x\":0.05},\"mapbox\":{\"style\":\"light\"}}},\"geo\":{\"domain\":{\"x\":[0.0,1.0],\"y\":[0.0,1.0]},\"center\":{},\"projection\":{\"type\":\"natural earth\"},\"showframe\":false,\"showcoastlines\":true},\"coloraxis\":{\"colorbar\":{\"title\":{\"text\":\"Sentiment Count\"},\"ticks\":\"outside\"},\"colorscale\":[[0.0,\"#0d0887\"],[0.1111111111111111,\"#46039f\"],[0.2222222222222222,\"#7201a8\"],[0.3333333333333333,\"#9c179e\"],[0.4444444444444444,\"#bd3786\"],[0.5555555555555556,\"#d8576b\"],[0.6666666666666666,\"#ed7953\"],[0.7777777777777778,\"#fb9f3a\"],[0.8888888888888888,\"#fdca26\"],[1.0,\"#f0f921\"]]},\"legend\":{\"tracegroupgap\":0},\"title\":{\"text\":\"Sentiments 1-15 Distribution Across Countries\"},\"updatemenus\":[{\"buttons\":[{\"args\":[null,{\"frame\":{\"duration\":500,\"redraw\":true},\"mode\":\"immediate\",\"fromcurrent\":true,\"transition\":{\"duration\":500,\"easing\":\"linear\"}}],\"label\":\"&#9654;\",\"method\":\"animate\"},{\"args\":[[null],{\"frame\":{\"duration\":0,\"redraw\":true},\"mode\":\"immediate\",\"fromcurrent\":true,\"transition\":{\"duration\":0,\"easing\":\"linear\"}}],\"label\":\"&#9724;\",\"method\":\"animate\"}],\"direction\":\"left\",\"pad\":{\"r\":10,\"t\":70},\"showactive\":false,\"type\":\"buttons\",\"x\":0.1,\"xanchor\":\"right\",\"y\":0,\"yanchor\":\"top\"}],\"sliders\":[{\"active\":0,\"currentvalue\":{\"prefix\":\"Sentiment=\"},\"len\":0.9,\"pad\":{\"b\":10,\"t\":60},\"steps\":[{\"args\":[[\"Awe\"],{\"frame\":{\"duration\":0,\"redraw\":true},\"mode\":\"immediate\",\"fromcurrent\":true,\"transition\":{\"duration\":0,\"easing\":\"linear\"}}],\"label\":\"Awe\",\"method\":\"animate\"},{\"args\":[[\"Contentment\"],{\"frame\":{\"duration\":0,\"redraw\":true},\"mode\":\"immediate\",\"fromcurrent\":true,\"transition\":{\"duration\":0,\"easing\":\"linear\"}}],\"label\":\"Contentment\",\"method\":\"animate\"},{\"args\":[[\"Curiosity\"],{\"frame\":{\"duration\":0,\"redraw\":true},\"mode\":\"immediate\",\"fromcurrent\":true,\"transition\":{\"duration\":0,\"easing\":\"linear\"}}],\"label\":\"Curiosity\",\"method\":\"animate\"},{\"args\":[[\"Despair\"],{\"frame\":{\"duration\":0,\"redraw\":true},\"mode\":\"immediate\",\"fromcurrent\":true,\"transition\":{\"duration\":0,\"easing\":\"linear\"}}],\"label\":\"Despair\",\"method\":\"animate\"},{\"args\":[[\"Excitement\"],{\"frame\":{\"duration\":0,\"redraw\":true},\"mode\":\"immediate\",\"fromcurrent\":true,\"transition\":{\"duration\":0,\"easing\":\"linear\"}}],\"label\":\"Excitement\",\"method\":\"animate\"},{\"args\":[[\"Gratitude\"],{\"frame\":{\"duration\":0,\"redraw\":true},\"mode\":\"immediate\",\"fromcurrent\":true,\"transition\":{\"duration\":0,\"easing\":\"linear\"}}],\"label\":\"Gratitude\",\"method\":\"animate\"},{\"args\":[[\"Grief\"],{\"frame\":{\"duration\":0,\"redraw\":true},\"mode\":\"immediate\",\"fromcurrent\":true,\"transition\":{\"duration\":0,\"easing\":\"linear\"}}],\"label\":\"Grief\",\"method\":\"animate\"},{\"args\":[[\"Happy\"],{\"frame\":{\"duration\":0,\"redraw\":true},\"mode\":\"immediate\",\"fromcurrent\":true,\"transition\":{\"duration\":0,\"easing\":\"linear\"}}],\"label\":\"Happy\",\"method\":\"animate\"},{\"args\":[[\"Hopeful\"],{\"frame\":{\"duration\":0,\"redraw\":true},\"mode\":\"immediate\",\"fromcurrent\":true,\"transition\":{\"duration\":0,\"easing\":\"linear\"}}],\"label\":\"Hopeful\",\"method\":\"animate\"},{\"args\":[[\"Joy\"],{\"frame\":{\"duration\":0,\"redraw\":true},\"mode\":\"immediate\",\"fromcurrent\":true,\"transition\":{\"duration\":0,\"easing\":\"linear\"}}],\"label\":\"Joy\",\"method\":\"animate\"},{\"args\":[[\"Neutral\"],{\"frame\":{\"duration\":0,\"redraw\":true},\"mode\":\"immediate\",\"fromcurrent\":true,\"transition\":{\"duration\":0,\"easing\":\"linear\"}}],\"label\":\"Neutral\",\"method\":\"animate\"},{\"args\":[[\"Nostalgia\"],{\"frame\":{\"duration\":0,\"redraw\":true},\"mode\":\"immediate\",\"fromcurrent\":true,\"transition\":{\"duration\":0,\"easing\":\"linear\"}}],\"label\":\"Nostalgia\",\"method\":\"animate\"},{\"args\":[[\"Positive\"],{\"frame\":{\"duration\":0,\"redraw\":true},\"mode\":\"immediate\",\"fromcurrent\":true,\"transition\":{\"duration\":0,\"easing\":\"linear\"}}],\"label\":\"Positive\",\"method\":\"animate\"},{\"args\":[[\"Sad\"],{\"frame\":{\"duration\":0,\"redraw\":true},\"mode\":\"immediate\",\"fromcurrent\":true,\"transition\":{\"duration\":0,\"easing\":\"linear\"}}],\"label\":\"Sad\",\"method\":\"animate\"},{\"args\":[[\"Serenity\"],{\"frame\":{\"duration\":0,\"redraw\":true},\"mode\":\"immediate\",\"fromcurrent\":true,\"transition\":{\"duration\":0,\"easing\":\"linear\"}}],\"label\":\"Serenity\",\"method\":\"animate\"}],\"x\":0.1,\"xanchor\":\"left\",\"y\":0,\"yanchor\":\"top\"}]},                        {\"responsive\": true}                    ).then(function(){\n",
       "                            Plotly.addFrames('4d41d33e-66cf-4704-8cb6-62587e52976c', [{\"data\":[{\"coloraxis\":\"coloraxis\",\"geo\":\"geo\",\"hovertemplate\":\"\\u003cb\\u003e%{hovertext}\\u003c\\u002fb\\u003e\\u003cbr\\u003e\\u003cbr\\u003eSentiment=Awe\\u003cbr\\u003eCountry=%{location}\\u003cbr\\u003eCount=%{z}\\u003cextra\\u003e\\u003c\\u002fextra\\u003e\",\"hovertext\":[\"USA\",\"UK\",\"Canada\",\"Australia\",\"India\",\"Brazil\",\"France\",\"Japan\",\"Germany\",\"Italy\",\"Spain\",\"South Africa\",\"Greece\",\"Netherlands\",\"Switzerland\",\"Portugal\",\"Denmark\",\"Austria\",\"Czech Republic\",\"Belgium\",\"Sweden\",\"Cambodia\",\"Thailand\",\"Scotland\",\"Jordan\",\"Peru\",\"Norway\",\"Maldives\",\"Kenya\",\"Ireland\",\"Colombia\",\"China\",\"Jamaica\"],\"locationmode\":\"country names\",\"locations\":[\"USA\",\"UK\",\"Canada\",\"Australia\",\"India\",\"Brazil\",\"France\",\"Japan\",\"Germany\",\"Italy\",\"Spain\",\"South Africa\",\"Greece\",\"Netherlands\",\"Switzerland\",\"Portugal\",\"Denmark\",\"Austria\",\"Czech Republic\",\"Belgium\",\"Sweden\",\"Cambodia\",\"Thailand\",\"Scotland\",\"Jordan\",\"Peru\",\"Norway\",\"Maldives\",\"Kenya\",\"Ireland\",\"Colombia\",\"China\",\"Jamaica\"],\"name\":\"\",\"z\":[2,0,0,2,0,0,0,0,0,0,0,0,0,0,0,0,0,0,2,0,0,0,0,1,0,1,0,0,0,0,0,1,0],\"type\":\"choropleth\"}],\"name\":\"Awe\"},{\"data\":[{\"coloraxis\":\"coloraxis\",\"geo\":\"geo\",\"hovertemplate\":\"\\u003cb\\u003e%{hovertext}\\u003c\\u002fb\\u003e\\u003cbr\\u003e\\u003cbr\\u003eSentiment=Contentment\\u003cbr\\u003eCountry=%{location}\\u003cbr\\u003eCount=%{z}\\u003cextra\\u003e\\u003c\\u002fextra\\u003e\",\"hovertext\":[\"USA\",\"UK\",\"Canada\",\"Australia\",\"India\",\"Brazil\",\"France\",\"Japan\",\"Germany\",\"Italy\",\"Spain\",\"South Africa\",\"Greece\",\"Netherlands\",\"Switzerland\",\"Portugal\",\"Denmark\",\"Austria\",\"Czech Republic\",\"Belgium\",\"Sweden\",\"Cambodia\",\"Thailand\",\"Scotland\",\"Jordan\",\"Peru\",\"Norway\",\"Maldives\",\"Kenya\",\"Ireland\",\"Colombia\",\"China\",\"Jamaica\"],\"locationmode\":\"country names\",\"locations\":[\"USA\",\"UK\",\"Canada\",\"Australia\",\"India\",\"Brazil\",\"France\",\"Japan\",\"Germany\",\"Italy\",\"Spain\",\"South Africa\",\"Greece\",\"Netherlands\",\"Switzerland\",\"Portugal\",\"Denmark\",\"Austria\",\"Czech Republic\",\"Belgium\",\"Sweden\",\"Cambodia\",\"Thailand\",\"Scotland\",\"Jordan\",\"Peru\",\"Norway\",\"Maldives\",\"Kenya\",\"Ireland\",\"Colombia\",\"China\",\"Jamaica\"],\"name\":\"\",\"z\":[5,4,4,2,3,0,1,0,0,0,0,0,0,0,0,0,0,0,0,0,0,0,0,0,0,0,0,0,0,0,0,0,0],\"type\":\"choropleth\"}],\"name\":\"Contentment\"},{\"data\":[{\"coloraxis\":\"coloraxis\",\"geo\":\"geo\",\"hovertemplate\":\"\\u003cb\\u003e%{hovertext}\\u003c\\u002fb\\u003e\\u003cbr\\u003e\\u003cbr\\u003eSentiment=Curiosity\\u003cbr\\u003eCountry=%{location}\\u003cbr\\u003eCount=%{z}\\u003cextra\\u003e\\u003c\\u002fextra\\u003e\",\"hovertext\":[\"USA\",\"UK\",\"Canada\",\"Australia\",\"India\",\"Brazil\",\"France\",\"Japan\",\"Germany\",\"Italy\",\"Spain\",\"South Africa\",\"Greece\",\"Netherlands\",\"Switzerland\",\"Portugal\",\"Denmark\",\"Austria\",\"Czech Republic\",\"Belgium\",\"Sweden\",\"Cambodia\",\"Thailand\",\"Scotland\",\"Jordan\",\"Peru\",\"Norway\",\"Maldives\",\"Kenya\",\"Ireland\",\"Colombia\",\"China\",\"Jamaica\"],\"locationmode\":\"country names\",\"locations\":[\"USA\",\"UK\",\"Canada\",\"Australia\",\"India\",\"Brazil\",\"France\",\"Japan\",\"Germany\",\"Italy\",\"Spain\",\"South Africa\",\"Greece\",\"Netherlands\",\"Switzerland\",\"Portugal\",\"Denmark\",\"Austria\",\"Czech Republic\",\"Belgium\",\"Sweden\",\"Cambodia\",\"Thailand\",\"Scotland\",\"Jordan\",\"Peru\",\"Norway\",\"Maldives\",\"Kenya\",\"Ireland\",\"Colombia\",\"China\",\"Jamaica\"],\"name\":\"\",\"z\":[4,4,2,2,3,0,0,0,0,0,0,0,1,0,0,0,0,0,0,0,0,0,0,0,0,0,0,0,0,0,0,0,0],\"type\":\"choropleth\"}],\"name\":\"Curiosity\"},{\"data\":[{\"coloraxis\":\"coloraxis\",\"geo\":\"geo\",\"hovertemplate\":\"\\u003cb\\u003e%{hovertext}\\u003c\\u002fb\\u003e\\u003cbr\\u003e\\u003cbr\\u003eSentiment=Despair\\u003cbr\\u003eCountry=%{location}\\u003cbr\\u003eCount=%{z}\\u003cextra\\u003e\\u003c\\u002fextra\\u003e\",\"hovertext\":[\"USA\",\"UK\",\"Canada\",\"Australia\",\"India\",\"Brazil\",\"France\",\"Japan\",\"Germany\",\"Italy\",\"Spain\",\"South Africa\",\"Greece\",\"Netherlands\",\"Switzerland\",\"Portugal\",\"Denmark\",\"Austria\",\"Czech Republic\",\"Belgium\",\"Sweden\",\"Cambodia\",\"Thailand\",\"Scotland\",\"Jordan\",\"Peru\",\"Norway\",\"Maldives\",\"Kenya\",\"Ireland\",\"Colombia\",\"China\",\"Jamaica\"],\"locationmode\":\"country names\",\"locations\":[\"USA\",\"UK\",\"Canada\",\"Australia\",\"India\",\"Brazil\",\"France\",\"Japan\",\"Germany\",\"Italy\",\"Spain\",\"South Africa\",\"Greece\",\"Netherlands\",\"Switzerland\",\"Portugal\",\"Denmark\",\"Austria\",\"Czech Republic\",\"Belgium\",\"Sweden\",\"Cambodia\",\"Thailand\",\"Scotland\",\"Jordan\",\"Peru\",\"Norway\",\"Maldives\",\"Kenya\",\"Ireland\",\"Colombia\",\"China\",\"Jamaica\"],\"name\":\"\",\"z\":[3,0,2,2,2,0,0,0,0,0,1,1,0,0,0,0,0,0,0,0,0,0,0,0,0,0,0,0,0,0,0,0,0],\"type\":\"choropleth\"}],\"name\":\"Despair\"},{\"data\":[{\"coloraxis\":\"coloraxis\",\"geo\":\"geo\",\"hovertemplate\":\"\\u003cb\\u003e%{hovertext}\\u003c\\u002fb\\u003e\\u003cbr\\u003e\\u003cbr\\u003eSentiment=Excitement\\u003cbr\\u003eCountry=%{location}\\u003cbr\\u003eCount=%{z}\\u003cextra\\u003e\\u003c\\u002fextra\\u003e\",\"hovertext\":[\"USA\",\"UK\",\"Canada\",\"Australia\",\"India\",\"Brazil\",\"France\",\"Japan\",\"Germany\",\"Italy\",\"Spain\",\"South Africa\",\"Greece\",\"Netherlands\",\"Switzerland\",\"Portugal\",\"Denmark\",\"Austria\",\"Czech Republic\",\"Belgium\",\"Sweden\",\"Cambodia\",\"Thailand\",\"Scotland\",\"Jordan\",\"Peru\",\"Norway\",\"Maldives\",\"Kenya\",\"Ireland\",\"Colombia\",\"China\",\"Jamaica\"],\"locationmode\":\"country names\",\"locations\":[\"USA\",\"UK\",\"Canada\",\"Australia\",\"India\",\"Brazil\",\"France\",\"Japan\",\"Germany\",\"Italy\",\"Spain\",\"South Africa\",\"Greece\",\"Netherlands\",\"Switzerland\",\"Portugal\",\"Denmark\",\"Austria\",\"Czech Republic\",\"Belgium\",\"Sweden\",\"Cambodia\",\"Thailand\",\"Scotland\",\"Jordan\",\"Peru\",\"Norway\",\"Maldives\",\"Kenya\",\"Ireland\",\"Colombia\",\"China\",\"Jamaica\"],\"name\":\"\",\"z\":[10,11,11,1,2,0,1,0,0,1,0,0,0,0,0,0,0,0,0,0,0,0,0,0,0,0,0,0,0,0,0,0,0],\"type\":\"choropleth\"}],\"name\":\"Excitement\"},{\"data\":[{\"coloraxis\":\"coloraxis\",\"geo\":\"geo\",\"hovertemplate\":\"\\u003cb\\u003e%{hovertext}\\u003c\\u002fb\\u003e\\u003cbr\\u003e\\u003cbr\\u003eSentiment=Gratitude\\u003cbr\\u003eCountry=%{location}\\u003cbr\\u003eCount=%{z}\\u003cextra\\u003e\\u003c\\u002fextra\\u003e\",\"hovertext\":[\"USA\",\"UK\",\"Canada\",\"Australia\",\"India\",\"Brazil\",\"France\",\"Japan\",\"Germany\",\"Italy\",\"Spain\",\"South Africa\",\"Greece\",\"Netherlands\",\"Switzerland\",\"Portugal\",\"Denmark\",\"Austria\",\"Czech Republic\",\"Belgium\",\"Sweden\",\"Cambodia\",\"Thailand\",\"Scotland\",\"Jordan\",\"Peru\",\"Norway\",\"Maldives\",\"Kenya\",\"Ireland\",\"Colombia\",\"China\",\"Jamaica\"],\"locationmode\":\"country names\",\"locations\":[\"USA\",\"UK\",\"Canada\",\"Australia\",\"India\",\"Brazil\",\"France\",\"Japan\",\"Germany\",\"Italy\",\"Spain\",\"South Africa\",\"Greece\",\"Netherlands\",\"Switzerland\",\"Portugal\",\"Denmark\",\"Austria\",\"Czech Republic\",\"Belgium\",\"Sweden\",\"Cambodia\",\"Thailand\",\"Scotland\",\"Jordan\",\"Peru\",\"Norway\",\"Maldives\",\"Kenya\",\"Ireland\",\"Colombia\",\"China\",\"Jamaica\"],\"name\":\"\",\"z\":[4,3,1,2,3,1,0,1,1,0,0,0,0,0,0,0,0,2,0,0,0,0,0,0,0,0,0,0,0,0,0,0,0],\"type\":\"choropleth\"}],\"name\":\"Gratitude\"},{\"data\":[{\"coloraxis\":\"coloraxis\",\"geo\":\"geo\",\"hovertemplate\":\"\\u003cb\\u003e%{hovertext}\\u003c\\u002fb\\u003e\\u003cbr\\u003e\\u003cbr\\u003eSentiment=Grief\\u003cbr\\u003eCountry=%{location}\\u003cbr\\u003eCount=%{z}\\u003cextra\\u003e\\u003c\\u002fextra\\u003e\",\"hovertext\":[\"USA\",\"UK\",\"Canada\",\"Australia\",\"India\",\"Brazil\",\"France\",\"Japan\",\"Germany\",\"Italy\",\"Spain\",\"South Africa\",\"Greece\",\"Netherlands\",\"Switzerland\",\"Portugal\",\"Denmark\",\"Austria\",\"Czech Republic\",\"Belgium\",\"Sweden\",\"Cambodia\",\"Thailand\",\"Scotland\",\"Jordan\",\"Peru\",\"Norway\",\"Maldives\",\"Kenya\",\"Ireland\",\"Colombia\",\"China\",\"Jamaica\"],\"locationmode\":\"country names\",\"locations\":[\"USA\",\"UK\",\"Canada\",\"Australia\",\"India\",\"Brazil\",\"France\",\"Japan\",\"Germany\",\"Italy\",\"Spain\",\"South Africa\",\"Greece\",\"Netherlands\",\"Switzerland\",\"Portugal\",\"Denmark\",\"Austria\",\"Czech Republic\",\"Belgium\",\"Sweden\",\"Cambodia\",\"Thailand\",\"Scotland\",\"Jordan\",\"Peru\",\"Norway\",\"Maldives\",\"Kenya\",\"Ireland\",\"Colombia\",\"China\",\"Jamaica\"],\"name\":\"\",\"z\":[2,1,3,0,1,0,0,0,1,1,0,0,0,0,0,0,0,0,0,0,0,0,0,0,0,0,0,0,0,0,0,0,0],\"type\":\"choropleth\"}],\"name\":\"Grief\"},{\"data\":[{\"coloraxis\":\"coloraxis\",\"geo\":\"geo\",\"hovertemplate\":\"\\u003cb\\u003e%{hovertext}\\u003c\\u002fb\\u003e\\u003cbr\\u003e\\u003cbr\\u003eSentiment=Happy\\u003cbr\\u003eCountry=%{location}\\u003cbr\\u003eCount=%{z}\\u003cextra\\u003e\\u003c\\u002fextra\\u003e\",\"hovertext\":[\"USA\",\"UK\",\"Canada\",\"Australia\",\"India\",\"Brazil\",\"France\",\"Japan\",\"Germany\",\"Italy\",\"Spain\",\"South Africa\",\"Greece\",\"Netherlands\",\"Switzerland\",\"Portugal\",\"Denmark\",\"Austria\",\"Czech Republic\",\"Belgium\",\"Sweden\",\"Cambodia\",\"Thailand\",\"Scotland\",\"Jordan\",\"Peru\",\"Norway\",\"Maldives\",\"Kenya\",\"Ireland\",\"Colombia\",\"China\",\"Jamaica\"],\"locationmode\":\"country names\",\"locations\":[\"USA\",\"UK\",\"Canada\",\"Australia\",\"India\",\"Brazil\",\"France\",\"Japan\",\"Germany\",\"Italy\",\"Spain\",\"South Africa\",\"Greece\",\"Netherlands\",\"Switzerland\",\"Portugal\",\"Denmark\",\"Austria\",\"Czech Republic\",\"Belgium\",\"Sweden\",\"Cambodia\",\"Thailand\",\"Scotland\",\"Jordan\",\"Peru\",\"Norway\",\"Maldives\",\"Kenya\",\"Ireland\",\"Colombia\",\"China\",\"Jamaica\"],\"name\":\"\",\"z\":[5,5,4,0,0,0,0,0,0,0,0,0,0,0,0,0,0,0,0,0,0,0,0,0,0,0,0,0,0,0,0,0,0],\"type\":\"choropleth\"}],\"name\":\"Happy\"},{\"data\":[{\"coloraxis\":\"coloraxis\",\"geo\":\"geo\",\"hovertemplate\":\"\\u003cb\\u003e%{hovertext}\\u003c\\u002fb\\u003e\\u003cbr\\u003e\\u003cbr\\u003eSentiment=Hopeful\\u003cbr\\u003eCountry=%{location}\\u003cbr\\u003eCount=%{z}\\u003cextra\\u003e\\u003c\\u002fextra\\u003e\",\"hovertext\":[\"USA\",\"UK\",\"Canada\",\"Australia\",\"India\",\"Brazil\",\"France\",\"Japan\",\"Germany\",\"Italy\",\"Spain\",\"South Africa\",\"Greece\",\"Netherlands\",\"Switzerland\",\"Portugal\",\"Denmark\",\"Austria\",\"Czech Republic\",\"Belgium\",\"Sweden\",\"Cambodia\",\"Thailand\",\"Scotland\",\"Jordan\",\"Peru\",\"Norway\",\"Maldives\",\"Kenya\",\"Ireland\",\"Colombia\",\"China\",\"Jamaica\"],\"locationmode\":\"country names\",\"locations\":[\"USA\",\"UK\",\"Canada\",\"Australia\",\"India\",\"Brazil\",\"France\",\"Japan\",\"Germany\",\"Italy\",\"Spain\",\"South Africa\",\"Greece\",\"Netherlands\",\"Switzerland\",\"Portugal\",\"Denmark\",\"Austria\",\"Czech Republic\",\"Belgium\",\"Sweden\",\"Cambodia\",\"Thailand\",\"Scotland\",\"Jordan\",\"Peru\",\"Norway\",\"Maldives\",\"Kenya\",\"Ireland\",\"Colombia\",\"China\",\"Jamaica\"],\"name\":\"\",\"z\":[1,2,0,2,4,0,0,0,0,0,0,0,0,0,0,0,0,0,0,0,0,0,0,0,0,0,0,0,0,0,0,0,0],\"type\":\"choropleth\"}],\"name\":\"Hopeful\"},{\"data\":[{\"coloraxis\":\"coloraxis\",\"geo\":\"geo\",\"hovertemplate\":\"\\u003cb\\u003e%{hovertext}\\u003c\\u002fb\\u003e\\u003cbr\\u003e\\u003cbr\\u003eSentiment=Joy\\u003cbr\\u003eCountry=%{location}\\u003cbr\\u003eCount=%{z}\\u003cextra\\u003e\\u003c\\u002fextra\\u003e\",\"hovertext\":[\"USA\",\"UK\",\"Canada\",\"Australia\",\"India\",\"Brazil\",\"France\",\"Japan\",\"Germany\",\"Italy\",\"Spain\",\"South Africa\",\"Greece\",\"Netherlands\",\"Switzerland\",\"Portugal\",\"Denmark\",\"Austria\",\"Czech Republic\",\"Belgium\",\"Sweden\",\"Cambodia\",\"Thailand\",\"Scotland\",\"Jordan\",\"Peru\",\"Norway\",\"Maldives\",\"Kenya\",\"Ireland\",\"Colombia\",\"China\",\"Jamaica\"],\"locationmode\":\"country names\",\"locations\":[\"USA\",\"UK\",\"Canada\",\"Australia\",\"India\",\"Brazil\",\"France\",\"Japan\",\"Germany\",\"Italy\",\"Spain\",\"South Africa\",\"Greece\",\"Netherlands\",\"Switzerland\",\"Portugal\",\"Denmark\",\"Austria\",\"Czech Republic\",\"Belgium\",\"Sweden\",\"Cambodia\",\"Thailand\",\"Scotland\",\"Jordan\",\"Peru\",\"Norway\",\"Maldives\",\"Kenya\",\"Ireland\",\"Colombia\",\"China\",\"Jamaica\"],\"name\":\"\",\"z\":[17,9,15,0,0,1,0,1,0,0,0,0,0,1,0,0,0,0,0,0,0,0,0,0,0,0,0,0,0,0,0,0,0],\"type\":\"choropleth\"}],\"name\":\"Joy\"},{\"data\":[{\"coloraxis\":\"coloraxis\",\"geo\":\"geo\",\"hovertemplate\":\"\\u003cb\\u003e%{hovertext}\\u003c\\u002fb\\u003e\\u003cbr\\u003e\\u003cbr\\u003eSentiment=Neutral\\u003cbr\\u003eCountry=%{location}\\u003cbr\\u003eCount=%{z}\\u003cextra\\u003e\\u003c\\u002fextra\\u003e\",\"hovertext\":[\"USA\",\"UK\",\"Canada\",\"Australia\",\"India\",\"Brazil\",\"France\",\"Japan\",\"Germany\",\"Italy\",\"Spain\",\"South Africa\",\"Greece\",\"Netherlands\",\"Switzerland\",\"Portugal\",\"Denmark\",\"Austria\",\"Czech Republic\",\"Belgium\",\"Sweden\",\"Cambodia\",\"Thailand\",\"Scotland\",\"Jordan\",\"Peru\",\"Norway\",\"Maldives\",\"Kenya\",\"Ireland\",\"Colombia\",\"China\",\"Jamaica\"],\"locationmode\":\"country names\",\"locations\":[\"USA\",\"UK\",\"Canada\",\"Australia\",\"India\",\"Brazil\",\"France\",\"Japan\",\"Germany\",\"Italy\",\"Spain\",\"South Africa\",\"Greece\",\"Netherlands\",\"Switzerland\",\"Portugal\",\"Denmark\",\"Austria\",\"Czech Republic\",\"Belgium\",\"Sweden\",\"Cambodia\",\"Thailand\",\"Scotland\",\"Jordan\",\"Peru\",\"Norway\",\"Maldives\",\"Kenya\",\"Ireland\",\"Colombia\",\"China\",\"Jamaica\"],\"name\":\"\",\"z\":[6,4,5,2,1,0,0,0,0,0,0,0,0,0,0,0,0,0,0,0,0,0,0,0,0,0,0,0,0,0,0,0,0],\"type\":\"choropleth\"}],\"name\":\"Neutral\"},{\"data\":[{\"coloraxis\":\"coloraxis\",\"geo\":\"geo\",\"hovertemplate\":\"\\u003cb\\u003e%{hovertext}\\u003c\\u002fb\\u003e\\u003cbr\\u003e\\u003cbr\\u003eSentiment=Nostalgia\\u003cbr\\u003eCountry=%{location}\\u003cbr\\u003eCount=%{z}\\u003cextra\\u003e\\u003c\\u002fextra\\u003e\",\"hovertext\":[\"USA\",\"UK\",\"Canada\",\"Australia\",\"India\",\"Brazil\",\"France\",\"Japan\",\"Germany\",\"Italy\",\"Spain\",\"South Africa\",\"Greece\",\"Netherlands\",\"Switzerland\",\"Portugal\",\"Denmark\",\"Austria\",\"Czech Republic\",\"Belgium\",\"Sweden\",\"Cambodia\",\"Thailand\",\"Scotland\",\"Jordan\",\"Peru\",\"Norway\",\"Maldives\",\"Kenya\",\"Ireland\",\"Colombia\",\"China\",\"Jamaica\"],\"locationmode\":\"country names\",\"locations\":[\"USA\",\"UK\",\"Canada\",\"Australia\",\"India\",\"Brazil\",\"France\",\"Japan\",\"Germany\",\"Italy\",\"Spain\",\"South Africa\",\"Greece\",\"Netherlands\",\"Switzerland\",\"Portugal\",\"Denmark\",\"Austria\",\"Czech Republic\",\"Belgium\",\"Sweden\",\"Cambodia\",\"Thailand\",\"Scotland\",\"Jordan\",\"Peru\",\"Norway\",\"Maldives\",\"Kenya\",\"Ireland\",\"Colombia\",\"China\",\"Jamaica\"],\"name\":\"\",\"z\":[2,3,2,1,2,0,0,0,0,1,0,0,0,0,0,0,0,0,0,0,0,0,0,0,0,0,0,0,0,0,0,0,0],\"type\":\"choropleth\"}],\"name\":\"Nostalgia\"},{\"data\":[{\"coloraxis\":\"coloraxis\",\"geo\":\"geo\",\"hovertemplate\":\"\\u003cb\\u003e%{hovertext}\\u003c\\u002fb\\u003e\\u003cbr\\u003e\\u003cbr\\u003eSentiment=Positive\\u003cbr\\u003eCountry=%{location}\\u003cbr\\u003eCount=%{z}\\u003cextra\\u003e\\u003c\\u002fextra\\u003e\",\"hovertext\":[\"USA\",\"UK\",\"Canada\",\"Australia\",\"India\",\"Brazil\",\"France\",\"Japan\",\"Germany\",\"Italy\",\"Spain\",\"South Africa\",\"Greece\",\"Netherlands\",\"Switzerland\",\"Portugal\",\"Denmark\",\"Austria\",\"Czech Republic\",\"Belgium\",\"Sweden\",\"Cambodia\",\"Thailand\",\"Scotland\",\"Jordan\",\"Peru\",\"Norway\",\"Maldives\",\"Kenya\",\"Ireland\",\"Colombia\",\"China\",\"Jamaica\"],\"locationmode\":\"country names\",\"locations\":[\"USA\",\"UK\",\"Canada\",\"Australia\",\"India\",\"Brazil\",\"France\",\"Japan\",\"Germany\",\"Italy\",\"Spain\",\"South Africa\",\"Greece\",\"Netherlands\",\"Switzerland\",\"Portugal\",\"Denmark\",\"Austria\",\"Czech Republic\",\"Belgium\",\"Sweden\",\"Cambodia\",\"Thailand\",\"Scotland\",\"Jordan\",\"Peru\",\"Norway\",\"Maldives\",\"Kenya\",\"Ireland\",\"Colombia\",\"China\",\"Jamaica\"],\"name\":\"\",\"z\":[18,10,8,2,7,0,0,0,0,0,0,0,0,0,0,0,0,0,0,0,0,0,0,0,0,0,0,0,0,0,0,0,0],\"type\":\"choropleth\"}],\"name\":\"Positive\"},{\"data\":[{\"coloraxis\":\"coloraxis\",\"geo\":\"geo\",\"hovertemplate\":\"\\u003cb\\u003e%{hovertext}\\u003c\\u002fb\\u003e\\u003cbr\\u003e\\u003cbr\\u003eSentiment=Sad\\u003cbr\\u003eCountry=%{location}\\u003cbr\\u003eCount=%{z}\\u003cextra\\u003e\\u003c\\u002fextra\\u003e\",\"hovertext\":[\"USA\",\"UK\",\"Canada\",\"Australia\",\"India\",\"Brazil\",\"France\",\"Japan\",\"Germany\",\"Italy\",\"Spain\",\"South Africa\",\"Greece\",\"Netherlands\",\"Switzerland\",\"Portugal\",\"Denmark\",\"Austria\",\"Czech Republic\",\"Belgium\",\"Sweden\",\"Cambodia\",\"Thailand\",\"Scotland\",\"Jordan\",\"Peru\",\"Norway\",\"Maldives\",\"Kenya\",\"Ireland\",\"Colombia\",\"China\",\"Jamaica\"],\"locationmode\":\"country names\",\"locations\":[\"USA\",\"UK\",\"Canada\",\"Australia\",\"India\",\"Brazil\",\"France\",\"Japan\",\"Germany\",\"Italy\",\"Spain\",\"South Africa\",\"Greece\",\"Netherlands\",\"Switzerland\",\"Portugal\",\"Denmark\",\"Austria\",\"Czech Republic\",\"Belgium\",\"Sweden\",\"Cambodia\",\"Thailand\",\"Scotland\",\"Jordan\",\"Peru\",\"Norway\",\"Maldives\",\"Kenya\",\"Ireland\",\"Colombia\",\"China\",\"Jamaica\"],\"name\":\"\",\"z\":[3,3,3,0,0,0,0,0,0,0,0,0,0,0,0,0,0,0,0,0,0,0,0,0,0,0,0,0,0,0,0,0,0],\"type\":\"choropleth\"}],\"name\":\"Sad\"},{\"data\":[{\"coloraxis\":\"coloraxis\",\"geo\":\"geo\",\"hovertemplate\":\"\\u003cb\\u003e%{hovertext}\\u003c\\u002fb\\u003e\\u003cbr\\u003e\\u003cbr\\u003eSentiment=Serenity\\u003cbr\\u003eCountry=%{location}\\u003cbr\\u003eCount=%{z}\\u003cextra\\u003e\\u003c\\u002fextra\\u003e\",\"hovertext\":[\"USA\",\"UK\",\"Canada\",\"Australia\",\"India\",\"Brazil\",\"France\",\"Japan\",\"Germany\",\"Italy\",\"Spain\",\"South Africa\",\"Greece\",\"Netherlands\",\"Switzerland\",\"Portugal\",\"Denmark\",\"Austria\",\"Czech Republic\",\"Belgium\",\"Sweden\",\"Cambodia\",\"Thailand\",\"Scotland\",\"Jordan\",\"Peru\",\"Norway\",\"Maldives\",\"Kenya\",\"Ireland\",\"Colombia\",\"China\",\"Jamaica\"],\"locationmode\":\"country names\",\"locations\":[\"USA\",\"UK\",\"Canada\",\"Australia\",\"India\",\"Brazil\",\"France\",\"Japan\",\"Germany\",\"Italy\",\"Spain\",\"South Africa\",\"Greece\",\"Netherlands\",\"Switzerland\",\"Portugal\",\"Denmark\",\"Austria\",\"Czech Republic\",\"Belgium\",\"Sweden\",\"Cambodia\",\"Thailand\",\"Scotland\",\"Jordan\",\"Peru\",\"Norway\",\"Maldives\",\"Kenya\",\"Ireland\",\"Colombia\",\"China\",\"Jamaica\"],\"name\":\"\",\"z\":[2,3,6,1,0,0,0,0,1,0,0,0,1,0,0,0,0,0,0,0,0,0,0,0,0,0,0,1,0,0,0,0,0],\"type\":\"choropleth\"}],\"name\":\"Serenity\"}]);\n",
       "                        }).then(function(){\n",
       "                            \n",
       "var gd = document.getElementById('4d41d33e-66cf-4704-8cb6-62587e52976c');\n",
       "var x = new MutationObserver(function (mutations, observer) {{\n",
       "        var display = window.getComputedStyle(gd).display;\n",
       "        if (!display || display === 'none') {{\n",
       "            console.log([gd, 'removed!']);\n",
       "            Plotly.purge(gd);\n",
       "            observer.disconnect();\n",
       "        }}\n",
       "}});\n",
       "\n",
       "// Listen for the removal of the full notebook cells\n",
       "var notebookContainer = gd.closest('#notebook-container');\n",
       "if (notebookContainer) {{\n",
       "    x.observe(notebookContainer, {childList: true});\n",
       "}}\n",
       "\n",
       "// Listen for the clearing of the current output cell\n",
       "var outputEl = gd.closest('.output');\n",
       "if (outputEl) {{\n",
       "    x.observe(outputEl, {childList: true});\n",
       "}}\n",
       "\n",
       "                        })                };                });            </script>        </div>"
      ]
     },
     "metadata": {},
     "output_type": "display_data"
    }
   ],
   "source": [
    "import pandas as pd\n",
    "import plotly.express as px\n",
    "# Assuming 'df' is your DataFrame containing the data\n",
    "start = int(input(\"Enter the start value: \"))\n",
    "end = int(input(\"Enter the end value: \"))\n",
    "# Get the top sentiments within the specified range\n",
    "top_sentiments = df['Sentiment'].value_counts().head(end).tail(end - start + 1).index\n",
    "# Filter the DataFrame to include only the top sentiments\n",
    "filtered_df = df[df['Sentiment'].isin(top_sentiments)]\n",
    "# Group by Country and Sentiment, then count occurrences\n",
    "sentiment_counts = filtered_df.groupby(['Country', 'Sentiment']).size().reset_index(name='Count')\n",
    "# Create a choropleth map\n",
    "fig = px.choropleth(\n",
    "    sentiment_counts,\n",
    "    locations=\"Country\",\n",
    "    locationmode=\"country names\",\n",
    "    color=\"Count\",\n",
    "    hover_name=\"Country\",\n",
    "    animation_frame=\"Sentiment\",\n",
    "    title=f\"Sentiments {start}-{end} Distribution Across Countries\",  # Dynamic title\n",
    "    color_continuous_scale=px.colors.sequential.Plasma,\n",
    ")\n",
    "# Customize layout\n",
    "fig.update_layout(\n",
    "    geo=dict(\n",
    "        showframe=False,\n",
    "        showcoastlines=True,\n",
    "        projection_type=\"natural earth\",\n",
    "    ),\n",
    "    coloraxis_colorbar=dict(\n",
    "        title=\"Sentiment Count\",\n",
    "        ticks=\"outside\",\n",
    "    ),\n",
    ")\n",
    "fig.show()\n"
   ]
  },
  {
   "cell_type": "markdown",
   "metadata": {
    "id": "NR4ejC7Ew0mb"
   },
   "source": [
    "### <font color=red>9.Variation of sentiments with Likes"
   ]
  },
  {
   "cell_type": "code",
   "execution_count": 27,
   "metadata": {
    "execution": {
     "iopub.execute_input": "2024-12-09T07:33:05.422152Z",
     "iopub.status.busy": "2024-12-09T07:33:05.421426Z",
     "iopub.status.idle": "2024-12-09T07:33:10.262754Z",
     "shell.execute_reply": "2024-12-09T07:33:10.261870Z",
     "shell.execute_reply.started": "2024-12-09T07:33:05.422118Z"
    },
    "executionInfo": {
     "elapsed": 4285,
     "status": "ok",
     "timestamp": 1733728157214,
     "user": {
      "displayName": "66_Rishij Manna",
      "userId": "01245000441612451756"
     },
     "user_tz": -330
    },
    "id": "Vn04ZlI_6I-I",
    "outputId": "d9698f1b-7b22-452e-edf0-21277103c0da",
    "trusted": true
   },
   "outputs": [
    {
     "name": "stdout",
     "output_type": "stream",
     "text": [
      "Enter the start value:  1\n",
      "Enter the end value:  15\n"
     ]
    },
    {
     "data": {
      "text/html": [
       "<div>                            <div id=\"010ba6d7-b361-4b85-95f4-ce112c46aeee\" class=\"plotly-graph-div\" style=\"height:525px; width:100%;\"></div>            <script type=\"text/javascript\">                require([\"plotly\"], function(Plotly) {                    window.PLOTLYENV=window.PLOTLYENV || {};                                    if (document.getElementById(\"010ba6d7-b361-4b85-95f4-ce112c46aeee\")) {                    Plotly.newPlot(                        \"010ba6d7-b361-4b85-95f4-ce112c46aeee\",                        [{\"alignmentgroup\":\"True\",\"hovertemplate\":\"Sentiment=%{x}\\u003cbr\\u003eTotal Number of Likes=%{y}\\u003cextra\\u003e\\u003c\\u002fextra\\u003e\",\"legendgroup\":\"Awe\",\"marker\":{\"color\":\"#636efa\",\"pattern\":{\"shape\":\"\"}},\"name\":\"Awe\",\"offsetgroup\":\"Awe\",\"orientation\":\"v\",\"showlegend\":true,\"textposition\":\"auto\",\"x\":[\"Awe\"],\"xaxis\":\"x\",\"y\":[400.0],\"yaxis\":\"y\",\"type\":\"bar\"},{\"alignmentgroup\":\"True\",\"hovertemplate\":\"Sentiment=%{x}\\u003cbr\\u003eTotal Number of Likes=%{y}\\u003cextra\\u003e\\u003c\\u002fextra\\u003e\",\"legendgroup\":\"Contentment\",\"marker\":{\"color\":\"#EF553B\",\"pattern\":{\"shape\":\"\"}},\"name\":\"Contentment\",\"offsetgroup\":\"Contentment\",\"orientation\":\"v\",\"showlegend\":true,\"textposition\":\"auto\",\"x\":[\"Contentment\"],\"xaxis\":\"x\",\"y\":[976.0],\"yaxis\":\"y\",\"type\":\"bar\"},{\"alignmentgroup\":\"True\",\"hovertemplate\":\"Sentiment=%{x}\\u003cbr\\u003eTotal Number of Likes=%{y}\\u003cextra\\u003e\\u003c\\u002fextra\\u003e\",\"legendgroup\":\"Curiosity\",\"marker\":{\"color\":\"#00cc96\",\"pattern\":{\"shape\":\"\"}},\"name\":\"Curiosity\",\"offsetgroup\":\"Curiosity\",\"orientation\":\"v\",\"showlegend\":true,\"textposition\":\"auto\",\"x\":[\"Curiosity\"],\"xaxis\":\"x\",\"y\":[688.0],\"yaxis\":\"y\",\"type\":\"bar\"},{\"alignmentgroup\":\"True\",\"hovertemplate\":\"Sentiment=%{x}\\u003cbr\\u003eTotal Number of Likes=%{y}\\u003cextra\\u003e\\u003c\\u002fextra\\u003e\",\"legendgroup\":\"Despair\",\"marker\":{\"color\":\"#ab63fa\",\"pattern\":{\"shape\":\"\"}},\"name\":\"Despair\",\"offsetgroup\":\"Despair\",\"orientation\":\"v\",\"showlegend\":true,\"textposition\":\"auto\",\"x\":[\"Despair\"],\"xaxis\":\"x\",\"y\":[392.0],\"yaxis\":\"y\",\"type\":\"bar\"},{\"alignmentgroup\":\"True\",\"hovertemplate\":\"Sentiment=%{x}\\u003cbr\\u003eTotal Number of Likes=%{y}\\u003cextra\\u003e\\u003c\\u002fextra\\u003e\",\"legendgroup\":\"Excitement\",\"marker\":{\"color\":\"#FFA15A\",\"pattern\":{\"shape\":\"\"}},\"name\":\"Excitement\",\"offsetgroup\":\"Excitement\",\"orientation\":\"v\",\"showlegend\":true,\"textposition\":\"auto\",\"x\":[\"Excitement\"],\"xaxis\":\"x\",\"y\":[1860.0],\"yaxis\":\"y\",\"type\":\"bar\"},{\"alignmentgroup\":\"True\",\"hovertemplate\":\"Sentiment=%{x}\\u003cbr\\u003eTotal Number of Likes=%{y}\\u003cextra\\u003e\\u003c\\u002fextra\\u003e\",\"legendgroup\":\"Gratitude\",\"marker\":{\"color\":\"#19d3f3\",\"pattern\":{\"shape\":\"\"}},\"name\":\"Gratitude\",\"offsetgroup\":\"Gratitude\",\"orientation\":\"v\",\"showlegend\":true,\"textposition\":\"auto\",\"x\":[\"Gratitude\"],\"xaxis\":\"x\",\"y\":[885.0],\"yaxis\":\"y\",\"type\":\"bar\"},{\"alignmentgroup\":\"True\",\"hovertemplate\":\"Sentiment=%{x}\\u003cbr\\u003eTotal Number of Likes=%{y}\\u003cextra\\u003e\\u003c\\u002fextra\\u003e\",\"legendgroup\":\"Grief\",\"marker\":{\"color\":\"#FF6692\",\"pattern\":{\"shape\":\"\"}},\"name\":\"Grief\",\"offsetgroup\":\"Grief\",\"orientation\":\"v\",\"showlegend\":true,\"textposition\":\"auto\",\"x\":[\"Grief\"],\"xaxis\":\"x\",\"y\":[355.0],\"yaxis\":\"y\",\"type\":\"bar\"},{\"alignmentgroup\":\"True\",\"hovertemplate\":\"Sentiment=%{x}\\u003cbr\\u003eTotal Number of Likes=%{y}\\u003cextra\\u003e\\u003c\\u002fextra\\u003e\",\"legendgroup\":\"Happy\",\"marker\":{\"color\":\"#B6E880\",\"pattern\":{\"shape\":\"\"}},\"name\":\"Happy\",\"offsetgroup\":\"Happy\",\"orientation\":\"v\",\"showlegend\":true,\"textposition\":\"auto\",\"x\":[\"Happy\"],\"xaxis\":\"x\",\"y\":[632.0],\"yaxis\":\"y\",\"type\":\"bar\"},{\"alignmentgroup\":\"True\",\"hovertemplate\":\"Sentiment=%{x}\\u003cbr\\u003eTotal Number of Likes=%{y}\\u003cextra\\u003e\\u003c\\u002fextra\\u003e\",\"legendgroup\":\"Hopeful\",\"marker\":{\"color\":\"#FF97FF\",\"pattern\":{\"shape\":\"\"}},\"name\":\"Hopeful\",\"offsetgroup\":\"Hopeful\",\"orientation\":\"v\",\"showlegend\":true,\"textposition\":\"auto\",\"x\":[\"Hopeful\"],\"xaxis\":\"x\",\"y\":[260.0],\"yaxis\":\"y\",\"type\":\"bar\"},{\"alignmentgroup\":\"True\",\"hovertemplate\":\"Sentiment=%{x}\\u003cbr\\u003eTotal Number of Likes=%{y}\\u003cextra\\u003e\\u003c\\u002fextra\\u003e\",\"legendgroup\":\"Joy\",\"marker\":{\"color\":\"#FECB52\",\"pattern\":{\"shape\":\"\"}},\"name\":\"Joy\",\"offsetgroup\":\"Joy\",\"orientation\":\"v\",\"showlegend\":true,\"textposition\":\"auto\",\"x\":[\"Joy\"],\"xaxis\":\"x\",\"y\":[2168.0],\"yaxis\":\"y\",\"type\":\"bar\"},{\"alignmentgroup\":\"True\",\"hovertemplate\":\"Sentiment=%{x}\\u003cbr\\u003eTotal Number of Likes=%{y}\\u003cextra\\u003e\\u003c\\u002fextra\\u003e\",\"legendgroup\":\"Neutral\",\"marker\":{\"color\":\"#636efa\",\"pattern\":{\"shape\":\"\"}},\"name\":\"Neutral\",\"offsetgroup\":\"Neutral\",\"orientation\":\"v\",\"showlegend\":true,\"textposition\":\"auto\",\"x\":[\"Neutral\"],\"xaxis\":\"x\",\"y\":[729.0],\"yaxis\":\"y\",\"type\":\"bar\"},{\"alignmentgroup\":\"True\",\"hovertemplate\":\"Sentiment=%{x}\\u003cbr\\u003eTotal Number of Likes=%{y}\\u003cextra\\u003e\\u003c\\u002fextra\\u003e\",\"legendgroup\":\"Nostalgia\",\"marker\":{\"color\":\"#EF553B\",\"pattern\":{\"shape\":\"\"}},\"name\":\"Nostalgia\",\"offsetgroup\":\"Nostalgia\",\"orientation\":\"v\",\"showlegend\":true,\"textposition\":\"auto\",\"x\":[\"Nostalgia\"],\"xaxis\":\"x\",\"y\":[400.0],\"yaxis\":\"y\",\"type\":\"bar\"},{\"alignmentgroup\":\"True\",\"hovertemplate\":\"Sentiment=%{x}\\u003cbr\\u003eTotal Number of Likes=%{y}\\u003cextra\\u003e\\u003c\\u002fextra\\u003e\",\"legendgroup\":\"Positive\",\"marker\":{\"color\":\"#00cc96\",\"pattern\":{\"shape\":\"\"}},\"name\":\"Positive\",\"offsetgroup\":\"Positive\",\"orientation\":\"v\",\"showlegend\":true,\"textposition\":\"auto\",\"x\":[\"Positive\"],\"xaxis\":\"x\",\"y\":[1700.0],\"yaxis\":\"y\",\"type\":\"bar\"},{\"alignmentgroup\":\"True\",\"hovertemplate\":\"Sentiment=%{x}\\u003cbr\\u003eTotal Number of Likes=%{y}\\u003cextra\\u003e\\u003c\\u002fextra\\u003e\",\"legendgroup\":\"Sad\",\"marker\":{\"color\":\"#ab63fa\",\"pattern\":{\"shape\":\"\"}},\"name\":\"Sad\",\"offsetgroup\":\"Sad\",\"orientation\":\"v\",\"showlegend\":true,\"textposition\":\"auto\",\"x\":[\"Sad\"],\"xaxis\":\"x\",\"y\":[335.0],\"yaxis\":\"y\",\"type\":\"bar\"},{\"alignmentgroup\":\"True\",\"hovertemplate\":\"Sentiment=%{x}\\u003cbr\\u003eTotal Number of Likes=%{y}\\u003cextra\\u003e\\u003c\\u002fextra\\u003e\",\"legendgroup\":\"Serenity\",\"marker\":{\"color\":\"#FFA15A\",\"pattern\":{\"shape\":\"\"}},\"name\":\"Serenity\",\"offsetgroup\":\"Serenity\",\"orientation\":\"v\",\"showlegend\":true,\"textposition\":\"auto\",\"x\":[\"Serenity\"],\"xaxis\":\"x\",\"y\":[636.0],\"yaxis\":\"y\",\"type\":\"bar\"}],                        {\"template\":{\"data\":{\"histogram2dcontour\":[{\"type\":\"histogram2dcontour\",\"colorbar\":{\"outlinewidth\":0,\"ticks\":\"\"},\"colorscale\":[[0.0,\"#0d0887\"],[0.1111111111111111,\"#46039f\"],[0.2222222222222222,\"#7201a8\"],[0.3333333333333333,\"#9c179e\"],[0.4444444444444444,\"#bd3786\"],[0.5555555555555556,\"#d8576b\"],[0.6666666666666666,\"#ed7953\"],[0.7777777777777778,\"#fb9f3a\"],[0.8888888888888888,\"#fdca26\"],[1.0,\"#f0f921\"]]}],\"choropleth\":[{\"type\":\"choropleth\",\"colorbar\":{\"outlinewidth\":0,\"ticks\":\"\"}}],\"histogram2d\":[{\"type\":\"histogram2d\",\"colorbar\":{\"outlinewidth\":0,\"ticks\":\"\"},\"colorscale\":[[0.0,\"#0d0887\"],[0.1111111111111111,\"#46039f\"],[0.2222222222222222,\"#7201a8\"],[0.3333333333333333,\"#9c179e\"],[0.4444444444444444,\"#bd3786\"],[0.5555555555555556,\"#d8576b\"],[0.6666666666666666,\"#ed7953\"],[0.7777777777777778,\"#fb9f3a\"],[0.8888888888888888,\"#fdca26\"],[1.0,\"#f0f921\"]]}],\"heatmap\":[{\"type\":\"heatmap\",\"colorbar\":{\"outlinewidth\":0,\"ticks\":\"\"},\"colorscale\":[[0.0,\"#0d0887\"],[0.1111111111111111,\"#46039f\"],[0.2222222222222222,\"#7201a8\"],[0.3333333333333333,\"#9c179e\"],[0.4444444444444444,\"#bd3786\"],[0.5555555555555556,\"#d8576b\"],[0.6666666666666666,\"#ed7953\"],[0.7777777777777778,\"#fb9f3a\"],[0.8888888888888888,\"#fdca26\"],[1.0,\"#f0f921\"]]}],\"heatmapgl\":[{\"type\":\"heatmapgl\",\"colorbar\":{\"outlinewidth\":0,\"ticks\":\"\"},\"colorscale\":[[0.0,\"#0d0887\"],[0.1111111111111111,\"#46039f\"],[0.2222222222222222,\"#7201a8\"],[0.3333333333333333,\"#9c179e\"],[0.4444444444444444,\"#bd3786\"],[0.5555555555555556,\"#d8576b\"],[0.6666666666666666,\"#ed7953\"],[0.7777777777777778,\"#fb9f3a\"],[0.8888888888888888,\"#fdca26\"],[1.0,\"#f0f921\"]]}],\"contourcarpet\":[{\"type\":\"contourcarpet\",\"colorbar\":{\"outlinewidth\":0,\"ticks\":\"\"}}],\"contour\":[{\"type\":\"contour\",\"colorbar\":{\"outlinewidth\":0,\"ticks\":\"\"},\"colorscale\":[[0.0,\"#0d0887\"],[0.1111111111111111,\"#46039f\"],[0.2222222222222222,\"#7201a8\"],[0.3333333333333333,\"#9c179e\"],[0.4444444444444444,\"#bd3786\"],[0.5555555555555556,\"#d8576b\"],[0.6666666666666666,\"#ed7953\"],[0.7777777777777778,\"#fb9f3a\"],[0.8888888888888888,\"#fdca26\"],[1.0,\"#f0f921\"]]}],\"surface\":[{\"type\":\"surface\",\"colorbar\":{\"outlinewidth\":0,\"ticks\":\"\"},\"colorscale\":[[0.0,\"#0d0887\"],[0.1111111111111111,\"#46039f\"],[0.2222222222222222,\"#7201a8\"],[0.3333333333333333,\"#9c179e\"],[0.4444444444444444,\"#bd3786\"],[0.5555555555555556,\"#d8576b\"],[0.6666666666666666,\"#ed7953\"],[0.7777777777777778,\"#fb9f3a\"],[0.8888888888888888,\"#fdca26\"],[1.0,\"#f0f921\"]]}],\"mesh3d\":[{\"type\":\"mesh3d\",\"colorbar\":{\"outlinewidth\":0,\"ticks\":\"\"}}],\"scatter\":[{\"fillpattern\":{\"fillmode\":\"overlay\",\"size\":10,\"solidity\":0.2},\"type\":\"scatter\"}],\"parcoords\":[{\"type\":\"parcoords\",\"line\":{\"colorbar\":{\"outlinewidth\":0,\"ticks\":\"\"}}}],\"scatterpolargl\":[{\"type\":\"scatterpolargl\",\"marker\":{\"colorbar\":{\"outlinewidth\":0,\"ticks\":\"\"}}}],\"bar\":[{\"error_x\":{\"color\":\"#2a3f5f\"},\"error_y\":{\"color\":\"#2a3f5f\"},\"marker\":{\"line\":{\"color\":\"#E5ECF6\",\"width\":0.5},\"pattern\":{\"fillmode\":\"overlay\",\"size\":10,\"solidity\":0.2}},\"type\":\"bar\"}],\"scattergeo\":[{\"type\":\"scattergeo\",\"marker\":{\"colorbar\":{\"outlinewidth\":0,\"ticks\":\"\"}}}],\"scatterpolar\":[{\"type\":\"scatterpolar\",\"marker\":{\"colorbar\":{\"outlinewidth\":0,\"ticks\":\"\"}}}],\"histogram\":[{\"marker\":{\"pattern\":{\"fillmode\":\"overlay\",\"size\":10,\"solidity\":0.2}},\"type\":\"histogram\"}],\"scattergl\":[{\"type\":\"scattergl\",\"marker\":{\"colorbar\":{\"outlinewidth\":0,\"ticks\":\"\"}}}],\"scatter3d\":[{\"type\":\"scatter3d\",\"line\":{\"colorbar\":{\"outlinewidth\":0,\"ticks\":\"\"}},\"marker\":{\"colorbar\":{\"outlinewidth\":0,\"ticks\":\"\"}}}],\"scattermapbox\":[{\"type\":\"scattermapbox\",\"marker\":{\"colorbar\":{\"outlinewidth\":0,\"ticks\":\"\"}}}],\"scatterternary\":[{\"type\":\"scatterternary\",\"marker\":{\"colorbar\":{\"outlinewidth\":0,\"ticks\":\"\"}}}],\"scattercarpet\":[{\"type\":\"scattercarpet\",\"marker\":{\"colorbar\":{\"outlinewidth\":0,\"ticks\":\"\"}}}],\"carpet\":[{\"aaxis\":{\"endlinecolor\":\"#2a3f5f\",\"gridcolor\":\"white\",\"linecolor\":\"white\",\"minorgridcolor\":\"white\",\"startlinecolor\":\"#2a3f5f\"},\"baxis\":{\"endlinecolor\":\"#2a3f5f\",\"gridcolor\":\"white\",\"linecolor\":\"white\",\"minorgridcolor\":\"white\",\"startlinecolor\":\"#2a3f5f\"},\"type\":\"carpet\"}],\"table\":[{\"cells\":{\"fill\":{\"color\":\"#EBF0F8\"},\"line\":{\"color\":\"white\"}},\"header\":{\"fill\":{\"color\":\"#C8D4E3\"},\"line\":{\"color\":\"white\"}},\"type\":\"table\"}],\"barpolar\":[{\"marker\":{\"line\":{\"color\":\"#E5ECF6\",\"width\":0.5},\"pattern\":{\"fillmode\":\"overlay\",\"size\":10,\"solidity\":0.2}},\"type\":\"barpolar\"}],\"pie\":[{\"automargin\":true,\"type\":\"pie\"}]},\"layout\":{\"autotypenumbers\":\"strict\",\"colorway\":[\"#636efa\",\"#EF553B\",\"#00cc96\",\"#ab63fa\",\"#FFA15A\",\"#19d3f3\",\"#FF6692\",\"#B6E880\",\"#FF97FF\",\"#FECB52\"],\"font\":{\"color\":\"#2a3f5f\"},\"hovermode\":\"closest\",\"hoverlabel\":{\"align\":\"left\"},\"paper_bgcolor\":\"white\",\"plot_bgcolor\":\"#E5ECF6\",\"polar\":{\"bgcolor\":\"#E5ECF6\",\"angularaxis\":{\"gridcolor\":\"white\",\"linecolor\":\"white\",\"ticks\":\"\"},\"radialaxis\":{\"gridcolor\":\"white\",\"linecolor\":\"white\",\"ticks\":\"\"}},\"ternary\":{\"bgcolor\":\"#E5ECF6\",\"aaxis\":{\"gridcolor\":\"white\",\"linecolor\":\"white\",\"ticks\":\"\"},\"baxis\":{\"gridcolor\":\"white\",\"linecolor\":\"white\",\"ticks\":\"\"},\"caxis\":{\"gridcolor\":\"white\",\"linecolor\":\"white\",\"ticks\":\"\"}},\"coloraxis\":{\"colorbar\":{\"outlinewidth\":0,\"ticks\":\"\"}},\"colorscale\":{\"sequential\":[[0.0,\"#0d0887\"],[0.1111111111111111,\"#46039f\"],[0.2222222222222222,\"#7201a8\"],[0.3333333333333333,\"#9c179e\"],[0.4444444444444444,\"#bd3786\"],[0.5555555555555556,\"#d8576b\"],[0.6666666666666666,\"#ed7953\"],[0.7777777777777778,\"#fb9f3a\"],[0.8888888888888888,\"#fdca26\"],[1.0,\"#f0f921\"]],\"sequentialminus\":[[0.0,\"#0d0887\"],[0.1111111111111111,\"#46039f\"],[0.2222222222222222,\"#7201a8\"],[0.3333333333333333,\"#9c179e\"],[0.4444444444444444,\"#bd3786\"],[0.5555555555555556,\"#d8576b\"],[0.6666666666666666,\"#ed7953\"],[0.7777777777777778,\"#fb9f3a\"],[0.8888888888888888,\"#fdca26\"],[1.0,\"#f0f921\"]],\"diverging\":[[0,\"#8e0152\"],[0.1,\"#c51b7d\"],[0.2,\"#de77ae\"],[0.3,\"#f1b6da\"],[0.4,\"#fde0ef\"],[0.5,\"#f7f7f7\"],[0.6,\"#e6f5d0\"],[0.7,\"#b8e186\"],[0.8,\"#7fbc41\"],[0.9,\"#4d9221\"],[1,\"#276419\"]]},\"xaxis\":{\"gridcolor\":\"white\",\"linecolor\":\"white\",\"ticks\":\"\",\"title\":{\"standoff\":15},\"zerolinecolor\":\"white\",\"automargin\":true,\"zerolinewidth\":2},\"yaxis\":{\"gridcolor\":\"white\",\"linecolor\":\"white\",\"ticks\":\"\",\"title\":{\"standoff\":15},\"zerolinecolor\":\"white\",\"automargin\":true,\"zerolinewidth\":2},\"scene\":{\"xaxis\":{\"backgroundcolor\":\"#E5ECF6\",\"gridcolor\":\"white\",\"linecolor\":\"white\",\"showbackground\":true,\"ticks\":\"\",\"zerolinecolor\":\"white\",\"gridwidth\":2},\"yaxis\":{\"backgroundcolor\":\"#E5ECF6\",\"gridcolor\":\"white\",\"linecolor\":\"white\",\"showbackground\":true,\"ticks\":\"\",\"zerolinecolor\":\"white\",\"gridwidth\":2},\"zaxis\":{\"backgroundcolor\":\"#E5ECF6\",\"gridcolor\":\"white\",\"linecolor\":\"white\",\"showbackground\":true,\"ticks\":\"\",\"zerolinecolor\":\"white\",\"gridwidth\":2}},\"shapedefaults\":{\"line\":{\"color\":\"#2a3f5f\"}},\"annotationdefaults\":{\"arrowcolor\":\"#2a3f5f\",\"arrowhead\":0,\"arrowwidth\":1},\"geo\":{\"bgcolor\":\"white\",\"landcolor\":\"#E5ECF6\",\"subunitcolor\":\"white\",\"showland\":true,\"showlakes\":true,\"lakecolor\":\"white\"},\"title\":{\"x\":0.05},\"mapbox\":{\"style\":\"light\"}}},\"xaxis\":{\"anchor\":\"y\",\"domain\":[0.0,1.0],\"title\":{\"text\":\"Sentiment\"},\"categoryorder\":\"array\",\"categoryarray\":[\"Awe\",\"Contentment\",\"Curiosity\",\"Despair\",\"Excitement\",\"Gratitude\",\"Grief\",\"Happy\",\"Hopeful\",\"Joy\",\"Neutral\",\"Nostalgia\",\"Positive\",\"Sad\",\"Serenity\"],\"tickangle\":-90},\"yaxis\":{\"anchor\":\"x\",\"domain\":[0.0,1.0],\"title\":{\"text\":\"Total Number of Likes\"}},\"legend\":{\"title\":{\"text\":\"Sentiment\"},\"tracegroupgap\":0},\"title\":{\"text\":\"Total Likes by Sentiment\"},\"barmode\":\"relative\"},                        {\"responsive\": true}                    ).then(function(){\n",
       "                            \n",
       "var gd = document.getElementById('010ba6d7-b361-4b85-95f4-ce112c46aeee');\n",
       "var x = new MutationObserver(function (mutations, observer) {{\n",
       "        var display = window.getComputedStyle(gd).display;\n",
       "        if (!display || display === 'none') {{\n",
       "            console.log([gd, 'removed!']);\n",
       "            Plotly.purge(gd);\n",
       "            observer.disconnect();\n",
       "        }}\n",
       "}});\n",
       "\n",
       "// Listen for the removal of the full notebook cells\n",
       "var notebookContainer = gd.closest('#notebook-container');\n",
       "if (notebookContainer) {{\n",
       "    x.observe(notebookContainer, {childList: true});\n",
       "}}\n",
       "\n",
       "// Listen for the clearing of the current output cell\n",
       "var outputEl = gd.closest('.output');\n",
       "if (outputEl) {{\n",
       "    x.observe(outputEl, {childList: true});\n",
       "}}\n",
       "\n",
       "                        })                };                });            </script>        </div>"
      ]
     },
     "metadata": {},
     "output_type": "display_data"
    }
   ],
   "source": [
    "start = int(input(\"Enter the start value: \"))\n",
    "end = int(input(\"Enter the end value: \"))\n",
    "# Get the top sentiments within the specified range\n",
    "top_sentiments = df['Sentiment'].value_counts().head(end).tail(end - start + 1).index\n",
    "sentiments_to_show = top_sentiments\n",
    "# Group data by sentiment and sum the likes\n",
    "sentiment_likes = df.groupby('Sentiment')['Likes'].sum().reset_index()\n",
    "# Filter sentiment_likes based on user input\n",
    "filtered_sentiment_likes = sentiment_likes[sentiment_likes['Sentiment'].isin(sentiments_to_show)]\n",
    "# Create the plotly bar chart\n",
    "fig = px.bar(filtered_sentiment_likes,\n",
    "             x='Sentiment',\n",
    "             y='Likes',\n",
    "             color='Sentiment',\n",
    "             title='Total Likes by Sentiment',\n",
    "             labels={'Likes': 'Total Number of Likes', 'Sentiment': 'Sentiment'})\n",
    "# Show the plot\n",
    "fig.update_layout(xaxis_tickangle=270)  # Rotate x-axis labels\n",
    "fig.show()\n"
   ]
  },
  {
   "cell_type": "markdown",
   "metadata": {
    "id": "GXpRd50UB0md"
   },
   "source": [
    "### <font color=red>10.Variation of sentiments with Retweet"
   ]
  },
  {
   "cell_type": "code",
   "execution_count": 28,
   "metadata": {
    "execution": {
     "iopub.execute_input": "2024-12-09T07:33:15.022235Z",
     "iopub.status.busy": "2024-12-09T07:33:15.021366Z",
     "iopub.status.idle": "2024-12-09T07:33:21.195367Z",
     "shell.execute_reply": "2024-12-09T07:33:21.194530Z",
     "shell.execute_reply.started": "2024-12-09T07:33:15.022200Z"
    },
    "executionInfo": {
     "elapsed": 3583,
     "status": "ok",
     "timestamp": 1733728160775,
     "user": {
      "displayName": "66_Rishij Manna",
      "userId": "01245000441612451756"
     },
     "user_tz": -330
    },
    "id": "sGcllVpdB08o",
    "outputId": "7418647e-42c1-4c77-a127-8e042e59a771",
    "trusted": true
   },
   "outputs": [
    {
     "name": "stdout",
     "output_type": "stream",
     "text": [
      "Enter the start value:  1\n",
      "Enter the end value:  15\n"
     ]
    },
    {
     "data": {
      "text/html": [
       "<div>                            <div id=\"0f7e7980-6667-46aa-afeb-c1c17dd06c5a\" class=\"plotly-graph-div\" style=\"height:525px; width:100%;\"></div>            <script type=\"text/javascript\">                require([\"plotly\"], function(Plotly) {                    window.PLOTLYENV=window.PLOTLYENV || {};                                    if (document.getElementById(\"0f7e7980-6667-46aa-afeb-c1c17dd06c5a\")) {                    Plotly.newPlot(                        \"0f7e7980-6667-46aa-afeb-c1c17dd06c5a\",                        [{\"alignmentgroup\":\"True\",\"hovertemplate\":\"Sentiment=%{x}\\u003cbr\\u003eRetweets=%{y}\\u003cextra\\u003e\\u003c\\u002fextra\\u003e\",\"legendgroup\":\"Awe\",\"marker\":{\"color\":\"#636efa\",\"pattern\":{\"shape\":\"\"}},\"name\":\"Awe\",\"offsetgroup\":\"Awe\",\"orientation\":\"v\",\"showlegend\":true,\"textposition\":\"auto\",\"x\":[\"Awe\"],\"xaxis\":\"x\",\"y\":[201.0],\"yaxis\":\"y\",\"type\":\"bar\"},{\"alignmentgroup\":\"True\",\"hovertemplate\":\"Sentiment=%{x}\\u003cbr\\u003eRetweets=%{y}\\u003cextra\\u003e\\u003c\\u002fextra\\u003e\",\"legendgroup\":\"Contentment\",\"marker\":{\"color\":\"#EF553B\",\"pattern\":{\"shape\":\"\"}},\"name\":\"Contentment\",\"offsetgroup\":\"Contentment\",\"orientation\":\"v\",\"showlegend\":true,\"textposition\":\"auto\",\"x\":[\"Contentment\"],\"xaxis\":\"x\",\"y\":[490.0],\"yaxis\":\"y\",\"type\":\"bar\"},{\"alignmentgroup\":\"True\",\"hovertemplate\":\"Sentiment=%{x}\\u003cbr\\u003eRetweets=%{y}\\u003cextra\\u003e\\u003c\\u002fextra\\u003e\",\"legendgroup\":\"Curiosity\",\"marker\":{\"color\":\"#00cc96\",\"pattern\":{\"shape\":\"\"}},\"name\":\"Curiosity\",\"offsetgroup\":\"Curiosity\",\"orientation\":\"v\",\"showlegend\":true,\"textposition\":\"auto\",\"x\":[\"Curiosity\"],\"xaxis\":\"x\",\"y\":[344.0],\"yaxis\":\"y\",\"type\":\"bar\"},{\"alignmentgroup\":\"True\",\"hovertemplate\":\"Sentiment=%{x}\\u003cbr\\u003eRetweets=%{y}\\u003cextra\\u003e\\u003c\\u002fextra\\u003e\",\"legendgroup\":\"Despair\",\"marker\":{\"color\":\"#ab63fa\",\"pattern\":{\"shape\":\"\"}},\"name\":\"Despair\",\"offsetgroup\":\"Despair\",\"orientation\":\"v\",\"showlegend\":true,\"textposition\":\"auto\",\"x\":[\"Despair\"],\"xaxis\":\"x\",\"y\":[197.0],\"yaxis\":\"y\",\"type\":\"bar\"},{\"alignmentgroup\":\"True\",\"hovertemplate\":\"Sentiment=%{x}\\u003cbr\\u003eRetweets=%{y}\\u003cextra\\u003e\\u003c\\u002fextra\\u003e\",\"legendgroup\":\"Excitement\",\"marker\":{\"color\":\"#FFA15A\",\"pattern\":{\"shape\":\"\"}},\"name\":\"Excitement\",\"offsetgroup\":\"Excitement\",\"orientation\":\"v\",\"showlegend\":true,\"textposition\":\"auto\",\"x\":[\"Excitement\"],\"xaxis\":\"x\",\"y\":[943.0],\"yaxis\":\"y\",\"type\":\"bar\"},{\"alignmentgroup\":\"True\",\"hovertemplate\":\"Sentiment=%{x}\\u003cbr\\u003eRetweets=%{y}\\u003cextra\\u003e\\u003c\\u002fextra\\u003e\",\"legendgroup\":\"Gratitude\",\"marker\":{\"color\":\"#19d3f3\",\"pattern\":{\"shape\":\"\"}},\"name\":\"Gratitude\",\"offsetgroup\":\"Gratitude\",\"orientation\":\"v\",\"showlegend\":true,\"textposition\":\"auto\",\"x\":[\"Gratitude\"],\"xaxis\":\"x\",\"y\":[442.0],\"yaxis\":\"y\",\"type\":\"bar\"},{\"alignmentgroup\":\"True\",\"hovertemplate\":\"Sentiment=%{x}\\u003cbr\\u003eRetweets=%{y}\\u003cextra\\u003e\\u003c\\u002fextra\\u003e\",\"legendgroup\":\"Grief\",\"marker\":{\"color\":\"#FF6692\",\"pattern\":{\"shape\":\"\"}},\"name\":\"Grief\",\"offsetgroup\":\"Grief\",\"orientation\":\"v\",\"showlegend\":true,\"textposition\":\"auto\",\"x\":[\"Grief\"],\"xaxis\":\"x\",\"y\":[177.0],\"yaxis\":\"y\",\"type\":\"bar\"},{\"alignmentgroup\":\"True\",\"hovertemplate\":\"Sentiment=%{x}\\u003cbr\\u003eRetweets=%{y}\\u003cextra\\u003e\\u003c\\u002fextra\\u003e\",\"legendgroup\":\"Happy\",\"marker\":{\"color\":\"#B6E880\",\"pattern\":{\"shape\":\"\"}},\"name\":\"Happy\",\"offsetgroup\":\"Happy\",\"orientation\":\"v\",\"showlegend\":true,\"textposition\":\"auto\",\"x\":[\"Happy\"],\"xaxis\":\"x\",\"y\":[323.0],\"yaxis\":\"y\",\"type\":\"bar\"},{\"alignmentgroup\":\"True\",\"hovertemplate\":\"Sentiment=%{x}\\u003cbr\\u003eRetweets=%{y}\\u003cextra\\u003e\\u003c\\u002fextra\\u003e\",\"legendgroup\":\"Hopeful\",\"marker\":{\"color\":\"#FF97FF\",\"pattern\":{\"shape\":\"\"}},\"name\":\"Hopeful\",\"offsetgroup\":\"Hopeful\",\"orientation\":\"v\",\"showlegend\":true,\"textposition\":\"auto\",\"x\":[\"Hopeful\"],\"xaxis\":\"x\",\"y\":[130.0],\"yaxis\":\"y\",\"type\":\"bar\"},{\"alignmentgroup\":\"True\",\"hovertemplate\":\"Sentiment=%{x}\\u003cbr\\u003eRetweets=%{y}\\u003cextra\\u003e\\u003c\\u002fextra\\u003e\",\"legendgroup\":\"Joy\",\"marker\":{\"color\":\"#FECB52\",\"pattern\":{\"shape\":\"\"}},\"name\":\"Joy\",\"offsetgroup\":\"Joy\",\"orientation\":\"v\",\"showlegend\":true,\"textposition\":\"auto\",\"x\":[\"Joy\"],\"xaxis\":\"x\",\"y\":[1087.0],\"yaxis\":\"y\",\"type\":\"bar\"},{\"alignmentgroup\":\"True\",\"hovertemplate\":\"Sentiment=%{x}\\u003cbr\\u003eRetweets=%{y}\\u003cextra\\u003e\\u003c\\u002fextra\\u003e\",\"legendgroup\":\"Neutral\",\"marker\":{\"color\":\"#636efa\",\"pattern\":{\"shape\":\"\"}},\"name\":\"Neutral\",\"offsetgroup\":\"Neutral\",\"orientation\":\"v\",\"showlegend\":true,\"textposition\":\"auto\",\"x\":[\"Neutral\"],\"xaxis\":\"x\",\"y\":[370.0],\"yaxis\":\"y\",\"type\":\"bar\"},{\"alignmentgroup\":\"True\",\"hovertemplate\":\"Sentiment=%{x}\\u003cbr\\u003eRetweets=%{y}\\u003cextra\\u003e\\u003c\\u002fextra\\u003e\",\"legendgroup\":\"Nostalgia\",\"marker\":{\"color\":\"#EF553B\",\"pattern\":{\"shape\":\"\"}},\"name\":\"Nostalgia\",\"offsetgroup\":\"Nostalgia\",\"orientation\":\"v\",\"showlegend\":true,\"textposition\":\"auto\",\"x\":[\"Nostalgia\"],\"xaxis\":\"x\",\"y\":[198.0],\"yaxis\":\"y\",\"type\":\"bar\"},{\"alignmentgroup\":\"True\",\"hovertemplate\":\"Sentiment=%{x}\\u003cbr\\u003eRetweets=%{y}\\u003cextra\\u003e\\u003c\\u002fextra\\u003e\",\"legendgroup\":\"Positive\",\"marker\":{\"color\":\"#00cc96\",\"pattern\":{\"shape\":\"\"}},\"name\":\"Positive\",\"offsetgroup\":\"Positive\",\"orientation\":\"v\",\"showlegend\":true,\"textposition\":\"auto\",\"x\":[\"Positive\"],\"xaxis\":\"x\",\"y\":[849.0],\"yaxis\":\"y\",\"type\":\"bar\"},{\"alignmentgroup\":\"True\",\"hovertemplate\":\"Sentiment=%{x}\\u003cbr\\u003eRetweets=%{y}\\u003cextra\\u003e\\u003c\\u002fextra\\u003e\",\"legendgroup\":\"Sad\",\"marker\":{\"color\":\"#ab63fa\",\"pattern\":{\"shape\":\"\"}},\"name\":\"Sad\",\"offsetgroup\":\"Sad\",\"orientation\":\"v\",\"showlegend\":true,\"textposition\":\"auto\",\"x\":[\"Sad\"],\"xaxis\":\"x\",\"y\":[171.0],\"yaxis\":\"y\",\"type\":\"bar\"},{\"alignmentgroup\":\"True\",\"hovertemplate\":\"Sentiment=%{x}\\u003cbr\\u003eRetweets=%{y}\\u003cextra\\u003e\\u003c\\u002fextra\\u003e\",\"legendgroup\":\"Serenity\",\"marker\":{\"color\":\"#FFA15A\",\"pattern\":{\"shape\":\"\"}},\"name\":\"Serenity\",\"offsetgroup\":\"Serenity\",\"orientation\":\"v\",\"showlegend\":true,\"textposition\":\"auto\",\"x\":[\"Serenity\"],\"xaxis\":\"x\",\"y\":[317.0],\"yaxis\":\"y\",\"type\":\"bar\"}],                        {\"template\":{\"data\":{\"histogram2dcontour\":[{\"type\":\"histogram2dcontour\",\"colorbar\":{\"outlinewidth\":0,\"ticks\":\"\"},\"colorscale\":[[0.0,\"#0d0887\"],[0.1111111111111111,\"#46039f\"],[0.2222222222222222,\"#7201a8\"],[0.3333333333333333,\"#9c179e\"],[0.4444444444444444,\"#bd3786\"],[0.5555555555555556,\"#d8576b\"],[0.6666666666666666,\"#ed7953\"],[0.7777777777777778,\"#fb9f3a\"],[0.8888888888888888,\"#fdca26\"],[1.0,\"#f0f921\"]]}],\"choropleth\":[{\"type\":\"choropleth\",\"colorbar\":{\"outlinewidth\":0,\"ticks\":\"\"}}],\"histogram2d\":[{\"type\":\"histogram2d\",\"colorbar\":{\"outlinewidth\":0,\"ticks\":\"\"},\"colorscale\":[[0.0,\"#0d0887\"],[0.1111111111111111,\"#46039f\"],[0.2222222222222222,\"#7201a8\"],[0.3333333333333333,\"#9c179e\"],[0.4444444444444444,\"#bd3786\"],[0.5555555555555556,\"#d8576b\"],[0.6666666666666666,\"#ed7953\"],[0.7777777777777778,\"#fb9f3a\"],[0.8888888888888888,\"#fdca26\"],[1.0,\"#f0f921\"]]}],\"heatmap\":[{\"type\":\"heatmap\",\"colorbar\":{\"outlinewidth\":0,\"ticks\":\"\"},\"colorscale\":[[0.0,\"#0d0887\"],[0.1111111111111111,\"#46039f\"],[0.2222222222222222,\"#7201a8\"],[0.3333333333333333,\"#9c179e\"],[0.4444444444444444,\"#bd3786\"],[0.5555555555555556,\"#d8576b\"],[0.6666666666666666,\"#ed7953\"],[0.7777777777777778,\"#fb9f3a\"],[0.8888888888888888,\"#fdca26\"],[1.0,\"#f0f921\"]]}],\"heatmapgl\":[{\"type\":\"heatmapgl\",\"colorbar\":{\"outlinewidth\":0,\"ticks\":\"\"},\"colorscale\":[[0.0,\"#0d0887\"],[0.1111111111111111,\"#46039f\"],[0.2222222222222222,\"#7201a8\"],[0.3333333333333333,\"#9c179e\"],[0.4444444444444444,\"#bd3786\"],[0.5555555555555556,\"#d8576b\"],[0.6666666666666666,\"#ed7953\"],[0.7777777777777778,\"#fb9f3a\"],[0.8888888888888888,\"#fdca26\"],[1.0,\"#f0f921\"]]}],\"contourcarpet\":[{\"type\":\"contourcarpet\",\"colorbar\":{\"outlinewidth\":0,\"ticks\":\"\"}}],\"contour\":[{\"type\":\"contour\",\"colorbar\":{\"outlinewidth\":0,\"ticks\":\"\"},\"colorscale\":[[0.0,\"#0d0887\"],[0.1111111111111111,\"#46039f\"],[0.2222222222222222,\"#7201a8\"],[0.3333333333333333,\"#9c179e\"],[0.4444444444444444,\"#bd3786\"],[0.5555555555555556,\"#d8576b\"],[0.6666666666666666,\"#ed7953\"],[0.7777777777777778,\"#fb9f3a\"],[0.8888888888888888,\"#fdca26\"],[1.0,\"#f0f921\"]]}],\"surface\":[{\"type\":\"surface\",\"colorbar\":{\"outlinewidth\":0,\"ticks\":\"\"},\"colorscale\":[[0.0,\"#0d0887\"],[0.1111111111111111,\"#46039f\"],[0.2222222222222222,\"#7201a8\"],[0.3333333333333333,\"#9c179e\"],[0.4444444444444444,\"#bd3786\"],[0.5555555555555556,\"#d8576b\"],[0.6666666666666666,\"#ed7953\"],[0.7777777777777778,\"#fb9f3a\"],[0.8888888888888888,\"#fdca26\"],[1.0,\"#f0f921\"]]}],\"mesh3d\":[{\"type\":\"mesh3d\",\"colorbar\":{\"outlinewidth\":0,\"ticks\":\"\"}}],\"scatter\":[{\"fillpattern\":{\"fillmode\":\"overlay\",\"size\":10,\"solidity\":0.2},\"type\":\"scatter\"}],\"parcoords\":[{\"type\":\"parcoords\",\"line\":{\"colorbar\":{\"outlinewidth\":0,\"ticks\":\"\"}}}],\"scatterpolargl\":[{\"type\":\"scatterpolargl\",\"marker\":{\"colorbar\":{\"outlinewidth\":0,\"ticks\":\"\"}}}],\"bar\":[{\"error_x\":{\"color\":\"#2a3f5f\"},\"error_y\":{\"color\":\"#2a3f5f\"},\"marker\":{\"line\":{\"color\":\"#E5ECF6\",\"width\":0.5},\"pattern\":{\"fillmode\":\"overlay\",\"size\":10,\"solidity\":0.2}},\"type\":\"bar\"}],\"scattergeo\":[{\"type\":\"scattergeo\",\"marker\":{\"colorbar\":{\"outlinewidth\":0,\"ticks\":\"\"}}}],\"scatterpolar\":[{\"type\":\"scatterpolar\",\"marker\":{\"colorbar\":{\"outlinewidth\":0,\"ticks\":\"\"}}}],\"histogram\":[{\"marker\":{\"pattern\":{\"fillmode\":\"overlay\",\"size\":10,\"solidity\":0.2}},\"type\":\"histogram\"}],\"scattergl\":[{\"type\":\"scattergl\",\"marker\":{\"colorbar\":{\"outlinewidth\":0,\"ticks\":\"\"}}}],\"scatter3d\":[{\"type\":\"scatter3d\",\"line\":{\"colorbar\":{\"outlinewidth\":0,\"ticks\":\"\"}},\"marker\":{\"colorbar\":{\"outlinewidth\":0,\"ticks\":\"\"}}}],\"scattermapbox\":[{\"type\":\"scattermapbox\",\"marker\":{\"colorbar\":{\"outlinewidth\":0,\"ticks\":\"\"}}}],\"scatterternary\":[{\"type\":\"scatterternary\",\"marker\":{\"colorbar\":{\"outlinewidth\":0,\"ticks\":\"\"}}}],\"scattercarpet\":[{\"type\":\"scattercarpet\",\"marker\":{\"colorbar\":{\"outlinewidth\":0,\"ticks\":\"\"}}}],\"carpet\":[{\"aaxis\":{\"endlinecolor\":\"#2a3f5f\",\"gridcolor\":\"white\",\"linecolor\":\"white\",\"minorgridcolor\":\"white\",\"startlinecolor\":\"#2a3f5f\"},\"baxis\":{\"endlinecolor\":\"#2a3f5f\",\"gridcolor\":\"white\",\"linecolor\":\"white\",\"minorgridcolor\":\"white\",\"startlinecolor\":\"#2a3f5f\"},\"type\":\"carpet\"}],\"table\":[{\"cells\":{\"fill\":{\"color\":\"#EBF0F8\"},\"line\":{\"color\":\"white\"}},\"header\":{\"fill\":{\"color\":\"#C8D4E3\"},\"line\":{\"color\":\"white\"}},\"type\":\"table\"}],\"barpolar\":[{\"marker\":{\"line\":{\"color\":\"#E5ECF6\",\"width\":0.5},\"pattern\":{\"fillmode\":\"overlay\",\"size\":10,\"solidity\":0.2}},\"type\":\"barpolar\"}],\"pie\":[{\"automargin\":true,\"type\":\"pie\"}]},\"layout\":{\"autotypenumbers\":\"strict\",\"colorway\":[\"#636efa\",\"#EF553B\",\"#00cc96\",\"#ab63fa\",\"#FFA15A\",\"#19d3f3\",\"#FF6692\",\"#B6E880\",\"#FF97FF\",\"#FECB52\"],\"font\":{\"color\":\"#2a3f5f\"},\"hovermode\":\"closest\",\"hoverlabel\":{\"align\":\"left\"},\"paper_bgcolor\":\"white\",\"plot_bgcolor\":\"#E5ECF6\",\"polar\":{\"bgcolor\":\"#E5ECF6\",\"angularaxis\":{\"gridcolor\":\"white\",\"linecolor\":\"white\",\"ticks\":\"\"},\"radialaxis\":{\"gridcolor\":\"white\",\"linecolor\":\"white\",\"ticks\":\"\"}},\"ternary\":{\"bgcolor\":\"#E5ECF6\",\"aaxis\":{\"gridcolor\":\"white\",\"linecolor\":\"white\",\"ticks\":\"\"},\"baxis\":{\"gridcolor\":\"white\",\"linecolor\":\"white\",\"ticks\":\"\"},\"caxis\":{\"gridcolor\":\"white\",\"linecolor\":\"white\",\"ticks\":\"\"}},\"coloraxis\":{\"colorbar\":{\"outlinewidth\":0,\"ticks\":\"\"}},\"colorscale\":{\"sequential\":[[0.0,\"#0d0887\"],[0.1111111111111111,\"#46039f\"],[0.2222222222222222,\"#7201a8\"],[0.3333333333333333,\"#9c179e\"],[0.4444444444444444,\"#bd3786\"],[0.5555555555555556,\"#d8576b\"],[0.6666666666666666,\"#ed7953\"],[0.7777777777777778,\"#fb9f3a\"],[0.8888888888888888,\"#fdca26\"],[1.0,\"#f0f921\"]],\"sequentialminus\":[[0.0,\"#0d0887\"],[0.1111111111111111,\"#46039f\"],[0.2222222222222222,\"#7201a8\"],[0.3333333333333333,\"#9c179e\"],[0.4444444444444444,\"#bd3786\"],[0.5555555555555556,\"#d8576b\"],[0.6666666666666666,\"#ed7953\"],[0.7777777777777778,\"#fb9f3a\"],[0.8888888888888888,\"#fdca26\"],[1.0,\"#f0f921\"]],\"diverging\":[[0,\"#8e0152\"],[0.1,\"#c51b7d\"],[0.2,\"#de77ae\"],[0.3,\"#f1b6da\"],[0.4,\"#fde0ef\"],[0.5,\"#f7f7f7\"],[0.6,\"#e6f5d0\"],[0.7,\"#b8e186\"],[0.8,\"#7fbc41\"],[0.9,\"#4d9221\"],[1,\"#276419\"]]},\"xaxis\":{\"gridcolor\":\"white\",\"linecolor\":\"white\",\"ticks\":\"\",\"title\":{\"standoff\":15},\"zerolinecolor\":\"white\",\"automargin\":true,\"zerolinewidth\":2},\"yaxis\":{\"gridcolor\":\"white\",\"linecolor\":\"white\",\"ticks\":\"\",\"title\":{\"standoff\":15},\"zerolinecolor\":\"white\",\"automargin\":true,\"zerolinewidth\":2},\"scene\":{\"xaxis\":{\"backgroundcolor\":\"#E5ECF6\",\"gridcolor\":\"white\",\"linecolor\":\"white\",\"showbackground\":true,\"ticks\":\"\",\"zerolinecolor\":\"white\",\"gridwidth\":2},\"yaxis\":{\"backgroundcolor\":\"#E5ECF6\",\"gridcolor\":\"white\",\"linecolor\":\"white\",\"showbackground\":true,\"ticks\":\"\",\"zerolinecolor\":\"white\",\"gridwidth\":2},\"zaxis\":{\"backgroundcolor\":\"#E5ECF6\",\"gridcolor\":\"white\",\"linecolor\":\"white\",\"showbackground\":true,\"ticks\":\"\",\"zerolinecolor\":\"white\",\"gridwidth\":2}},\"shapedefaults\":{\"line\":{\"color\":\"#2a3f5f\"}},\"annotationdefaults\":{\"arrowcolor\":\"#2a3f5f\",\"arrowhead\":0,\"arrowwidth\":1},\"geo\":{\"bgcolor\":\"white\",\"landcolor\":\"#E5ECF6\",\"subunitcolor\":\"white\",\"showland\":true,\"showlakes\":true,\"lakecolor\":\"white\"},\"title\":{\"x\":0.05},\"mapbox\":{\"style\":\"light\"}}},\"xaxis\":{\"anchor\":\"y\",\"domain\":[0.0,1.0],\"title\":{\"text\":\"Sentiment\"},\"categoryorder\":\"array\",\"categoryarray\":[\"Awe\",\"Contentment\",\"Curiosity\",\"Despair\",\"Excitement\",\"Gratitude\",\"Grief\",\"Happy\",\"Hopeful\",\"Joy\",\"Neutral\",\"Nostalgia\",\"Positive\",\"Sad\",\"Serenity\"],\"tickangle\":90},\"yaxis\":{\"anchor\":\"x\",\"domain\":[0.0,1.0],\"title\":{\"text\":\"Retweets\"}},\"legend\":{\"title\":{\"text\":\"Sentiment\"},\"tracegroupgap\":0},\"title\":{\"text\":\"Total Retweets by Sentiment\"},\"barmode\":\"relative\"},                        {\"responsive\": true}                    ).then(function(){\n",
       "                            \n",
       "var gd = document.getElementById('0f7e7980-6667-46aa-afeb-c1c17dd06c5a');\n",
       "var x = new MutationObserver(function (mutations, observer) {{\n",
       "        var display = window.getComputedStyle(gd).display;\n",
       "        if (!display || display === 'none') {{\n",
       "            console.log([gd, 'removed!']);\n",
       "            Plotly.purge(gd);\n",
       "            observer.disconnect();\n",
       "        }}\n",
       "}});\n",
       "\n",
       "// Listen for the removal of the full notebook cells\n",
       "var notebookContainer = gd.closest('#notebook-container');\n",
       "if (notebookContainer) {{\n",
       "    x.observe(notebookContainer, {childList: true});\n",
       "}}\n",
       "\n",
       "// Listen for the clearing of the current output cell\n",
       "var outputEl = gd.closest('.output');\n",
       "if (outputEl) {{\n",
       "    x.observe(outputEl, {childList: true});\n",
       "}}\n",
       "\n",
       "                        })                };                });            </script>        </div>"
      ]
     },
     "metadata": {},
     "output_type": "display_data"
    }
   ],
   "source": [
    "start=int(input(\"Enter the start value: \"))\n",
    "end=int(input(\"Enter the end value: \"))\n",
    "# Get the top sentiments within the specified range\n",
    "top_sentiments = df['Sentiment'].value_counts().head(end).tail(end - start + 1).index\n",
    "sentiments_to_show = top_sentiments\n",
    "\n",
    "# Group data by sentiment and sum the likes\n",
    "sentiment_likes = df.groupby('Sentiment')['Retweets'].sum().reset_index()\n",
    "\n",
    "# Filter sentiment_likes based on user input\n",
    "filtered_sentiment_likes = sentiment_likes[sentiment_likes['Sentiment'].isin(sentiments_to_show)]\n",
    "\n",
    "# Create the plotly bar chart\n",
    "fig = px.bar(filtered_sentiment_likes,\n",
    "             x='Sentiment',\n",
    "             y='Retweets',\n",
    "             color='Sentiment',\n",
    "             title='Total Retweets by Sentiment',\n",
    "             labels={'Likes': 'Total Number of Retweets', 'Sentiment': 'Sentiment'})\n",
    "\n",
    "# Show the plot\n",
    "fig.update_layout(xaxis_tickangle=90)  # Rotate x-axis labels\n",
    "fig.show()"
   ]
  },
  {
   "cell_type": "markdown",
   "metadata": {
    "id": "68fhXB7dEG3_"
   },
   "source": [
    "### <font color=red>11. No of Users with respect to Sentiment"
   ]
  },
  {
   "cell_type": "code",
   "execution_count": 29,
   "metadata": {
    "execution": {
     "iopub.execute_input": "2024-12-09T07:33:26.061885Z",
     "iopub.status.busy": "2024-12-09T07:33:26.061313Z",
     "iopub.status.idle": "2024-12-09T07:33:30.915862Z",
     "shell.execute_reply": "2024-12-09T07:33:30.914992Z",
     "shell.execute_reply.started": "2024-12-09T07:33:26.061850Z"
    },
    "executionInfo": {
     "elapsed": 5031,
     "status": "ok",
     "timestamp": 1733728165785,
     "user": {
      "displayName": "66_Rishij Manna",
      "userId": "01245000441612451756"
     },
     "user_tz": -330
    },
    "id": "_CfpWGSIEGij",
    "outputId": "030dbf37-6030-44ce-bfa9-63c53c57c5e1",
    "trusted": true
   },
   "outputs": [
    {
     "name": "stdout",
     "output_type": "stream",
     "text": [
      "Enter the start value:  1\n",
      "Enter the end value:  15\n"
     ]
    },
    {
     "data": {
      "text/html": [
       "<div>                            <div id=\"96bac2a8-25c3-47fa-ad74-6d5e3a6ca509\" class=\"plotly-graph-div\" style=\"height:525px; width:100%;\"></div>            <script type=\"text/javascript\">                require([\"plotly\"], function(Plotly) {                    window.PLOTLYENV=window.PLOTLYENV || {};                                    if (document.getElementById(\"96bac2a8-25c3-47fa-ad74-6d5e3a6ca509\")) {                    Plotly.newPlot(                        \"96bac2a8-25c3-47fa-ad74-6d5e3a6ca509\",                        [{\"alignmentgroup\":\"True\",\"hovertemplate\":\"Sentiment=%{x}\\u003cbr\\u003eTotal Number of Users=%{y}\\u003cextra\\u003e\\u003c\\u002fextra\\u003e\",\"legendgroup\":\"Awe\",\"marker\":{\"color\":\"#636efa\",\"pattern\":{\"shape\":\"\"}},\"name\":\"Awe\",\"offsetgroup\":\"Awe\",\"orientation\":\"v\",\"showlegend\":true,\"textposition\":\"auto\",\"x\":[\"Awe\"],\"xaxis\":\"x\",\"y\":[8],\"yaxis\":\"y\",\"type\":\"bar\"},{\"alignmentgroup\":\"True\",\"hovertemplate\":\"Sentiment=%{x}\\u003cbr\\u003eTotal Number of Users=%{y}\\u003cextra\\u003e\\u003c\\u002fextra\\u003e\",\"legendgroup\":\"Contentment\",\"marker\":{\"color\":\"#EF553B\",\"pattern\":{\"shape\":\"\"}},\"name\":\"Contentment\",\"offsetgroup\":\"Contentment\",\"orientation\":\"v\",\"showlegend\":true,\"textposition\":\"auto\",\"x\":[\"Contentment\"],\"xaxis\":\"x\",\"y\":[18],\"yaxis\":\"y\",\"type\":\"bar\"},{\"alignmentgroup\":\"True\",\"hovertemplate\":\"Sentiment=%{x}\\u003cbr\\u003eTotal Number of Users=%{y}\\u003cextra\\u003e\\u003c\\u002fextra\\u003e\",\"legendgroup\":\"Curiosity\",\"marker\":{\"color\":\"#00cc96\",\"pattern\":{\"shape\":\"\"}},\"name\":\"Curiosity\",\"offsetgroup\":\"Curiosity\",\"orientation\":\"v\",\"showlegend\":true,\"textposition\":\"auto\",\"x\":[\"Curiosity\"],\"xaxis\":\"x\",\"y\":[15],\"yaxis\":\"y\",\"type\":\"bar\"},{\"alignmentgroup\":\"True\",\"hovertemplate\":\"Sentiment=%{x}\\u003cbr\\u003eTotal Number of Users=%{y}\\u003cextra\\u003e\\u003c\\u002fextra\\u003e\",\"legendgroup\":\"Despair\",\"marker\":{\"color\":\"#ab63fa\",\"pattern\":{\"shape\":\"\"}},\"name\":\"Despair\",\"offsetgroup\":\"Despair\",\"orientation\":\"v\",\"showlegend\":true,\"textposition\":\"auto\",\"x\":[\"Despair\"],\"xaxis\":\"x\",\"y\":[11],\"yaxis\":\"y\",\"type\":\"bar\"},{\"alignmentgroup\":\"True\",\"hovertemplate\":\"Sentiment=%{x}\\u003cbr\\u003eTotal Number of Users=%{y}\\u003cextra\\u003e\\u003c\\u002fextra\\u003e\",\"legendgroup\":\"Excitement\",\"marker\":{\"color\":\"#FFA15A\",\"pattern\":{\"shape\":\"\"}},\"name\":\"Excitement\",\"offsetgroup\":\"Excitement\",\"orientation\":\"v\",\"showlegend\":true,\"textposition\":\"auto\",\"x\":[\"Excitement\"],\"xaxis\":\"x\",\"y\":[36],\"yaxis\":\"y\",\"type\":\"bar\"},{\"alignmentgroup\":\"True\",\"hovertemplate\":\"Sentiment=%{x}\\u003cbr\\u003eTotal Number of Users=%{y}\\u003cextra\\u003e\\u003c\\u002fextra\\u003e\",\"legendgroup\":\"Gratitude\",\"marker\":{\"color\":\"#19d3f3\",\"pattern\":{\"shape\":\"\"}},\"name\":\"Gratitude\",\"offsetgroup\":\"Gratitude\",\"orientation\":\"v\",\"showlegend\":true,\"textposition\":\"auto\",\"x\":[\"Gratitude\"],\"xaxis\":\"x\",\"y\":[17],\"yaxis\":\"y\",\"type\":\"bar\"},{\"alignmentgroup\":\"True\",\"hovertemplate\":\"Sentiment=%{x}\\u003cbr\\u003eTotal Number of Users=%{y}\\u003cextra\\u003e\\u003c\\u002fextra\\u003e\",\"legendgroup\":\"Grief\",\"marker\":{\"color\":\"#FF6692\",\"pattern\":{\"shape\":\"\"}},\"name\":\"Grief\",\"offsetgroup\":\"Grief\",\"orientation\":\"v\",\"showlegend\":true,\"textposition\":\"auto\",\"x\":[\"Grief\"],\"xaxis\":\"x\",\"y\":[9],\"yaxis\":\"y\",\"type\":\"bar\"},{\"alignmentgroup\":\"True\",\"hovertemplate\":\"Sentiment=%{x}\\u003cbr\\u003eTotal Number of Users=%{y}\\u003cextra\\u003e\\u003c\\u002fextra\\u003e\",\"legendgroup\":\"Happy\",\"marker\":{\"color\":\"#B6E880\",\"pattern\":{\"shape\":\"\"}},\"name\":\"Happy\",\"offsetgroup\":\"Happy\",\"orientation\":\"v\",\"showlegend\":true,\"textposition\":\"auto\",\"x\":[\"Happy\"],\"xaxis\":\"x\",\"y\":[14],\"yaxis\":\"y\",\"type\":\"bar\"},{\"alignmentgroup\":\"True\",\"hovertemplate\":\"Sentiment=%{x}\\u003cbr\\u003eTotal Number of Users=%{y}\\u003cextra\\u003e\\u003c\\u002fextra\\u003e\",\"legendgroup\":\"Hopeful\",\"marker\":{\"color\":\"#FF97FF\",\"pattern\":{\"shape\":\"\"}},\"name\":\"Hopeful\",\"offsetgroup\":\"Hopeful\",\"orientation\":\"v\",\"showlegend\":true,\"textposition\":\"auto\",\"x\":[\"Hopeful\"],\"xaxis\":\"x\",\"y\":[5],\"yaxis\":\"y\",\"type\":\"bar\"},{\"alignmentgroup\":\"True\",\"hovertemplate\":\"Sentiment=%{x}\\u003cbr\\u003eTotal Number of Users=%{y}\\u003cextra\\u003e\\u003c\\u002fextra\\u003e\",\"legendgroup\":\"Joy\",\"marker\":{\"color\":\"#FECB52\",\"pattern\":{\"shape\":\"\"}},\"name\":\"Joy\",\"offsetgroup\":\"Joy\",\"orientation\":\"v\",\"showlegend\":true,\"textposition\":\"auto\",\"x\":[\"Joy\"],\"xaxis\":\"x\",\"y\":[44],\"yaxis\":\"y\",\"type\":\"bar\"},{\"alignmentgroup\":\"True\",\"hovertemplate\":\"Sentiment=%{x}\\u003cbr\\u003eTotal Number of Users=%{y}\\u003cextra\\u003e\\u003c\\u002fextra\\u003e\",\"legendgroup\":\"Neutral\",\"marker\":{\"color\":\"#636efa\",\"pattern\":{\"shape\":\"\"}},\"name\":\"Neutral\",\"offsetgroup\":\"Neutral\",\"orientation\":\"v\",\"showlegend\":true,\"textposition\":\"auto\",\"x\":[\"Neutral\"],\"xaxis\":\"x\",\"y\":[18],\"yaxis\":\"y\",\"type\":\"bar\"},{\"alignmentgroup\":\"True\",\"hovertemplate\":\"Sentiment=%{x}\\u003cbr\\u003eTotal Number of Users=%{y}\\u003cextra\\u003e\\u003c\\u002fextra\\u003e\",\"legendgroup\":\"Nostalgia\",\"marker\":{\"color\":\"#EF553B\",\"pattern\":{\"shape\":\"\"}},\"name\":\"Nostalgia\",\"offsetgroup\":\"Nostalgia\",\"orientation\":\"v\",\"showlegend\":true,\"textposition\":\"auto\",\"x\":[\"Nostalgia\"],\"xaxis\":\"x\",\"y\":[11],\"yaxis\":\"y\",\"type\":\"bar\"},{\"alignmentgroup\":\"True\",\"hovertemplate\":\"Sentiment=%{x}\\u003cbr\\u003eTotal Number of Users=%{y}\\u003cextra\\u003e\\u003c\\u002fextra\\u003e\",\"legendgroup\":\"Positive\",\"marker\":{\"color\":\"#00cc96\",\"pattern\":{\"shape\":\"\"}},\"name\":\"Positive\",\"offsetgroup\":\"Positive\",\"orientation\":\"v\",\"showlegend\":true,\"textposition\":\"auto\",\"x\":[\"Positive\"],\"xaxis\":\"x\",\"y\":[45],\"yaxis\":\"y\",\"type\":\"bar\"},{\"alignmentgroup\":\"True\",\"hovertemplate\":\"Sentiment=%{x}\\u003cbr\\u003eTotal Number of Users=%{y}\\u003cextra\\u003e\\u003c\\u002fextra\\u003e\",\"legendgroup\":\"Sad\",\"marker\":{\"color\":\"#ab63fa\",\"pattern\":{\"shape\":\"\"}},\"name\":\"Sad\",\"offsetgroup\":\"Sad\",\"orientation\":\"v\",\"showlegend\":true,\"textposition\":\"auto\",\"x\":[\"Sad\"],\"xaxis\":\"x\",\"y\":[9],\"yaxis\":\"y\",\"type\":\"bar\"},{\"alignmentgroup\":\"True\",\"hovertemplate\":\"Sentiment=%{x}\\u003cbr\\u003eTotal Number of Users=%{y}\\u003cextra\\u003e\\u003c\\u002fextra\\u003e\",\"legendgroup\":\"Serenity\",\"marker\":{\"color\":\"#FFA15A\",\"pattern\":{\"shape\":\"\"}},\"name\":\"Serenity\",\"offsetgroup\":\"Serenity\",\"orientation\":\"v\",\"showlegend\":true,\"textposition\":\"auto\",\"x\":[\"Serenity\"],\"xaxis\":\"x\",\"y\":[15],\"yaxis\":\"y\",\"type\":\"bar\"}],                        {\"template\":{\"data\":{\"histogram2dcontour\":[{\"type\":\"histogram2dcontour\",\"colorbar\":{\"outlinewidth\":0,\"ticks\":\"\"},\"colorscale\":[[0.0,\"#0d0887\"],[0.1111111111111111,\"#46039f\"],[0.2222222222222222,\"#7201a8\"],[0.3333333333333333,\"#9c179e\"],[0.4444444444444444,\"#bd3786\"],[0.5555555555555556,\"#d8576b\"],[0.6666666666666666,\"#ed7953\"],[0.7777777777777778,\"#fb9f3a\"],[0.8888888888888888,\"#fdca26\"],[1.0,\"#f0f921\"]]}],\"choropleth\":[{\"type\":\"choropleth\",\"colorbar\":{\"outlinewidth\":0,\"ticks\":\"\"}}],\"histogram2d\":[{\"type\":\"histogram2d\",\"colorbar\":{\"outlinewidth\":0,\"ticks\":\"\"},\"colorscale\":[[0.0,\"#0d0887\"],[0.1111111111111111,\"#46039f\"],[0.2222222222222222,\"#7201a8\"],[0.3333333333333333,\"#9c179e\"],[0.4444444444444444,\"#bd3786\"],[0.5555555555555556,\"#d8576b\"],[0.6666666666666666,\"#ed7953\"],[0.7777777777777778,\"#fb9f3a\"],[0.8888888888888888,\"#fdca26\"],[1.0,\"#f0f921\"]]}],\"heatmap\":[{\"type\":\"heatmap\",\"colorbar\":{\"outlinewidth\":0,\"ticks\":\"\"},\"colorscale\":[[0.0,\"#0d0887\"],[0.1111111111111111,\"#46039f\"],[0.2222222222222222,\"#7201a8\"],[0.3333333333333333,\"#9c179e\"],[0.4444444444444444,\"#bd3786\"],[0.5555555555555556,\"#d8576b\"],[0.6666666666666666,\"#ed7953\"],[0.7777777777777778,\"#fb9f3a\"],[0.8888888888888888,\"#fdca26\"],[1.0,\"#f0f921\"]]}],\"heatmapgl\":[{\"type\":\"heatmapgl\",\"colorbar\":{\"outlinewidth\":0,\"ticks\":\"\"},\"colorscale\":[[0.0,\"#0d0887\"],[0.1111111111111111,\"#46039f\"],[0.2222222222222222,\"#7201a8\"],[0.3333333333333333,\"#9c179e\"],[0.4444444444444444,\"#bd3786\"],[0.5555555555555556,\"#d8576b\"],[0.6666666666666666,\"#ed7953\"],[0.7777777777777778,\"#fb9f3a\"],[0.8888888888888888,\"#fdca26\"],[1.0,\"#f0f921\"]]}],\"contourcarpet\":[{\"type\":\"contourcarpet\",\"colorbar\":{\"outlinewidth\":0,\"ticks\":\"\"}}],\"contour\":[{\"type\":\"contour\",\"colorbar\":{\"outlinewidth\":0,\"ticks\":\"\"},\"colorscale\":[[0.0,\"#0d0887\"],[0.1111111111111111,\"#46039f\"],[0.2222222222222222,\"#7201a8\"],[0.3333333333333333,\"#9c179e\"],[0.4444444444444444,\"#bd3786\"],[0.5555555555555556,\"#d8576b\"],[0.6666666666666666,\"#ed7953\"],[0.7777777777777778,\"#fb9f3a\"],[0.8888888888888888,\"#fdca26\"],[1.0,\"#f0f921\"]]}],\"surface\":[{\"type\":\"surface\",\"colorbar\":{\"outlinewidth\":0,\"ticks\":\"\"},\"colorscale\":[[0.0,\"#0d0887\"],[0.1111111111111111,\"#46039f\"],[0.2222222222222222,\"#7201a8\"],[0.3333333333333333,\"#9c179e\"],[0.4444444444444444,\"#bd3786\"],[0.5555555555555556,\"#d8576b\"],[0.6666666666666666,\"#ed7953\"],[0.7777777777777778,\"#fb9f3a\"],[0.8888888888888888,\"#fdca26\"],[1.0,\"#f0f921\"]]}],\"mesh3d\":[{\"type\":\"mesh3d\",\"colorbar\":{\"outlinewidth\":0,\"ticks\":\"\"}}],\"scatter\":[{\"fillpattern\":{\"fillmode\":\"overlay\",\"size\":10,\"solidity\":0.2},\"type\":\"scatter\"}],\"parcoords\":[{\"type\":\"parcoords\",\"line\":{\"colorbar\":{\"outlinewidth\":0,\"ticks\":\"\"}}}],\"scatterpolargl\":[{\"type\":\"scatterpolargl\",\"marker\":{\"colorbar\":{\"outlinewidth\":0,\"ticks\":\"\"}}}],\"bar\":[{\"error_x\":{\"color\":\"#2a3f5f\"},\"error_y\":{\"color\":\"#2a3f5f\"},\"marker\":{\"line\":{\"color\":\"#E5ECF6\",\"width\":0.5},\"pattern\":{\"fillmode\":\"overlay\",\"size\":10,\"solidity\":0.2}},\"type\":\"bar\"}],\"scattergeo\":[{\"type\":\"scattergeo\",\"marker\":{\"colorbar\":{\"outlinewidth\":0,\"ticks\":\"\"}}}],\"scatterpolar\":[{\"type\":\"scatterpolar\",\"marker\":{\"colorbar\":{\"outlinewidth\":0,\"ticks\":\"\"}}}],\"histogram\":[{\"marker\":{\"pattern\":{\"fillmode\":\"overlay\",\"size\":10,\"solidity\":0.2}},\"type\":\"histogram\"}],\"scattergl\":[{\"type\":\"scattergl\",\"marker\":{\"colorbar\":{\"outlinewidth\":0,\"ticks\":\"\"}}}],\"scatter3d\":[{\"type\":\"scatter3d\",\"line\":{\"colorbar\":{\"outlinewidth\":0,\"ticks\":\"\"}},\"marker\":{\"colorbar\":{\"outlinewidth\":0,\"ticks\":\"\"}}}],\"scattermapbox\":[{\"type\":\"scattermapbox\",\"marker\":{\"colorbar\":{\"outlinewidth\":0,\"ticks\":\"\"}}}],\"scatterternary\":[{\"type\":\"scatterternary\",\"marker\":{\"colorbar\":{\"outlinewidth\":0,\"ticks\":\"\"}}}],\"scattercarpet\":[{\"type\":\"scattercarpet\",\"marker\":{\"colorbar\":{\"outlinewidth\":0,\"ticks\":\"\"}}}],\"carpet\":[{\"aaxis\":{\"endlinecolor\":\"#2a3f5f\",\"gridcolor\":\"white\",\"linecolor\":\"white\",\"minorgridcolor\":\"white\",\"startlinecolor\":\"#2a3f5f\"},\"baxis\":{\"endlinecolor\":\"#2a3f5f\",\"gridcolor\":\"white\",\"linecolor\":\"white\",\"minorgridcolor\":\"white\",\"startlinecolor\":\"#2a3f5f\"},\"type\":\"carpet\"}],\"table\":[{\"cells\":{\"fill\":{\"color\":\"#EBF0F8\"},\"line\":{\"color\":\"white\"}},\"header\":{\"fill\":{\"color\":\"#C8D4E3\"},\"line\":{\"color\":\"white\"}},\"type\":\"table\"}],\"barpolar\":[{\"marker\":{\"line\":{\"color\":\"#E5ECF6\",\"width\":0.5},\"pattern\":{\"fillmode\":\"overlay\",\"size\":10,\"solidity\":0.2}},\"type\":\"barpolar\"}],\"pie\":[{\"automargin\":true,\"type\":\"pie\"}]},\"layout\":{\"autotypenumbers\":\"strict\",\"colorway\":[\"#636efa\",\"#EF553B\",\"#00cc96\",\"#ab63fa\",\"#FFA15A\",\"#19d3f3\",\"#FF6692\",\"#B6E880\",\"#FF97FF\",\"#FECB52\"],\"font\":{\"color\":\"#2a3f5f\"},\"hovermode\":\"closest\",\"hoverlabel\":{\"align\":\"left\"},\"paper_bgcolor\":\"white\",\"plot_bgcolor\":\"#E5ECF6\",\"polar\":{\"bgcolor\":\"#E5ECF6\",\"angularaxis\":{\"gridcolor\":\"white\",\"linecolor\":\"white\",\"ticks\":\"\"},\"radialaxis\":{\"gridcolor\":\"white\",\"linecolor\":\"white\",\"ticks\":\"\"}},\"ternary\":{\"bgcolor\":\"#E5ECF6\",\"aaxis\":{\"gridcolor\":\"white\",\"linecolor\":\"white\",\"ticks\":\"\"},\"baxis\":{\"gridcolor\":\"white\",\"linecolor\":\"white\",\"ticks\":\"\"},\"caxis\":{\"gridcolor\":\"white\",\"linecolor\":\"white\",\"ticks\":\"\"}},\"coloraxis\":{\"colorbar\":{\"outlinewidth\":0,\"ticks\":\"\"}},\"colorscale\":{\"sequential\":[[0.0,\"#0d0887\"],[0.1111111111111111,\"#46039f\"],[0.2222222222222222,\"#7201a8\"],[0.3333333333333333,\"#9c179e\"],[0.4444444444444444,\"#bd3786\"],[0.5555555555555556,\"#d8576b\"],[0.6666666666666666,\"#ed7953\"],[0.7777777777777778,\"#fb9f3a\"],[0.8888888888888888,\"#fdca26\"],[1.0,\"#f0f921\"]],\"sequentialminus\":[[0.0,\"#0d0887\"],[0.1111111111111111,\"#46039f\"],[0.2222222222222222,\"#7201a8\"],[0.3333333333333333,\"#9c179e\"],[0.4444444444444444,\"#bd3786\"],[0.5555555555555556,\"#d8576b\"],[0.6666666666666666,\"#ed7953\"],[0.7777777777777778,\"#fb9f3a\"],[0.8888888888888888,\"#fdca26\"],[1.0,\"#f0f921\"]],\"diverging\":[[0,\"#8e0152\"],[0.1,\"#c51b7d\"],[0.2,\"#de77ae\"],[0.3,\"#f1b6da\"],[0.4,\"#fde0ef\"],[0.5,\"#f7f7f7\"],[0.6,\"#e6f5d0\"],[0.7,\"#b8e186\"],[0.8,\"#7fbc41\"],[0.9,\"#4d9221\"],[1,\"#276419\"]]},\"xaxis\":{\"gridcolor\":\"white\",\"linecolor\":\"white\",\"ticks\":\"\",\"title\":{\"standoff\":15},\"zerolinecolor\":\"white\",\"automargin\":true,\"zerolinewidth\":2},\"yaxis\":{\"gridcolor\":\"white\",\"linecolor\":\"white\",\"ticks\":\"\",\"title\":{\"standoff\":15},\"zerolinecolor\":\"white\",\"automargin\":true,\"zerolinewidth\":2},\"scene\":{\"xaxis\":{\"backgroundcolor\":\"#E5ECF6\",\"gridcolor\":\"white\",\"linecolor\":\"white\",\"showbackground\":true,\"ticks\":\"\",\"zerolinecolor\":\"white\",\"gridwidth\":2},\"yaxis\":{\"backgroundcolor\":\"#E5ECF6\",\"gridcolor\":\"white\",\"linecolor\":\"white\",\"showbackground\":true,\"ticks\":\"\",\"zerolinecolor\":\"white\",\"gridwidth\":2},\"zaxis\":{\"backgroundcolor\":\"#E5ECF6\",\"gridcolor\":\"white\",\"linecolor\":\"white\",\"showbackground\":true,\"ticks\":\"\",\"zerolinecolor\":\"white\",\"gridwidth\":2}},\"shapedefaults\":{\"line\":{\"color\":\"#2a3f5f\"}},\"annotationdefaults\":{\"arrowcolor\":\"#2a3f5f\",\"arrowhead\":0,\"arrowwidth\":1},\"geo\":{\"bgcolor\":\"white\",\"landcolor\":\"#E5ECF6\",\"subunitcolor\":\"white\",\"showland\":true,\"showlakes\":true,\"lakecolor\":\"white\"},\"title\":{\"x\":0.05},\"mapbox\":{\"style\":\"light\"}}},\"xaxis\":{\"anchor\":\"y\",\"domain\":[0.0,1.0],\"title\":{\"text\":\"Sentiment\"},\"categoryorder\":\"array\",\"categoryarray\":[\"Awe\",\"Contentment\",\"Curiosity\",\"Despair\",\"Excitement\",\"Gratitude\",\"Grief\",\"Happy\",\"Hopeful\",\"Joy\",\"Neutral\",\"Nostalgia\",\"Positive\",\"Sad\",\"Serenity\"],\"tickangle\":-90},\"yaxis\":{\"anchor\":\"x\",\"domain\":[0.0,1.0],\"title\":{\"text\":\"Total Number of Users\"}},\"legend\":{\"title\":{\"text\":\"Sentiment\"},\"tracegroupgap\":0},\"title\":{\"text\":\"Total Users by Sentiment\"},\"barmode\":\"relative\"},                        {\"responsive\": true}                    ).then(function(){\n",
       "                            \n",
       "var gd = document.getElementById('96bac2a8-25c3-47fa-ad74-6d5e3a6ca509');\n",
       "var x = new MutationObserver(function (mutations, observer) {{\n",
       "        var display = window.getComputedStyle(gd).display;\n",
       "        if (!display || display === 'none') {{\n",
       "            console.log([gd, 'removed!']);\n",
       "            Plotly.purge(gd);\n",
       "            observer.disconnect();\n",
       "        }}\n",
       "}});\n",
       "\n",
       "// Listen for the removal of the full notebook cells\n",
       "var notebookContainer = gd.closest('#notebook-container');\n",
       "if (notebookContainer) {{\n",
       "    x.observe(notebookContainer, {childList: true});\n",
       "}}\n",
       "\n",
       "// Listen for the clearing of the current output cell\n",
       "var outputEl = gd.closest('.output');\n",
       "if (outputEl) {{\n",
       "    x.observe(outputEl, {childList: true});\n",
       "}}\n",
       "\n",
       "                        })                };                });            </script>        </div>"
      ]
     },
     "metadata": {},
     "output_type": "display_data"
    }
   ],
   "source": [
    "start=int(input(\"Enter the start value: \"))\n",
    "end=int(input(\"Enter the end value: \"))\n",
    "# Get the top sentiments within the specified range\n",
    "top_sentiments = df['Sentiment'].value_counts().head(end).tail(end - start + 1).index\n",
    "sentiments_to_show = top_sentiments\n",
    "\n",
    "# Group data by sentiment and count unique users using nunique()\n",
    "sentiment_user_counts = df.groupby('Sentiment')['User'].nunique().reset_index()\n",
    "\n",
    "# Rename the 'User' column to 'User_Count' for clarity\n",
    "sentiment_user_counts = sentiment_user_counts.rename(columns={'User': 'User_Count'})\n",
    "\n",
    "# Filter sentiment_user_counts based on user input\n",
    "filtered_sentiment_user_counts = sentiment_user_counts[sentiment_user_counts['Sentiment'].isin(sentiments_to_show)]\n",
    "\n",
    "# Create the plotly bar chart with 'User_Count' on the y-axis\n",
    "fig = px.bar(filtered_sentiment_user_counts,\n",
    "             x='Sentiment',\n",
    "             y='User_Count',\n",
    "             color='Sentiment',\n",
    "             title='Total Users by Sentiment',\n",
    "             labels={'User_Count': 'Total Number of Users', 'Sentiment': 'Sentiment'})\n",
    "\n",
    "# Show the plot\n",
    "fig.update_layout(xaxis_tickangle=270)  # Rotate x-axis labels\n",
    "fig.show()"
   ]
  },
  {
   "cell_type": "markdown",
   "metadata": {
    "id": "96OgyZzTQRW2"
   },
   "source": [
    "<html>\n",
    "\n",
    "\n",
    "\n",
    "<head>\n",
    "\n",
    "\n",
    "\n",
    "<h1>Conclusions from Social Media Sentiment Analysis</h1>\n",
    "\n",
    "\n",
    "\n",
    "</head>\n",
    "\n",
    "\n",
    "\n",
    "<body>\n",
    "\n",
    "\n",
    "\n",
    "<h2>Sentiment Distribution</h2>\n",
    "\n",
    "\n",
    "\n",
    "<p>The pie chart indicates that Insert dominant sentiment, e.g., Positive is the most prevalent sentiment expressed in social media posts.</p>\n",
    "\n",
    "\n",
    "\n",
    "\n",
    "\n",
    "\n",
    "\n",
    "<h2>Platform Usage</h2>\n",
    "\n",
    "\n",
    "\n",
    "<p>The histogram and choropleth map reveal that different social media platforms have varying popularity across countries. For instance, Twitter might be more commonly used in the United States, while Facebook could be dominant in other regions.</p>\n",
    "\n",
    "\n",
    "\n",
    "\n",
    "\n",
    "\n",
    "\n",
    "<h2>Retweets and Likes Correlation</h2>\n",
    "\n",
    "\n",
    "\n",
    "<p>The scatter plot demonstrates a positive correlation between retweets and likes, suggesting that posts with more retweets tend to have more likes, indicating higher engagement with popular content.</p>\n",
    "\n",
    "\n",
    "\n",
    "\n",
    "\n",
    "\n",
    "\n",
    "<h2>Sentiment-Likes Association</h2>\n",
    "\n",
    "\n",
    "\n",
    "<p>The histogram shows that posts with positive sentiment generally receive more likes compared to negative or neutral posts, implying that positive content is more appreciated by users.</p>\n",
    "\n",
    "\n",
    "\n",
    "\n",
    "\n",
    "\n",
    "\n",
    "<h2>Sentiment-User Count Association</h2>\n",
    "\n",
    "\n",
    "\n",
    "<p>The bar chart shows that more users express positive sentiments than negative ones, suggesting that social media is primarily used for sharing positive experiences and emotions.</p>\n",
    "\n",
    "\n",
    "\n",
    "\n",
    "\n",
    "\n",
    "\n",
    "<h2>General Observations</h2>\n",
    "\n",
    "\n",
    "\n",
    "<ul>\n",
    "\n",
    "\n",
    "\n",
    "  <li>Social media platforms exhibit varied popularity across countries.</li>\n",
    "\n",
    "\n",
    "\n",
    "  <li>Retweets and likes generally show a positive correlation, reflecting post engagement.</li>\n",
    "\n",
    "\n",
    "\n",
    "  <li>Sentiment plays a role in user engagement, with positive posts potentially receiving more likes.</li>\n",
    "\n",
    "\n",
    "\n",
    "  <li>Overall, a certain sentiment (e.g., Positive) might be dominant in the dataset.</li>\n",
    "\n",
    "\n",
    "\n",
    "</ul>\n",
    "\n",
    "\n",
    "\n",
    "</body>\n",
    "\n",
    "\n",
    "\n",
    "</html>"
   ]
  }
 ],
 "metadata": {
  "colab": {
   "provenance": []
  },
  "kaggle": {
   "accelerator": "none",
   "dataSources": [
    {
     "datasetId": 6261460,
     "sourceId": 10144155,
     "sourceType": "datasetVersion"
    },
    {
     "datasetId": 6262191,
     "sourceId": 10145176,
     "sourceType": "datasetVersion"
    }
   ],
   "isGpuEnabled": false,
   "isInternetEnabled": true,
   "language": "python",
   "sourceType": "notebook"
  },
  "kernelspec": {
   "display_name": "Python 3",
   "language": "python",
   "name": "python3"
  },
  "language_info": {
   "codemirror_mode": {
    "name": "ipython",
    "version": 3
   },
   "file_extension": ".py",
   "mimetype": "text/x-python",
   "name": "python",
   "nbconvert_exporter": "python",
   "pygments_lexer": "ipython3",
   "version": "3.13.1"
  }
 },
 "nbformat": 4,
 "nbformat_minor": 4
}
